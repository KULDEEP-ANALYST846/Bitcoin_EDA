{
 "cells": [
  {
   "cell_type": "code",
   "execution_count": 1,
   "id": "a1ea3a5a-c957-4aad-aa57-2f7e5d5a188f",
   "metadata": {},
   "outputs": [],
   "source": [
    "import pandas as pd # data pre-processing, CSV file I/O (e.g. pd.read_csv)\n",
    "import numpy as np # import it for numerical computation on data \n",
    "import matplotlib.pyplot as plt ## data viz libraries \n",
    "import seaborn as sns\n",
    "import plotly.graph_objs as go\n",
    "import plotly.express as px\n",
    "from plotly.offline import download_plotlyjs, init_notebook_mode, plot, iplot\n",
    "import cufflinks as cf\n",
    "import plotly"
   ]
  },
  {
   "cell_type": "code",
   "execution_count": 2,
   "id": "d7cce46a-f0e7-4e6f-8b2c-6af4ddcf5a74",
   "metadata": {},
   "outputs": [
    {
     "data": {
      "text/html": [
       "        <script type=\"text/javascript\">\n",
       "        window.PlotlyConfig = {MathJaxConfig: 'local'};\n",
       "        if (window.MathJax && window.MathJax.Hub && window.MathJax.Hub.Config) {window.MathJax.Hub.Config({SVG: {font: \"STIX-Web\"}});}\n",
       "        </script>\n",
       "        <script type=\"module\">import \"https://cdn.plot.ly/plotly-3.1.0.min\"</script>\n",
       "        "
      ]
     },
     "metadata": {},
     "output_type": "display_data"
    }
   ],
   "source": [
    "init_notebook_mode(connected=True)"
   ]
  },
  {
   "cell_type": "code",
   "execution_count": 3,
   "id": "7d0dc5c9-917d-4219-b16e-26d40cd39501",
   "metadata": {},
   "outputs": [
    {
     "data": {
      "text/html": [
       "<div>\n",
       "<style scoped>\n",
       "    .dataframe tbody tr th:only-of-type {\n",
       "        vertical-align: middle;\n",
       "    }\n",
       "\n",
       "    .dataframe tbody tr th {\n",
       "        vertical-align: top;\n",
       "    }\n",
       "\n",
       "    .dataframe thead th {\n",
       "        text-align: right;\n",
       "    }\n",
       "</style>\n",
       "<table border=\"1\" class=\"dataframe\">\n",
       "  <thead>\n",
       "    <tr style=\"text-align: right;\">\n",
       "      <th></th>\n",
       "      <th>Date</th>\n",
       "      <th>Open</th>\n",
       "      <th>High</th>\n",
       "      <th>Low</th>\n",
       "      <th>Close</th>\n",
       "      <th>Volume</th>\n",
       "      <th>Market Cap</th>\n",
       "    </tr>\n",
       "  </thead>\n",
       "  <tbody>\n",
       "    <tr>\n",
       "      <th>0</th>\n",
       "      <td>Jul 31, 2017</td>\n",
       "      <td>2763.24</td>\n",
       "      <td>2889.62</td>\n",
       "      <td>2720.61</td>\n",
       "      <td>2875.34</td>\n",
       "      <td>86,05,75,000</td>\n",
       "      <td>45,53,58,00,000</td>\n",
       "    </tr>\n",
       "    <tr>\n",
       "      <th>1</th>\n",
       "      <td>Jul 30, 2017</td>\n",
       "      <td>2724.39</td>\n",
       "      <td>2758.53</td>\n",
       "      <td>2644.85</td>\n",
       "      <td>2757.18</td>\n",
       "      <td>70,59,43,000</td>\n",
       "      <td>44,89,07,00,000</td>\n",
       "    </tr>\n",
       "    <tr>\n",
       "      <th>2</th>\n",
       "      <td>Jul 29, 2017</td>\n",
       "      <td>2807.02</td>\n",
       "      <td>2808.76</td>\n",
       "      <td>2692.80</td>\n",
       "      <td>2726.45</td>\n",
       "      <td>80,37,46,000</td>\n",
       "      <td>46,24,67,00,000</td>\n",
       "    </tr>\n",
       "    <tr>\n",
       "      <th>3</th>\n",
       "      <td>Jul 28, 2017</td>\n",
       "      <td>2679.73</td>\n",
       "      <td>2897.45</td>\n",
       "      <td>2679.73</td>\n",
       "      <td>2809.01</td>\n",
       "      <td>1,38,01,00,000</td>\n",
       "      <td>44,14,44,00,000</td>\n",
       "    </tr>\n",
       "    <tr>\n",
       "      <th>4</th>\n",
       "      <td>Jul 27, 2017</td>\n",
       "      <td>2538.71</td>\n",
       "      <td>2693.32</td>\n",
       "      <td>2529.34</td>\n",
       "      <td>2671.78</td>\n",
       "      <td>78,91,04,000</td>\n",
       "      <td>41,81,65,00,000</td>\n",
       "    </tr>\n",
       "  </tbody>\n",
       "</table>\n",
       "</div>"
      ],
      "text/plain": [
       "           Date     Open     High      Low    Close          Volume  \\\n",
       "0  Jul 31, 2017  2763.24  2889.62  2720.61  2875.34    86,05,75,000   \n",
       "1  Jul 30, 2017  2724.39  2758.53  2644.85  2757.18    70,59,43,000   \n",
       "2  Jul 29, 2017  2807.02  2808.76  2692.80  2726.45    80,37,46,000   \n",
       "3  Jul 28, 2017  2679.73  2897.45  2679.73  2809.01  1,38,01,00,000   \n",
       "4  Jul 27, 2017  2538.71  2693.32  2529.34  2671.78    78,91,04,000   \n",
       "\n",
       "        Market Cap  \n",
       "0  45,53,58,00,000  \n",
       "1  44,89,07,00,000  \n",
       "2  46,24,67,00,000  \n",
       "3  44,14,44,00,000  \n",
       "4  41,81,65,00,000  "
      ]
     },
     "execution_count": 3,
     "metadata": {},
     "output_type": "execute_result"
    }
   ],
   "source": [
    "df=pd.read_csv('bitcoin_price_Training - Training.csv')\n",
    "df.head()\n"
   ]
  },
  {
   "cell_type": "code",
   "execution_count": 4,
   "id": "fe5c0e26-0f87-4f0e-be48-bed651a86a68",
   "metadata": {},
   "outputs": [
    {
     "name": "stdout",
     "output_type": "stream",
     "text": [
      "<class 'pandas.core.frame.DataFrame'>\n",
      "RangeIndex: 1556 entries, 0 to 1555\n",
      "Data columns (total 7 columns):\n",
      " #   Column      Non-Null Count  Dtype  \n",
      "---  ------      --------------  -----  \n",
      " 0   Date        1556 non-null   object \n",
      " 1   Open        1556 non-null   float64\n",
      " 2   High        1556 non-null   float64\n",
      " 3   Low         1556 non-null   float64\n",
      " 4   Close       1556 non-null   float64\n",
      " 5   Volume      1556 non-null   object \n",
      " 6   Market Cap  1556 non-null   object \n",
      "dtypes: float64(4), object(3)\n",
      "memory usage: 85.2+ KB\n"
     ]
    }
   ],
   "source": [
    "df.info()"
   ]
  },
  {
   "cell_type": "code",
   "execution_count": 5,
   "id": "759a9424-0c2d-40de-914e-c7b5d0a72a48",
   "metadata": {},
   "outputs": [],
   "source": [
    " df['Date']=pd.to_datetime(df['Date'])\n",
    "df['Day']=df['Date'].dt.day\n",
    "df['Day_name']=df['Date'].dt.day_name()\n",
    "df['Month']=df['Date'].dt.month\n",
    "df['Month_name']=df['Date'].dt.month_name()\n",
    "df['Year']=df['Date'].dt.year\n",
    "\n"
   ]
  },
  {
   "cell_type": "code",
   "execution_count": 6,
   "id": "6e025ff1-d5cf-4012-8932-81b08ad67d19",
   "metadata": {},
   "outputs": [
    {
     "data": {
      "text/html": [
       "<div>\n",
       "<style scoped>\n",
       "    .dataframe tbody tr th:only-of-type {\n",
       "        vertical-align: middle;\n",
       "    }\n",
       "\n",
       "    .dataframe tbody tr th {\n",
       "        vertical-align: top;\n",
       "    }\n",
       "\n",
       "    .dataframe thead th {\n",
       "        text-align: right;\n",
       "    }\n",
       "</style>\n",
       "<table border=\"1\" class=\"dataframe\">\n",
       "  <thead>\n",
       "    <tr style=\"text-align: right;\">\n",
       "      <th></th>\n",
       "      <th>Date</th>\n",
       "      <th>Open</th>\n",
       "      <th>High</th>\n",
       "      <th>Low</th>\n",
       "      <th>Close</th>\n",
       "      <th>Volume</th>\n",
       "      <th>Market Cap</th>\n",
       "      <th>Day</th>\n",
       "      <th>Day_name</th>\n",
       "      <th>Month</th>\n",
       "      <th>Month_name</th>\n",
       "      <th>Year</th>\n",
       "    </tr>\n",
       "  </thead>\n",
       "  <tbody>\n",
       "    <tr>\n",
       "      <th>0</th>\n",
       "      <td>2017-07-31</td>\n",
       "      <td>2763.24</td>\n",
       "      <td>2889.62</td>\n",
       "      <td>2720.61</td>\n",
       "      <td>2875.34</td>\n",
       "      <td>86,05,75,000</td>\n",
       "      <td>45,53,58,00,000</td>\n",
       "      <td>31</td>\n",
       "      <td>Monday</td>\n",
       "      <td>7</td>\n",
       "      <td>July</td>\n",
       "      <td>2017</td>\n",
       "    </tr>\n",
       "    <tr>\n",
       "      <th>1</th>\n",
       "      <td>2017-07-30</td>\n",
       "      <td>2724.39</td>\n",
       "      <td>2758.53</td>\n",
       "      <td>2644.85</td>\n",
       "      <td>2757.18</td>\n",
       "      <td>70,59,43,000</td>\n",
       "      <td>44,89,07,00,000</td>\n",
       "      <td>30</td>\n",
       "      <td>Sunday</td>\n",
       "      <td>7</td>\n",
       "      <td>July</td>\n",
       "      <td>2017</td>\n",
       "    </tr>\n",
       "    <tr>\n",
       "      <th>2</th>\n",
       "      <td>2017-07-29</td>\n",
       "      <td>2807.02</td>\n",
       "      <td>2808.76</td>\n",
       "      <td>2692.80</td>\n",
       "      <td>2726.45</td>\n",
       "      <td>80,37,46,000</td>\n",
       "      <td>46,24,67,00,000</td>\n",
       "      <td>29</td>\n",
       "      <td>Saturday</td>\n",
       "      <td>7</td>\n",
       "      <td>July</td>\n",
       "      <td>2017</td>\n",
       "    </tr>\n",
       "    <tr>\n",
       "      <th>3</th>\n",
       "      <td>2017-07-28</td>\n",
       "      <td>2679.73</td>\n",
       "      <td>2897.45</td>\n",
       "      <td>2679.73</td>\n",
       "      <td>2809.01</td>\n",
       "      <td>1,38,01,00,000</td>\n",
       "      <td>44,14,44,00,000</td>\n",
       "      <td>28</td>\n",
       "      <td>Friday</td>\n",
       "      <td>7</td>\n",
       "      <td>July</td>\n",
       "      <td>2017</td>\n",
       "    </tr>\n",
       "    <tr>\n",
       "      <th>4</th>\n",
       "      <td>2017-07-27</td>\n",
       "      <td>2538.71</td>\n",
       "      <td>2693.32</td>\n",
       "      <td>2529.34</td>\n",
       "      <td>2671.78</td>\n",
       "      <td>78,91,04,000</td>\n",
       "      <td>41,81,65,00,000</td>\n",
       "      <td>27</td>\n",
       "      <td>Thursday</td>\n",
       "      <td>7</td>\n",
       "      <td>July</td>\n",
       "      <td>2017</td>\n",
       "    </tr>\n",
       "  </tbody>\n",
       "</table>\n",
       "</div>"
      ],
      "text/plain": [
       "        Date     Open     High      Low    Close          Volume  \\\n",
       "0 2017-07-31  2763.24  2889.62  2720.61  2875.34    86,05,75,000   \n",
       "1 2017-07-30  2724.39  2758.53  2644.85  2757.18    70,59,43,000   \n",
       "2 2017-07-29  2807.02  2808.76  2692.80  2726.45    80,37,46,000   \n",
       "3 2017-07-28  2679.73  2897.45  2679.73  2809.01  1,38,01,00,000   \n",
       "4 2017-07-27  2538.71  2693.32  2529.34  2671.78    78,91,04,000   \n",
       "\n",
       "        Market Cap  Day  Day_name  Month Month_name  Year  \n",
       "0  45,53,58,00,000   31    Monday      7       July  2017  \n",
       "1  44,89,07,00,000   30    Sunday      7       July  2017  \n",
       "2  46,24,67,00,000   29  Saturday      7       July  2017  \n",
       "3  44,14,44,00,000   28    Friday      7       July  2017  \n",
       "4  41,81,65,00,000   27  Thursday      7       July  2017  "
      ]
     },
     "execution_count": 6,
     "metadata": {},
     "output_type": "execute_result"
    }
   ],
   "source": [
    "df.head()"
   ]
  },
  {
   "cell_type": "code",
   "execution_count": 7,
   "id": "dc429847-a4d9-4689-9309-34891819701c",
   "metadata": {},
   "outputs": [
    {
     "data": {
      "text/plain": [
       "<matplotlib.collections.FillBetweenPolyCollection at 0x1def91201a0>"
      ]
     },
     "execution_count": 7,
     "metadata": {},
     "output_type": "execute_result"
    },
    {
     "data": {
      "image/png": "[encoded data removed]",
      "text/plain": [
       "<Figure size 1000x500 with 1 Axes>"
      ]
     },
     "metadata": {},
     "output_type": "display_data"
    }
   ],
   "source": [
    "fig,ax=plt.subplots(figsize=(10,5))\n",
    "sort_index=df.sort_index(ascending=False)\n",
    "ax.plot(sort_index.index,df['Close'],color='green',lw=2)\n",
    "ax.fill_between(sort_index.index, df['Close'], color='seagreen', alpha=0.25)\n"
   ]
  },
  {
   "cell_type": "code",
   "execution_count": 8,
   "id": "33be21a0-503b-4205-afff-7321e26caed7",
   "metadata": {},
   "outputs": [],
   "source": [
    "candlestick = go.Candlestick(x=df['Date'],open=df['Open'],close=df['Close'],high=df['High'],low=df['Low'],)"
   ]
  },
  {
   "cell_type": "code",
   "execution_count": 9,
   "id": "d5125e89-32b7-4853-8757-1f359bff6874",
   "metadata": {},
   "outputs": [
    {
     "data": {
      "application/vnd.plotly.v1+json": {
       "config": {
        "plotlyServerURL": "https://plot.ly"
       },
       "data": [
        {
         "close": {
          "bdata": "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",
          "dtype": "f8"
         },
         "high": {
          "bdata": "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",
          "dtype": "f8"
         },
         "low": {
          "bdata": "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",
          "dtype": "f8"
         },
         "open": {
          "bdata": "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",
          "dtype": "f8"
         },
         "type": "candlestick",
         "x": [
          "2017-07-31T00:00:00.000000000",
          "2017-07-30T00:00:00.000000000",
          "2017-07-29T00:00:00.000000000",
          "2017-07-28T00:00:00.000000000",
          "2017-07-27T00:00:00.000000000",
          "2017-07-26T00:00:00.000000000",
          "2017-07-25T00:00:00.000000000",
          "2017-07-24T00:00:00.000000000",
          "2017-07-23T00:00:00.000000000",
          "2017-07-22T00:00:00.000000000",
          "2017-07-21T00:00:00.000000000",
          "2017-07-20T00:00:00.000000000",
          "2017-07-19T00:00:00.000000000",
          "2017-07-18T00:00:00.000000000",
          "2017-07-17T00:00:00.000000000",
          "2017-07-16T00:00:00.000000000",
          "2017-07-15T00:00:00.000000000",
          "2017-07-14T00:00:00.000000000",
          "2017-07-13T00:00:00.000000000",
          "2017-07-12T00:00:00.000000000",
          "2017-07-11T00:00:00.000000000",
          "2017-07-10T00:00:00.000000000",
          "2017-07-09T00:00:00.000000000",
          "2017-07-08T00:00:00.000000000",
          "2017-07-07T00:00:00.000000000",
          "2017-07-06T00:00:00.000000000",
          "2017-07-05T00:00:00.000000000",
          "2017-07-04T00:00:00.000000000",
          "2017-07-03T00:00:00.000000000",
          "2017-07-02T00:00:00.000000000",
          "2017-07-01T00:00:00.000000000",
          "2017-06-30T00:00:00.000000000",
          "2017-06-29T00:00:00.000000000",
          "2017-06-28T00:00:00.000000000",
          "2017-06-27T00:00:00.000000000",
          "2017-06-26T00:00:00.000000000",
          "2017-06-25T00:00:00.000000000",
          "2017-06-24T00:00:00.000000000",
          "2017-06-23T00:00:00.000000000",
          "2017-06-22T00:00:00.000000000",
          "2017-06-21T00:00:00.000000000",
          "2017-06-20T00:00:00.000000000",
          "2017-06-19T00:00:00.000000000",
          "2017-06-18T00:00:00.000000000",
          "2017-06-17T00:00:00.000000000",
          "2017-06-16T00:00:00.000000000",
          "2017-06-15T00:00:00.000000000",
          "2017-06-14T00:00:00.000000000",
          "2017-06-13T00:00:00.000000000",
          "2017-06-12T00:00:00.000000000",
          "2017-06-11T00:00:00.000000000",
          "2017-06-10T00:00:00.000000000",
          "2017-06-09T00:00:00.000000000",
          "2017-06-08T00:00:00.000000000",
          "2017-06-07T00:00:00.000000000",
          "2017-06-06T00:00:00.000000000",
          "2017-06-05T00:00:00.000000000",
          "2017-06-04T00:00:00.000000000",
          "2017-06-03T00:00:00.000000000",
          "2017-06-02T00:00:00.000000000",
          "2017-06-01T00:00:00.000000000",
          "2017-05-31T00:00:00.000000000",
          "2017-05-30T00:00:00.000000000",
          "2017-05-29T00:00:00.000000000",
          "2017-05-28T00:00:00.000000000",
          "2017-05-27T00:00:00.000000000",
          "2017-05-26T00:00:00.000000000",
          "2017-05-25T00:00:00.000000000",
          "2017-05-24T00:00:00.000000000",
          "2017-05-23T00:00:00.000000000",
          "2017-05-22T00:00:00.000000000",
          "2017-05-21T00:00:00.000000000",
          "2017-05-20T00:00:00.000000000",
          "2017-05-19T00:00:00.000000000",
          "2017-05-18T00:00:00.000000000",
          "2017-05-17T00:00:00.000000000",
          "2017-05-16T00:00:00.000000000",
          "2017-05-15T00:00:00.000000000",
          "2017-05-14T00:00:00.000000000",
          "2017-05-13T00:00:00.000000000",
          "2017-05-12T00:00:00.000000000",
          "2017-05-11T00:00:00.000000000",
          "2017-05-10T00:00:00.000000000",
          "2017-05-09T00:00:00.000000000",
          "2017-05-08T00:00:00.000000000",
          "2017-05-07T00:00:00.000000000",
          "2017-05-06T00:00:00.000000000",
          "2017-05-05T00:00:00.000000000",
          "2017-05-04T00:00:00.000000000",
          "2017-05-03T00:00:00.000000000",
          "2017-05-02T00:00:00.000000000",
          "2017-05-01T00:00:00.000000000",
          "2017-04-30T00:00:00.000000000",
          "2017-04-29T00:00:00.000000000",
          "2017-04-28T00:00:00.000000000",
          "2017-04-27T00:00:00.000000000",
          "2017-04-26T00:00:00.000000000",
          "2017-04-25T00:00:00.000000000",
          "2017-04-24T00:00:00.000000000",
          "2017-04-23T00:00:00.000000000",
          "2017-04-22T00:00:00.000000000",
          "2017-04-21T00:00:00.000000000",
          "2017-04-20T00:00:00.000000000",
          "2017-04-19T00:00:00.000000000",
          "2017-04-18T00:00:00.000000000",
          "2017-04-17T00:00:00.000000000",
          "2017-04-16T00:00:00.000000000",
          "2017-04-15T00:00:00.000000000",
          "2017-04-14T00:00:00.000000000",
          "2017-04-13T00:00:00.000000000",
          "2017-04-12T00:00:00.000000000",
          "2017-04-11T00:00:00.000000000",
          "2017-04-10T00:00:00.000000000",
          "2017-04-09T00:00:00.000000000",
          "2017-04-08T00:00:00.000000000",
          "2017-04-07T00:00:00.000000000",
          "2017-04-06T00:00:00.000000000",
          "2017-04-05T00:00:00.000000000",
          "2017-04-04T00:00:00.000000000",
          "2017-04-03T00:00:00.000000000",
          "2017-04-02T00:00:00.000000000",
          "2017-04-01T00:00:00.000000000",
          "2017-03-31T00:00:00.000000000",
          "2017-03-30T00:00:00.000000000",
          "2017-03-29T00:00:00.000000000",
          "2017-03-28T00:00:00.000000000",
          "2017-03-27T00:00:00.000000000",
          "2017-03-26T00:00:00.000000000",
          "2017-03-25T00:00:00.000000000",
          "2017-03-24T00:00:00.000000000",
          "2017-03-23T00:00:00.000000000",
          "2017-03-22T00:00:00.000000000",
          "2017-03-21T00:00:00.000000000",
          "2017-03-20T00:00:00.000000000",
          "2017-03-19T00:00:00.000000000",
          "2017-03-18T00:00:00.000000000",
          "2017-03-17T00:00:00.000000000",
          "2017-03-16T00:00:00.000000000",
          "2017-03-15T00:00:00.000000000",
          "2017-03-14T00:00:00.000000000",
          "2017-03-13T00:00:00.000000000",
          "2017-03-12T00:00:00.000000000",
          "2017-03-11T00:00:00.000000000",
          "2017-03-10T00:00:00.000000000",
          "2017-03-09T00:00:00.000000000",
          "2017-03-08T00:00:00.000000000",
          "2017-03-07T00:00:00.000000000",
          "2017-03-06T00:00:00.000000000",
          "2017-03-05T00:00:00.000000000",
          "2017-03-04T00:00:00.000000000",
          "2017-03-03T00:00:00.000000000",
          "2017-03-02T00:00:00.000000000",
          "2017-03-01T00:00:00.000000000",
          "2017-02-28T00:00:00.000000000",
          "2017-02-27T00:00:00.000000000",
          "2017-02-26T00:00:00.000000000",
          "2017-02-25T00:00:00.000000000",
          "2017-02-24T00:00:00.000000000",
          "2017-02-23T00:00:00.000000000",
          "2017-02-22T00:00:00.000000000",
          "2017-02-21T00:00:00.000000000",
          "2017-02-20T00:00:00.000000000",
          "2017-02-19T00:00:00.000000000",
          "2017-02-18T00:00:00.000000000",
          "2017-02-17T00:00:00.000000000",
          "2017-02-16T00:00:00.000000000",
          "2017-02-15T00:00:00.000000000",
          "2017-02-14T00:00:00.000000000",
          "2017-02-13T00:00:00.000000000",
          "2017-02-12T00:00:00.000000000",
          "2017-02-11T00:00:00.000000000",
          "2017-02-10T00:00:00.000000000",
          "2017-02-09T00:00:00.000000000",
          "2017-02-08T00:00:00.000000000",
          "2017-02-07T00:00:00.000000000",
          "2017-02-06T00:00:00.000000000",
          "2017-02-05T00:00:00.000000000",
          "2017-02-04T00:00:00.000000000",
          "2017-02-03T00:00:00.000000000",
          "2017-02-02T00:00:00.000000000",
          "2017-02-01T00:00:00.000000000",
          "2017-01-31T00:00:00.000000000",
          "2017-01-30T00:00:00.000000000",
          "2017-01-29T00:00:00.000000000",
          "2017-01-28T00:00:00.000000000",
          "2017-01-27T00:00:00.000000000",
          "2017-01-26T00:00:00.000000000",
          "2017-01-25T00:00:00.000000000",
          "2017-01-24T00:00:00.000000000",
          "2017-01-23T00:00:00.000000000",
          "2017-01-22T00:00:00.000000000",
          "2017-01-21T00:00:00.000000000",
          "2017-01-20T00:00:00.000000000",
          "2017-01-19T00:00:00.000000000",
          "2017-01-18T00:00:00.000000000",
          "2017-01-17T00:00:00.000000000",
          "2017-01-16T00:00:00.000000000",
          "2017-01-15T00:00:00.000000000",
          "2017-01-14T00:00:00.000000000",
          "2017-01-13T00:00:00.000000000",
          "2017-01-12T00:00:00.000000000",
          "2017-01-11T00:00:00.000000000",
          "2017-01-10T00:00:00.000000000",
          "2017-01-09T00:00:00.000000000",
          "2017-01-08T00:00:00.000000000",
          "2017-01-07T00:00:00.000000000",
          "2017-01-06T00:00:00.000000000",
          "2017-01-05T00:00:00.000000000",
          "2017-01-04T00:00:00.000000000",
          "2017-01-03T00:00:00.000000000",
          "2017-01-02T00:00:00.000000000",
          "2017-01-01T00:00:00.000000000",
          "2016-12-31T00:00:00.000000000",
          "2016-12-30T00:00:00.000000000",
          "2016-12-29T00:00:00.000000000",
          "2016-12-28T00:00:00.000000000",
          "2016-12-27T00:00:00.000000000",
          "2016-12-26T00:00:00.000000000",
          "2016-12-25T00:00:00.000000000",
          "2016-12-24T00:00:00.000000000",
          "2016-12-23T00:00:00.000000000",
          "2016-12-22T00:00:00.000000000",
          "2016-12-21T00:00:00.000000000",
          "2016-12-20T00:00:00.000000000",
          "2016-12-19T00:00:00.000000000",
          "2016-12-18T00:00:00.000000000",
          "2016-12-17T00:00:00.000000000",
          "2016-12-16T00:00:00.000000000",
          "2016-12-15T00:00:00.000000000",
          "2016-12-14T00:00:00.000000000",
          "2016-12-13T00:00:00.000000000",
          "2016-12-12T00:00:00.000000000",
          "2016-12-11T00:00:00.000000000",
          "2016-12-10T00:00:00.000000000",
          "2016-12-09T00:00:00.000000000",
          "2016-12-08T00:00:00.000000000",
          "2016-12-07T00:00:00.000000000",
          "2016-12-06T00:00:00.000000000",
          "2016-12-05T00:00:00.000000000",
          "2016-12-04T00:00:00.000000000",
          "2016-12-03T00:00:00.000000000",
          "2016-12-02T00:00:00.000000000",
          "2016-12-01T00:00:00.000000000",
          "2016-11-30T00:00:00.000000000",
          "2016-11-29T00:00:00.000000000",
          "2016-11-28T00:00:00.000000000",
          "2016-11-27T00:00:00.000000000",
          "2016-11-26T00:00:00.000000000",
          "2016-11-25T00:00:00.000000000",
          "2016-11-24T00:00:00.000000000",
          "2016-11-23T00:00:00.000000000",
          "2016-11-22T00:00:00.000000000",
          "2016-11-21T00:00:00.000000000",
          "2016-11-20T00:00:00.000000000",
          "2016-11-19T00:00:00.000000000",
          "2016-11-18T00:00:00.000000000",
          "2016-11-17T00:00:00.000000000",
          "2016-11-16T00:00:00.000000000",
          "2016-11-15T00:00:00.000000000",
          "2016-11-14T00:00:00.000000000",
          "2016-11-13T00:00:00.000000000",
          "2016-11-12T00:00:00.000000000",
          "2016-11-11T00:00:00.000000000",
          "2016-11-10T00:00:00.000000000",
          "2016-11-09T00:00:00.000000000",
          "2016-11-08T00:00:00.000000000",
          "2016-11-07T00:00:00.000000000",
          "2016-11-06T00:00:00.000000000",
          "2016-11-05T00:00:00.000000000",
          "2016-11-04T00:00:00.000000000",
          "2016-11-03T00:00:00.000000000",
          "2016-11-02T00:00:00.000000000",
          "2016-11-01T00:00:00.000000000",
          "2016-10-31T00:00:00.000000000",
          "2016-10-30T00:00:00.000000000",
          "2016-10-29T00:00:00.000000000",
          "2016-10-28T00:00:00.000000000",
          "2016-10-27T00:00:00.000000000",
          "2016-10-26T00:00:00.000000000",
          "2016-10-25T00:00:00.000000000",
          "2016-10-24T00:00:00.000000000",
          "2016-10-23T00:00:00.000000000",
          "2016-10-22T00:00:00.000000000",
          "2016-10-21T00:00:00.000000000",
          "2016-10-20T00:00:00.000000000",
          "2016-10-19T00:00:00.000000000",
          "2016-10-18T00:00:00.000000000",
          "2016-10-17T00:00:00.000000000",
          "2016-10-16T00:00:00.000000000",
          "2016-10-15T00:00:00.000000000",
          "2016-10-14T00:00:00.000000000",
          "2016-10-13T00:00:00.000000000",
          "2016-10-12T00:00:00.000000000",
          "2016-10-11T00:00:00.000000000",
          "2016-10-10T00:00:00.000000000",
          "2016-10-09T00:00:00.000000000",
          "2016-10-08T00:00:00.000000000",
          "2016-10-07T00:00:00.000000000",
          "2016-10-06T00:00:00.000000000",
          "2016-10-05T00:00:00.000000000",
          "2016-10-04T00:00:00.000000000",
          "2016-10-03T00:00:00.000000000",
          "2016-10-02T00:00:00.000000000",
          "2016-10-01T00:00:00.000000000",
          "2016-09-30T00:00:00.000000000",
          "2016-09-29T00:00:00.000000000",
          "2016-09-28T00:00:00.000000000",
          "2016-09-27T00:00:00.000000000",
          "2016-09-26T00:00:00.000000000",
          "2016-09-25T00:00:00.000000000",
          "2016-09-24T00:00:00.000000000",
          "2016-09-23T00:00:00.000000000",
          "2016-09-22T00:00:00.000000000",
          "2016-09-21T00:00:00.000000000",
          "2016-09-20T00:00:00.000000000",
          "2016-09-19T00:00:00.000000000",
          "2016-09-18T00:00:00.000000000",
          "2016-09-17T00:00:00.000000000",
          "2016-09-16T00:00:00.000000000",
          "2016-09-15T00:00:00.000000000",
          "2016-09-14T00:00:00.000000000",
          "2016-09-13T00:00:00.000000000",
          "2016-09-12T00:00:00.000000000",
          "2016-09-11T00:00:00.000000000",
          "2016-09-10T00:00:00.000000000",
          "2016-09-09T00:00:00.000000000",
          "2016-09-08T00:00:00.000000000",
          "2016-09-07T00:00:00.000000000",
          "2016-09-06T00:00:00.000000000",
          "2016-09-05T00:00:00.000000000",
          "2016-09-04T00:00:00.000000000",
          "2016-09-03T00:00:00.000000000",
          "2016-09-02T00:00:00.000000000",
          "2016-09-01T00:00:00.000000000",
          "2016-08-31T00:00:00.000000000",
          "2016-08-30T00:00:00.000000000",
          "2016-08-29T00:00:00.000000000",
          "2016-08-28T00:00:00.000000000",
          "2016-08-27T00:00:00.000000000",
          "2016-08-26T00:00:00.000000000",
          "2016-08-25T00:00:00.000000000",
          "2016-08-24T00:00:00.000000000",
          "2016-08-23T00:00:00.000000000",
          "2016-08-22T00:00:00.000000000",
          "2016-08-21T00:00:00.000000000",
          "2016-08-20T00:00:00.000000000",
          "2016-08-19T00:00:00.000000000",
          "2016-08-18T00:00:00.000000000",
          "2016-08-17T00:00:00.000000000",
          "2016-08-16T00:00:00.000000000",
          "2016-08-15T00:00:00.000000000",
          "2016-08-14T00:00:00.000000000",
          "2016-08-13T00:00:00.000000000",
          "2016-08-12T00:00:00.000000000",
          "2016-08-11T00:00:00.000000000",
          "2016-08-10T00:00:00.000000000",
          "2016-08-09T00:00:00.000000000",
          "2016-08-08T00:00:00.000000000",
          "2016-08-07T00:00:00.000000000",
          "2016-08-06T00:00:00.000000000",
          "2016-08-05T00:00:00.000000000",
          "2016-08-04T00:00:00.000000000",
          "2016-08-03T00:00:00.000000000",
          "2016-08-02T00:00:00.000000000",
          "2016-08-01T00:00:00.000000000",
          "2016-07-31T00:00:00.000000000",
          "2016-07-30T00:00:00.000000000",
          "2016-07-29T00:00:00.000000000",
          "2016-07-28T00:00:00.000000000",
          "2016-07-27T00:00:00.000000000",
          "2016-07-26T00:00:00.000000000",
          "2016-07-25T00:00:00.000000000",
          "2016-07-24T00:00:00.000000000",
          "2016-07-23T00:00:00.000000000",
          "2016-07-22T00:00:00.000000000",
          "2016-07-21T00:00:00.000000000",
          "2016-07-20T00:00:00.000000000",
          "2016-07-19T00:00:00.000000000",
          "2016-07-18T00:00:00.000000000",
          "2016-07-17T00:00:00.000000000",
          "2016-07-16T00:00:00.000000000",
          "2016-07-15T00:00:00.000000000",
          "2016-07-14T00:00:00.000000000",
          "2016-07-13T00:00:00.000000000",
          "2016-07-12T00:00:00.000000000",
          "2016-07-11T00:00:00.000000000",
          "2016-07-10T00:00:00.000000000",
          "2016-07-09T00:00:00.000000000",
          "2016-07-08T00:00:00.000000000",
          "2016-07-07T00:00:00.000000000",
          "2016-07-06T00:00:00.000000000",
          "2016-07-05T00:00:00.000000000",
          "2016-07-04T00:00:00.000000000",
          "2016-07-03T00:00:00.000000000",
          "2016-07-02T00:00:00.000000000",
          "2016-07-01T00:00:00.000000000",
          "2016-06-30T00:00:00.000000000",
          "2016-06-29T00:00:00.000000000",
          "2016-06-28T00:00:00.000000000",
          "2016-06-27T00:00:00.000000000",
          "2016-06-26T00:00:00.000000000",
          "2016-06-25T00:00:00.000000000",
          "2016-06-24T00:00:00.000000000",
          "2016-06-23T00:00:00.000000000",
          "2016-06-22T00:00:00.000000000",
          "2016-06-21T00:00:00.000000000",
          "2016-06-20T00:00:00.000000000",
          "2016-06-19T00:00:00.000000000",
          "2016-06-18T00:00:00.000000000",
          "2016-06-17T00:00:00.000000000",
          "2016-06-16T00:00:00.000000000",
          "2016-06-15T00:00:00.000000000",
          "2016-06-14T00:00:00.000000000",
          "2016-06-13T00:00:00.000000000",
          "2016-06-12T00:00:00.000000000",
          "2016-06-11T00:00:00.000000000",
          "2016-06-10T00:00:00.000000000",
          "2016-06-09T00:00:00.000000000",
          "2016-06-08T00:00:00.000000000",
          "2016-06-07T00:00:00.000000000",
          "2016-06-06T00:00:00.000000000",
          "2016-06-05T00:00:00.000000000",
          "2016-06-04T00:00:00.000000000",
          "2016-06-03T00:00:00.000000000",
          "2016-06-02T00:00:00.000000000",
          "2016-06-01T00:00:00.000000000",
          "2016-05-31T00:00:00.000000000",
          "2016-05-30T00:00:00.000000000",
          "2016-05-29T00:00:00.000000000",
          "2016-05-28T00:00:00.000000000",
          "2016-05-27T00:00:00.000000000",
          "2016-05-26T00:00:00.000000000",
          "2016-05-25T00:00:00.000000000",
          "2016-05-24T00:00:00.000000000",
          "2016-05-23T00:00:00.000000000",
          "2016-05-22T00:00:00.000000000",
          "2016-05-21T00:00:00.000000000",
          "2016-05-20T00:00:00.000000000",
          "2016-05-19T00:00:00.000000000",
          "2016-05-18T00:00:00.000000000",
          "2016-05-17T00:00:00.000000000",
          "2016-05-16T00:00:00.000000000",
          "2016-05-15T00:00:00.000000000",
          "2016-05-14T00:00:00.000000000",
          "2016-05-13T00:00:00.000000000",
          "2016-05-12T00:00:00.000000000",
          "2016-05-11T00:00:00.000000000",
          "2016-05-10T00:00:00.000000000",
          "2016-05-09T00:00:00.000000000",
          "2016-05-08T00:00:00.000000000",
          "2016-05-07T00:00:00.000000000",
          "2016-05-06T00:00:00.000000000",
          "2016-05-05T00:00:00.000000000",
          "2016-05-04T00:00:00.000000000",
          "2016-05-03T00:00:00.000000000",
          "2016-05-02T00:00:00.000000000",
          "2016-05-01T00:00:00.000000000",
          "2016-04-30T00:00:00.000000000",
          "2016-04-29T00:00:00.000000000",
          "2016-04-28T00:00:00.000000000",
          "2016-04-27T00:00:00.000000000",
          "2016-04-26T00:00:00.000000000",
          "2016-04-25T00:00:00.000000000",
          "2016-04-24T00:00:00.000000000",
          "2016-04-23T00:00:00.000000000",
          "2016-04-22T00:00:00.000000000",
          "2016-04-21T00:00:00.000000000",
          "2016-04-20T00:00:00.000000000",
          "2016-04-19T00:00:00.000000000",
          "2016-04-18T00:00:00.000000000",
          "2016-04-17T00:00:00.000000000",
          "2016-04-16T00:00:00.000000000",
          "2016-04-15T00:00:00.000000000",
          "2016-04-14T00:00:00.000000000",
          "2016-04-13T00:00:00.000000000",
          "2016-04-12T00:00:00.000000000",
          "2016-04-11T00:00:00.000000000",
          "2016-04-10T00:00:00.000000000",
          "2016-04-09T00:00:00.000000000",
          "2016-04-08T00:00:00.000000000",
          "2016-04-07T00:00:00.000000000",
          "2016-04-06T00:00:00.000000000",
          "2016-04-05T00:00:00.000000000",
          "2016-04-04T00:00:00.000000000",
          "2016-04-03T00:00:00.000000000",
          "2016-04-02T00:00:00.000000000",
          "2016-04-01T00:00:00.000000000",
          "2016-03-31T00:00:00.000000000",
          "2016-03-30T00:00:00.000000000",
          "2016-03-29T00:00:00.000000000",
          "2016-03-28T00:00:00.000000000",
          "2016-03-27T00:00:00.000000000",
          "2016-03-26T00:00:00.000000000",
          "2016-03-25T00:00:00.000000000",
          "2016-03-24T00:00:00.000000000",
          "2016-03-23T00:00:00.000000000",
          "2016-03-22T00:00:00.000000000",
          "2016-03-21T00:00:00.000000000",
          "2016-03-20T00:00:00.000000000",
          "2016-03-19T00:00:00.000000000",
          "2016-03-18T00:00:00.000000000",
          "2016-03-17T00:00:00.000000000",
          "2016-03-16T00:00:00.000000000",
          "2016-03-15T00:00:00.000000000",
          "2016-03-14T00:00:00.000000000",
          "2016-03-13T00:00:00.000000000",
          "2016-03-12T00:00:00.000000000",
          "2016-03-11T00:00:00.000000000",
          "2016-03-10T00:00:00.000000000",
          "2016-03-09T00:00:00.000000000",
          "2016-03-08T00:00:00.000000000",
          "2016-03-07T00:00:00.000000000",
          "2016-03-06T00:00:00.000000000",
          "2016-03-05T00:00:00.000000000",
          "2016-03-04T00:00:00.000000000",
          "2016-03-03T00:00:00.000000000",
          "2016-03-02T00:00:00.000000000",
          "2016-03-01T00:00:00.000000000",
          "2016-02-29T00:00:00.000000000",
          "2016-02-28T00:00:00.000000000",
          "2016-02-27T00:00:00.000000000",
          "2016-02-26T00:00:00.000000000",
          "2016-02-25T00:00:00.000000000",
          "2016-02-24T00:00:00.000000000",
          "2016-02-23T00:00:00.000000000",
          "2016-02-22T00:00:00.000000000",
          "2016-02-21T00:00:00.000000000",
          "2016-02-20T00:00:00.000000000",
          "2016-02-19T00:00:00.000000000",
          "2016-02-18T00:00:00.000000000",
          "2016-02-17T00:00:00.000000000",
          "2016-02-16T00:00:00.000000000",
          "2016-02-15T00:00:00.000000000",
          "2016-02-14T00:00:00.000000000",
          "2016-02-13T00:00:00.000000000",
          "2016-02-12T00:00:00.000000000",
          "2016-02-11T00:00:00.000000000",
          "2016-02-10T00:00:00.000000000",
          "2016-02-09T00:00:00.000000000",
          "2016-02-08T00:00:00.000000000",
          "2016-02-07T00:00:00.000000000",
          "2016-02-06T00:00:00.000000000",
          "2016-02-05T00:00:00.000000000",
          "2016-02-04T00:00:00.000000000",
          "2016-02-03T00:00:00.000000000",
          "2016-02-02T00:00:00.000000000",
          "2016-02-01T00:00:00.000000000",
          "2016-01-31T00:00:00.000000000",
          "2016-01-30T00:00:00.000000000",
          "2016-01-29T00:00:00.000000000",
          "2016-01-28T00:00:00.000000000",
          "2016-01-27T00:00:00.000000000",
          "2016-01-26T00:00:00.000000000",
          "2016-01-25T00:00:00.000000000",
          "2016-01-24T00:00:00.000000000",
          "2016-01-23T00:00:00.000000000",
          "2016-01-22T00:00:00.000000000",
          "2016-01-21T00:00:00.000000000",
          "2016-01-20T00:00:00.000000000",
          "2016-01-19T00:00:00.000000000",
          "2016-01-18T00:00:00.000000000",
          "2016-01-17T00:00:00.000000000",
          "2016-01-16T00:00:00.000000000",
          "2016-01-15T00:00:00.000000000",
          "2016-01-14T00:00:00.000000000",
          "2016-01-13T00:00:00.000000000",
          "2016-01-12T00:00:00.000000000",
          "2016-01-11T00:00:00.000000000",
          "2016-01-10T00:00:00.000000000",
          "2016-01-09T00:00:00.000000000",
          "2016-01-08T00:00:00.000000000",
          "2016-01-07T00:00:00.000000000",
          "2016-01-06T00:00:00.000000000",
          "2016-01-05T00:00:00.000000000",
          "2016-01-04T00:00:00.000000000",
          "2016-01-03T00:00:00.000000000",
          "2016-01-02T00:00:00.000000000",
          "2016-01-01T00:00:00.000000000",
          "2015-12-31T00:00:00.000000000",
          "2015-12-30T00:00:00.000000000",
          "2015-12-29T00:00:00.000000000",
          "2015-12-28T00:00:00.000000000",
          "2015-12-27T00:00:00.000000000",
          "2015-12-26T00:00:00.000000000",
          "2015-12-25T00:00:00.000000000",
          "2015-12-24T00:00:00.000000000",
          "2015-12-23T00:00:00.000000000",
          "2015-12-22T00:00:00.000000000",
          "2015-12-21T00:00:00.000000000",
          "2015-12-20T00:00:00.000000000",
          "2015-12-19T00:00:00.000000000",
          "2015-12-18T00:00:00.000000000",
          "2015-12-17T00:00:00.000000000",
          "2015-12-16T00:00:00.000000000",
          "2015-12-15T00:00:00.000000000",
          "2015-12-14T00:00:00.000000000",
          "2015-12-13T00:00:00.000000000",
          "2015-12-12T00:00:00.000000000",
          "2015-12-11T00:00:00.000000000",
          "2015-12-10T00:00:00.000000000",
          "2015-12-09T00:00:00.000000000",
          "2015-12-08T00:00:00.000000000",
          "2015-12-07T00:00:00.000000000",
          "2015-12-06T00:00:00.000000000",
          "2015-12-05T00:00:00.000000000",
          "2015-12-04T00:00:00.000000000",
          "2015-12-03T00:00:00.000000000",
          "2015-12-02T00:00:00.000000000",
          "2015-12-01T00:00:00.000000000",
          "2015-11-30T00:00:00.000000000",
          "2015-11-29T00:00:00.000000000",
          "2015-11-28T00:00:00.000000000",
          "2015-11-27T00:00:00.000000000",
          "2015-11-26T00:00:00.000000000",
          "2015-11-25T00:00:00.000000000",
          "2015-11-24T00:00:00.000000000",
          "2015-11-23T00:00:00.000000000",
          "2015-11-22T00:00:00.000000000",
          "2015-11-21T00:00:00.000000000",
          "2015-11-20T00:00:00.000000000",
          "2015-11-19T00:00:00.000000000",
          "2015-11-18T00:00:00.000000000",
          "2015-11-17T00:00:00.000000000",
          "2015-11-16T00:00:00.000000000",
          "2015-11-15T00:00:00.000000000",
          "2015-11-14T00:00:00.000000000",
          "2015-11-13T00:00:00.000000000",
          "2015-11-12T00:00:00.000000000",
          "2015-11-11T00:00:00.000000000",
          "2015-11-10T00:00:00.000000000",
          "2015-11-09T00:00:00.000000000",
          "2015-11-08T00:00:00.000000000",
          "2015-11-07T00:00:00.000000000",
          "2015-11-06T00:00:00.000000000",
          "2015-11-05T00:00:00.000000000",
          "2015-11-04T00:00:00.000000000",
          "2015-11-03T00:00:00.000000000",
          "2015-11-02T00:00:00.000000000",
          "2015-11-01T00:00:00.000000000",
          "2015-10-31T00:00:00.000000000",
          "2015-10-30T00:00:00.000000000",
          "2015-10-29T00:00:00.000000000",
          "2015-10-28T00:00:00.000000000",
          "2015-10-27T00:00:00.000000000",
          "2015-10-26T00:00:00.000000000",
          "2015-10-25T00:00:00.000000000",
          "2015-10-24T00:00:00.000000000",
          "2015-10-23T00:00:00.000000000",
          "2015-10-22T00:00:00.000000000",
          "2015-10-21T00:00:00.000000000",
          "2015-10-20T00:00:00.000000000",
          "2015-10-19T00:00:00.000000000",
          "2015-10-18T00:00:00.000000000",
          "2015-10-17T00:00:00.000000000",
          "2015-10-16T00:00:00.000000000",
          "2015-10-15T00:00:00.000000000",
          "2015-10-14T00:00:00.000000000",
          "2015-10-13T00:00:00.000000000",
          "2015-10-12T00:00:00.000000000",
          "2015-10-11T00:00:00.000000000",
          "2015-10-10T00:00:00.000000000",
          "2015-10-09T00:00:00.000000000",
          "2015-10-08T00:00:00.000000000",
          "2015-10-07T00:00:00.000000000",
          "2015-10-06T00:00:00.000000000",
          "2015-10-05T00:00:00.000000000",
          "2015-10-04T00:00:00.000000000",
          "2015-10-03T00:00:00.000000000",
          "2015-10-02T00:00:00.000000000",
          "2015-10-01T00:00:00.000000000",
          "2015-09-30T00:00:00.000000000",
          "2015-09-29T00:00:00.000000000",
          "2015-09-28T00:00:00.000000000",
          "2015-09-27T00:00:00.000000000",
          "2015-09-26T00:00:00.000000000",
          "2015-09-25T00:00:00.000000000",
          "2015-09-24T00:00:00.000000000",
          "2015-09-23T00:00:00.000000000",
          "2015-09-22T00:00:00.000000000",
          "2015-09-21T00:00:00.000000000",
          "2015-09-20T00:00:00.000000000",
          "2015-09-19T00:00:00.000000000",
          "2015-09-18T00:00:00.000000000",
          "2015-09-17T00:00:00.000000000",
          "2015-09-16T00:00:00.000000000",
          "2015-09-15T00:00:00.000000000",
          "2015-09-14T00:00:00.000000000",
          "2015-09-13T00:00:00.000000000",
          "2015-09-12T00:00:00.000000000",
          "2015-09-11T00:00:00.000000000",
          "2015-09-10T00:00:00.000000000",
          "2015-09-09T00:00:00.000000000",
          "2015-09-08T00:00:00.000000000",
          "2015-09-07T00:00:00.000000000",
          "2015-09-06T00:00:00.000000000",
          "2015-09-05T00:00:00.000000000",
          "2015-09-04T00:00:00.000000000",
          "2015-09-03T00:00:00.000000000",
          "2015-09-02T00:00:00.000000000",
          "2015-09-01T00:00:00.000000000",
          "2015-08-31T00:00:00.000000000",
          "2015-08-30T00:00:00.000000000",
          "2015-08-29T00:00:00.000000000",
          "2015-08-28T00:00:00.000000000",
          "2015-08-27T00:00:00.000000000",
          "2015-08-26T00:00:00.000000000",
          "2015-08-25T00:00:00.000000000",
          "2015-08-24T00:00:00.000000000",
          "2015-08-23T00:00:00.000000000",
          "2015-08-22T00:00:00.000000000",
          "2015-08-21T00:00:00.000000000",
          "2015-08-20T00:00:00.000000000",
          "2015-08-19T00:00:00.000000000",
          "2015-08-18T00:00:00.000000000",
          "2015-08-17T00:00:00.000000000",
          "2015-08-16T00:00:00.000000000",
          "2015-08-15T00:00:00.000000000",
          "2015-08-14T00:00:00.000000000",
          "2015-08-13T00:00:00.000000000",
          "2015-08-12T00:00:00.000000000",
          "2015-08-11T00:00:00.000000000",
          "2015-08-10T00:00:00.000000000",
          "2015-08-09T00:00:00.000000000",
          "2015-08-08T00:00:00.000000000",
          "2015-08-07T00:00:00.000000000",
          "2015-08-06T00:00:00.000000000",
          "2015-08-05T00:00:00.000000000",
          "2015-08-04T00:00:00.000000000",
          "2015-08-03T00:00:00.000000000",
          "2015-08-02T00:00:00.000000000",
          "2015-08-01T00:00:00.000000000",
          "2015-07-31T00:00:00.000000000",
          "2015-07-30T00:00:00.000000000",
          "2015-07-29T00:00:00.000000000",
          "2015-07-28T00:00:00.000000000",
          "2015-07-27T00:00:00.000000000",
          "2015-07-26T00:00:00.000000000",
          "2015-07-25T00:00:00.000000000",
          "2015-07-24T00:00:00.000000000",
          "2015-07-23T00:00:00.000000000",
          "2015-07-22T00:00:00.000000000",
          "2015-07-21T00:00:00.000000000",
          "2015-07-20T00:00:00.000000000",
          "2015-07-19T00:00:00.000000000",
          "2015-07-18T00:00:00.000000000",
          "2015-07-17T00:00:00.000000000",
          "2015-07-16T00:00:00.000000000",
          "2015-07-15T00:00:00.000000000",
          "2015-07-14T00:00:00.000000000",
          "2015-07-13T00:00:00.000000000",
          "2015-07-12T00:00:00.000000000",
          "2015-07-11T00:00:00.000000000",
          "2015-07-10T00:00:00.000000000",
          "2015-07-09T00:00:00.000000000",
          "2015-07-08T00:00:00.000000000",
          "2015-07-07T00:00:00.000000000",
          "2015-07-06T00:00:00.000000000",
          "2015-07-05T00:00:00.000000000",
          "2015-07-04T00:00:00.000000000",
          "2015-07-03T00:00:00.000000000",
          "2015-07-02T00:00:00.000000000",
          "2015-07-01T00:00:00.000000000",
          "2015-06-30T00:00:00.000000000",
          "2015-06-29T00:00:00.000000000",
          "2015-06-28T00:00:00.000000000",
          "2015-06-27T00:00:00.000000000",
          "2015-06-26T00:00:00.000000000",
          "2015-06-25T00:00:00.000000000",
          "2015-06-24T00:00:00.000000000",
          "2015-06-23T00:00:00.000000000",
          "2015-06-22T00:00:00.000000000",
          "2015-06-21T00:00:00.000000000",
          "2015-06-20T00:00:00.000000000",
          "2015-06-19T00:00:00.000000000",
          "2015-06-18T00:00:00.000000000",
          "2015-06-17T00:00:00.000000000",
          "2015-06-16T00:00:00.000000000",
          "2015-06-15T00:00:00.000000000",
          "2015-06-14T00:00:00.000000000",
          "2015-06-13T00:00:00.000000000",
          "2015-06-12T00:00:00.000000000",
          "2015-06-11T00:00:00.000000000",
          "2015-06-10T00:00:00.000000000",
          "2015-06-09T00:00:00.000000000",
          "2015-06-08T00:00:00.000000000",
          "2015-06-07T00:00:00.000000000",
          "2015-06-06T00:00:00.000000000",
          "2015-06-05T00:00:00.000000000",
          "2015-06-04T00:00:00.000000000",
          "2015-06-03T00:00:00.000000000",
          "2015-06-02T00:00:00.000000000",
          "2015-06-01T00:00:00.000000000",
          "2015-05-31T00:00:00.000000000",
          "2015-05-30T00:00:00.000000000",
          "2015-05-29T00:00:00.000000000",
          "2015-05-28T00:00:00.000000000",
          "2015-05-27T00:00:00.000000000",
          "2015-05-26T00:00:00.000000000",
          "2015-05-25T00:00:00.000000000",
          "2015-05-24T00:00:00.000000000",
          "2015-05-23T00:00:00.000000000",
          "2015-05-22T00:00:00.000000000",
          "2015-05-21T00:00:00.000000000",
          "2015-05-20T00:00:00.000000000",
          "2015-05-19T00:00:00.000000000",
          "2015-05-18T00:00:00.000000000",
          "2015-05-17T00:00:00.000000000",
          "2015-05-16T00:00:00.000000000",
          "2015-05-15T00:00:00.000000000",
          "2015-05-14T00:00:00.000000000",
          "2015-05-13T00:00:00.000000000",
          "2015-05-12T00:00:00.000000000",
          "2015-05-11T00:00:00.000000000",
          "2015-05-10T00:00:00.000000000",
          "2015-05-09T00:00:00.000000000",
          "2015-05-08T00:00:00.000000000",
          "2015-05-07T00:00:00.000000000",
          "2015-05-06T00:00:00.000000000",
          "2015-05-05T00:00:00.000000000",
          "2015-05-04T00:00:00.000000000",
          "2015-05-03T00:00:00.000000000",
          "2015-05-02T00:00:00.000000000",
          "2015-05-01T00:00:00.000000000",
          "2015-04-30T00:00:00.000000000",
          "2015-04-29T00:00:00.000000000",
          "2015-04-28T00:00:00.000000000",
          "2015-04-27T00:00:00.000000000",
          "2015-04-26T00:00:00.000000000",
          "2015-04-25T00:00:00.000000000",
          "2015-04-24T00:00:00.000000000",
          "2015-04-23T00:00:00.000000000",
          "2015-04-22T00:00:00.000000000",
          "2015-04-21T00:00:00.000000000",
          "2015-04-20T00:00:00.000000000",
          "2015-04-19T00:00:00.000000000",
          "2015-04-18T00:00:00.000000000",
          "2015-04-17T00:00:00.000000000",
          "2015-04-16T00:00:00.000000000",
          "2015-04-15T00:00:00.000000000",
          "2015-04-14T00:00:00.000000000",
          "2015-04-13T00:00:00.000000000",
          "2015-04-12T00:00:00.000000000",
          "2015-04-11T00:00:00.000000000",
          "2015-04-10T00:00:00.000000000",
          "2015-04-09T00:00:00.000000000",
          "2015-04-08T00:00:00.000000000",
          "2015-04-07T00:00:00.000000000",
          "2015-04-06T00:00:00.000000000",
          "2015-04-05T00:00:00.000000000",
          "2015-04-04T00:00:00.000000000",
          "2015-04-03T00:00:00.000000000",
          "2015-04-02T00:00:00.000000000",
          "2015-04-01T00:00:00.000000000",
          "2015-03-31T00:00:00.000000000",
          "2015-03-30T00:00:00.000000000",
          "2015-03-29T00:00:00.000000000",
          "2015-03-28T00:00:00.000000000",
          "2015-03-27T00:00:00.000000000",
          "2015-03-26T00:00:00.000000000",
          "2015-03-25T00:00:00.000000000",
          "2015-03-24T00:00:00.000000000",
          "2015-03-23T00:00:00.000000000",
          "2015-03-22T00:00:00.000000000",
          "2015-03-21T00:00:00.000000000",
          "2015-03-20T00:00:00.000000000",
          "2015-03-19T00:00:00.000000000",
          "2015-03-18T00:00:00.000000000",
          "2015-03-17T00:00:00.000000000",
          "2015-03-16T00:00:00.000000000",
          "2015-03-15T00:00:00.000000000",
          "2015-03-14T00:00:00.000000000",
          "2015-03-13T00:00:00.000000000",
          "2015-03-12T00:00:00.000000000",
          "2015-03-11T00:00:00.000000000",
          "2015-03-10T00:00:00.000000000",
          "2015-03-09T00:00:00.000000000",
          "2015-03-08T00:00:00.000000000",
          "2015-03-07T00:00:00.000000000",
          "2015-03-06T00:00:00.000000000",
          "2015-03-05T00:00:00.000000000",
          "2015-03-04T00:00:00.000000000",
          "2015-03-03T00:00:00.000000000",
          "2015-03-02T00:00:00.000000000",
          "2015-03-01T00:00:00.000000000",
          "2015-02-28T00:00:00.000000000",
          "2015-02-27T00:00:00.000000000",
          "2015-02-26T00:00:00.000000000",
          "2015-02-25T00:00:00.000000000",
          "2015-02-24T00:00:00.000000000",
          "2015-02-23T00:00:00.000000000",
          "2015-02-22T00:00:00.000000000",
          "2015-02-21T00:00:00.000000000",
          "2015-02-20T00:00:00.000000000",
          "2015-02-19T00:00:00.000000000",
          "2015-02-18T00:00:00.000000000",
          "2015-02-17T00:00:00.000000000",
          "2015-02-16T00:00:00.000000000",
          "2015-02-15T00:00:00.000000000",
          "2015-02-14T00:00:00.000000000",
          "2015-02-13T00:00:00.000000000",
          "2015-02-12T00:00:00.000000000",
          "2015-02-11T00:00:00.000000000",
          "2015-02-10T00:00:00.000000000",
          "2015-02-09T00:00:00.000000000",
          "2015-02-08T00:00:00.000000000",
          "2015-02-07T00:00:00.000000000",
          "2015-02-06T00:00:00.000000000",
          "2015-02-05T00:00:00.000000000",
          "2015-02-04T00:00:00.000000000",
          "2015-02-03T00:00:00.000000000",
          "2015-02-02T00:00:00.000000000",
          "2015-02-01T00:00:00.000000000",
          "2015-01-31T00:00:00.000000000",
          "2015-01-30T00:00:00.000000000",
          "2015-01-29T00:00:00.000000000",
          "2015-01-28T00:00:00.000000000",
          "2015-01-27T00:00:00.000000000",
          "2015-01-26T00:00:00.000000000",
          "2015-01-25T00:00:00.000000000",
          "2015-01-24T00:00:00.000000000",
          "2015-01-23T00:00:00.000000000",
          "2015-01-22T00:00:00.000000000",
          "2015-01-21T00:00:00.000000000",
          "2015-01-20T00:00:00.000000000",
          "2015-01-19T00:00:00.000000000",
          "2015-01-18T00:00:00.000000000",
          "2015-01-17T00:00:00.000000000",
          "2015-01-16T00:00:00.000000000",
          "2015-01-15T00:00:00.000000000",
          "2015-01-14T00:00:00.000000000",
          "2015-01-13T00:00:00.000000000",
          "2015-01-12T00:00:00.000000000",
          "2015-01-11T00:00:00.000000000",
          "2015-01-10T00:00:00.000000000",
          "2015-01-09T00:00:00.000000000",
          "2015-01-08T00:00:00.000000000",
          "2015-01-07T00:00:00.000000000",
          "2015-01-06T00:00:00.000000000",
          "2015-01-05T00:00:00.000000000",
          "2015-01-04T00:00:00.000000000",
          "2015-01-03T00:00:00.000000000",
          "2015-01-02T00:00:00.000000000",
          "2015-01-01T00:00:00.000000000",
          "2014-12-31T00:00:00.000000000",
          "2014-12-30T00:00:00.000000000",
          "2014-12-29T00:00:00.000000000",
          "2014-12-28T00:00:00.000000000",
          "2014-12-27T00:00:00.000000000",
          "2014-12-26T00:00:00.000000000",
          "2014-12-25T00:00:00.000000000",
          "2014-12-24T00:00:00.000000000",
          "2014-12-23T00:00:00.000000000",
          "2014-12-22T00:00:00.000000000",
          "2014-12-21T00:00:00.000000000",
          "2014-12-20T00:00:00.000000000",
          "2014-12-19T00:00:00.000000000",
          "2014-12-18T00:00:00.000000000",
          "2014-12-17T00:00:00.000000000",
          "2014-12-16T00:00:00.000000000",
          "2014-12-15T00:00:00.000000000",
          "2014-12-14T00:00:00.000000000",
          "2014-12-13T00:00:00.000000000",
          "2014-12-12T00:00:00.000000000",
          "2014-12-11T00:00:00.000000000",
          "2014-12-10T00:00:00.000000000",
          "2014-12-09T00:00:00.000000000",
          "2014-12-08T00:00:00.000000000",
          "2014-12-07T00:00:00.000000000",
          "2014-12-06T00:00:00.000000000",
          "2014-12-05T00:00:00.000000000",
          "2014-12-04T00:00:00.000000000",
          "2014-12-03T00:00:00.000000000",
          "2014-12-02T00:00:00.000000000",
          "2014-12-01T00:00:00.000000000",
          "2014-11-30T00:00:00.000000000",
          "2014-11-29T00:00:00.000000000",
          "2014-11-28T00:00:00.000000000",
          "2014-11-27T00:00:00.000000000",
          "2014-11-26T00:00:00.000000000",
          "2014-11-25T00:00:00.000000000",
          "2014-11-24T00:00:00.000000000",
          "2014-11-23T00:00:00.000000000",
          "2014-11-22T00:00:00.000000000",
          "2014-11-21T00:00:00.000000000",
          "2014-11-20T00:00:00.000000000",
          "2014-11-19T00:00:00.000000000",
          "2014-11-18T00:00:00.000000000",
          "2014-11-17T00:00:00.000000000",
          "2014-11-16T00:00:00.000000000",
          "2014-11-15T00:00:00.000000000",
          "2014-11-14T00:00:00.000000000",
          "2014-11-13T00:00:00.000000000",
          "2014-11-12T00:00:00.000000000",
          "2014-11-11T00:00:00.000000000",
          "2014-11-10T00:00:00.000000000",
          "2014-11-09T00:00:00.000000000",
          "2014-11-08T00:00:00.000000000",
          "2014-11-07T00:00:00.000000000",
          "2014-11-06T00:00:00.000000000",
          "2014-11-05T00:00:00.000000000",
          "2014-11-04T00:00:00.000000000",
          "2014-11-03T00:00:00.000000000",
          "2014-11-02T00:00:00.000000000",
          "2014-11-01T00:00:00.000000000",
          "2014-10-31T00:00:00.000000000",
          "2014-10-30T00:00:00.000000000",
          "2014-10-29T00:00:00.000000000",
          "2014-10-28T00:00:00.000000000",
          "2014-10-27T00:00:00.000000000",
          "2014-10-26T00:00:00.000000000",
          "2014-10-25T00:00:00.000000000",
          "2014-10-24T00:00:00.000000000",
          "2014-10-23T00:00:00.000000000",
          "2014-10-22T00:00:00.000000000",
          "2014-10-21T00:00:00.000000000",
          "2014-10-20T00:00:00.000000000",
          "2014-10-19T00:00:00.000000000",
          "2014-10-18T00:00:00.000000000",
          "2014-10-17T00:00:00.000000000",
          "2014-10-16T00:00:00.000000000",
          "2014-10-15T00:00:00.000000000",
          "2014-10-14T00:00:00.000000000",
          "2014-10-13T00:00:00.000000000",
          "2014-10-12T00:00:00.000000000",
          "2014-10-11T00:00:00.000000000",
          "2014-10-10T00:00:00.000000000",
          "2014-10-09T00:00:00.000000000",
          "2014-10-08T00:00:00.000000000",
          "2014-10-07T00:00:00.000000000",
          "2014-10-06T00:00:00.000000000",
          "2014-10-05T00:00:00.000000000",
          "2014-10-04T00:00:00.000000000",
          "2014-10-03T00:00:00.000000000",
          "2014-10-02T00:00:00.000000000",
          "2014-10-01T00:00:00.000000000",
          "2014-09-30T00:00:00.000000000",
          "2014-09-29T00:00:00.000000000",
          "2014-09-28T00:00:00.000000000",
          "2014-09-27T00:00:00.000000000",
          "2014-09-26T00:00:00.000000000",
          "2014-09-25T00:00:00.000000000",
          "2014-09-24T00:00:00.000000000",
          "2014-09-23T00:00:00.000000000",
          "2014-09-22T00:00:00.000000000",
          "2014-09-21T00:00:00.000000000",
          "2014-09-20T00:00:00.000000000",
          "2014-09-19T00:00:00.000000000",
          "2014-09-18T00:00:00.000000000",
          "2014-09-17T00:00:00.000000000",
          "2014-09-16T00:00:00.000000000",
          "2014-09-15T00:00:00.000000000",
          "2014-09-14T00:00:00.000000000",
          "2014-09-13T00:00:00.000000000",
          "2014-09-12T00:00:00.000000000",
          "2014-09-11T00:00:00.000000000",
          "2014-09-10T00:00:00.000000000",
          "2014-09-09T00:00:00.000000000",
          "2014-09-08T00:00:00.000000000",
          "2014-09-07T00:00:00.000000000",
          "2014-09-06T00:00:00.000000000",
          "2014-09-05T00:00:00.000000000",
          "2014-09-04T00:00:00.000000000",
          "2014-09-03T00:00:00.000000000",
          "2014-09-02T00:00:00.000000000",
          "2014-09-01T00:00:00.000000000",
          "2014-08-31T00:00:00.000000000",
          "2014-08-30T00:00:00.000000000",
          "2014-08-29T00:00:00.000000000",
          "2014-08-28T00:00:00.000000000",
          "2014-08-27T00:00:00.000000000",
          "2014-08-26T00:00:00.000000000",
          "2014-08-25T00:00:00.000000000",
          "2014-08-24T00:00:00.000000000",
          "2014-08-23T00:00:00.000000000",
          "2014-08-22T00:00:00.000000000",
          "2014-08-21T00:00:00.000000000",
          "2014-08-20T00:00:00.000000000",
          "2014-08-19T00:00:00.000000000",
          "2014-08-18T00:00:00.000000000",
          "2014-08-17T00:00:00.000000000",
          "2014-08-16T00:00:00.000000000",
          "2014-08-15T00:00:00.000000000",
          "2014-08-14T00:00:00.000000000",
          "2014-08-13T00:00:00.000000000",
          "2014-08-12T00:00:00.000000000",
          "2014-08-11T00:00:00.000000000",
          "2014-08-10T00:00:00.000000000",
          "2014-08-09T00:00:00.000000000",
          "2014-08-08T00:00:00.000000000",
          "2014-08-07T00:00:00.000000000",
          "2014-08-06T00:00:00.000000000",
          "2014-08-05T00:00:00.000000000",
          "2014-08-04T00:00:00.000000000",
          "2014-08-03T00:00:00.000000000",
          "2014-08-02T00:00:00.000000000",
          "2014-08-01T00:00:00.000000000",
          "2014-07-31T00:00:00.000000000",
          "2014-07-30T00:00:00.000000000",
          "2014-07-29T00:00:00.000000000",
          "2014-07-28T00:00:00.000000000",
          "2014-07-27T00:00:00.000000000",
          "2014-07-26T00:00:00.000000000",
          "2014-07-25T00:00:00.000000000",
          "2014-07-24T00:00:00.000000000",
          "2014-07-23T00:00:00.000000000",
          "2014-07-22T00:00:00.000000000",
          "2014-07-21T00:00:00.000000000",
          "2014-07-20T00:00:00.000000000",
          "2014-07-19T00:00:00.000000000",
          "2014-07-18T00:00:00.000000000",
          "2014-07-17T00:00:00.000000000",
          "2014-07-16T00:00:00.000000000",
          "2014-07-15T00:00:00.000000000",
          "2014-07-14T00:00:00.000000000",
          "2014-07-13T00:00:00.000000000",
          "2014-07-12T00:00:00.000000000",
          "2014-07-11T00:00:00.000000000",
          "2014-07-10T00:00:00.000000000",
          "2014-07-09T00:00:00.000000000",
          "2014-07-08T00:00:00.000000000",
          "2014-07-07T00:00:00.000000000",
          "2014-07-06T00:00:00.000000000",
          "2014-07-05T00:00:00.000000000",
          "2014-07-04T00:00:00.000000000",
          "2014-07-03T00:00:00.000000000",
          "2014-07-02T00:00:00.000000000",
          "2014-07-01T00:00:00.000000000",
          "2014-06-30T00:00:00.000000000",
          "2014-06-29T00:00:00.000000000",
          "2014-06-28T00:00:00.000000000",
          "2014-06-27T00:00:00.000000000",
          "2014-06-26T00:00:00.000000000",
          "2014-06-25T00:00:00.000000000",
          "2014-06-24T00:00:00.000000000",
          "2014-06-23T00:00:00.000000000",
          "2014-06-22T00:00:00.000000000",
          "2014-06-21T00:00:00.000000000",
          "2014-06-20T00:00:00.000000000",
          "2014-06-19T00:00:00.000000000",
          "2014-06-18T00:00:00.000000000",
          "2014-06-17T00:00:00.000000000",
          "2014-06-16T00:00:00.000000000",
          "2014-06-15T00:00:00.000000000",
          "2014-06-14T00:00:00.000000000",
          "2014-06-13T00:00:00.000000000",
          "2014-06-12T00:00:00.000000000",
          "2014-06-11T00:00:00.000000000",
          "2014-06-10T00:00:00.000000000",
          "2014-06-09T00:00:00.000000000",
          "2014-06-08T00:00:00.000000000",
          "2014-06-07T00:00:00.000000000",
          "2014-06-06T00:00:00.000000000",
          "2014-06-05T00:00:00.000000000",
          "2014-06-04T00:00:00.000000000",
          "2014-06-03T00:00:00.000000000",
          "2014-06-02T00:00:00.000000000",
          "2014-06-01T00:00:00.000000000",
          "2014-05-31T00:00:00.000000000",
          "2014-05-30T00:00:00.000000000",
          "2014-05-29T00:00:00.000000000",
          "2014-05-28T00:00:00.000000000",
          "2014-05-27T00:00:00.000000000",
          "2014-05-26T00:00:00.000000000",
          "2014-05-25T00:00:00.000000000",
          "2014-05-24T00:00:00.000000000",
          "2014-05-23T00:00:00.000000000",
          "2014-05-22T00:00:00.000000000",
          "2014-05-21T00:00:00.000000000",
          "2014-05-20T00:00:00.000000000",
          "2014-05-19T00:00:00.000000000",
          "2014-05-18T00:00:00.000000000",
          "2014-05-17T00:00:00.000000000",
          "2014-05-16T00:00:00.000000000",
          "2014-05-15T00:00:00.000000000",
          "2014-05-14T00:00:00.000000000",
          "2014-05-13T00:00:00.000000000",
          "2014-05-12T00:00:00.000000000",
          "2014-05-11T00:00:00.000000000",
          "2014-05-10T00:00:00.000000000",
          "2014-05-09T00:00:00.000000000",
          "2014-05-08T00:00:00.000000000",
          "2014-05-07T00:00:00.000000000",
          "2014-05-06T00:00:00.000000000",
          "2014-05-05T00:00:00.000000000",
          "2014-05-04T00:00:00.000000000",
          "2014-05-03T00:00:00.000000000",
          "2014-05-02T00:00:00.000000000",
          "2014-05-01T00:00:00.000000000",
          "2014-04-30T00:00:00.000000000",
          "2014-04-29T00:00:00.000000000",
          "2014-04-28T00:00:00.000000000",
          "2014-04-27T00:00:00.000000000",
          "2014-04-26T00:00:00.000000000",
          "2014-04-25T00:00:00.000000000",
          "2014-04-24T00:00:00.000000000",
          "2014-04-23T00:00:00.000000000",
          "2014-04-22T00:00:00.000000000",
          "2014-04-21T00:00:00.000000000",
          "2014-04-20T00:00:00.000000000",
          "2014-04-19T00:00:00.000000000",
          "2014-04-18T00:00:00.000000000",
          "2014-04-17T00:00:00.000000000",
          "2014-04-16T00:00:00.000000000",
          "2014-04-15T00:00:00.000000000",
          "2014-04-14T00:00:00.000000000",
          "2014-04-13T00:00:00.000000000",
          "2014-04-12T00:00:00.000000000",
          "2014-04-11T00:00:00.000000000",
          "2014-04-10T00:00:00.000000000",
          "2014-04-09T00:00:00.000000000",
          "2014-04-08T00:00:00.000000000",
          "2014-04-07T00:00:00.000000000",
          "2014-04-06T00:00:00.000000000",
          "2014-04-05T00:00:00.000000000",
          "2014-04-04T00:00:00.000000000",
          "2014-04-03T00:00:00.000000000",
          "2014-04-02T00:00:00.000000000",
          "2014-04-01T00:00:00.000000000",
          "2014-03-31T00:00:00.000000000",
          "2014-03-30T00:00:00.000000000",
          "2014-03-29T00:00:00.000000000",
          "2014-03-28T00:00:00.000000000",
          "2014-03-27T00:00:00.000000000",
          "2014-03-26T00:00:00.000000000",
          "2014-03-25T00:00:00.000000000",
          "2014-03-24T00:00:00.000000000",
          "2014-03-23T00:00:00.000000000",
          "2014-03-22T00:00:00.000000000",
          "2014-03-21T00:00:00.000000000",
          "2014-03-20T00:00:00.000000000",
          "2014-03-19T00:00:00.000000000",
          "2014-03-18T00:00:00.000000000",
          "2014-03-17T00:00:00.000000000",
          "2014-03-16T00:00:00.000000000",
          "2014-03-15T00:00:00.000000000",
          "2014-03-14T00:00:00.000000000",
          "2014-03-13T00:00:00.000000000",
          "2014-03-12T00:00:00.000000000",
          "2014-03-11T00:00:00.000000000",
          "2014-03-10T00:00:00.000000000",
          "2014-03-09T00:00:00.000000000",
          "2014-03-08T00:00:00.000000000",
          "2014-03-07T00:00:00.000000000",
          "2014-03-06T00:00:00.000000000",
          "2014-03-05T00:00:00.000000000",
          "2014-03-04T00:00:00.000000000",
          "2014-03-03T00:00:00.000000000",
          "2014-03-02T00:00:00.000000000",
          "2014-03-01T00:00:00.000000000",
          "2014-02-28T00:00:00.000000000",
          "2014-02-27T00:00:00.000000000",
          "2014-02-26T00:00:00.000000000",
          "2014-02-25T00:00:00.000000000",
          "2014-02-24T00:00:00.000000000",
          "2014-02-23T00:00:00.000000000",
          "2014-02-22T00:00:00.000000000",
          "2014-02-21T00:00:00.000000000",
          "2014-02-20T00:00:00.000000000",
          "2014-02-19T00:00:00.000000000",
          "2014-02-18T00:00:00.000000000",
          "2014-02-17T00:00:00.000000000",
          "2014-02-16T00:00:00.000000000",
          "2014-02-15T00:00:00.000000000",
          "2014-02-14T00:00:00.000000000",
          "2014-02-13T00:00:00.000000000",
          "2014-02-12T00:00:00.000000000",
          "2014-02-11T00:00:00.000000000",
          "2014-02-10T00:00:00.000000000",
          "2014-02-09T00:00:00.000000000",
          "2014-02-08T00:00:00.000000000",
          "2014-02-07T00:00:00.000000000",
          "2014-02-06T00:00:00.000000000",
          "2014-02-05T00:00:00.000000000",
          "2014-02-04T00:00:00.000000000",
          "2014-02-03T00:00:00.000000000",
          "2014-02-02T00:00:00.000000000",
          "2014-02-01T00:00:00.000000000",
          "2014-01-31T00:00:00.000000000",
          "2014-01-30T00:00:00.000000000",
          "2014-01-29T00:00:00.000000000",
          "2014-01-28T00:00:00.000000000",
          "2014-01-27T00:00:00.000000000",
          "2014-01-26T00:00:00.000000000",
          "2014-01-25T00:00:00.000000000",
          "2014-01-24T00:00:00.000000000",
          "2014-01-23T00:00:00.000000000",
          "2014-01-22T00:00:00.000000000",
          "2014-01-21T00:00:00.000000000",
          "2014-01-20T00:00:00.000000000",
          "2014-01-19T00:00:00.000000000",
          "2014-01-18T00:00:00.000000000",
          "2014-01-17T00:00:00.000000000",
          "2014-01-16T00:00:00.000000000",
          "2014-01-15T00:00:00.000000000",
          "2014-01-14T00:00:00.000000000",
          "2014-01-13T00:00:00.000000000",
          "2014-01-12T00:00:00.000000000",
          "2014-01-11T00:00:00.000000000",
          "2014-01-10T00:00:00.000000000",
          "2014-01-09T00:00:00.000000000",
          "2014-01-08T00:00:00.000000000",
          "2014-01-07T00:00:00.000000000",
          "2014-01-06T00:00:00.000000000",
          "2014-01-05T00:00:00.000000000",
          "2014-01-04T00:00:00.000000000",
          "2014-01-03T00:00:00.000000000",
          "2014-01-02T00:00:00.000000000",
          "2014-01-01T00:00:00.000000000",
          "2013-12-31T00:00:00.000000000",
          "2013-12-30T00:00:00.000000000",
          "2013-12-29T00:00:00.000000000",
          "2013-12-28T00:00:00.000000000",
          "2013-12-27T00:00:00.000000000",
          "2013-12-26T00:00:00.000000000",
          "2013-12-25T00:00:00.000000000",
          "2013-12-24T00:00:00.000000000",
          "2013-12-23T00:00:00.000000000",
          "2013-12-22T00:00:00.000000000",
          "2013-12-21T00:00:00.000000000",
          "2013-12-20T00:00:00.000000000",
          "2013-12-19T00:00:00.000000000",
          "2013-12-18T00:00:00.000000000",
          "2013-12-17T00:00:00.000000000",
          "2013-12-16T00:00:00.000000000",
          "2013-12-15T00:00:00.000000000",
          "2013-12-14T00:00:00.000000000",
          "2013-12-13T00:00:00.000000000",
          "2013-12-12T00:00:00.000000000",
          "2013-12-11T00:00:00.000000000",
          "2013-12-10T00:00:00.000000000",
          "2013-12-09T00:00:00.000000000",
          "2013-12-08T00:00:00.000000000",
          "2013-12-07T00:00:00.000000000",
          "2013-12-06T00:00:00.000000000",
          "2013-12-05T00:00:00.000000000",
          "2013-12-04T00:00:00.000000000",
          "2013-12-03T00:00:00.000000000",
          "2013-12-02T00:00:00.000000000",
          "2013-12-01T00:00:00.000000000",
          "2013-11-30T00:00:00.000000000",
          "2013-11-29T00:00:00.000000000",
          "2013-11-28T00:00:00.000000000",
          "2013-11-27T00:00:00.000000000",
          "2013-11-26T00:00:00.000000000",
          "2013-11-25T00:00:00.000000000",
          "2013-11-24T00:00:00.000000000",
          "2013-11-23T00:00:00.000000000",
          "2013-11-22T00:00:00.000000000",
          "2013-11-21T00:00:00.000000000",
          "2013-11-20T00:00:00.000000000",
          "2013-11-19T00:00:00.000000000",
          "2013-11-18T00:00:00.000000000",
          "2013-11-17T00:00:00.000000000",
          "2013-11-16T00:00:00.000000000",
          "2013-11-15T00:00:00.000000000",
          "2013-11-14T00:00:00.000000000",
          "2013-11-13T00:00:00.000000000",
          "2013-11-12T00:00:00.000000000",
          "2013-11-11T00:00:00.000000000",
          "2013-11-10T00:00:00.000000000",
          "2013-11-09T00:00:00.000000000",
          "2013-11-08T00:00:00.000000000",
          "2013-11-07T00:00:00.000000000",
          "2013-11-06T00:00:00.000000000",
          "2013-11-05T00:00:00.000000000",
          "2013-11-04T00:00:00.000000000",
          "2013-11-03T00:00:00.000000000",
          "2013-11-02T00:00:00.000000000",
          "2013-11-01T00:00:00.000000000",
          "2013-10-31T00:00:00.000000000",
          "2013-10-30T00:00:00.000000000",
          "2013-10-29T00:00:00.000000000",
          "2013-10-28T00:00:00.000000000",
          "2013-10-27T00:00:00.000000000",
          "2013-10-26T00:00:00.000000000",
          "2013-10-25T00:00:00.000000000",
          "2013-10-24T00:00:00.000000000",
          "2013-10-23T00:00:00.000000000",
          "2013-10-22T00:00:00.000000000",
          "2013-10-21T00:00:00.000000000",
          "2013-10-20T00:00:00.000000000",
          "2013-10-19T00:00:00.000000000",
          "2013-10-18T00:00:00.000000000",
          "2013-10-17T00:00:00.000000000",
          "2013-10-16T00:00:00.000000000",
          "2013-10-15T00:00:00.000000000",
          "2013-10-14T00:00:00.000000000",
          "2013-10-13T00:00:00.000000000",
          "2013-10-12T00:00:00.000000000",
          "2013-10-11T00:00:00.000000000",
          "2013-10-10T00:00:00.000000000",
          "2013-10-09T00:00:00.000000000",
          "2013-10-08T00:00:00.000000000",
          "2013-10-07T00:00:00.000000000",
          "2013-10-06T00:00:00.000000000",
          "2013-10-05T00:00:00.000000000",
          "2013-10-04T00:00:00.000000000",
          "2013-10-03T00:00:00.000000000",
          "2013-10-02T00:00:00.000000000",
          "2013-10-01T00:00:00.000000000",
          "2013-09-30T00:00:00.000000000",
          "2013-09-29T00:00:00.000000000",
          "2013-09-28T00:00:00.000000000",
          "2013-09-27T00:00:00.000000000",
          "2013-09-26T00:00:00.000000000",
          "2013-09-25T00:00:00.000000000",
          "2013-09-24T00:00:00.000000000",
          "2013-09-23T00:00:00.000000000",
          "2013-09-22T00:00:00.000000000",
          "2013-09-21T00:00:00.000000000",
          "2013-09-20T00:00:00.000000000",
          "2013-09-19T00:00:00.000000000",
          "2013-09-18T00:00:00.000000000",
          "2013-09-17T00:00:00.000000000",
          "2013-09-16T00:00:00.000000000",
          "2013-09-15T00:00:00.000000000",
          "2013-09-14T00:00:00.000000000",
          "2013-09-13T00:00:00.000000000",
          "2013-09-12T00:00:00.000000000",
          "2013-09-11T00:00:00.000000000",
          "2013-09-10T00:00:00.000000000",
          "2013-09-09T00:00:00.000000000",
          "2013-09-08T00:00:00.000000000",
          "2013-09-07T00:00:00.000000000",
          "2013-09-06T00:00:00.000000000",
          "2013-09-05T00:00:00.000000000",
          "2013-09-04T00:00:00.000000000",
          "2013-09-03T00:00:00.000000000",
          "2013-09-02T00:00:00.000000000",
          "2013-09-01T00:00:00.000000000",
          "2013-08-31T00:00:00.000000000",
          "2013-08-30T00:00:00.000000000",
          "2013-08-29T00:00:00.000000000",
          "2013-08-28T00:00:00.000000000",
          "2013-08-27T00:00:00.000000000",
          "2013-08-26T00:00:00.000000000",
          "2013-08-25T00:00:00.000000000",
          "2013-08-24T00:00:00.000000000",
          "2013-08-23T00:00:00.000000000",
          "2013-08-22T00:00:00.000000000",
          "2013-08-21T00:00:00.000000000",
          "2013-08-20T00:00:00.000000000",
          "2013-08-19T00:00:00.000000000",
          "2013-08-18T00:00:00.000000000",
          "2013-08-17T00:00:00.000000000",
          "2013-08-16T00:00:00.000000000",
          "2013-08-15T00:00:00.000000000",
          "2013-08-14T00:00:00.000000000",
          "2013-08-13T00:00:00.000000000",
          "2013-08-12T00:00:00.000000000",
          "2013-08-11T00:00:00.000000000",
          "2013-08-10T00:00:00.000000000",
          "2013-08-09T00:00:00.000000000",
          "2013-08-08T00:00:00.000000000",
          "2013-08-07T00:00:00.000000000",
          "2013-08-06T00:00:00.000000000",
          "2013-08-05T00:00:00.000000000",
          "2013-08-04T00:00:00.000000000",
          "2013-08-03T00:00:00.000000000",
          "2013-08-02T00:00:00.000000000",
          "2013-08-01T00:00:00.000000000",
          "2013-07-31T00:00:00.000000000",
          "2013-07-30T00:00:00.000000000",
          "2013-07-29T00:00:00.000000000",
          "2013-07-28T00:00:00.000000000",
          "2013-07-27T00:00:00.000000000",
          "2013-07-26T00:00:00.000000000",
          "2013-07-25T00:00:00.000000000",
          "2013-07-24T00:00:00.000000000",
          "2013-07-23T00:00:00.000000000",
          "2013-07-22T00:00:00.000000000",
          "2013-07-21T00:00:00.000000000",
          "2013-07-20T00:00:00.000000000",
          "2013-07-19T00:00:00.000000000",
          "2013-07-18T00:00:00.000000000",
          "2013-07-17T00:00:00.000000000",
          "2013-07-16T00:00:00.000000000",
          "2013-07-15T00:00:00.000000000",
          "2013-07-14T00:00:00.000000000",
          "2013-07-13T00:00:00.000000000",
          "2013-07-12T00:00:00.000000000",
          "2013-07-11T00:00:00.000000000",
          "2013-07-10T00:00:00.000000000",
          "2013-07-09T00:00:00.000000000",
          "2013-07-08T00:00:00.000000000",
          "2013-07-07T00:00:00.000000000",
          "2013-07-06T00:00:00.000000000",
          "2013-07-05T00:00:00.000000000",
          "2013-07-04T00:00:00.000000000",
          "2013-07-03T00:00:00.000000000",
          "2013-07-02T00:00:00.000000000",
          "2013-07-01T00:00:00.000000000",
          "2013-06-30T00:00:00.000000000",
          "2013-06-29T00:00:00.000000000",
          "2013-06-28T00:00:00.000000000",
          "2013-06-27T00:00:00.000000000",
          "2013-06-26T00:00:00.000000000",
          "2013-06-25T00:00:00.000000000",
          "2013-06-24T00:00:00.000000000",
          "2013-06-23T00:00:00.000000000",
          "2013-06-22T00:00:00.000000000",
          "2013-06-21T00:00:00.000000000",
          "2013-06-20T00:00:00.000000000",
          "2013-06-19T00:00:00.000000000",
          "2013-06-18T00:00:00.000000000",
          "2013-06-17T00:00:00.000000000",
          "2013-06-16T00:00:00.000000000",
          "2013-06-15T00:00:00.000000000",
          "2013-06-14T00:00:00.000000000",
          "2013-06-13T00:00:00.000000000",
          "2013-06-12T00:00:00.000000000",
          "2013-06-11T00:00:00.000000000",
          "2013-06-10T00:00:00.000000000",
          "2013-06-09T00:00:00.000000000",
          "2013-06-08T00:00:00.000000000",
          "2013-06-07T00:00:00.000000000",
          "2013-06-06T00:00:00.000000000",
          "2013-06-05T00:00:00.000000000",
          "2013-06-04T00:00:00.000000000",
          "2013-06-03T00:00:00.000000000",
          "2013-06-02T00:00:00.000000000",
          "2013-06-01T00:00:00.000000000",
          "2013-05-31T00:00:00.000000000",
          "2013-05-30T00:00:00.000000000",
          "2013-05-29T00:00:00.000000000",
          "2013-05-28T00:00:00.000000000",
          "2013-05-27T00:00:00.000000000",
          "2013-05-26T00:00:00.000000000",
          "2013-05-25T00:00:00.000000000",
          "2013-05-24T00:00:00.000000000",
          "2013-05-23T00:00:00.000000000",
          "2013-05-22T00:00:00.000000000",
          "2013-05-21T00:00:00.000000000",
          "2013-05-20T00:00:00.000000000",
          "2013-05-19T00:00:00.000000000",
          "2013-05-18T00:00:00.000000000",
          "2013-05-17T00:00:00.000000000",
          "2013-05-16T00:00:00.000000000",
          "2013-05-15T00:00:00.000000000",
          "2013-05-14T00:00:00.000000000",
          "2013-05-13T00:00:00.000000000",
          "2013-05-12T00:00:00.000000000",
          "2013-05-11T00:00:00.000000000",
          "2013-05-10T00:00:00.000000000",
          "2013-05-09T00:00:00.000000000",
          "2013-05-08T00:00:00.000000000",
          "2013-05-07T00:00:00.000000000",
          "2013-05-06T00:00:00.000000000",
          "2013-05-05T00:00:00.000000000",
          "2013-05-04T00:00:00.000000000",
          "2013-05-03T00:00:00.000000000",
          "2013-05-02T00:00:00.000000000",
          "2013-05-01T00:00:00.000000000",
          "2013-04-30T00:00:00.000000000",
          "2013-04-29T00:00:00.000000000",
          "2013-04-28T00:00:00.000000000"
         ]
        }
       ],
       "layout": {
        "height": 500,
        "margin": {
         "b": 40,
         "l": 0,
         "r": 30,
         "t": 40
        },
        "template": {
         "data": {
          "bar": [
           {
            "error_x": {
             "color": "#2a3f5f"
            },
            "error_y": {
             "color": "#2a3f5f"
            },
            "marker": {
             "line": {
              "color": "#E5ECF6",
              "width": 0.5
             },
             "pattern": {
              "fillmode": "overlay",
              "size": 10,
              "solidity": 0.2
             }
            },
            "type": "bar"
           }
          ],
          "barpolar": [
           {
            "marker": {
             "line": {
              "color": "#E5ECF6",
              "width": 0.5
             },
             "pattern": {
              "fillmode": "overlay",
              "size": 10,
              "solidity": 0.2
             }
            },
            "type": "barpolar"
           }
          ],
          "carpet": [
           {
            "aaxis": {
             "endlinecolor": "#2a3f5f",
             "gridcolor": "white",
             "linecolor": "white",
             "minorgridcolor": "white",
             "startlinecolor": "#2a3f5f"
            },
            "baxis": {
             "endlinecolor": "#2a3f5f",
             "gridcolor": "white",
             "linecolor": "white",
             "minorgridcolor": "white",
             "startlinecolor": "#2a3f5f"
            },
            "type": "carpet"
           }
          ],
          "choropleth": [
           {
            "colorbar": {
             "outlinewidth": 0,
             "ticks": ""
            },
            "type": "choropleth"
           }
          ],
          "contour": [
           {
            "colorbar": {
             "outlinewidth": 0,
             "ticks": ""
            },
            "colorscale": [
             [
              0,
              "#0d0887"
             ],
             [
              0.1111111111111111,
              "#46039f"
             ],
             [
              0.2222222222222222,
              "#7201a8"
             ],
             [
              0.3333333333333333,
              "#9c179e"
             ],
             [
              0.4444444444444444,
              "#bd3786"
             ],
             [
              0.5555555555555556,
              "#d8576b"
             ],
             [
              0.6666666666666666,
              "#ed7953"
             ],
             [
              0.7777777777777778,
              "#fb9f3a"
             ],
             [
              0.8888888888888888,
              "#fdca26"
             ],
             [
              1,
              "#f0f921"
             ]
            ],
            "type": "contour"
           }
          ],
          "contourcarpet": [
           {
            "colorbar": {
             "outlinewidth": 0,
             "ticks": ""
            },
            "type": "contourcarpet"
           }
          ],
          "heatmap": [
           {
            "colorbar": {
             "outlinewidth": 0,
             "ticks": ""
            },
            "colorscale": [
             [
              0,
              "#0d0887"
             ],
             [
              0.1111111111111111,
              "#46039f"
             ],
             [
              0.2222222222222222,
              "#7201a8"
             ],
             [
              0.3333333333333333,
              "#9c179e"
             ],
             [
              0.4444444444444444,
              "#bd3786"
             ],
             [
              0.5555555555555556,
              "#d8576b"
             ],
             [
              0.6666666666666666,
              "#ed7953"
             ],
             [
              0.7777777777777778,
              "#fb9f3a"
             ],
             [
              0.8888888888888888,
              "#fdca26"
             ],
             [
              1,
              "#f0f921"
             ]
            ],
            "type": "heatmap"
           }
          ],
          "histogram": [
           {
            "marker": {
             "pattern": {
              "fillmode": "overlay",
              "size": 10,
              "solidity": 0.2
             }
            },
            "type": "histogram"
           }
          ],
          "histogram2d": [
           {
            "colorbar": {
             "outlinewidth": 0,
             "ticks": ""
            },
            "colorscale": [
             [
              0,
              "#0d0887"
             ],
             [
              0.1111111111111111,
              "#46039f"
             ],
             [
              0.2222222222222222,
              "#7201a8"
             ],
             [
              0.3333333333333333,
              "#9c179e"
             ],
             [
              0.4444444444444444,
              "#bd3786"
             ],
             [
              0.5555555555555556,
              "#d8576b"
             ],
             [
              0.6666666666666666,
              "#ed7953"
             ],
             [
              0.7777777777777778,
              "#fb9f3a"
             ],
             [
              0.8888888888888888,
              "#fdca26"
             ],
             [
              1,
              "#f0f921"
             ]
            ],
            "type": "histogram2d"
           }
          ],
          "histogram2dcontour": [
           {
            "colorbar": {
             "outlinewidth": 0,
             "ticks": ""
            },
            "colorscale": [
             [
              0,
              "#0d0887"
             ],
             [
              0.1111111111111111,
              "#46039f"
             ],
             [
              0.2222222222222222,
              "#7201a8"
             ],
             [
              0.3333333333333333,
              "#9c179e"
             ],
             [
              0.4444444444444444,
              "#bd3786"
             ],
             [
              0.5555555555555556,
              "#d8576b"
             ],
             [
              0.6666666666666666,
              "#ed7953"
             ],
             [
              0.7777777777777778,
              "#fb9f3a"
             ],
             [
              0.8888888888888888,
              "#fdca26"
             ],
             [
              1,
              "#f0f921"
             ]
            ],
            "type": "histogram2dcontour"
           }
          ],
          "mesh3d": [
           {
            "colorbar": {
             "outlinewidth": 0,
             "ticks": ""
            },
            "type": "mesh3d"
           }
          ],
          "parcoords": [
           {
            "line": {
             "colorbar": {
              "outlinewidth": 0,
              "ticks": ""
             }
            },
            "type": "parcoords"
           }
          ],
          "pie": [
           {
            "automargin": true,
            "type": "pie"
           }
          ],
          "scatter": [
           {
            "fillpattern": {
             "fillmode": "overlay",
             "size": 10,
             "solidity": 0.2
            },
            "type": "scatter"
           }
          ],
          "scatter3d": [
           {
            "line": {
             "colorbar": {
              "outlinewidth": 0,
              "ticks": ""
             }
            },
            "marker": {
             "colorbar": {
              "outlinewidth": 0,
              "ticks": ""
             }
            },
            "type": "scatter3d"
           }
          ],
          "scattercarpet": [
           {
            "marker": {
             "colorbar": {
              "outlinewidth": 0,
              "ticks": ""
             }
            },
            "type": "scattercarpet"
           }
          ],
          "scattergeo": [
           {
            "marker": {
             "colorbar": {
              "outlinewidth": 0,
              "ticks": ""
             }
            },
            "type": "scattergeo"
           }
          ],
          "scattergl": [
           {
            "marker": {
             "colorbar": {
              "outlinewidth": 0,
              "ticks": ""
             }
            },
            "type": "scattergl"
           }
          ],
          "scattermap": [
           {
            "marker": {
             "colorbar": {
              "outlinewidth": 0,
              "ticks": ""
             }
            },
            "type": "scattermap"
           }
          ],
          "scattermapbox": [
           {
            "marker": {
             "colorbar": {
              "outlinewidth": 0,
              "ticks": ""
             }
            },
            "type": "scattermapbox"
           }
          ],
          "scatterpolar": [
           {
            "marker": {
             "colorbar": {
              "outlinewidth": 0,
              "ticks": ""
             }
            },
            "type": "scatterpolar"
           }
          ],
          "scatterpolargl": [
           {
            "marker": {
             "colorbar": {
              "outlinewidth": 0,
              "ticks": ""
             }
            },
            "type": "scatterpolargl"
           }
          ],
          "scatterternary": [
           {
            "marker": {
             "colorbar": {
              "outlinewidth": 0,
              "ticks": ""
             }
            },
            "type": "scatterternary"
           }
          ],
          "surface": [
           {
            "colorbar": {
             "outlinewidth": 0,
             "ticks": ""
            },
            "colorscale": [
             [
              0,
              "#0d0887"
             ],
             [
              0.1111111111111111,
              "#46039f"
             ],
             [
              0.2222222222222222,
              "#7201a8"
             ],
             [
              0.3333333333333333,
              "#9c179e"
             ],
             [
              0.4444444444444444,
              "#bd3786"
             ],
             [
              0.5555555555555556,
              "#d8576b"
             ],
             [
              0.6666666666666666,
              "#ed7953"
             ],
             [
              0.7777777777777778,
              "#fb9f3a"
             ],
             [
              0.8888888888888888,
              "#fdca26"
             ],
             [
              1,
              "#f0f921"
             ]
            ],
            "type": "surface"
           }
          ],
          "table": [
           {
            "cells": {
             "fill": {
              "color": "#EBF0F8"
             },
             "line": {
              "color": "white"
             }
            },
            "header": {
             "fill": {
              "color": "#C8D4E3"
             },
             "line": {
              "color": "white"
             }
            },
            "type": "table"
           }
          ]
         },
         "layout": {
          "annotationdefaults": {
           "arrowcolor": "#2a3f5f",
           "arrowhead": 0,
           "arrowwidth": 1
          },
          "autotypenumbers": "strict",
          "coloraxis": {
           "colorbar": {
            "outlinewidth": 0,
            "ticks": ""
           }
          },
          "colorscale": {
           "diverging": [
            [
             0,
             "#8e0152"
            ],
            [
             0.1,
             "#c51b7d"
            ],
            [
             0.2,
             "#de77ae"
            ],
            [
             0.3,
             "#f1b6da"
            ],
            [
             0.4,
             "#fde0ef"
            ],
            [
             0.5,
             "#f7f7f7"
            ],
            [
             0.6,
             "#e6f5d0"
            ],
            [
             0.7,
             "#b8e186"
            ],
            [
             0.8,
             "#7fbc41"
            ],
            [
             0.9,
             "#4d9221"
            ],
            [
             1,
             "#276419"
            ]
           ],
           "sequential": [
            [
             0,
             "#0d0887"
            ],
            [
             0.1111111111111111,
             "#46039f"
            ],
            [
             0.2222222222222222,
             "#7201a8"
            ],
            [
             0.3333333333333333,
             "#9c179e"
            ],
            [
             0.4444444444444444,
             "#bd3786"
            ],
            [
             0.5555555555555556,
             "#d8576b"
            ],
            [
             0.6666666666666666,
             "#ed7953"
            ],
            [
             0.7777777777777778,
             "#fb9f3a"
            ],
            [
             0.8888888888888888,
             "#fdca26"
            ],
            [
             1,
             "#f0f921"
            ]
           ],
           "sequentialminus": [
            [
             0,
             "#0d0887"
            ],
            [
             0.1111111111111111,
             "#46039f"
            ],
            [
             0.2222222222222222,
             "#7201a8"
            ],
            [
             0.3333333333333333,
             "#9c179e"
            ],
            [
             0.4444444444444444,
             "#bd3786"
            ],
            [
             0.5555555555555556,
             "#d8576b"
            ],
            [
             0.6666666666666666,
             "#ed7953"
            ],
            [
             0.7777777777777778,
             "#fb9f3a"
            ],
            [
             0.8888888888888888,
             "#fdca26"
            ],
            [
             1,
             "#f0f921"
            ]
           ]
          },
          "colorway": [
           "#636efa",
           "#EF553B",
           "#00cc96",
           "#ab63fa",
           "#FFA15A",
           "#19d3f3",
           "#FF6692",
           "#B6E880",
           "#FF97FF",
           "#FECB52"
          ],
          "font": {
           "color": "#2a3f5f"
          },
          "geo": {
           "bgcolor": "white",
           "lakecolor": "white",
           "landcolor": "#E5ECF6",
           "showlakes": true,
           "showland": true,
           "subunitcolor": "white"
          },
          "hoverlabel": {
           "align": "left"
          },
          "hovermode": "closest",
          "mapbox": {
           "style": "light"
          },
          "paper_bgcolor": "white",
          "plot_bgcolor": "#E5ECF6",
          "polar": {
           "angularaxis": {
            "gridcolor": "white",
            "linecolor": "white",
            "ticks": ""
           },
           "bgcolor": "#E5ECF6",
           "radialaxis": {
            "gridcolor": "white",
            "linecolor": "white",
            "ticks": ""
           }
          },
          "scene": {
           "xaxis": {
            "backgroundcolor": "#E5ECF6",
            "gridcolor": "white",
            "gridwidth": 2,
            "linecolor": "white",
            "showbackground": true,
            "ticks": "",
            "zerolinecolor": "white"
           },
           "yaxis": {
            "backgroundcolor": "#E5ECF6",
            "gridcolor": "white",
            "gridwidth": 2,
            "linecolor": "white",
            "showbackground": true,
            "ticks": "",
            "zerolinecolor": "white"
           },
           "zaxis": {
            "backgroundcolor": "#E5ECF6",
            "gridcolor": "white",
            "gridwidth": 2,
            "linecolor": "white",
            "showbackground": true,
            "ticks": "",
            "zerolinecolor": "white"
           }
          },
          "shapedefaults": {
           "line": {
            "color": "#2a3f5f"
           }
          },
          "ternary": {
           "aaxis": {
            "gridcolor": "white",
            "linecolor": "white",
            "ticks": ""
           },
           "baxis": {
            "gridcolor": "white",
            "linecolor": "white",
            "ticks": ""
           },
           "bgcolor": "#E5ECF6",
           "caxis": {
            "gridcolor": "white",
            "linecolor": "white",
            "ticks": ""
           }
          },
          "title": {
           "x": 0.05
          },
          "xaxis": {
           "automargin": true,
           "gridcolor": "white",
           "linecolor": "white",
           "ticks": "",
           "title": {
            "standoff": 15
           },
           "zerolinecolor": "white",
           "zerolinewidth": 2
          },
          "yaxis": {
           "automargin": true,
           "gridcolor": "white",
           "linecolor": "white",
           "ticks": "",
           "title": {
            "standoff": 15
           },
           "zerolinecolor": "white",
           "zerolinewidth": 2
          }
         }
        },
        "title": {
         "text": "Bitcoin historical data"
        },
        "width": 1100
       }
      },
      "text/html": [
       "<div>            <script src=\"https://cdnjs.cloudflare.com/ajax/libs/mathjax/2.7.5/MathJax.js?config=TeX-AMS-MML_SVG\"></script><script type=\"text/javascript\">if (window.MathJax && window.MathJax.Hub && window.MathJax.Hub.Config) {window.MathJax.Hub.Config({SVG: {font: \"STIX-Web\"}});}</script>                <script type=\"text/javascript\">window.PlotlyConfig = {MathJaxConfig: 'local'};</script>\n",
       "        <script charset=\"utf-8\" src=\"https://cdn.plot.ly/plotly-3.1.0.min.js\" integrity=\"sha256-Ei4740bWZhaUTQuD6q9yQlgVCMPBz6CZWhevDYPv93A=\" crossorigin=\"anonymous\"></script>                <div id=\"32d5a055-907c-44c7-ace5-666b1fd31fb1\" class=\"plotly-graph-div\" style=\"height:500px; width:1100px;\"></div>            <script type=\"text/javascript\">                window.PLOTLYENV=window.PLOTLYENV || {};                                if (document.getElementById(\"32d5a055-907c-44c7-ace5-666b1fd31fb1\")) {                    Plotly.newPlot(                        \"32d5a055-907c-44c7-ace5-666b1fd31fb1\",                        [{\"close\":{\"dtype\":\"f8\",\"bdata\":\"SOF6FK52pkCPwvUoXIqlQGZmZmbmTKVA7FG4HgXypUDD9Shcj9+kQGZmZmbmwqNAKVyPwvUgpEAfhetRuIWlQM3MzMzMVKVACtejcD30pUDsUbgehdekQDMzMzMzA6ZAj8L1KNzCoUD2KFyPwh2iQLgehevRaKFA4XoUrkcnnkA9CtejcDufQEjhehSucqFAzczMzMxrokBI4XoUrr2iQK5H4XqUQ6JAhetRuB6JokB7FK5H4ayjQEjhehSuFqRAuB6F61Gto0CF61G4HmGkQBSuR+H6U6RA4XoUrkdTpECF61G4HgikQD0K16PwlKNAmpmZmRkFo0BI4XoUrmGjQHE9Ctej1qNArkfhepQdpEBmZmZm5vCjQGZmZmbmXKNAuB6F69E6pEA9CtejcGGkQLgehevRcaVAuB6F69EipUAzMzMzMwKlQK5H4XqUQ6VAMzMzMzM7pECuR+F6lOijQPYoXI\\u002fCv6RAhetRuB6to0Bcj8L1KEGjQArXo3C9lKNA16NwPQo6pUD2KFyPQsekQB+F61E4HKdAUrgehWsHp0CF61G4ng+mQArXo3A966VAuB6F61FYpUBmZmZmZl6mQIXrUbie\\u002faRAhetRuJ6fo0AzMzMzs6ajQJqZmZkZcaNA9ihcj8LPokC4HoXr0dyhQD0K16Pw\\u002fqBAH4XrUTifoUCamZmZmdegQBSuR+F6259ApHA9Ctc0oUApXI\\u002fC9QGiQOF6FK5HF6NApHA9CtcgokDNzMzMzPqgQM3MzMzM5J9AKVyPwnVJoECkcD0K1w6fQJqZmZmZgp1Aj8L1KFy8nEDNzMzMzBmbQB+F61G4KZtAcT0K16NDnEBxPQrXozOcQClcj8L18JpA4XoUrkfinEDsUbgeheybQD0K16NwbZtAZmZmZmbtmkCkcD0K1\\u002fKYQDMzMzMzq5hAzczMzMxNmEBI4XoUrgaYQI\\u002fC9ShcSJdA4XoUrkezlkBmZmZmZjaWQMP1KFyPD5VAXI\\u002fC9SinlEBSuB6F65GUQFK4HoXrlpRAuB6F61EElEApXI\\u002fC9cWTQJqZmZmZiJNApHA9CtfckkCkcD0K1z6TQDMzMzMzGJNAuB6F61E0k0Bcj8L1KOmSQEjhehSu7pJAcT0K16OnkkD2KFyPwnuSQK5H4XoUUpJAXI\\u002fC9Sg+kkCF61G4HkWSQBSuR+F6wZJA16NwPQrUkkDsUbgehYySQBSuR+F6j5JAzczMzMxfkkCamZmZmWOSQB+F61G4epJAhetRuB6TkUAAAAAAALWRQArXo3A935FASOF6FK44kUAAAAAAAOKQQFyPwvUov5BAH4XrUbgJkEB7FK5H4T+QQJqZmZmZXJBArkfhehRXkECkcD0K1zWOQArXo3A9Zo5AXI\\u002fC9ShMjUCPwvUoXDqQQMP1KFyPZJBAXI\\u002fC9SiCkUBSuB6F63iQQClcj8L1MpBAw\\u002fUoXI9ujkBSuB6F6zCRQArXo3A9j5JAPQrXo3CGk0AAAAAAAGCTQEjhehSuP5NA7FG4HoUVk0C4HoXrUV+SQHsUrkfhcpFAKVyPwvWRkkAAAAAAAPiRQFyPwvUoHpNAuB6F61Hjk0AUrkfhesyTQJqZmZmZnJNAKVyPwvXrk0DXo3A9CoyTQAAAAAAAGpNAexSuR+FvkkB7FK5H4W+SQM3MzMzMNJJAj8L1KFzfkUAfhetRuFaSQHsUrkfhOpJA9ihcj8J1kUAzMzMzM22RQFK4HoXr35BAFK5H4XpfkEBI4XoUrnmQQKRwPQrXWJBA9ihcj8INkECkcD0K13uPQGZmZmZmZI9AhetRuB71jkA9CtejcDmPQJqZmZmZY49Aj8L1KFzljkDXo3A9ChOPQOF6FK5HnJBAZmZmZmaVkECamZmZmTiQQI\\u002fC9ShcDZBAmpmZmZlLkEBxPQrXoxeQQGZmZmZmno9AXI\\u002fC9SjojkAzMzMzM1OOQNejcD0Kw4xAAAAAAAC8jEAfhetRuMyMQAAAAAAAvoxAH4XrUbisjEC4HoXrUSyMQOxRuB6F5YtArkfhehTIjECPwvUoXOWMQLgehetRzoxACtejcD34i0DD9ShcjxiMQClcj8L1tItA7FG4HoVfjEAK16NwPfyJQGZmZmZmrolA4XoUrkeTiUCkcD0K17+JQHE9CtejJolArkfhehROiEA9CtejcF2MQHE9CtejNoxAmpmZmZl5jEAfhetRuGSMQJqZmZmZMYxA16NwPQqrj0BSuB6F6wqSQI\\u002fC9ShcT5BAAAAAAADuj0BxPQrXozKPQFK4HoXrHY5AUrgehesJjkAAAAAAAGyOQI\\u002fC9Shcf45AmpmZmZkpjUB7FK5H4VyMQD0K16NwAYxAw\\u002fUoXI8WjECkcD0K18+MQLgehetRBItACtejcD0SikDXo3A9CgeJQEjhehSuxYhACtejcD20iEBxPQrXo7aIQOF6FK5Hh4hAH4XrUbhQiECkcD0K12uIQBSuR+F6ZIhAH4XrUbhgiECkcD0K1w2IQDMzMzMzNYhAuB6F61EmiEAUrkfhehaIQNejcD0KAYhA9ihcj8Lhh0CamZmZmbWHQClcj8L1LohAMzMzMzMZiEDsUbgehU+IQFyPwvUopodA7FG4HoVNh0DNzMzMzPyGQBSuR+F6\\u002foZACtejcD3ghkDXo3A9CvuGQDMzMzMzLYdAuB6F61Eih0AfhetRuESHQM3MzMzMeodAAAAAAAAah0AK16NwPdiGQClcj8L1fIdAH4XrUbh8h0CkcD0K1yeHQJqZmZmZQYdAKVyPwvU8hkBcj8L1KAiGQArXo3A98IVAZmZmZmYIhkDhehSuR2OGQArXo3A9XIZAXI\\u002fC9SiahkDNzMzMzC6GQNejcD0K+YVAXI\\u002fC9Sg8hkCPwvUoXPuFQFK4HoXr+YVAmpmZmZmFhUBxPQrXoyaHQLgehetRzoZA9ihcj8LnhUB7FK5H4e6FQKRwPQrXU4ZAMzMzMzONhUAUrkfheoKFQGZmZmZmMoVAH4XrUbiMhECuR+F6FG6EQMP1KFyPiIRAuB6F61GKhEBxPQrXo8aDQHsUrkfhtoNAXI\\u002fC9Si0g0BI4XoUru+DQOxRuB6F+YNA16NwPQoNhEAzMzMzM\\u002fWDQNejcD0KA4RAuB6F61Hmg0DsUbgeheGDQMP1KFyPCIRAUrgehetXg0AAAAAAAEaDQHsUrkfhWINAKVyPwvVIg0Bcj8L1KCiDQK5H4XoUJINAmpmZmZkRg0DXo3A9CiGDQIXrUbgeF4NApHA9Ctcvg0BSuB6F6w2DQOxRuB6F7YJApHA9CtflgkCPwvUoXPGCQLgehetRAINAcT0K16PGgkDXo3A9CtWCQB+F61G41oJAZmZmZmaigkAzMzMzM6mCQBSuR+F6AoNApHA9CtcJg0ApXI\\u002fC9Q6DQKRwPQrX74JA9ihcj8L3gkAzMzMzM\\u002fmCQD0K16NwFYNAUrgehesJg0BSuB6F6wGDQPYoXI\\u002fC9YJArkfhehR8g0B7FK5H4XaDQMP1KFyPkoNAuB6F61E0g0DsUbgehRODQB+F61G49IJA16NwPQoFg0BI4XoUrrGCQLgehetR\\u002fIFAZmZmZmbigUD2KFyPwvuBQAAAAAAADIJAexSuR+HwgUDhehSuR++BQJqZmZmZz4FAMzMzMzMdgkCuR+F6FA6CQD0K16NwIYJA4XoUrkc7gkAAAAAAAFaCQBSuR+F6KoJAmpmZmZktgkDXo3A9Cv2BQMP1KFyP8oFA9ihcj8LpgUDsUbgehQuCQFK4HoXruYFA9ihcj8LTgUAfhetRuEyCQBSuR+F6XIJAKVyPwvVogkDNzMzMzICCQGZmZmZmXoJAZmZmZmZ4gkDsUbgehYWCQArXo3A9XoJAuB6F61H4gUC4HoXrURKCQHsUrkfhsoFA9ihcj8IbgUBcj8L1KPKCQD0K16NwhYNAZmZmZmZ4hEBSuB6F64eEQArXo3A9eIRAzczMzMxyhEAK16NwPV6EQM3MzMzMcIRACtejcD2qhEAUrkfhenyEQClcj8L1VIRArkfhehTIhEA9CtejcM2EQHsUrkfhBoVAexSuR+EIhUBI4XoUrjuFQFyPwvUopoRAAAAAAAC6hEBxPQrXo5CEQPYoXI\\u002fCc4RAZmZmZmbEhEDhehSuRz2EQHsUrkfhSoRASOF6FK5XhEBcj8L1KNSEQBSuR+F6BIRAcT0K16MqhUDXo3A9CvWEQOF6FK5HXYVA4XoUrkeVhECamZmZmf2FQGZmZmZmIoVAH4XrUbgKhUCF61G4Hv+DQAAAAAAAOIRAXI\\u002fC9Sh6hEApXI\\u002fC9aqDQClcj8L1yIRAZmZmZmbKhECkcD0K13+DQClcj8L1oIJAMzMzMzPVhECkcD0K1wmHQArXo3A93odApHA9Ctehh0DhehSuR2eHQBSuR+F68odA9ihcj8KzhUAUrkfhemyFQNejcD0KA4ZACtejcD0GhUCkcD0K1\\u002fWCQPYoXI\\u002fCC4JA16NwPQr1gUCF61G4Hi2CQM3MzMzMBIJAuB6F61FMgkCkcD0K1\\u002feBQKRwPQrX5YFA7FG4HoXJgUD2KFyPws+AQI\\u002fC9Shcx4BAhetRuB6bgEB7FK5H4a6AQKRwPQrXcYBAuB6F61GQgECPwvUoXJd9QK5H4XoUVnxAmpmZmZkZfEBI4XoUrt97QGZmZmZmwntAhetRuB51e0DXo3A9CrN7QHsUrkfhqntAj8L1KFxre0BSuB6F62l8QBSuR+F6XHxAw\\u002fUoXI9ifECF61G4Hpl8QB+F61G4enxAH4XrUbh6fEC4HoXrUWx8QEjhehSuS3xACtejcD0ufEBI4XoUrsd8QM3MzMzMqHxAcT0K16OofECamZmZmbl8QEjhehSu\\u002f3tA7FG4HoXre0DNzMzMzCR8QB+F61G4yntArkfhehQ+fECF61G4HgV8QJqZmZmZcXxAXI\\u002fC9SgQfEDXo3A9Cst7QD0K16NwIX1AexSuR+HWfEApXI\\u002fC9ah8QBSuR+F6JHxApHA9Ctfbe0B7FK5H4RZ8QArXo3A9lntAXI\\u002fC9Sg4e0A9CtejcMl6QGZmZmZmtnpAhetRuB7pekCPwvUoXNt6QBSuR+F6hHpASOF6FK57ekDXo3A9CpN6QEjhehSuZ3pAKVyPwvVYekDD9ShcjzZ6QJqZmZmZRXpAAAAAAABsekDD9Shcj3Z6QBSuR+F6gHpA16NwPQpXekBmZmZmZk56QFK4HoXrTXpAj8L1KFwfekBI4XoUrgt6QIXrUbge7XlAuB6F61EIekBI4XoUroN6QFyPwvUorHpA16NwPQofekB7FK5H4RJ6QArXo3A9BnpAcT0K16MgekA9CtejcCF6QClcj8L11HlAAAAAAADceUDXo3A9Cqd5QM3MzMzMmHlAUrgehetJekBcj8L1KBB6QOF6FK5HDXpA16NwPQoHekApXI\\u002fC9eB5QFK4HoXruXlA16NwPQpbekCuR+F6FBJ6QPYoXI\\u002fC7XlA7FG4HoXfeUCF61G4HuV5QI\\u002fC9Shce3lAhetRuB4JeUDXo3A9Cq95QGZmZmZmWnpApHA9Ctd\\u002fekBSuB6F6zF7QDMzMzMzW3tAAAAAAAAYe0C4HoXrUQh7QGZmZmZmAntAcT0K16OIekAzMzMzM496QKRwPQrXS3pAAAAAAABce0DNzMzMzGx7QMP1KFyPUntAcT0K16NMekBSuB6F62V6QIXrUbgeBXpApHA9Ctd3eUDXo3A9CgN5QEjhehSuc3lA9ihcj8J9eEBcj8L1KAR4QGZmZmZmundAZmZmZmbad0AUrkfheoB3QDMzMzMzV3dAUrgeheuJd0C4HoXrUYh3QM3MzMzMKHhAPQrXo3BZeEAzMzMzMx93QDMzMzMzZ3dAKVyPwvVQd0C4HoXrUQx3QAAAAAAApHdA7FG4HoW3d0BxPQrXo8R3QOxRuB6Fr3hAZmZmZmaCeEBI4XoUrnt4QOxRuB6FL3lApHA9Ctc3eECkcD0K1+d3QFyPwvUopHlASOF6FK5DekBmZmZmZsJ3QB+F61G4MnhAzczMzMzkd0BxPQrXozh4QOF6FK5HxXZAKVyPwvXkekBSuB6F6wV7QNejcD0KO3tAexSuR+EGfECkcD0K1\\u002f97QPYoXI\\u002fC+XtASOF6FK5TfEDNzMzMzKB8QPYoXI\\u002fC0XpAj8L1KFz\\u002fekA9CtejcBF7QFyPwvUo4HpA16NwPQoXe0DhehSuRyV7QIXrUbge6XpAUrgeheupekBI4XoUrg97QBSuR+F6ZHpAhetRuB5tekC4HoXrURR6QGZmZmZmenxApHA9CtdvfEBmZmZmZqZ7QIXrUbgeSXtACtejcD1qe0DXo3A9Cqt7QIXrUbge5XxAUrgehev5fEDhehSuR4F8QHsUrkfhbnxAhetRuB4VfUB7FK5H4cJ7QAAAAAAAHHtAAAAAAAAwe0DXo3A9Cj98QEjhehSu93lAKVyPwvUYekApXI\\u002fC9fh5QHE9CtejuHhAFK5H4XpMeEAzMzMzM094QHsUrkfhsnZAzczMzMyQdkDXo3A9CnN2QKRwPQrXp3ZAhetRuB6Vd0BxPQrXozR3QK5H4XoUVnZAcT0K16NgdkB7FK5H4Qp2QI\\u002fC9Shcg3RAzczMzMwAdEDNzMzMzDB0QHE9CtejSHRAexSuR+FudEC4HoXrUSB0QGZmZmZmYnRAPQrXo3DpdEA9CtejcPF0QAAAAAAArHRAH4XrUbgCdEDD9Shcj850QAAAAAAADHVAZmZmZmYidUDhehSuR3FzQIXrUbgeDXVAXI\\u002fC9SjEd0BSuB6F61V3QEjhehSuJ3hA7FG4HoVnd0CamZmZmSV4QClcj8L1uHlAH4XrUbg2eUDXo3A9CpN2QHsUrkfhVnRAH4XrUbiic0Bcj8L1KIB0QPYoXI\\u002fCnXNAUrgehesJc0BxPQrXo1xyQM3MzMzM1HFAexSuR+G6cUBmZmZmZppxQAAAAAAASHFAuB6F61EgcUC4HoXrUaRwQI\\u002fC9Shc13BA16NwPQp3cEAK16NwPVpwQArXo3A96nBAUrgehettcEAK16NwPcpvQEjhehSuf29AuB6F61Ewb0BSuB6F66luQJqZmZmZ4W5ArkfhehSebkD2KFyPwn1uQJqZmZmZSW5A16NwPQpfbkBSuB6F68FuQFyPwvUoDG5AuB6F61HIbUCPwvUoXNdtQOF6FK5HqW1AmpmZmZmxbUBSuB6F64FtQK5H4XoUlm1AFK5H4XrkbUC4HoXrURhtQHsUrkfhSm1AFK5H4XpkbUApXI\\u002fC9VBtQClcj8L1yGxApHA9CtfTbEB7FK5H4WJsQB+F61G45mxASOF6FK7vbEDXo3A9Ch9tQFK4HoXruWxAexSuR+GibECamZmZmclsQBSuR+F61GxAuB6F61HQbECPwvUoXGdtQOxRuB6FA25Aj8L1KFzPbUA9CtejcMVtQOxRuB6Fc25AMzMzMzP7bUB7FK5H4fptQHE9CtejYG1AmpmZmZnJbED2KFyPwmVsQClcj8L1qGxApHA9CteDbEBSuB6F68FsQLgehetRmGxAKVyPwvW4bEDNzMzMzOxsQHE9CtejGGxAw\\u002fUoXI86bEDsUbgehbNrQAAAAAAAUGpAPQrXo3CFbEAUrkfhesxsQArXo3A9Em1AMzMzMzNrbUD2KFyPwlVsQMP1KFyPYmpASOF6FK4fcEBcj8L1KChwQM3MzMzMWHBAexSuR+GacEDhehSuR4FwQK5H4XoUpnBACtejcD3mcEDsUbgehYdwQOF6FK5HkXBAAAAAAABQcEDhehSuR3lxQOF6FK5HaXFArkfhehSecUDsUbgehdNxQEjhehSuk3FA9ihcj8KpcUCamZmZmZlxQGZmZmZmynFA7FG4HoX7cUA9CtejcBlyQHsUrkfhZnJAUrgehetZckDXo3A9CktyQDMzMzMzC3JAFK5H4XoEckDNzMzMzEBxQOxRuB6FU3FA4XoUrkc9cUBI4XoUrm9xQPYoXI\\u002fCGXFAZmZmZmYucUDsUbgehXdxQD0K16NwYXFA4XoUrkfdcUCPwvUoXPdxQM3MzMzMQHJAUrgehettc0BSuB6F61FyQArXo3A9znFASOF6FK7TcEBxPQrXo+xwQI\\u002fC9Shco3BAFK5H4XrQcEDD9Shcj\\u002f5wQArXo3A9TnBAPQrXo3AFcECF61G4Hu1vQFK4HoXrKXBAhetRuB5xcEApXI\\u002fC9RBwQLgehetRIG9ASOF6FK5fb0B7FK5H4XJuQJqZmZmZWW5AuB6F61EQbkCamZmZmYluQEjhehSu325ArkfhehR+bkAfhetRuKZuQOxRuB6Fk25AuB6F61Egb0ApXI\\u002fC9ShvQM3MzMzMXG9ACtejcD2abUDhehSuRzFtQM3MzMzMDG1Aj8L1KFy\\u002fbEAfhetRuLZsQJqZmZmZmWxAmpmZmZmhbEBI4XoUro9sQFyPwvUo3GtApHA9CtczbEBmZmZmZh5sQArXo3A9CmxApHA9Ctc7bECamZmZmTlsQPYoXI\\u002fC3WtArkfhehTGbEB7FK5H4SptQDMzMzMzo21AhetRuB6tbUApXI\\u002fC9ahtQKRwPQrXo21A7FG4HoWjbUBmZmZmZh5uQKRwPQrX221AMzMzMzMLbkB7FK5H4WptQHE9CtejQG1AZmZmZmb+bEBcj8L1KCRtQJqZmZmZmW1AzczMzMyEbUAzMzMzM7NtQPYoXI\\u002fCnW1AXI\\u002fC9SiMbUDsUbgehSNuQIXrUbgeRW5AmpmZmZkJbkDD9ShcjzpuQOxRuB6Fe25Aw\\u002fUoXI+qbUApXI\\u002fC9bhsQKRwPQrXg21AcT0K16PgbUDsUbgehQtuQPYoXI\\u002fCXW1Aw\\u002fUoXI8CbUDNzMzMzIRtQFK4HoXrOWxAMzMzMzM7bEDhehSuR6lsQPYoXI\\u002fCbWtAFK5H4XpMbEBxPQrXo+hsQB+F61G4jm1A9ihcj8JFbUBxPQrXo2htQFyPwvUoFGxAMzMzMzPTa0DsUbgehetrQFyPwvUo3GtACtejcD2SbEDD9Shcj\\u002fprQIXrUbgeZWtAexSuR+ESbEDNzMzMzIRtQJqZmZmZkW1ACtejcD2CbUD2KFyPwnVuQHE9CtejoG5A9ihcj8Klb0BI4XoUru9vQJqZmZmZSXBAZmZmZma2b0AK16NwPcpvQAAAAAAAoG9AcT0K16PobkDXo3A9CoduQClcj8L18G5AH4XrUbhWbkCamZmZmZlvQClcj8L14G5AKVyPwvUQb0BmZmZmZsZuQHsUrkfhsm5ApHA9CtercECPwvUoXL9wQLgehetRQHBAAAAAAABccEB7FK5H4U5wQM3MzMzMBHBAAAAAAADYcUA9CtejcClyQArXo3A95nFArkfhehSecUA9CtejcNVxQJqZmZmZZXJArkfhehSGckBcj8L1KDxyQPYoXI\\u002fCGXJAmpmZmZklcUBcj8L1KERxQOxRuB6FC3FAexSuR+FCcUA9CtejcBFxQDMzMzMzm3FAH4XrUbg6cUAzMzMzM0NwQLgehetRyG9Aw\\u002fUoXI+6b0D2KFyPwo1tQNejcD0Kr21ASOF6FK7XbUAUrkfhetxtQI\\u002fC9Shcf21AKVyPwvWQbkApXI\\u002fC9XhuQClcj8L1CG5Aw\\u002fUoXI+KbUDsUbgehXNuQHsUrkfhOm1ACtejcD1abUCF61G4HhVwQPYoXI\\u002fCbW1AuB6F61G4a0CuR+F6FGZrQHsUrkfhemtA7FG4HoWDa0CF61G4Hu1rQAAAAAAAeGxAcT0K16PIa0DsUbgehSNrQDMzMzMzW2xAcT0K16NobECPwvUoXMdtQNejcD0KX2xAH4XrUbgua0D2KFyPwk1sQLgehetRMG1AhetRuB49bUBI4XoUrndwQOxRuB6FF3FA16NwPQq3b0AzMzMzM\\u002ftuQFyPwvUoHG1AhetRuB4tbUDNzMzMzFxsQFK4HoXraWpA7FG4HoXbakB7FK5H4UpqQLgehetR6GhAMzMzMzMDakB7FK5H4TpqQDMzMzMzQ2ZA7FG4HoU7bEDNzMzMzLxwQMP1KFyPmnBAzczMzMwscUDD9ShcjyZyQJqZmZmZtXFAPQrXo3BlckDXo3A9CuNxQOxRuB6FJ3FA16NwPQqDcEDhehSuR5FxQBSuR+F6sHNAAAAAAACkc0DXo3A9CgN0QKRwPQrXa3NAH4XrUbiKc0CkcD0K19NzQPYoXI\\u002fCvXNAH4XrUbh+dEBcj8L1KPBzQBSuR+F6KHRAhetRuB7pdEAK16NwPb50QD0K16NwDXRAj8L1KFyfdEA9CtejcN1zQGZmZmZmdnNAFK5H4Xr8c0ApXI\\u002fC9XB0QJqZmZmZlXVArkfhehT6dUCuR+F6FLZ1QHE9CtejCHZAXI\\u002fC9SjodUBSuB6F66V1QOxRuB6FA3ZAw\\u002fUoXI+edkCamZmZmXF3QHE9CtejbHdAmpmZmZmNd0CamZmZmRl3QFyPwvUocHdAKVyPwvXUd0AAAAAAALR3QM3MzMzMoHdApHA9Ctd3d0AzMzMzM4d3QB+F61G4GndAUrgehesFd0CamZmZmXV3QGZmZmZmjndAhetRuB75dkAfhetRuA52QJqZmZmZ7XVAPQrXo3BddkApXI\\u002fC9ch3QDMzMzMzc3dAw\\u002fUoXI82eECuR+F6FD54QK5H4XoUgndAhetRuB7deECkcD0K10t6QClcj8L1eHpA16NwPQr7dkAfhetRuO52QFyPwvUotHZApHA9CteXdUAfhetRuGZ1QHE9Ctej1HVApHA9Ctc3dUCkcD0K16d0QM3MzMzMeHRACtejcD1edEAAAAAAAFx0QIXrUbgeJXVAKVyPwvWUdUA9CtejcPl0QFK4HoXrWXZApHA9CtcPdkAzMzMzMyt2QLgehetRtHVAmpmZmZlldkAfhetRuGZ2QMP1KFyP8ndASOF6FK4neECamZmZme13QM3MzMzMWHhA16NwPQp3eEBcj8L1KPx3QClcj8L16HdAuB6F61GseEBSuB6F6w15QMP1KFyPZnhAzczMzMyod0DNzMzMzKR2QClcj8L1mHZAFK5H4XrQdkDXo3A9Cg92QNejcD0KA3VA4XoUrkehdEBcj8L1KAh0QFK4HoXrjXRAXI\\u002fC9Sh4dkCF61G4HnF3QFK4HoXr+XdA16NwPQoveEDsUbgehXd3QHsUrkfhkndAuB6F61H4eEB7FK5H4UZ5QIXrUbgeuXlAMzMzMzNzekBxPQrXozx7QGZmZmZmInlAhetRuB7teEBmZmZmZo55QM3MzMzMrHhA16NwPQqHekDhehSuR5V8QClcj8L1IH1AUrgeheu1fUAK16NwPd59QAAAAAAA8H1AAAAAAADcfUAAAAAAAPx9QPYoXI\\u002fC9X1AXI\\u002fC9Si0fUCamZmZmal9QBSuR+F6JH5A4XoUrkdNfkA9CtejcDV+QMP1KFyPmn5APQrXo3DZfUB7FK5H4dZ9QK5H4XoUrn1AXI\\u002fC9SjcfUAAAAAAAIR\\u002fQLgehetRyH9AKVyPwvW8f0BmZmZmZvJ\\u002fQIXrUbge+X9AAAAAAABof0BxPQrXo8R\\u002fQIXrUbgeIX9AuB6F61EQgEBSuB6F6ymAQEjhehSu\\u002f39AAAAAAABUfkCPwvUoXNd8QM3MzMzMvH5ASOF6FK49gEBcj8L1KBB\\u002fQOxRuB6Fn39A4XoUrkcVgUCF61G4Hs2BQClcj8L1AoJAFK5H4Xp4gkApXI\\u002fC9WqCQHE9CtejhIJAKVyPwvVmgkAzMzMzM0WCQOxRuB6FS4JACtejcD1mgkCPwvUoXFWCQHE9CtejaoJAj8L1KFyXgkBSuB6F61GCQLgehetRuoFApHA9CtdFgkDsUbgehU2CQM3MzMzMjoJAFK5H4XqegkAfhetRuMiCQKRwPQrXzYJA4XoUrkdbg0BmZmZmZmyDQEjhehSucYNAMzMzMzN\\u002fg0CuR+F6FKSDQArXo3A9poNAH4XrUbh4g0BmZmZmZkaDQB+F61G4bINAw\\u002fUoXI9ag0AAAAAAAJSDQEjhehSuzYNAAAAAAADAg0CuR+F6FEaDQK5H4XoUhINAw\\u002fUoXI+Gg0AfhetRuICDQBSuR+F63oNASOF6FK67g0DsUbgehbWDQOF6FK5HKYRA16NwPQpXhEAUrkfhegaEQGZmZmZm\\u002foNA9ihcj8LVgkBmZmZmZqSCQK5H4XoUqoJAhetRuB4pgkAfhetRuLKBQHsUrkfhMoJApHA9CtePgkBcj8L1KNKCQFK4HoXrl4JAMzMzMzORgkDD9Shcj7CCQEjhehSu\\u002f4JAexSuR+EWg0DsUbgehYGCQOxRuB6Fh4JAexSuR+EKgkDhehSuR8GCQJqZmZmZV4JAXI\\u002fC9SjIg0AzMzMzM2mEQOF6FK5HSYRAhetRuB6BhED2KFyPwneEQJqZmZmZbYRArkfhehSahEB7FK5H4QyEQHsUrkfh3IRAKVyPwvWkhECkcD0K17GDQD0K16NwfYNAcT0K16M6g0A9CtejcMGBQBSuR+F6CIJAUrgehevZgUCPwvUoXDuCQB+F61G43IFAhetRuB5pgED2KFyPwkGAQHE9CtejZIBAuB6F61G8fkDsUbgehVt+QHsUrkfh4ntAXI\\u002fC9Sjke0BmZmZmZg58QClcj8L1AHxAAAAAAAD0e0DsUbgehb97QB+F61G4intAj8L1KFyXe0AK16NwPW57QHsUrkfhZnxAj8L1KFwXfEAfhetRuIJ7QIXrUbgebXtAj8L1KFzPekBI4XoUrhd7QGZmZmZmRntAXI\\u002fC9Shce0CuR+F6FBZ8QFyPwvUonHxACtejcD36e0CPwvUoXPN7QHE9CtejhHtACtejcD1Ge0CamZmZmal8QDMzMzMz13xAj8L1KFxHf0DNzMzMzLR+QB+F61G4fn5AuB6F61H8fkAfhetRuCJ\\u002fQClcj8L1WH9ACtejcD36fUCPwvUoXP9+QIXrUbgee4BAH4XrUbgcgEBxPQrXo6x8QClcj8L14HlAUrgehetRekAzMzMzM096QHsUrkfh0nZASOF6FK6re0A9CtejcFF8QB+F61G4FnxAAAAAAADIfEDD9Shcj958QBSuR+F6+HtA7FG4HoXLe0AK16NwPVJ7QK5H4XoU5n1AAAAAAACQfEC4HoXrUcR8QB+F61G4sn5AH4XrUbj6fkCkcD0K13N9QHE9CtejJoJAj8L1KFw\\u002fgkDhehSuRzuCQFyPwvUoioFAuB6F61GogUBSuB6F69uBQFyPwvUoZoJAhetRuB4Pg0BxPQrXozaDQClcj8L1coNAexSuR+G4g0ApXI\\u002fC9eCDQGZmZmZmpoNAhetRuB7xg0DNzMzMzMCDQHsUrkfh0INAuB6F61Geg0BI4XoUrueDQJqZmZmZS4NAMzMzMzOpg0B7FK5H4b6EQK5H4XoUzIRACtejcD3WhECuR+F6FN6EQLgehetRfoFAexSuR+GsgUCuR+F6FCqBQFyPwvUoFoJA7FG4HoU1gkBI4XoUrtWAQMP1KFyPEoFAw\\u002fUoXI\\u002fugkCPwvUoXOuCQOF6FK5H8YFAhetRuB5hgUAK16NwPXiDQM3MzMzMlINAXI\\u002fC9SiSg0DXo3A9CkWDQI\\u002fC9ShcV4RAUrgeheuvhEBSuB6F6+mCQPYoXI\\u002fCXYRAj8L1KFwBhUAK16NwPUiFQDMzMzMzV4VAj8L1KFwPhUAzMzMzM0OGQGZmZmZmbIhA4XoUrkdfiUBI4XoUrt+JQHE9CtejvolAKVyPwvXKiUBxPQrXowSKQI\\u002fC9Shc74lACtejcD2YiUAAAAAAANCJQK5H4XoUZIlAhetRuB4biEAK16NwPaqLQHsUrkfhrIpAw\\u002fUoXI\\u002foiEC4HoXrUbCJQB+F61G4bIpA4XoUrkf\\u002fikCamZmZmTGLQEjhehSuN4tAAAAAAABAikCF61G4HnWJQNejcD0KHYpAMzMzMzPnikBcj8L1KAqKQJqZmZmZSYpA9ihcj8L5ikCamZmZmY+MQKRwPQrXI4tAexSuR+F2ikD2KFyPwlWKQAAAAAAAEIlAuB6F61HKjUAK16NwPSyNQK5H4XoU3IpA9ihcj8KViUCF61G4HhOJQDMzMzMzG4hArkfhehSQh0DXo3A9CqGHQGZmZmZmSIdAcT0K16O+hkDD9Shcj\\u002fiGQKRwPQrXz4dASOF6FK5RhUBxPQrXo8yEQOF6FK5HC4VAPQrXo3BJg0DhehSuR+2CQMP1KFyPioNASOF6FK6fhUCamZmZmVWAQClcj8L1UIVA9ihcj8IPhkApXI\\u002fC9WCLQM3MzMzMRItAcT0K16Pki0CuR+F6FEqLQKRwPQrXc4tArkfhehTkjkDsUbgehemLQClcj8L13ohApHA9CtfRhUCamZmZmeuJQD0K16NwVJBASOF6FK78kUCF61G4HtmQQLgehetRTZBAzczMzMzejUAfhetRuKWRQHsUrkfhr5FAzczMzMwfkEBI4XoUrk+PQM3MzMzMAI1AexSuR+H4iEAAAAAAADKIQMP1KFyP7ohA7FG4HoUbiEA9CtejcJOGQHE9CtejdoJAexSuR+FEgkAUrkfhevyFQPYoXI\\u002fCwX5A7FG4HoWDe0AzMzMzMx96QDMzMzMzQ3pAUrgehet1eUDhehSuR4V2QNejcD0KZ3VAUrgehetpdED2KFyPwjF1QPYoXI\\u002fCIXVAw\\u002fUoXI+GckAAAAAAAGhwQEjhehSup25AMzMzMzOjbECamZmZmeFqQNejcD0Kx2lA9ihcj8LFaUAAAAAAAIBpQNejcD0K\\u002f2hAFK5H4XqMaUCamZmZmdFoQK5H4XoUjmhACtejcD0qZkCuR+F6FFZnQI\\u002fC9Shcx2hApHA9CtezakC4HoXrUThoQB+F61G4xmZA7FG4HoXTZUA9CtejcI1lQB+F61G4fmNAAAAAAABIYkCamZmZmdFhQEjhehSuJ2JAcT0K16OQYUBcj8L1KERhQK5H4XoU5mBAzczMzMxcYEB7FK5H4VJgQK5H4XoUVmBAAAAAAACAX0Bcj8L1KLxfQAAAAAAAIGBAmpmZmZkRYEC4HoXrUSBgQLgehetR6F5AuB6F61GIXED2KFyPwoVgQAAAAAAAoGBAexSuR+EqYUApXI\\u002fC9dhgQClcj8L1uGBAXI\\u002fC9SgMYEDXo3A9CgdgQAAAAAAA0F9AzczMzMx8X0CkcD0K1yNgQOxRuB6F219Aw\\u002fUoXI\\u002fCX0DNzMzMzDRgQNejcD0Kb2BAhetRuB51YEDXo3A9CndgQKRwPQrXS2BA16NwPQonYECPwvUoXN9gQFyPwvUopGBAAAAAAADoYEAK16NwPXpfQNejcD0Kx19ACtejcD1qXkCamZmZmQlfQJqZmZmZyV1A7FG4HoWbX0CPwvUoXK9fQHE9CtejGGFAMzMzMzP7YEB7FK5H4UphQDMzMzMz62BASOF6FK6vYEApXI\\u002fC9ZheQEjhehSup15AAAAAAACgX0CkcD0K1wNeQNejcD0Kh15AMzMzMzMDXkAAAAAAAKBdQJqZmZmZSV5AMzMzMzPTXkDNzMzMzExeQAAAAAAAwF1AAAAAAABgXEAAAAAAAGBcQI\\u002fC9ShcP1tAj8L1KFx\\u002fW0CkcD0K1yNcQAAAAAAAQFtAKVyPwvWoWkAAAAAAAEBaQAAAAAAAwFlAMzMzMzOzWUAAAAAAAMBZQAAAAAAAsFpAAAAAAACwWkCuR+F6FI5aQClcj8L1SFpAAAAAAAAAWkAAAAAAACBaQAAAAAAAAFpA9ihcj8KFWkCPwvUoXP9aQM3MzMzMTFlAcT0K16PwWEBI4XoUrodXQOF6FK5HAVhAmpmZmZk5WEBxPQrXo6BXQKRwPQrX41dA16NwPQrnVkBxPQrXo7BWQClcj8L1WFZAexSuR+EKV0CF61G4HqVWQAAAAAAAoFhAzczMzMxcWECamZmZmZlYQFyPwvUorFdAuB6F61GIWED2KFyPwmVXQB+F61G4PlZAcT0K16OwVUBcj8L1KCxTQOF6FK5HIVNApHA9CtejUkBSuB6F65FRQOxRuB6FG1FAUrgeheshVEBSuB6F62FTQLgehetRiFZAMzMzMzMDVkDXo3A9CidYQI\\u002fC9Shcv1dAmpmZmZmpV0Bcj8L1KFxZQAAAAAAAAFpAzczMzMz8WUCPwvUoXK9ZQGZmZmZm5lpAMzMzMzMTW0AAAAAAAGBbQJqZmZmZiVtAAAAAAAAQW0CamZmZmdlaQM3MzMzMbFlAcT0K16PgWECPwvUoXP9YQB+F61G4\\u002flhAAAAAAAAAWkCamZmZmQlbQJqZmZmZOVtAZmZmZmaWWkAAAAAAAABZQDMzMzMzE1tAAAAAAADgW0AAAAAAAIBdQJqZmZmZaV5AexSuR+FaXkCuR+F6FI5eQMP1KFyPkl5AmpmZmZkpYEAAAAAAACBgQJqZmZmZGWBAmpmZmZmJYEAAAAAAACBgQAAAAAAAOGBAj8L1KFyvYECPwvUoXH9gQGZmZmZmpmBAzczMzMysX0ApXI\\u002fC9fheQLgehetRuF5AAAAAAACAXkCPwvUoXH9eQAAAAAAA4F5A4XoUrkfBXkBxPQrXo7BdQK5H4XoUjlxAAAAAAADgW0AfhetRuH5dQAAAAAAAwFxAj8L1KFzPXEDNzMzMzExdQHsUrkfhKlxAFK5H4XpkXEAAAAAAAOBbQDMzMzMzE1xACtejcD36XEAAAAAAACBcQAAAAAAAcFhAPQrXo3BNWkCPwvUoXD9dQAAAAAAAYGFA4XoUrkcRYkAfhetRuMZgQA==\"},\"high\":{\"dtype\":\"f8\",\"bdata\":\"CtejcD2TpkDD9ShcD42lQOxRuB6F8aVAZmZmZuaipkBxPQrXowqlQOxRuB6FZaRAXI\\u002fC9SigpUDsUbgehbKlQI\\u002fC9ShcIKZApHA9CtdcpkC4HoXr0SymQGZmZmZmqaZApHA9Cle6okAfhetROKeiQBSuR+H6bKFA16NwPYoVoEDhehSuR26hQAAAAACAdqJAPQrXo3DyokBSuB6Fa++iQD0K16Pw2qJAuB6F61HSo0AUrkfh+pakQEjhehSuFqRA4XoUrkfIpkA9CtejcHGkQM3MzMxMfaRASOF6FC6PpEAAAAAAAEakQMP1KFyPpKNA16NwPYqmo0AAAAAAgP6jQFyPwvWoOaRAKVyPwvVXpEBmZmZm5vCjQAAAAACAbqRA7FG4HoX0pEB7FK5H4YulQKRwPQpXmqVAFK5H4XpHpUDsUbgeBailQGZmZmbmlqVAMzMzM7PNpEAzMzMzM8ykQHsUrkdh+qRApHA9CtfXo0BSuB6Fa82jQFyPwvWoxaVArkfhehTKpUDsUbgehWqnQDMzMzMzaadAFK5H4foNp0BSuB6Fa6umQJqZmZmZ\\u002fqVA9ihcj8JqpkC4HoXr0W+nQIXrUbie\\u002faRA4XoUrsczpEC4HoXr0SukQJqZmZkZcaNA4XoUrscgo0Bcj8L1KA6iQFK4HoXr+6FAmpmZmRkGokBI4XoUrrahQGZmZmZmqKFArkfhepQbpEBSuB6Fa5elQD0K16Nwt6NAcT0K16MhokDNzMzMzP+hQFyPwvUojqBAKVyPwnVJoECuR+F6FFKfQFK4HoXrwZ1AMzMzMzMgnUD2KFyPwuebQDMzMzMzU5xASOF6FK6dnEApXI\\u002fC9VOcQJqZmZmZAJ1AH4XrUbhHnUD2KFyPwvGbQClcj8L1pZxAZmZmZmbtmkB7FK5H4fKYQDMzMzMzq5hAhetRuB5ImUBxPQrXoyOZQK5H4XoUU5dAmpmZmZkHl0DhehSuR2mWQHE9CtejD5VAzczMzMy8lECF61G4Hs2UQM3MzMzMnpRAuB6F61E7lEC4HoXrUc6TQPYoXI\\u002fCi5NAzczMzMxAk0AK16NwPU6TQPYoXI\\u002fCT5NAXI\\u002fC9Shjk0DXo3A9Cv6SQOF6FK5HBpNAmpmZmZmrkkB7FK5H4YySQAAAAAAAkJJAMzMzMzObkkDD9Shcj9eSQMP1KFyP3JJA4XoUrkfgkkCPwvUoXJmSQKRwPQrXtJJAUrgeheuDkkC4HoXrUYqSQBSuR+F6kZJAj8L1KFy8kUD2KFyPwhGSQClcj8L1\\u002fpFAj8L1KFxOkUB7FK5H4Q6RQEjhehSuy5BAXI\\u002fC9ShlkEDsUbgehXyQQJqZmZmZopBAmpmZmZlZkEBI4XoUrn+PQK5H4XoUfo5AexSuR+FBkEDXo3A9CoiQQJqZmZmZgpFAH4XrUbiJkUCF61G4HpyQQHE9Ctejt5BA4XoUrkdokUBxPQrXo3CSQFK4HoXrp5NAPQrXo3COk0AK16NwPXOTQBSuR+F6VZNAUrgehesrk0C4HoXrUaeSQHsUrkfh2ZNApHA9Cte1kkBxPQrXo0CTQDMzMzMz7pNAAAAAAADwk0Bcj8L1KM2TQJqZmZmZ\\u002fZNACtejcD0BlEDsUbgehbiTQAAAAAAAGpNAAAAAAAClkkBSuB6F63eSQHsUrkfhPZJAZmZmZmZbkkDD9Shcj8GSQBSuR+F6YpJAw\\u002fUoXI+VkUAAAAAAAHWRQClcj8L14ZBACtejcD2DkEBmZmZmZpSQQEjhehSudJBAFK5H4XolkEAfhetRuIaPQK5H4XoUnI9AzczMzMxQj0CuR+F6FGaPQLgehetRio9AMzMzMzM3j0ApXI\\u002fC9QORQHsUrkfh25BAH4XrUbiXkEDD9Shcj1KQQOxRuB6FTpBAmpmZmZlXkEAUrkfheieQQFyPwvUorI9AexSuR+HojkBcj8L1KGCOQGZmZmZm2IxAj8L1KFzbjEDhehSuR9+MQPYoXI\\u002fC2YxAcT0K16O6jEAAAAAAADqMQIXrUbge4YxAXI\\u002fC9SgCjUBcj8L1KEyNQClcj8L1+oxAMzMzMzMbjEB7FK5H4USMQAAAAAAArIxAFK5H4Xp0jEAK16NwPRSKQBSuR+F6uolAH4XrUbgYikAAAAAAAOiJQAAAAAAA0olAmpmZmZm7jEApXI\\u002fC9ZaMQOxRuB6FjYxA9ihcj8J1jUAfhetRuGSMQArXo3A9W5BAZmZmZmackkBI4XoUrh2SQLgehetRUJBAw\\u002fUoXI8dkEBxPQrXo1iPQFK4HoXrHY5ACtejcD1kjkAzMzMzM5uOQI\\u002fC9Shcf45AZmZmZmZgjUA9CtejcImMQDMzMzMzHYxApHA9CtfbjEApXI\\u002fC9eiMQArXo3A9XotACtejcD0SikAfhetRuAqJQHsUrkfhzIhAUrgehevViECuR+F6FMSIQArXo3A9iIhAPQrXo3BriEAK16NwPXCIQEjhehSuo4hAj8L1KFxviEBmZmZmZjaIQB+F61G4SIhACtejcD00iECamZmZmTWIQLgehetRHIhAKVyPwvXsh0D2KFyPwiuIQClcj8L1LohAAAAAAABSiEBmZmZmZmqIQFyPwvUosodAPQrXo3Bfh0D2KFyPwguHQK5H4XoUEIdAXI\\u002fC9SgYh0BI4XoUrjGHQDMzMzMzLYdAcT0K16NWh0AAAAAAAIKHQClcj8L1jodA9ihcj8Ith0CkcD0K15uHQFK4HoXroYdA16NwPQqHh0CF61G4Hp2HQClcj8L1XIdA9ihcj8JdhkAK16NwPRKGQK5H4XoUCoZAMzMzMzNphkDD9Shcj3KGQFyPwvUomIZAZmZmZmYgh0BSuB6F60eGQFK4HoXrNYZArkfhehRShkCuR+F6FByGQD0K16NwF4ZAXI\\u002fC9ShOh0BxPQrXoyaHQJqZmZmZA4dAuB6F61EqhkApXI\\u002fC9VCGQDMzMzMzg4ZA7FG4HoWThUAfhetRuISFQKRwPQrXPYVAj8L1KFzDhEAAAAAAAIqEQNejcD0KqYRAmpmZmZmRhEAfhetRuNCDQI\\u002fC9Shcv4NAKVyPwvX2g0BSuB6F6wWEQHE9CtejEoRAMzMzMzMXhEDNzMzMzBCEQArXo3A9CoRAcT0K16P2g0AfhetRuAqEQHE9CtejEIRAw\\u002fUoXI9qg0CamZmZmVmDQM3MzMzMXoNA4XoUrkdPg0DD9Shcjy6DQBSuR+F6LoNAZmZmZmYgg0DD9ShcjySDQAAAAAAAMINAUrgehes5g0BSuB6F6w2DQMP1KFyP9oJAH4XrUbj0gkAAAAAAAAKDQIXrUbgeAYNA16NwPQrbgkBxPQrXo+SCQEjhehSu2YJAUrgeheuzgkAfhetRuNyCQFyPwvUoDINAPQrXo3AXg0DhehSuRxGDQHsUrkfh\\u002foJArkfhehQKg0AfhetRuBiDQJqZmZmZH4NA7FG4HoUZg0BI4XoUrgODQMP1KFyPpoNAzczMzMyIg0BxPQrXo5aDQFyPwvUopoNAuB6F61E0g0BxPQrXoxaDQGZmZmZmCINAH4XrUbgeg0AAAAAAALyCQIXrUbge\\u002fYFAFK5H4XoCgkB7FK5H4Q6CQHsUrkfhEoJACtejcD0CgkC4HoXrUfCBQM3MzMzMHoJAKVyPwvUkgkCamZmZmSOCQB+F61G4PIJA9ihcj8JrgkCamZmZmWOCQOF6FK5HQYJAw\\u002fUoXI82gkBSuB6F6xGCQLgehetRDoJAhetRuB4ngkBSuB6F6y2CQHE9Ctej7IFAj8L1KFxNgkBcj8L1KG6CQOF6FK5Hb4JAuB6F61GsgkCkcD0K17+CQB+F61G4eIJAUrgeheuHgkCuR+F6FKyCQDMzMzMzY4JACtejcD0SgkAAAAAAAByCQHsUrkfh6oFAzczMzMwmg0ApXI\\u002fC9ZCDQArXo3A9eoRA9ihcj8KRhEBmZmZmZo6EQM3MzMzMjIRASOF6FK6LhECkcD0K14GEQHE9CtejroRAexSuR+G4hEApXI\\u002fC9YKEQHE9Ctej1IRA9ihcj8LRhEA9CtejcAeFQArXo3A9CoVAZmZmZmZMhUApXI\\u002fC9VKFQEjhehSu04RAcT0K16PYhEAzMzMzM7eEQJqZmZmZ5YRArkfhehQahUDXo3A9Cp2EQLgehetRYoRA16NwPQrThEBI4XoUrtWEQD0K16NwU4VAMzMzMzNPhUBSuB6F61uFQOF6FK5HXYVA9ihcj8IHhkCamZmZmf2FQDMzMzMzcYVAMzMzMzMbhUA9CtejcCWEQAAAAAAAmoRAXI\\u002fC9Sh6hECkcD0K18+EQKRwPQrXnYVApHA9CtdNhUBxPQrXo6qDQI\\u002fC9ShcNYVA16NwPQr\\u002fhkBxPQrXo+CHQClcj8L19IdAUrgehetPiEB7FK5H4TqIQPYoXI\\u002fCLYhAZmZmZmbChUAAAAAAAASGQAAAAAAAYIZAH4XrUbhmhUApXI\\u002fC9fiCQNejcD0KGYJAmpmZmZkxgkAfhetRuDaCQK5H4XoUcoJA9ihcj8JTgkAUrkfhejaCQNejcD0KcYJAhetRuB71gUDNzMzMzOKAQHE9Ctej+IBAKVyPwvUUgUDNzMzMzAKBQEjhehSuT4FA9ihcj8KrgEBmZmZmZuJ9QArXo3A9WnxAzczMzMwkfECamZmZmfF7QJqZmZmZxXtAexSuR+G2e0AUrkfherx7QM3MzMzMwHtArkfhehRqfEAAAAAAAIB8QIXrUbgecXxAMzMzMzOjfEDXo3A9Cqt8QD0K16NwjXxAKVyPwvWQfEAzMzMzM298QOF6FK5HaXxAexSuR+HefEBI4XoUrud8QB+F61G4tnxAexSuR+HKfECuR+F6FNZ8QFyPwvUoCHxArkfhehQmfECamZmZmTF8QNejcD0KR3xASOF6FK5HfEA9CtejcHl8QK5H4XoUdnxAzczMzMwYfEDhehSuRzF9QI\\u002fC9ShcP31AUrgehespfUBmZmZmZsJ8QBSuR+F6JHxAKVyPwvUcfEDNzMzMzCh8QM3MzMzMsHtAuB6F61FAe0C4HoXrUdR6QFK4HoXr9XpArkfhehQKe0B7FK5H4d56QFK4HoXrlXpAw\\u002fUoXI+qekAUrkfherR6QKRwPQrXa3pA16NwPQpnekAK16NwPU56QPYoXI\\u002fClXpAw\\u002fUoXI96ekAUrkfheoh6QFyPwvUohHpAPQrXo3BlekDhehSuR1l6QOF6FK5HYXpAH4XrUbgiekBSuB6F6yV6QOF6FK5HDXpAMzMzMzOjekD2KFyPwq16QM3MzMzMzHpApHA9CtcvekDhehSuRyF6QHsUrkfhKnpAuB6F61E0ekCuR+F6FCZ6QB+F61G41nlArkfhehTqeUBI4XoUrq95QM3MzMzMSHpAAAAAAABQekDXo3A9Cht6QK5H4XoUInpAexSuR+EKekCamZmZmQl6QM3MzMzMXHpAexSuR+F+ekBcj8L1KBh6QBSuR+F6AHpApHA9CtcDekAfhetRuP55QMP1KFyPvnlAXI\\u002fC9Si0eUB7FK5H4ZJ6QFK4HoXrlXpAH4XrUbg+e0BmZmZmZnp7QFyPwvUomHtAexSuR+E6e0BI4XoUriN7QGZmZmZmAntA7FG4HoW7ekDNzMzMzJh6QPYoXI\\u002fCfXtAzczMzMxwe0DNzMzMzAB8QEjhehSun3tAmpmZmZlxekAAAAAAAKB6QB+F61G4UnpA16NwPQqPeUCuR+F6FKZ5QEjhehSuc3lA9ihcj8J9eEAzMzMzMw94QK5H4XoU8ndASOF6FK4XeEAAAAAAAJR3QK5H4XoUvndAUrgehevNd0CuR+F6FCp4QD0K16NwcXhA9ihcj8J5eEAzMzMzM293QK5H4XoUfndAhetRuB6hd0CamZmZmcV3QB+F61G4zndArkfhehQGeEAAAAAAALh4QD0K16NwzXhAuB6F61HceECF61G4HiV5QKRwPQrXV3lAcT0K16OoeEDD9Shcj6Z5QK5H4XoUbnpAuB6F61GUekBI4XoUrjt4QJqZmZmZQXhAj8L1KFxveEApXI\\u002fC9Wh4QAAAAAAA5HpAhetRuB4Ve0DXo3A9CjN7QHsUrkfhAnxAw\\u002fUoXI8qfEApXI\\u002fC9QR8QArXo3A9anxAexSuR+HufEC4HoXrUax8QPYoXI\\u002fC\\u002fXpAexSuR+Eie0C4HoXrUSh7QKRwPQrXG3tAKVyPwvVAe0AAAAAAAER7QB+F61G4DntACtejcD0me0BI4XoUrg97QLgehetR3HpAXI\\u002fC9SiAekCkcD0K15d8QClcj8L1pHxAj8L1KFynfEAUrkfhesh7QNejcD0Ku3tASOF6FK7Le0AK16NwPep8QOF6FK5HGX1AexSuR+ESfUD2KFyPwp18QI\\u002fC9ShcE31AhetRuB4VfUAK16NwPfJ7QHsUrkfhmntAmpmZmZlRfUDXo3A9Cj98QFyPwvUoOHpAUrgehetxekApXI\\u002fC9fh5QOxRuB6F\\u002f3hAKVyPwvUseUBxPQrXo1x4QLgehetRuHZAuB6F61Ekd0BI4XoUrqN2QHsUrkfhrndA9ihcj8Lld0DXo3A9Cj93QHE9CtejeHZAPQrXo3C5dkBcj8L1KOx2QK5H4XoUknRAKVyPwvUwdEBSuB6F61F0QFyPwvUocHRAw\\u002fUoXI+CdEDsUbgehWd0QOF6FK5H9XRAFK5H4XoIdUCamZmZmSV1QK5H4XoUunRAw\\u002fUoXI\\u002fqdEB7FK5H4SJ1QMP1KFyPTnVA4XoUrkeRdUDhehSuR0l1QArXo3A91ndAFK5H4XoUeEAK16NwPV54QD0K16NwaXhAPQrXo3C9eEApXI\\u002fC9fh7QClcj8L1+H5AZmZmZmYeekD2KFyPwtV2QOxRuB6Fd3RAFK5H4XrMdEAfhetRuOJ0QB+F61G44nNA4XoUrkclc0CPwvUoXINyQM3MzMzM1HFAKVyPwvVgckCPwvUoXJtxQHsUrkfhanFAXI\\u002fC9ShIcUC4HoXrUexwQOF6FK5H7XBAhetRuB6NcEAfhetRuPpwQOF6FK5HGXFArkfhehSicEAfhetRuP5vQClcj8L1yG9ASOF6FK5Hb0BmZmZmZu5uQEjhehSu525ACtejcD2qbkCPwvUoXIduQAAAAAAAiG5A9ihcj8LVbkCuR+F6FN5uQFyPwvUoDG5A16NwPQrfbUBSuB6F6+ltQOF6FK5H0W1ArkfhehTObUCPwvUoXLdtQJqZmZmZ+W1AexSuR+HqbUApXI\\u002fC9VBtQM3MzMzMbG1A9ihcj8KtbUDNzMzMzHRtQHsUrkfh+mxAFK5H4XoMbUDXo3A9CudsQKRwPQrXC21AH4XrUbgmbUAzMzMzM0ttQClcj8L1yGxA16NwPQrnbEB7FK5H4TJwQK5H4XoUDm1ArkfhehR+bUCkcD0K1wNuQD0K16NwJW5A4XoUrkcpbkA9CtejcI1uQClcj8L1uG5A7FG4HoVDbkCF61G4Hl1uQBSuR+F6hG1AzczMzMzcbEAzMzMzM7NsQMP1KFyP0mxA16NwPQrnbEAfhetRuP5sQArXo3A9Am1A16NwPQonbUDXo3A9CmdtQBSuR+F6lGxA9ihcj8LlbEAK16NwPUpsQBSuR+F6hGxAH4XrUbgWbUAfhetRuF5tQPYoXI\\u002fCjW1ApHA9CterbUCF61G4Hq1tQKRwPQrXH3BAAAAAAABIcEDXo3A9CmdwQB+F61G4qnBA7FG4HoW3cEBI4XoUrqNwQB+F61G46nBACtejcD3mcEAUrkfherBwQAAAAAAAsHBAexSuR+F+cUAK16NwPYZxQMP1KFyPnnFAAAAAAADYcUCPwvUoXNtxQOxRuB6F13FAFK5H4XqwcUB7FK5H4c5xQI\\u002fC9ShcD3JArkfhehQickBxPQrXo2hyQGZmZmZminJAuB6F61GcckDNzMzMzFByQEjhehSuK3JAAAAAAAAUckD2KFyPwmFxQB+F61G4WnFAzczMzMyIcUBI4XoUrm9xQB+F61G4OnFAFK5H4XqocUAUrkfheoRxQHsUrkfhMnJAAAAAAABUckBmZmZmZoJyQDMzMzMzb3NACtejcD2mc0Bcj8L1KKhyQD0K16NwaXJA4XoUrkcFcUDsUbgehQ9xQD0K16Nw9XBAH4XrUbhWcUBcj8L1KChxQI\\u002fC9ShcV3BA4XoUrkcRcECuR+F6FFpwQB+F61G4knBAUrgeheu9cEAfhetRuBJwQD0K16NwZW9AexSuR+Fqb0AAAAAAAHhuQMP1KFyPam5AexSuR+GKbkCamZmZmeluQD0K16Nw\\u002fW5A16NwPQqnbkDD9Shcj7puQI\\u002fC9ShcX29A7FG4HoWDb0CamZmZmQ1wQEjhehSud29AexSuR+G6bUDsUbgehVttQM3MzMzMFG1AUrgehevhbEDhehSuR8lsQClcj8L1uGxAZmZmZmbebEAfhetRuK5sQK5H4XoURmxA16NwPQo3bEDXo3A9Cj9sQMP1KFyPUmxAzczMzMxsbEA9CtejcE1sQB+F61G49mxAAAAAAAAobUB7FK5H4aJtQHE9CtejsG1ACtejcD26bUAUrkfhetRtQEjhehSux21AcT0K16MgbkCPwvUoXD9uQClcj8L1IG5A16NwPQofbkBI4XoUrodtQPYoXI\\u002fCVW1AzczMzMxEbUAfhetRuKZtQClcj8L1wG1AZmZmZma2bUAAAAAAANhtQJqZmZmZuW1AZmZmZmZ2bkBcj8L1KFxuQHE9CtejiG5ACtejcD2CbkCamZmZmfluQClcj8L1yG5AMzMzMzPjbUBmZmZmZo5tQGZmZmZm5m1AFK5H4XpUbkBI4XoUrmduQI\\u002fC9Shcd21A16NwPQrfbUBSuB6F6\\u002fFtQOF6FK5HYWxAAAAAAACwbEBSuB6F6yltQK5H4XoUXmxAUrgehesRbUBSuB6F64ltQNejcD0Kj21AhetRuB69bUBxPQrXo2htQDMzMzMzS2xAMzMzMzNLbEAK16NwPQpsQIXrUbgenWxAPQrXo3C1bEDD9Shcj\\u002fprQI\\u002fC9ShcH2xArkfhehSebUCPwvUoXLdtQOF6FK5H8W1ArkfhehR2bkCkcD0K18NuQDMzMzMzu29AUrgehev5b0DNzMzMzFxwQHsUrkfhSnBAuB6F61Hob0BxPQrXowBwQB+F61G4zm9A4XoUrkfxbkCPwvUoXBdvQEjhehSuJ29AFK5H4Xqkb0AfhetRuMZvQClcj8L1DHBAMzMzMzPLb0CuR+F6FCZvQAAAAAAAsHBAzczMzMxUcUAAAAAAANxwQDMzMzMzY3BAmpmZmZmNcECkcD0K14NwQD0K16Nw1XFAUrgehetFckD2KFyPwmFyQBSuR+F66HFAPQrXo3DlcUAAAAAAAGhyQD0K16NwkXJACtejcD2WckBxPQrXo8ByQDMzMzMzS3JA9ihcj8JdcUCamZmZmV1xQPYoXI\\u002fCWXFAH4XrUbiacUBI4XoUrsNxQM3MzMzM3HFAzczMzMxEcUDD9Shcj1pwQK5H4XoU1m9AZmZmZmYKcEAfhetRuLZtQHsUrkfh6m1AzczMzMz8bUDsUbgehQNuQBSuR+F6zG5ACtejcD3qb0AzMzMzM+NuQD0K16NwVW5AAAAAAACIbkApXI\\u002fC9bhuQHE9Ctej8G1A9ihcj8KZcEApXI\\u002fC9TxwQLgehetRCG5AZmZmZmbGa0CF61G4Hu1rQFK4HoXruWtAj8L1KFz\\u002fa0CuR+F6FK5sQJqZmZmZyWxAuB6F61HQbECF61G4Hu1tQFK4HoXrwWxAH4XrUbi+bkD2KFyPwkVuQArXo3A98mxAAAAAAAAwbUAzMzMzM1tuQB+F61G41m1AcT0K16OocEBI4XoUrjdxQK5H4XoUVnNACtejcD3ib0AfhetRuAZvQHsUrkfhWm1AcT0K16OgbUDhehSuR3lsQEjhehSu52pAj8L1KFwXa0CuR+F6FFZrQI\\u002fC9Shcd2pAexSuR+Gya0AK16NwPaJsQBSuR+F6\\u002fGtAFK5H4XrEcEAzMzMzMwNxQArXo3A9enFArkfhehQCckD2KFyPwjFyQK5H4XoUYnJAAAAAAACsckDNzMzMzPhxQD0K16NwZXFASOF6FK7zcUBmZmZmZrJzQD0K16NwvXNA16NwPQoHdEDXo3A9CgN0QClcj8L1rHNAuB6F61EEdEAUrkfhegB0QMP1KFyPjnRAH4XrUbi2dEAfhetRuCp0QKRwPQrX63RAcT0K16MEdUBSuB6F6+F0QK5H4XoUmnRAhetRuB6ldEAUrkfheuhzQI\\u002fC9ShcO3RAMzMzMzPfdED2KFyPwp11QClcj8L1\\u002fHVAhetRuB4VdkCuR+F6FAZ2QEjhehSuD3ZA9ihcj8KVdkCuR+F6FAZ2QIXrUbgesXZAFK5H4XqAd0BxPQrXo4R3QDMzMzMzp3dA16NwPQqzd0BmZmZmZqp3QBSuR+F68HdAcT0K16MAeEDD9Shcj\\u002fp3QBSuR+F66HdAmpmZmZk5eEA9CtejcO13QKRwPQrXX3dAMzMzMzObd0AzMzMzM6t4QI\\u002fC9ShcM3hAmpmZmZktd0A9CtejcM12QK5H4XoUXnZAuB6F61Hgd0BI4XoUrid4QGZmZmZmhnhAMzMzMzOjeUDNzMzMzGx4QBSuR+F6WHlAAAAAAAA0ekA9CtejcJF8QOxRuB6F23pAKVyPwvU0d0CF61G4Hm13QK5H4XoUunZAFK5H4XqwdUBI4XoUrgt2QOxRuB6FD3ZAUrgehet1dUC4HoXrUbx0QAAAAAAA4HRAzczMzMyQdEAUrkfhekh1QM3MzMzMwHVAw\\u002fUoXI\\u002fudUDhehSuR112QEjhehSuf3ZArkfhehRqdkDsUbgehXN2QPYoXI\\u002fCfXZAmpmZmZnFdkDNzMzMzBB4QOF6FK5HSXhAZmZmZmaKeEDhehSuR2F4QNejcD0Kn3hAw\\u002fUoXI+yeEBI4XoUrhd4QClcj8L17HhASOF6FK4jeUAzMzMzM7t5QEjhehSu03hAexSuR+G2d0DXo3A9CvN2QIXrUbgecXdASOF6FK7rd0D2KFyPwiV2QAAAAAAANHVArkfhehSSdUDNzMzMzFx1QKRwPQrXx3ZA16NwPQqbd0AAAAAAABh4QK5H4XoUdnhASOF6FK5veECPwvUoXBN4QLgehetREHlAUrgehetpeUDXo3A9Cu95QLgehetReHpA9ihcj8JBe0ApXI\\u002fC9Zh7QB+F61G4bnlAexSuR+HGeUDNzMzMzHR6QOF6FK5HvXpA9ihcj8KNfEAfhetRuEJ9QArXo3A9un1AUrgehevpfUCamZmZmf19QFK4HoXrIX5ArkfhehT6fUCamZmZmSV+QOxRuB6Fd35ArkfhehTWfUDhehSuR51+QIXrUbgegX5AmpmZmZmJfkAK16NwPap+QHsUrkfh3n5Aj8L1KFwbfkCkcD0K1y9+QClcj8L1VH5ArkfhehSOf0ApXI\\u002fC9dR\\u002fQNejcD0K+39A4XoUrkchgEBI4XoUrkWAQOxRuB6FBYBA7FG4HoXDf0CF61G4HgeAQGZmZmZmEoBApHA9CtdLgEAzMzMzM5+AQArXo3A9MoBAj8L1KFxbfkBSuB6F6zV\\u002fQOxRuB6FQYBApHA9CtdLgEA9CtejcDGAQFK4HoXrEYFACtejcD3ogUCamZmZmQeCQK5H4XoUfIJASOF6FK6TgkD2KFyPwoOCQClcj8L1sIJAzczMzMx4gkBSuB6F61uCQClcj8L1boJAmpmZmZl\\u002fgkAzMzMzM2mCQOF6FK5Hl4JAj8L1KFyvgkBSuB6F61GCQClcj8L1SIJA16NwPQpjgkDD9Shcj5SCQOxRuB6Ft4JAH4XrUbjQgkDD9Shcj\\u002fiCQD0K16NwY4NAPQrXo3CDg0BmZmZmZoKDQB+F61G4gINAFK5H4Xqkg0CPwvUoXKmDQEjhehSuqYNAuB6F61GSg0AfhetRuHiDQIXrUbgeiYNAH4XrUbiag0CkcD0K19WDQOF6FK5H5YNAH4XrUbjAg0ApXI\\u002fC9ZCDQAAAAAAAmINAmpmZmZmVg0DhehSuR+mDQDMzMzMz9YNA9ihcj8LJg0A9CtejcEOEQFyPwvUoVoRAPQrXo3CFhEB7FK5H4Y6EQDMzMzMzKYRAcT0K16PggkD2KFyPwuOCQClcj8L1wIJA16NwPQotgkDNzMzMzDyCQPYoXI\\u002fCp4JASOF6FK7ZgkAAAAAAAPCCQEjhehSuu4JAAAAAAAC+gkBSuB6F6yGDQNejcD0KP4NAhetRuB4Xg0D2KFyPwgWDQOxRuB6Fh4JAXI\\u002fC9SjKgkCF61G4HjmDQHsUrkfh8INAuB6F61GIhEApXI\\u002fC9ZyEQJqZmZmZjYRA16NwPQqXhEDsUbgehYeEQClcj8L1qoRACtejcD28hEAUrkfheuSEQHsUrkfhEIVAAAAAAADMhECuR+F6FPyEQPYoXI\\u002fChYNASOF6FK5Tg0DNzMzMzAiCQClcj8L1FIJAXI\\u002fC9ShsgkCF61G4HmOCQKRwPQrXA4JAj8L1KFxpgEBI4XoUru+AQHsUrkfhaoBAUrgehevlfkDXo3A9Crd+QClcj8L1+HtAuB6F61EcfEBI4XoUrj98QMP1KFyPKnxAzczMzMwcfEDD9Shcj+p7QEjhehSun3tAXI\\u002fC9Sike0A9CtejcHV8QLgehetRfHxA16NwPQpLfEBmZmZmZgZ8QK5H4XoU4ntAcT0K16MAfEDsUbgehY97QLgehetRfHtAZmZmZmYWfEB7FK5H4Z58QPYoXI\\u002fCyXxAmpmZmZkxfEAK16NwPTp8QBSuR+F6+HtA4XoUrke1fEBxPQrXowh9QM3MzMzMRH9Aj8L1KFxHf0AAAAAAANR+QOxRuB6Fc39AhetRuB7pf0BSuB6F6+1\\u002fQClcj8L1eH9AmpmZmZkpf0Bcj8L1KKyAQNejcD0K84BAAAAAAAA4gEAAAAAAAFx9QGZmZmZmtnpA9ihcj8J5e0C4HoXrUdx6QFK4HoXrtXtASOF6FK57fEAfhetRuJZ8QClcj8L16HxAhetRuB4lfUCF61G4Hvl8QGZmZmZmanxAKVyPwvUYfEDNzMzMzPB+QD0K16Nw9X5AuB6F61EwfkBSuB6F68V+QPYoXI\\u002fCjX9AXI\\u002fC9ShwgEAUrkfheiSCQArXo3A9cIJA7FG4HoVLgkAUrkfhelSCQFK4HoXr0YFAZmZmZmbkgUAfhetRuOSCQAAAAAAADoNAAAAAAABwg0CF61G4HnODQD0K16NwxYNAXI\\u002fC9Sjsg0CF61G4HvmDQArXo3A9\\u002fINAmpmZmZkhhEAK16NwPUCEQI\\u002fC9Shc84NArkfhehQmhECamZmZmR+EQIXrUbge2YNAH4XrUbjKhEBcj8L1KO6EQArXo3A9EoVA9ihcj8LBhUDhehSuR\\u002feFQKRwPQrX04FA16NwPQrrgUCF61G4HkGCQGZmZmZmkIJAZmZmZmbegkDXo3A9CuuAQHsUrkfh\\u002fIJA4XoUrkf\\u002fg0CkcD0K1zODQEjhehSuN4JApHA9Ctedg0Bcj8L1KL6DQK5H4XoULoRAmpmZmZmHhEDNzMzMzMiEQB+F61G4roRA9ihcj8KdhUBSuB6F64+EQDMzMzMzB4VASOF6FK5DhkBI4XoUrv2FQFyPwvUoQoZAw\\u002fUoXI+OhkCamZmZmXmIQBSuR+F6nolAw\\u002fUoXI8qikCPwvUoXEGKQKRwPQrX04lA9ihcj8JlikBcj8L1KKyKQClcj8L1\\u002folAAAAAAAD0iUApXI\\u002fC9SaKQAAAAAAABIpAAAAAAADoi0Bcj8L1KAiMQJqZmZmZ64pAPQrXo3CziUDD9Shcj5yKQDMzMzMzMYtAmpmZmZmJi0CF61G4HrOLQEjhehSuN4tAUrgehetLikDhehSuR1eKQOF6FK5HEYtAFK5H4XpGi0DsUbgehb2KQLgehetR6opAXI\\u002fC9SgEjUCkcD0K18uMQOxRuB6FOYtAexSuR+ECi0A9CtejcDWLQFK4HoXrLY5AKVyPwvXIj0AzMzMzM8ONQK5H4XoU3IpAMzMzMzMRikAUrkfheqKJQM3MzMzMOohAcT0K16PEh0DNzMzMzPSHQHsUrkfhZIdAFK5H4XpYh0CuR+F6FEyIQAAAAAAATohAmpmZmZlVhUCF61G4HmOFQOF6FK5HR4VAUrgehevVhEBcj8L1KHKEQOF6FK5HyYZApHA9CtcZhkDD9ShcjzqFQHE9CtejlodAAAAAAACSi0DhehSuR7GLQDMzMzMzRYxAuB6F61FujUDsUbgehS+MQHE9CtejTI9ApHA9Ctcpj0A9CtejcM+MQK5H4XoUFIlAhetRuB61ikDsUbgehUmQQD0K16NwCZJAFK5H4XoQkkAAAAAAACCRQEjhehSufZBAuB6F61G0kUDD9ShcjxCSQHsUrkfh65FACtejcD3WkEBI4XoUrk+PQLgehetRBI1APQrXo3BViUB7FK5H4TqJQPYoXI\\u002fCZ4pAzczMzMxmiEAzMzMzM+uGQDMzMzMzvYJAexSuR+EwiUAK16NwPf6FQOF6FK5HSX9AXI\\u002fC9SgkfEAK16NwPV57QGZmZmZmnnpAzczMzMzgeUApXI\\u002fC9ax2QLgehetR9HVAMzMzMzPrdUCF61G4Hi13QMP1KFyPKnVAH4XrUbgCc0AAAAAAAHBwQIXrUbgeVW9AuB6F61HgbECamZmZmeFqQLgehetR+GlAzczMzMzUaUD2KFyPwqVpQIXrUbgeJWpA4XoUrkeZaUCkcD0K19NoQK5H4XoUjmhAhetRuB6NZ0CkcD0K19toQD0K16NwLWtApHA9CtezakBxPQrXo4hoQArXo3A9GmdAhetRuB7dZUCPwvUoXC9mQB+F61G4fmNAPQrXo3BtYkCPwvUoXAdjQBSuR+F6LGJApHA9CtcDYkCF61G4HlVhQIXrUbge9WBAUrgehet5YEAAAAAAAHBgQAAAAAAAeGBArkfhehTeX0BxPQrXo0hgQIXrUbgeNWBArkfhehROYEB7FK5H4UJgQLgehetR6F5AexSuR+GyYEBcj8L1KNRgQDMzMzMzS2FA7FG4HoWTYUBcj8L1KPRgQEjhehSu12BA9ihcj8LdYECuR+F6FDZgQD0K16Nw3V9A16NwPQqXYECuR+F6FL5gQOxRuB6FE2BApHA9CtfzYEBxPQrXo3hgQGZmZmZmpmBAuB6F61GYYEDXo3A9CpdgQK5H4XoUbmBAMzMzMzP7YEDD9ShcjzJhQMP1KFyPAmFAw\\u002fUoXI86YUBI4XoUrjdgQFK4HoXrIWBArkfhehQuX0Bcj8L1KHxfQPYoXI\\u002fC1V9ArkfhehRuYEAAAAAAABBiQHsUrkfhSmFAAAAAAABQYkBSuB6F6zliQBSuR+F6nGFAAAAAAAD4YEDNzMzMzOxeQBSuR+F61F9Aj8L1KFzPX0AAAAAAALBeQI\\u002fC9Shcv15AKVyPwvVYXkAAAAAAAIBeQAAAAAAA4F5ACtejcD06X0BxPQrXo8BeQKRwPQrXw15AXI\\u002fC9SisXEAAAAAAAHBcQDMzMzMzE1xAAAAAAABQXEAAAAAAAMBcQGZmZmZmVltAAAAAAAAAW0Bcj8L1KExaQJqZmZmZ+VlAAAAAAABwWkAAAAAAALBaQAAAAAAAsFpAuB6F61HYWkDhehSuR\\u002fFaQM3MzMzMfFpAUrgehetxWkAAAAAAAABbQAAAAAAAAFtA9ihcj8LVW0CPwvUoXP9aQAAAAAAAoFlAhetRuB4lWUAAAAAAAEBYQK5H4XoUXlhAhetRuB5VWECPwvUoXP9XQBSuR+F6NFhAAAAAAAAAV0DNzMzMzPxWQGZmZmZmRldAzczMzMzMV0AzMzMzM7NYQK5H4XoU\\u002flhA16NwPQr3WECamZmZmXlZQM3MzMzMrFhAAAAAAACQWEAAAAAAAABaQFK4HoXrkVZAAAAAAADAVUAzMzMzM5NTQAAAAAAAAFRApHA9CtejUkAAAAAAAMBSQAAAAAAAAFRA16NwPQrHVEAfhetRuL5WQDMzMzMzE1dACtejcD1qWEBI4XoUrodYQI\\u002fC9Shc\\u002f1hAj8L1KFxvWUAAAAAAAABaQI\\u002fC9ShcX1pArkfhehSeWkCF61G4HhVbQDMzMzMzM1tAPQrXo3B9W0CPwvUoXL9cQDMzMzMzk1xArkfhehSOW0DXo3A9CsdbQD0K16NwjVlAZmZmZmZmWUDNzMzMzOxZQM3MzMzMLFpAMzMzMzOTW0DD9Shcj\\u002fJbQGZmZmZmZltAZmZmZmaGW0CPwvUoXD9bQHsUrkfh2ltAAAAAAADAXUBmZmZmZsZeQK5H4XoU3l5A9ihcj8L1XkAAAAAAAKBeQM3MzMzMLGBAKVyPwvU4YEDNzMzMzDxgQAAAAAAAiGBAexSuR+GSYEDD9Shcj1JgQNejcD0K72BAAAAAAAAAYUDXo3A9CqdgQDMzMzMzu2BA7FG4HoW7X0AAAAAAAABfQAAAAAAAwF5ASOF6FK7nXkAAAAAAACBfQAAAAAAAUF9AMzMzMzNTX0BxPQrXo7BdQKRwPQrX81xAMzMzMzPzXUDNzMzMzKxdQM3MzMzMXF1A7FG4HoWrXUAAAAAAAIBeQD0K16NwXVxAUrgehevxXEBcj8L1KFxcQArXo3A9Kl9AMzMzMzOzXUAAAAAAAMBcQLgehetRCFtAZmZmZmZmX0AUrkfhenxhQPYoXI\\u002fCXWJASOF6FK5vYkCPwvUoXP9gQA==\"},\"low\":{\"dtype\":\"f8\",\"bdata\":\"H4XrUThBpUAzMzMzs6mkQJqZmZmZCaVAKVyPwnXvpEBI4XoUrsKjQJqZmZmZJaNAUrgehetho0B7FK5HYRalQHsUrkfhu6RAUrgehWvDpEAzMzMzs3ukQOF6FK7Hu6FAKVyPwnWooUDXo3A9iumgQBSuR+F6Mp5AhetRuB7MnEBxPQrXoxmfQD0K16NwDqFAXI\\u002fC9ahJokDhehSuR8ahQIXrUbie8aFA9ihcj0IiokBI4XoULqujQIXrUbieeKNACtejcL2Fo0B7FK5HYSukQJqZmZkZ1aNAMzMzM7P+o0A9Ctej8GCjQEjhehSutaJAKVyPwnXmokCPwvUo3FyjQClcj8L1nKNApHA9Ctdoo0AUrkfh+jmiQK5H4XqUkKJACtejcD3wo0B7FK5HYS6kQArXo3C9JKVAH4XrUbikpEDNzMzMzMikQHE9CtejO6RAw\\u002fUoXA\\u002fqo0Bcj8L1qKijQFK4HoXraaNAzczMzEyiokBSuB6F60mhQHsUrkfh2aJA9ihcj8K0pECF61G4Hq2jQMP1KFwPMaZAmpmZmRl1pUAK16NwPdelQGZmZmbm3aRAhetRuB4ZpUBI4XoUrgWlQD0K16NwnKNArkfhehQpo0BxPQrXI++iQHE9CtejiqJAXI\\u002fC9ajgoUBxPQrXI8OgQHE9CtcjmaBApHA9Cld2oEBcj8L1KAygQLgehetR\\u002f5xAFK5H4fovoECamZmZmdqhQArXo3C9IqJAAAAAAAAFoUAUrkfheoefQAAAAAAA1p9ASOF6FK7bnkAAAAAAAImdQBSuR+F6PJxAcT0K16P3mUBcj8L1KFqaQFyPwvUosppAFK5H4XrCm0C4HoXrUcyZQNejcD0KeJpAZmZmZmZtm0BmZmZmZtyaQDMzMzMz0ZpASOF6FK7zmEDXo3A9Cl+YQAAAAAAAGphACtejcD3pl0B7FK5H4UqXQClcj8L1nZZA9ihcj8IelkAzMzMzMxGVQEjhehSui5RApHA9CteMlEAUrkfhejGUQDMzMzMzBZRAH4XrUbjHk0B7FK5H4YeTQOxRuB6F5pJA9ihcj8LPkkB7FK5H4eGSQArXo3A9\\u002fpJAcT0K16PhkkC4HoXrUdSSQK5H4XoUp5JAmpmZmZlSkkA9CtejcFKSQKRwPQrXM5JAXI\\u002fC9SgfkkD2KFyPwhGSQNejcD0Ks5JApHA9CteNkkBcj8L1KGySQD0K16NwT5JAuB6F61EqkkDD9Shcjy2SQArXo3A9l5FA7FG4HoVmkUCuR+F6FIKRQM3MzMzMO5FAzczMzMzNkECPwvUoXJSQQMP1KFyPCpBAuB6F61Hgj0DXo3A9Cr+PQFK4HoXrDpBApHA9CtdfjkDsUbgehdGNQEjhehSuPYxAexSuR+EyjUAfhetRuBOQQEjhehSusY9APQrXo3B9kEAfhetRuDKQQKRwPQrXhY5AMzMzMzPtjUDhehSuRy6RQPYoXI\\u002fCAZJAAAAAAABfk0B7FK5H4RKTQIXrUbgeBJNAPQrXo3BdkkDhehSuR3GRQAAAAAAA1ZBAUrgehevUkUC4HoXrUfCRQDMzMzMz05JAZmZmZmbCk0AK16NwPViTQNejcD0KOpNApHA9CteKk0AUrkfhev6SQPYoXI\\u002fCbpJA4XoUrkdPkkDsUbgehS2SQM3MzMzMqJFAj8L1KFySkUCkcD0K16+RQKRwPQrXc5FAMzMzMzMykUAfhetRuNOQQPYoXI\\u002fCRpBApHA9CtdNkECkcD0K11uQQMP1KFyPBpBAMzMzMzN9j0BxPQrXo0yPQPYoXI\\u002fC045AAAAAAACAjkCPwvUoXCePQHE9Ctejto5A7FG4HoWVjUAfhetRuMqNQClcj8L1NZBAw\\u002fUoXI9AkEBxPQrXoxCQQClcj8L18o9A4XoUrke5j0C4HoXrUYaPQPYoXI\\u002fCuY5AUrgehetVjkBI4XoUrseMQPYoXI\\u002fCu4xAMzMzMzO5jEAUrkfher6MQM3MzMzMnoxA9ihcj8IxjEDsUbgehd2LQLgehetR4otAUrgeheuljEAUrkfhegyMQArXo3A9\\u002fItArkfhehS4i0AfhetRuKKLQGZmZmZm0opAZmZmZmb2iUBcj8L1KKKJQClcj8L1ZolASOF6FK5jiUAAAAAAAGCIQK5H4XoUnodArkfhehTWh0AUrkfheiiMQBSuR+F6fotAAAAAAAC6i0AUrkfheryJQOxRuB6Fn4tAj8L1KFxzjECamZmZmVGQQM3MzMzM7I9AmpmZmZklj0CamZmZmfWNQFK4HoXrmY1AcT0K16M2jUAAAAAAANSNQHE9CtejNo1AAAAAAABCjEAzMzMzMweMQI\\u002fC9Shc84pAH4XrUbiyi0A9CtejcAWLQDMzMzMzEYpAMzMzMzP7iEAAAAAAALyIQMP1KFyPsohACtejcD2giEB7FK5H4YaIQEjhehSuV4hAZmZmZmZOiEAfhetRuEaIQEjhehSuT4hAuB6F61EQiEDhehSuR+uHQOF6FK5HJ4hAMzMzMzMNiECamZmZme+HQAAAAAAAvodA9ihcj8K1h0BI4XoUrn2HQOF6FK5HAYhAexSuR+Hmh0C4HoXrUayHQGZmZmZmUIdArkfhehQCh0AUrkfhevSGQKRwPQrX44ZAH4XrUbjYhkDXo3A9Cs2GQB+F61G49IZAUrgehevrhkCPwvUoXBeHQArXo3A9BIdArkfhehTUhkDsUbgehW+GQPYoXI\\u002fCQ4dAhetRuB4Hh0CuR+F6FByHQLgehetRKIZArkfhehQKhkAUrkfhet6FQMP1KFyPeoVACtejcD0AhkDhehSuR1OGQEjhehSuOYZAexSuR+EkhkCF61G4HvOFQDMzMzMz34VAFK5H4XrchUBSuB6F682FQBSuR+F6bIVA4XoUrkcxhUDNzMzMzJKGQB+F61G46oVAPQrXo3CdhUCkcD0K18OFQGZmZmZmkIVA4XoUrkdhhUC4HoXrUTCFQD0K16NwjYRAmpmZmZlthEDNzMzMzGSEQIXrUbgeb4RAzczMzMzGg0DsUbgehbWDQK5H4XoUooNArkfhehSgg0AAAAAAAOCDQOF6FK5H9YNAMzMzMzP3g0CF61G4HuuDQK5H4XoU6INACtejcD3Yg0D2KFyPwt+DQAAAAAAAVINAmpmZmZlBg0B7FK5H4USDQB+F61G4SoNAw\\u002fUoXI8eg0D2KFyPwhuDQClcj8L1DINApHA9CtcLg0BI4XoUrhODQD0K16NwDYNAPQrXo3APg0CF61G4HuGCQM3MzMzM5oJAexSuR+HkgkB7FK5H4eCCQM3MzMzMwoJASOF6FK69gkC4HoXrUdCCQLgehetRnoJASOF6FK6hgkDXo3A9Cp+CQOxRuB6F\\u002f4JAXI\\u002fC9SgCg0B7FK5H4e6CQOxRuB6F6YJAUrgehev1gkAzMzMzM\\u002fmCQOF6FK5HA4NAj8L1KFz3gkDhehSuR+uCQK5H4XoUxIJAhetRuB5zg0CuR+F6FGKDQB+F61G4LoNArkfhehQEg0AfhetRuOiCQFK4HoXr0YJAzczMzMymgkAUrkfhevCBQBSuR+F61oFAFK5H4XregUCF61G4Hu2BQHsUrkfh8IFA9ihcj8LrgUBSuB6F682BQNejcD0KxYFAexSuR+EGgkCPwvUoXPmBQHsUrkfhHoJA16NwPQotgkAfhetRuCSCQPYoXI\\u002fCIYJASOF6FK77gUA9CtejcPGBQD0K16Nw64FAPQrXo3DbgUD2KFyPwrWBQFK4HoXrmYFACtejcD2mgUCkcD0K10eCQBSuR+F6PoJAKVyPwvVogkApXI\\u002fC9VKCQLgehetRRoJAZmZmZmZggkDD9Shcj1aCQPYoXI\\u002fCy4FApHA9CtfPgUAK16NwPa6BQGZmZmZm7IBAcT0K16OagEDXo3A9Cu+CQClcj8L1goNASOF6FK5xhEC4HoXrUXaEQFK4HoXrc4RAmpmZmZlDhEDXo3A9Ci+EQIXrUbgea4RAuB6F61FmhEBcj8L1KESEQPYoXI\\u002fCNYRA4XoUrkejhEB7FK5H4bqEQNejcD0K3YRA16NwPQrlhEBSuB6F66+EQHE9CtejmoRAuB6F61GYhECPwvUoXGeEQPYoXI\\u002fCc4RACtejcD02hECkcD0K1yeEQK5H4XoUCoRAMzMzMzPLg0D2KFyPwuODQHE9CtejHoNAj8L1KFzzhEDD9Shcj8iEQK5H4XoUVIRArkfhehRIhEAzMzMzMyOFQB+F61G47IRAexSuR+Hkg0AK16NwPaKDQFyPwvUo7oNAXI\\u002fC9Shkg0A9CtejcEeDQBSuR+F6NIRAXI\\u002fC9SiKg0CF61G4HnGBQKRwPQrXW4JAw\\u002fUoXI\\u002f4g0CkcD0K1+WGQNejcD0KTYdAPQrXo3DvhkAUrkfhemSGQFyPwvUoxIVAFK5H4XoEhUBmZmZmZraEQFK4HoXrw4RAuB6F61H4gkCPwvUoXBWCQHE9Ctej6oFAmpmZmZnXgUDXo3A9CumBQK5H4XoUvIFAzczMzMz0gUA9CtejcMmBQFK4HoXroYFAj8L1KFzHgEBxPQrXo6iAQIXrUbgebYBA4XoUrkdFgEBI4XoUrleAQD0K16NwAYBAMzMzMzOLfUC4HoXrUVh8QGZmZmZm\\u002fntAKVyPwvXge0B7FK5H4b57QIXrUbgebXtAcT0K16Nwe0CPwvUoXJt7QArXo3A9VntAj8L1KFxre0DNzMzMzFR8QPYoXI\\u002fCWXxA16NwPQpPfECPwvUoXHd8QHE9CtejbHxAMzMzMzNXfEAAAAAAABR8QPYoXI\\u002fCLXxAMzMzMzMPfEAUrkfheoh8QEjhehSuf3xAhetRuB6VfECF61G4HvF7QK5H4XoU3ntArkfhehTae0BSuB6F66l7QBSuR+F6nHtAexSuR+H+e0AzMzMzM\\u002ft7QLgehetR4HtAZmZmZmZKe0CuR+F6FMJ7QFK4HoXr2XxAPQrXo3BZfEB7FK5H4Q58QOF6FK5HxXtAZmZmZmbCe0AzMzMzM497QMP1KFyPJntAmpmZmZnBekA9CtejcLF6QOF6FK5HoXpASOF6FK7PekB7FK5H4YZ6QFyPwvUocHpAH4XrUbhuekA9CtejcG16QBSuR+F6SHpAXI\\u002fC9Sg0ekBcj8L1KAh6QK5H4XoUOnpAuB6F61FIekBI4XoUrmt6QPYoXI\\u002fCSXpAmpmZmZk5ekAzMzMzMzt6QB+F61G4JnpA4XoUrkf9eUBcj8L1KPR5QAAAAAAAyHlAexSuR+HKeUBxPQrXo3R6QI\\u002fC9ShcG3pAXI\\u002fC9SgEekApXI\\u002fC9fh5QKRwPQrX93lA9ihcj8IVekAUrkfhesh5QK5H4XoUpnlAZmZmZmameUBI4XoUrnN5QArXo3A9YnlACtejcD0eekDD9Shcj\\u002f55QKRwPQrX73lAMzMzMzPjeUAK16NwPbp5QD0K16NwoXlAXI\\u002fC9SgQekAAAAAAANR5QPYoXI\\u002fCuXlAPQrXo3CxeUApXI\\u002fC9WR5QBSuR+F6vHhAcT0K16OgeEDXo3A9Cq95QMP1KFyPNnpApHA9Ctd\\u002fekCF61G4HgV7QNejcD0K+3pAhetRuB59ekCamZmZmcF6QFK4HoXrWXpAH4XrUbhGekDD9Shcj955QIXrUbgeHXpAH4XrUbgOe0DhehSuR9F6QJqZmZmZWXpAmpmZmZkZekAK16NwPfp5QBSuR+F6bHlAexSuR+EWeUAAAAAAANx4QHsUrkfhjnhACtejcD0KeECamZmZmbl3QGZmZmZmhndAFK5H4Xp8d0BmZmZmZk53QOF6FK5HVXdAZmZmZmZud0AK16NwPUZ3QIXrUbgeGXhApHA9Ctcfd0DNzMzMzAB3QB+F61G4TndAj8L1KFz\\u002fdkDhehSuR\\u002f12QKRwPQrXh3dAMzMzMzPXdkCkcD0K17t3QBSuR+F6fHhAhetRuB5peEDNzMzMzEh4QFyPwvUoOHhASOF6FK7fd0AUrkfhenR3QM3MzMzMZHlAmpmZmZmJd0DsUbgeha93QB+F61G4indAPQrXo3DBd0DD9Shcjy52QOF6FK5HxXZAmpmZmZm9ekDXo3A9Cod6QNejcD0KO3tA9ihcj8K9e0CamZmZmYV7QArXo3A97ntA16NwPQr\\u002fe0DhehSuR9F6QD0K16NwpXpAexSuR+HaekDhehSuR9F6QI\\u002fC9Shci3pAUrgehev9ekBcj8L1KLh6QKRwPQrXK3pA4XoUrkdhekCuR+F6FEp6QEjhehSuJ3pArkfhehSOeUBcj8L1KFx5QIXrUbgeQXxA4XoUrkexe0BSuB6F60l7QLgehetROHtAKVyPwvW0ekA9CtejcCV7QFyPwvUojHxA16NwPQpvfED2KFyPwg18QJqZmZmZvXtArkfhehS+e0CPwvUoXOd6QLgehetRpHpApHA9CtereUAUrkfhevR5QM3MzMzMuHlAcT0K16NkeUAzMzMzM194QMP1KFyPFnhAPQrXo3AxeEBI4XoUrrN2QFyPwvUoPHZAw\\u002fUoXI9WdkCPwvUoXNd1QClcj8L1SHZArkfhehQmd0AfhetRuDp2QB+F61G4AnZAUrgeheu9dUBI4XoUroN0QLgehetRzHNAUrgehevhc0BxPQrXoxR0QFyPwvUoFHRAmpmZmZn5c0DsUbgehYNzQLgehetRVHRACtejcD2qdED2KFyPwpl0QGZmZmZmvnNApHA9CtfXc0DsUbgehZ90QIXrUbgeYXRA9ihcj8KVc0AAAAAAANByQPYoXI\\u002fCkXRACtejcD2udkAzMzMzMwt3QHsUrkfhRndAuB6F61EgdkDhehSuR2l3QM3MzMzMyHdAZmZmZmZadkCPwvUoXDN0QK5H4XoUfnNAAAAAAABUc0DXo3A9Cp9zQIXrUbge3XJAMzMzMzNbckBcj8L1KNBxQFyPwvUoiHFA16NwPQqXcUAAAAAAAEhxQHE9CtejGHFArkfhehSicEA9CtejcH1wQEjhehSuc3BAMzMzMzNPcEAUrkfhekxwQFK4HoXrZXBA9ihcj8K9b0CamZmZmYFvQM3MzMzMHG9AuB6F61F4bkD2KFyPwqVuQM3MzMzMhG5ACtejcD1ibkCkcD0K10NuQPYoXI\\u002fCRW5AexSuR+FSbkAUrkfhegRuQClcj8L1oG1ArkfhehS+bUCuR+F6FJ5tQDMzMzMzk21ApHA9CtdzbUBcj8L1KHRtQPYoXI\\u002fCfW1A16NwPQoPbUCPwvUoXA9tQOxRuB6FK21A9ihcj8I1bUDhehSuR8lsQHsUrkfhsmxApHA9CtcjbEBxPQrXo1BsQIXrUbge3WxAexSuR+HibECuR+F6FAZtQPYoXI\\u002fCnWxAzczMzMxsbEAK16NwPbpsQB+F61G4fmxAw\\u002fUoXI+qbEAAAAAAAFhtQMP1KFyPym1A4XoUrkd5bUAK16NwPbptQPYoXI\\u002fC9W1A16NwPQrXbUD2KFyPwlVtQK5H4XoUrmxAmpmZmZlhbEA9CtejcFVsQNejcD0KT2xA7FG4HoVbbECF61G4Hj1sQAAAAAAASGxAw\\u002fUoXI9qbED2KFyPwp1rQPYoXI\\u002fC9WtAZmZmZmaGa0AK16NwPfJoQK5H4XoUTmpAw\\u002fUoXI8ybEBmZmZmZtZrQNejcD0K92xAzczMzMxcbEBxPQrXo9hrQMP1KFyPYmpAUrgehesRcEBxPQrXoxBwQM3MzMzMVHBASOF6FK5XcEA9CtejcG1wQOxRuB6Fl3BAPQrXo3CBcECamZmZmWlwQOxRuB6FR3BAj8L1KFxLcEBSuB6F60VxQGZmZmZmZnFApHA9CteXcUBI4XoUrpNxQEjhehSug3FAFK5H4XpYcUD2KFyPwmFxQD0K16NwpXFAhetRuB7pcUAUrkfhegxyQB+F61G4VnJAMzMzMzP3cUCPwvUoXPtxQAAAAAAA4HFAAAAAAAA0cUDsUbgehTtxQK5H4XoUJnFAH4XrUbg2cUCPwvUoXA9xQFyPwvUoCHFAhetRuB4hcUBxPQrXowBxQKRwPQrXM3FAUrgehevVcUAK16NwPepxQFyPwvUokHFAAAAAAABIckAUrkfherhxQM3MzMzMzHBAPQrXo3CxcEAK16NwPYZwQOF6FK5HjXBAmpmZmZm5cEAzMzMzMytwQGZmZmZmxm9AAAAAAACwb0CkcD0K18NvQHE9Ctej+G9AZmZmZmb+b0DD9ShcjxJvQPYoXI\\u002fC7W5ApHA9CtdjbkCamZmZmTFuQKRwPQrXC25AuB6F61EQbkBcj8L1KGRuQClcj8L1eG5AXI\\u002fC9Sg8bkBcj8L1KBRuQOF6FK5HeW5AXI\\u002fC9SiEbkCPwvUoXM9uQKRwPQrXg21APQrXo3AtbUAAAAAAAABtQB+F61G4pmxAUrgeheupbEBxPQrXo5hsQLgehetRgGxA9ihcj8J9bEB7FK5H4dprQM3MzMzM1GtAXI\\u002fC9SgMbED2KFyPwuVrQJqZmZmZAWxA9ihcj8L9a0A9CtejcM1rQJqZmZmZqWtA4XoUrkexbECamZmZmQFtQI\\u002fC9Shcd21AzczMzMyUbUCuR+F6FJZtQK5H4XoUdm1AFK5H4XqUbUBSuB6F69ltQK5H4XoU1m1AUrgehethbUB7FK5H4TptQHsUrkfh+mxACtejcD36bEAfhetRuA5tQLgehetRgG1A4XoUrkdpbUDhehSuR5ltQFK4HoXrQW1A4XoUrkdhbUAzMzMzMwNuQFyPwvUo7G1AMzMzMzPbbUAUrkfhevRtQHE9CtejiG1ACtejcD2SbECPwvUoXKdsQJqZmZmZAW1AUrgeheu5bUDD9Shcj0JtQHsUrkfhCm1Aw\\u002fUoXI8CbUBI4XoUrh9sQPYoXI\\u002fC7WtACtejcD3ia0BxPQrXo0BrQKRwPQrX22pAexSuR+FKbED2KFyPwr1sQGZmZmZmJm1Aj8L1KFwvbUCamZmZmQlsQI\\u002fC9Shcv2tApHA9CtfLa0Bcj8L1KJxrQK5H4XoUvmtAPQrXo3D9a0DNzMzMzFRrQArXo3A9CmtAAAAAAADAa0AAAAAAADBtQPYoXI\\u002fCRW1AcT0K16MYbUDNzMzMzOxtQNejcD0Kh25AH4XrUbiGb0AK16NwPdJvQK5H4XoUfm9AMzMzMzNjb0Bcj8L1KHxvQD0K16NwrW5AhetRuB4lbkBI4XoUrlduQB+F61G45m1AMzMzMzMbbkDXo3A9Ct9uQB+F61G4pm5AhetRuB6dbkC4HoXrUZBtQIXrUbgehW5AAAAAAABccEA9CtejcDlwQM3MzMzM9G9Aw\\u002fUoXI8ycEAUrkfhehRvQKRwPQrXO29AUrgehevFcUDXo3A9CttxQAAAAAAAkHFASOF6FK6PcUA9CtejcNVxQMP1KFyPRnJAXI\\u002fC9SgockCkcD0K1xtyQArXo3A9HnFAKVyPwvUIcUCuR+F6FOJwQFyPwvUo4HBAuB6F61GMcECuR+F6FMJwQMP1KFyPwnBAKVyPwvUkcED2KFyPwr1uQI\\u002fC9ShcL29ArkfhehSObUC4HoXrUUhtQClcj8L1cG1AzczMzMyMbUA9CtejcA1tQDMzMzMzO21A9ihcj8JlbkCamZmZmeltQHsUrkfhcm1AexSuR+EKbUBSuB6F6wltQHE9CtejoGxA9ihcj8J1bEApXI\\u002fC9XBtQLgehetRqGtA7FG4HoUza0AK16NwPUJrQMP1KFyP6mpAcT0K16Mga0DD9Shcj6JrQOxRuB6F02tAj8L1KFwHa0DXo3A9CtdqQOxRuB6Fo2tAj8L1KFwPbECF61G4HtVrQLgehetRgGpAUrgehesJa0B7FK5H4TpsQB+F61G4lmtAmpmZmZlhbEDNzMzMzFRvQMP1KFyPwm9AFK5H4Xp8bkBxPQrXo8BsQGZmZmZmJmxA9ihcj8JNbEAfhetRuGZqQM3MzMzMpGlACtejcD3qaUC4HoXrUVBoQFyPwvUoXGhAcT0K16P4aEDNzMzMzBxmQLgehetRcGVAhetRuB59a0AzMzMzM5NwQHE9CtejkHBA7FG4HoUfcUAUrkfheohxQHsUrkfhonFA4XoUrkexcUAzMzMzMwtxQOF6FK5HkXBA9ihcj8IZcEDhehSuR5FxQClcj8L1mHNAAAAAAACgc0CPwvUoXGNzQFK4HoXrVXNAKVyPwvWEc0DhehSuR3FzQK5H4XoUinNArkfhehTKc0CPwvUoXM9zQPYoXI\\u002fCFXRAmpmZmZmZdEB7FK5H4QZ0QGZmZmZm7nNAcT0K16PAc0C4HoXrUSxzQEjhehSuA3NAZmZmZmayc0ApXI\\u002fC9XB0QHsUrkfhjnVAH4XrUbiWdUA9CtejcKl1QHE9Ctej1HVAXI\\u002fC9SgsdUBSuB6F66V1QDMzMzMzj3VACtejcD2edkC4HoXrUVR3QNejcD0KL3dAXI\\u002fC9SjcdkBcj8L1KPx2QJqZmZmZZXdA9ihcj8Kdd0AfhetRuIp3QClcj8L1VHdACtejcD1Cd0AzMzMzM2d2QBSuR+F6BHdAhetRuB7ddkAUrkfhemx3QB+F61G46nZAexSuR+ESdkCuR+F6FO51QPYoXI\\u002fCgXVAFK5H4XpMdkBmZmZmZl53QFK4HoXrMXdAAAAAAACYd0CamZmZmWl3QFyPwvUoMHdAcT0K16MMeEBSuB6F6xF5QKRwPQrX\\u002f3ZApHA9Cte7dkApXI\\u002fC9Vh2QAAAAAAAhHVAZmZmZmZidUAUrkfhelx1QB+F61G4JnVAexSuR+GqdEDhehSuR1F0QEjhehSuV3RArkfhehQKdEApXI\\u002fC9RB0QArXo3A9EnVAhetRuB7xdEA9CtejcPV0QHsUrkfhCnZAKVyPwvXcdUB7FK5H4X51QK5H4XoUbnVAKVyPwvUUdkAzMzMzM0d2QAAAAAAA5HdA4XoUrkfNd0AAAAAAAKR3QI\\u002fC9ShcJ3hA7FG4HoWvd0AK16NwPXZ3QIXrUbgeUXdAuB6F61FMeECF61G4HnV4QGZmZmZmDndACtejcD1CdkAzMzMzMz92QI\\u002fC9ShcD3ZA16NwPQq7dUDXo3A9CnN0QEjhehSuB3RAKVyPwvXockDNzMzMzBRyQArXo3A9XnRA9ihcj8JddkAzMzMzM093QBSuR+F6zHdA16NwPQpXd0CkcD0K10N3QOF6FK5HZXdAUrgehevVeEBcj8L1KAB5QOxRuB6Fl3lArkfhehRSekAzMzMzM8N4QK5H4XoU0nhAexSuR+GSeECuR+F6FF54QBSuR+F6CHhAmpmZmZnReUAfhetRuEZ8QK5H4XoUEn1AuB6F61GgfUBSuB6F68F9QJqZmZmZsX1AXI\\u002fC9SiQfUD2KFyPwql9QArXo3A9sn1AFK5H4Xo8fUBxPQrXo0x9QBSuR+F6JH5AAAAAAAAwfkD2KFyPwhl+QD0K16Nw0X1Aj8L1KFzDfUCF61G4HoV9QMP1KFyPfn1AKVyPwvWsfUAK16NwPVp\\u002fQIXrUbgefX9ArkfhehSuf0AfhetRuO5\\u002fQHE9CtejaH9ASOF6FK4zf0CamZmZmRV\\u002fQPYoXI\\u002fCwX5AuB6F61FUf0AzMzMzM+d\\u002fQFyPwvUoOH1AcT0K16N4fECamZmZmb17QK5H4XoUOn5ApHA9Ctd7fkB7FK5H4X5+QEjhehSuK39Aj8L1KFylgEDNzMzMzLSBQGZmZmZm8IFA7FG4HoVfgkDXo3A9Cl2CQLgehetRZoJAZmZmZmZAgkDNzMzMzDiCQM3MzMzMQIJAUrgehes9gkAzMzMzMy2CQDMzMzMzUYJA16NwPQo9gkCuR+F6FKSBQDMzMzMzp4FAmpmZmZktgkA9CtejcPmBQD0K16Nwi4JASOF6FK6PgkCkcD0K16mCQMP1KFyPnIJAuB6F61FSg0BI4XoUrmeDQHsUrkfhWINAXI\\u002fC9Sh2g0DNzMzMzISDQPYoXI\\u002fCY4NAMzMzMzMDg0BxPQrXozqDQNejcD0KXYNAw\\u002fUoXI9Kg0DhehSuR4eDQKRwPQrXl4NAXI\\u002fC9Sg+g0DNzMzMzCKDQM3MzMzMdINA4XoUrkdng0CuR+F6FEiDQOF6FK5HuYNAAAAAAACgg0AzMzMzM6uDQGZmZmZmCoRAH4XrUbjyg0B7FK5H4QCEQNejcD0Kv4JA4XoUrkehgkCPwvUoXJ+CQNejcD0KH4JApHA9CtelgUDXo3A9Cq2BQHsUrkfhMoJAH4XrUbhSgkDXo3A9CpWCQFK4HoXrXYJArkfhehRegkBcj8L1KKiCQDMzMzMz44JAMzMzMzNzgkDD9Shcj1iCQIXrUbgeV4FAw\\u002fUoXI8ugUCamZmZmU2CQFyPwvUo6oFAZmZmZmbEg0AUrkfhejSEQIXrUbgeI4RA9ihcj8JrhEDhehSuRyeEQGZmZmZmYoRAH4XrUbgAhEAfhetRuICDQArXo3A9VoRAAAAAAABWg0DhehSuR1+DQPYoXI\\u002fC44JA4XoUrkfBgUDNzMzMzIyBQB+F61G4oIFAPQrXo3BTgUBxPQrXo6qBQKRwPQrXaYBACtejcD0igEBxPQrXo0CAQNejcD0Ko35ApHA9Ctc3fkBcj8L1KOB7QJqZmZmZsXtAFK5H4XrMe0DNzMzMzPR7QI\\u002fC9Shcz3tArkfhehS6e0AAAAAAAIh7QOxRuB6FT3tASOF6FK4je0BmZmZmZhZ7QOxRuB6FB3xACtejcD2Ce0AK16NwPWJ7QDMzMzMzx3pAAAAAAAB0ekBSuB6F67l6QM3MzMzM4HpAexSuR+HqekBmZmZmZrZ7QK5H4XoU+ntAMzMzMzNLe0B7FK5H4TJ7QNejcD0Kb3pACtejcD1Ge0CamZmZmRF8QDMzMzMzr3tAMzMzMzMvfkCF61G4Hl1+QOF6FK5HeX5AMzMzMzPTfkA9CtejcK1+QClcj8L1aH1ApHA9CteLfUBSuB6F601+QBSuR+F6bH9AcT0K16NYfEBSuB6F63V5QAAAAAAAtHhAcT0K16P8eUC4HoXrUfR1QEjhehSua3ZAexSuR+Gee0D2KFyPwuF7QFK4HoXr0XtA7FG4HoVPfEAzMzMzM8N7QD0K16Nw0XpACtejcD3ueUC4HoXrUfR6QAAAAAAAkHxAUrgeheu1e0B7FK5H4cJ7QEjhehSum35ASOF6FK6TfUCkcD0K13N9QEjhehSu14FAexSuR+HkgUBcj8L1KD6BQNejcD0Kh4FAhetRuB5TgUAUrkfheo6BQFK4HoXrW4JAzczMzMwIg0BmZmZmZt6CQHsUrkfhRoNAexSuR+Ggg0BmZmZmZpqDQEjhehSumYNAzczMzMy2g0CuR+F6FKyDQB+F61G4VoNAXI\\u002fC9Sg4g0DNzMzMzCKDQEjhehSu44JAzczMzMxCg0C4HoXrUU6EQArXo3A9MoRAPQrXo3B9hEBcj8L1KISBQFyPwvUoSoFAuB6F61HagECPwvUoXAmBQClcj8L1tIFAcT0K16OkgEDD9Shcj0Z6QJqZmZmZ1YBAmpmZmZm9gkBxPQrXo3SBQPYoXI\\u002fCk4BAhetRuB5hgUCamZmZmVWDQLgehetRJINAFK5H4Xr6gkCPwvUoXEGCQB+F61G4xoNAuB6F61HogEDhehSuR8+CQLgehetRGIRA4XoUrkflg0AAAAAAADSBQAAAAAAAeoRAKVyPwvWuhEDNzMzMzHKEQB+F61G4FIhA4XoUrkdfiUDsUbgehaeJQPYoXI\\u002fCOYlAj8L1KFyliUB7FK5H4diJQM3MzMzMZIlAFK5H4Xr4iEDNzMzMzE6JQKRwPQrX94dAexSuR+Goh0B7FK5H4WaKQEjhehSux4hAcT0K16N8iEDD9Shcj5qJQHsUrkfhKopAPQrXo3C\\u002fikApXI\\u002fC9a6KQArXo3A9zIlAw\\u002fUoXI+AiUDXo3A9Cu2IQNejcD0KHYpAexSuR+H2iUDhehSuR82JQGZmZmZmMIlAj8L1KFyZikD2KFyPwu2KQM3MzMzMtIlAhetRuB4hiUA9CtejcEGIQAAAAAAAEIlASOF6FK5NjEBcj8L1KLSKQI\\u002fC9ShcDYlAKVyPwvWoiEBI4XoUrvmHQPYoXI\\u002fCl4dAj8L1KFwRh0BSuB6F6yGHQOxRuB6FU4ZAzczMzMwKhkDNzMzMzEyGQOxRuB6FX4VApHA9CtdLhEBI4XoUri2EQLgehetRGINAhetRuB5NgkCPwvUoXBmCQHE9CtejmoJACtejcD1uf0Bcj8L1KEh6QNejcD0Kt4NAAAAAAADihEAAAAAAAMiJQHsUrkfh0opAZmZmZmbgikCamZmZmWeKQKRwPQrXEYpAw\\u002fUoXI\\u002fii0AzMzMzM2eIQNejcD0K94RA9ihcj8IBhECamZmZmeuJQHsUrkfhCIxAcT0K16O4kEBI4XoUrpmPQOF6FK5HU41Aw\\u002fUoXI8OiUA9CtejcEqRQIXrUbgeRY9Aj8L1KFwRjkA9CtejcN2LQGZmZmZmBolAPQrXo3CTh0ApXI\\u002fC9ZaGQJqZmZmZHYhA16NwPQrhhEC4HoXrUQqCQDMzMzMzB3xACtejcD2GfEDXo3A9Cu9+QKRwPQrXg3tAhetRuB75eUD2KFyPwsF4QNejcD0Ks3hAzczMzMx8dkDNzMzMzGx1QBSuR+F6fHNApHA9CtdTcUCPwvUoXPtzQHsUrkfhjnJAzczMzMxYcEApXI\\u002fC9ZhuQNejcD0KR2xArkfhehS+akBI4XoUrn9pQM3MzMzMNGlAXI\\u002fC9ShEaUAzMzMzM9toQNejcD0K\\u002f2hAmpmZmZnRaEBSuB6F6wFoQDMzMzMzE2ZAAAAAAAD4ZUAAAAAAABBlQHE9CtejEGVAXI\\u002fC9SgMaEDNzMzMzNRmQJqZmZmZ2WVAZmZmZmYeZUBmZmZmZnZjQArXo3A9MmJAhetRuB7NYUD2KFyPws1hQFyPwvUoZGFAzczMzMxcYUCamZmZmdFgQFK4HoXrUWBAFK5H4Xo0YEC4HoXrUShgQIXrUbgeZV9APQrXo3AtX0DXo3A9CpdfQJqZmZmZiV9AKVyPwvUAYEAK16NwPdpeQBSuR+F69FtAAAAAAACQWUCamZmZmXFgQHE9CtejSGBAH4XrUbjWYEBSuB6F65FgQEjhehSuD2BAFK5H4XrUX0CF61G4HtVfQClcj8L1WF9ACtejcD1qX0D2KFyPwqVfQI\\u002fC9Shcj19A7FG4HoWrX0BmZmZmZg5gQOF6FK5HUWBAKVyPwvU4X0BxPQrXozhgQLgehetRCGBApHA9CtcbYEBxPQrXo4hgQFK4HoXreWBA4XoUrkfRXkCamZmZmXlfQAAAAAAA8F1Aj8L1KFwfXkA9CtejcJ1dQJqZmZmZyV1AhetRuB51XkDXo3A9CudeQAAAAAAAoGBAFK5H4XrcYEBSuB6F69lgQNejcD0Kl2BAj8L1KFw\\u002fXkA9CtejcI1eQEjhehSup15AFK5H4XoEXkDsUbgehftdQHsUrkfhyl1A4XoUrkeBXUBcj8L1KJxdQGZmZmZmJl5A7FG4HoXrXUBxPQrXo2BdQOF6FK5H8VtAAAAAAAAAXECuR+F6FA5bQOF6FK5HIVtAAAAAAABAW0AAAAAAAABbQJqZmZmZKVpAAAAAAADgWUAAAAAAALBZQArXo3A9mllAXI\\u002fC9Sh8WUBxPQrXo1BZQAAAAAAAsFpApHA9CtdjWkAAAAAAAEBaQOF6FK5H4VlAAAAAAACAWUA9CtejcE1ZQHE9CtejwFlAuB6F61H4WUCuR+F6FB5ZQM3MzMzMnFhAAAAAAACAV0AAAAAAAEBXQAAAAAAAAFhASOF6FK53V0AAAAAAAEBXQGZmZmZm5lZAhetRuB6FVkAAAAAAAABWQOF6FK5HUVZAMzMzMzPzVUDNzMzMzIxVQOxRuB6FC1hAKVyPwvUIWEDXo3A9CkdXQNejcD0KN1dApHA9CtcDVkB7FK5H4QpWQIXrUbgeRVVAzczMzMwMU0DhehSuRyFSQGZmZmZmJlJASOF6FK6nUEAUrkfherRQQFK4HoXrYVBAAAAAAAAAUkAfhetRuD5TQHE9Ctej4FVAMzMzMzOTVUCuR+F6FI5XQAAAAAAAQFdAhetRuB4VV0BmZmZmZkZZQMP1KFyPsllAcT0K16NAWUAfhetRuD5ZQB+F61G4jlpAcT0K16PgWkBcj8L1KOxaQAAAAAAA4FpAAAAAAABwWkBSuB6F60FZQAAAAAAAwFhAzczMzMy8WEAAAAAAAIBYQAAAAAAAgFhAUrgeheshWUAfhetRuK5aQAAAAAAAAFpAAAAAAADAV0AAAAAAACBWQDMzMzMz01pAexSuR+GaWkAAAAAAAFBdQJqZmZmZ+V1AZmZmZmbGXUAAAAAAAABdQDMzMzMzw1xAzczMzMzMX0CamZmZmZlfQAAAAAAAwF9ACtejcD3qX0BmZmZmZmZfQM3MzMzMLF9ApHA9CtdTYEDNzMzMzBxgQK5H4XoUbl9AZmZmZmbGXkAAAAAAAIBeQD0K16NwTV5ASOF6FK4HXkAUrkfheuRdQDMzMzMzk15AFK5H4XokXUDNzMzMzAxcQAAAAAAA4FlAAAAAAACQW0AAAAAAAKBcQFyPwvUoXFxAcT0K16NAXEAzMzMzM+NbQHE9CtejUFtAZmZmZmZmW0DNzMzMzGxYQClcj8L1qFpAKVyPwvXIWkAAAAAAACBXQGZmZmZmxlNAUrgehesRV0CuR+F6FO5aQJqZmZmZwWBAAAAAAADAYEAzMzMzM4NgQA==\"},\"open\":{\"dtype\":\"f8\",\"bdata\":\"FK5H4XqWpUDhehSux0ilQNejcD0K7qVAKVyPwnXvpEBSuB6Fa9WjQNejcD2KI6RAAAAAAACLpUBmZmZmZlmlQDMzMzMz8KVA9ihcj0LZpEC4HoXr0SymQOF6FK7Hu6FAXI\\u002fC9SgmokDXo3A9CnOhQBSuR+F6Mp5AUrgehesfn0AK16NwPWyhQEjhehQucaJAZmZmZmbFokDXo3A9ijmiQOF6FK7Ho6JAAAAAAIC6o0AfhetROBmkQNejcD2KsKNASOF6FC5hpEAzMzMzM2CkQArXo3C9VaRAAAAAAAACpECF61G4HoWjQM3MzMzMCKNAMzMzMzN5o0AUrkfhetajQIXrUbgeD6RAw\\u002fUoXA\\u002fyo0BmZmZm5lyjQHE9CtcjPaRAAAAAAIBepEDXo3A9CmWlQEjhehSuJqVAw\\u002fUoXA8GpUCPwvUo3CqlQOxRuB6FPqRAw\\u002fUoXA\\u002fqo0AzMzMzs76kQOxRuB4FpKNAcT0K1yNLo0Bcj8L1KIejQPYoXI\\u002fCOaVAuB6F69HxpEA9CtejcBKnQLgehevR\\u002fKZA4XoUrkcYpkB7FK5H4e6lQBSuR+H6QKVA9ihcj8JqpkBI4XoUrgWlQM3MzMzMoKNArkfhepTno0A9CtejcHujQMP1KFwPyKJAXI\\u002fC9ajgoUB7FK5HYRahQB+F61G4nqFAj8L1KNzeoEBcj8L1KAygQNejcD2KKKFA4XoUrschokAUrkfhehyjQArXo3C9IqJAhetRuB4foUD2KFyPwuyfQMP1KFwPJqBAKVyPwvUAn0AUrkfheqWdQM3MzMzMapxAUrgehev6mkDNzMzMzDabQPYoXI\\u002fCQZxAPQrXo3AjnEAUrkfheuyaQNejcD0K15xAFK5H4XrRm0CuR+F6FHKbQMP1KFyP75pASOF6FK7zmEB7FK5H4a2YQArXo3A9U5hAFK5H4XoTmEB7FK5H4UqXQIXrUbget5ZAhetRuB40lkAzMzMzMxGVQBSuR+F6p5RAj8L1KFyXlEApXI\\u002fC9ZaUQOxRuB6FB5RAKVyPwvXHk0DNzMzMzImTQOxRuB6F5pJASOF6FK4\\u002fk0CkcD0K1xqTQEjhehSuNZNAuB6F61HskkDsUbgehfCSQK5H4XoUp5JAAAAAAAB9kkA9CtejcFKSQDMzMzMzPZJAuB6F61FJkkCuR+F6FMSSQArXo3A905JApHA9CteNkkAzMzMzM42SQOF6FK5HYpJAmpmZmZlSkkD2KFyPwmuSQArXo3A9l5FAw\\u002fUoXI+4kUCuR+F6FOaRQM3MzMzMO5FAPQrXo3DikECkcD0K176QQMP1KFyPCpBApHA9CtdIkEC4HoXrUViQQLgehetRUpBAZmZmZmZgjkCuR+F6FHCOQLgehetRRI1AzczMzMw5kEAzMzMzM2iQQJqZmZmZgpFAPQrXo3B9kEApXI\\u002fC9TSQQKRwPQrXhY5A9ihcj8IukUBxPQrXo3CSQLgehetRjZNAcT0K16Ngk0BxPQrXo0CTQIXrUbgeF5NAFK5H4XpikkDhehSuR3GRQD0K16NwlZJAZmZmZmb5kUBSuB6F6xyTQKRwPQrX5JNAexSuR+HNk0Bcj8L1KJmTQB+F61G49ZNApHA9CteKk0AfhetRuCKTQFyPwvUocJJAexSuR+FykkCF61G4Hi+SQK5H4XoU4ZFAcT0K16NJkkCkcD0K11KSQK5H4XoUdZFAMzMzMzNrkUCF61G4Ht2QQPYoXI\\u002fCYpBA16NwPQp7kECkcD0K12SQQBSuR+F6CJBAMzMzMzN9j0BI4XoUrnGPQFK4HoXr\\u002fY5A16NwPQo3j0Bcj8L1KFyPQDMzMzMz545A16NwPQodj0DNzMzMzKKQQOF6FK5HmZBAw\\u002fUoXI9AkECamZmZmRGQQK5H4XoUTpBAuB6F61EdkEBI4XoUrpuPQAAAAAAA8I5A7FG4HoVXjkBI4XoUrseMQDMzMzMzwYxAw\\u002fUoXI\\u002fQjEAUrkfher6MQHsUrkfhsoxAhetRuB4zjECPwvUoXN+LQD0K16NwdYxAAAAAAADsjEBI4XoUrtGMQGZmZmZm\\u002fItAj8L1KFwRjEAfhetRuMKLQClcj8L1aoxAmpmZmZn3iUAK16NwPa6JQIXrUbgekYlAhetRuB7JiUBSuB6F6x2JQD0K16NwOYhAKVyPwvVgjEDsUbgehTOMQFK4HoXriYxAj8L1KFxhjEBSuB6F6zuMQFK4HoXrsY9AUrgehesSkkCamZmZmVGQQM3MzMzM7I9AKVyPwvU0j0DhehSuRx2OQNejcD0KBY5ACtejcD1kjkDXo3A9CnmOQHE9CtejNo1AzczMzMxijEAzMzMzMweMQDMzMzMzHYxAPQrXo3DRjECF61G4HgeLQD0K16NwEYpAhetRuB4FiUAAAAAAAMKIQOxRuB6FtYhArkfhehS4iECPwvUoXImIQEjhehSuV4hAw\\u002fUoXI9giEAAAAAAAGCIQDMzMzMzZYhAuB6F61EQiEAAAAAAADaIQFyPwvUoKIhA7FG4HoUPiEBxPQrXowCIQEjhehSu4YdA9ihcj8K1h0CF61G4HiuIQIXrUbgeHYhAAAAAAABSiEC4HoXrUayHQGZmZmZmUIdACtejcD0Ch0BxPQrXowKHQKRwPQrX44ZA7FG4HoX7hkCuR+F6FCyHQOxRuB6FI4dAKVyPwvVEh0BSuB6F632HQIXrUbgeHYdArkfhehTahkDXo3A9Cn+HQHE9CtejfodASOF6FK4lh0DXo3A9CkeHQI\\u002fC9ShcOYZAuB6F61EOhkAAAAAAAPCFQJqZmZmZCYZAAAAAAABmhkBmZmZmZlyGQB+F61G4loZAcT0K16MuhkAfhetRuPiFQFK4HoXrNYZAFK5H4Xr+hUBcj8L1KPyFQClcj8L1iIVAzczMzMwyh0DD9Shcj9CGQB+F61G46oVAhetRuB71hUApXI\\u002fC9VCGQLgehetRkoVAAAAAAACAhUBI4XoUrjGFQD0K16NwjYRAAAAAAABwhEDhehSuR4mEQClcj8L1jIRAhetRuB7Jg0BxPQrXo7aDQOF6FK5HtYNA16NwPQrxg0DhehSuR\\u002fuDQMP1KFyPDoRAcT0K16P4g0AUrkfhegKEQK5H4XoU6INACtejcD3gg0ApXI\\u002fC9QaEQFK4HoXrWYNAw\\u002fUoXI9Gg0CPwvUoXFmDQB+F61G4SoNAexSuR+Ekg0D2KFyPwiODQPYoXI\\u002fCEYNAZmZmZmYgg0D2KFyPwheDQJqZmZmZL4NAPQrXo3APg0D2KFyPwu2CQFyPwvUo6IJAUrgehevxgkBcj8L1KACDQBSuR+F6xoJAAAAAAADWgkBI4XoUrteCQJqZmZmZoYJACtejcD2qgkAfhetRuNyCQAAAAAAACoNAKVyPwvUOg0AK16NwPfKCQPYoXI\\u002fC+YJAAAAAAAD6gkAfhetRuBSDQB+F61G4BoNAXI\\u002fC9SgAg0AAAAAAAPiCQI\\u002fC9Shce4NAPQrXo3B3g0DNzMzMzJKDQNejcD0KNYNAw\\u002fUoXI8Ug0CuR+F6FPSCQFK4HoXrB4NAH4XrUbi0gkBmZmZmZvyBQOF6FK5H44FAZmZmZmb8gUAfhetRuAyCQHsUrkfh8IFAw\\u002fUoXI\\u002fwgUBxPQrXo86BQJqZmZmZG4JAAAAAAAAOgkA9CtejcCGCQOF6FK5HO4JAXI\\u002fC9ShWgkAUrkfheiqCQOxRuB6FL4JAcT0K16MAgkAfhetRuPKBQEjhehSu7YFArkfhehQOgkBSuB6F67mBQFK4HoXr04FAH4XrUbhMgkB7FK5H4VqCQGZmZmZmZoJAKVyPwvWAgkAzMzMzM12CQLgehetReIJAUrgeheuFgkBcj8L1KF6CQArXo3A9+IFACtejcD0SgkBxPQrXo7KBQOF6FK5HJYFAMzMzMzPzgkDNzMzMzISDQM3MzMzMeIRArkfhehSIhEB7FK5H4XiEQFK4HoXrc4RA16NwPQpdhECkcD0K13GEQK5H4XoUqoRA4XoUrkd7hECkcD0K11WEQI\\u002fC9Shcx4RApHA9CtfJhEAUrkfhegaFQFK4HoXrBYVAFK5H4Xo+hUBSuB6F66+EQArXo3A9voRAj8L1KFyZhECPwvUoXGeEQGZmZmZmxoRACtejcD1ChECkcD0K10OEQM3MzMzMVIRA16NwPQrThEDsUbgehQWEQB+F61G4MIVAj8L1KFzzhEBI4XoUrlmFQGZmZmZmloRA9ihcj8IHhkCkcD0K1yWFQK5H4XoUBIVAH4XrUbgEhEApXI\\u002fC9SCEQM3MzMzMkIRAzczMzMyqg0A9CtejcM+EQArXo3A9yoRAcT0K16OMg0DsUbgehauCQOF6FK5Hz4RA16NwPQr\\u002fhkA9CtejcN+HQOxRuB6FpYdArkfhehRmh0BSuB6F6wOIQFyPwvUoxIVAPQrXo3BthUAAAAAAAASGQDMzMzMz\\u002fYRAPQrXo3ANg0CPwvUoXBWCQB+F61G4\\u002foFAmpmZmZkxgkCPwvUoXAmCQJqZmZmZS4JAzczMzMz0gUAUrkfheuqBQEjhehSuzYFAPQrXo3DNgECuR+F6FMSAQHsUrkfhmIBA7FG4HoWxgED2KFyPwoOAQKRwPQrXe4BAFK5H4XqQfUC4HoXrUVh8QB+F61G4GnxAKVyPwvXge0BxPQrXo8R7QJqZmZmZdXtA7FG4HoWze0DsUbgeha97QHE9CtejXHtAuB6F61FofEDXo3A9Clt8QFyPwvUoYHxAPQrXo3CZfEBcj8L1KHx8QIXrUbgefXxAmpmZmZltfEAzMzMzM0d8QPYoXI\\u002fCLXxAuB6F61HIfECPwvUoXKN8QHsUrkfhpnxACtejcD26fEDXo3A9Cv97QI\\u002fC9Shc63tAexSuR+EifEBI4XoUrst7QHsUrkfhPnxASOF6FK4HfEB7FK5H4XJ8QMP1KFyPFnxAcT0K16PQe0Bcj8L1KCR9QGZmZmZm2nxAUrgeheuxfEApXI\\u002fC9Sh8QPYoXI\\u002fC3XtA16NwPQobfEAfhetRuJZ7QIXrUbgeNXtAMzMzMzPLekD2KFyPwrl6QArXo3A96npAhetRuB7ZekB7FK5H4YZ6QNejcD0Kf3pArkfhehSaekA9CtejcG16QFK4HoXrXXpAPQrXo3A5ekApXI\\u002fC9Ux6QMP1KFyPbnpAUrgehet5ekAUrkfheoR6QLgehetRUHpAzczMzMxUekAfhetRuFJ6QB+F61G4JnpAXI\\u002fC9SgMekBcj8L1KPR5QOF6FK5HDXpAzczMzMyEekDNzMzMzKh6QArXo3A9InpAUrgehesVekBcj8L1KAh6QB+F61G4JnpAw\\u002fUoXI8iekCuR+F6FNJ5QB+F61G41nlAZmZmZmameUBcj8L1KJR5QM3MzMzMSHpACtejcD0eekAK16NwPQ56QArXo3A9BnpAMzMzMzPjeUBmZmZmZrp5QPYoXI\\u002fCWXpApHA9CtcTekCkcD0K1+t5QArXo3A93nlAj8L1KFzneUBcj8L1KHx5QLgehetRCHlAFK5H4XqseUA9CtejcF16QMP1KFyPfnpArkfhehQye0AfhetRuF57QNejcD0KF3tAhetRuB4Je0A9CtejcA17QK5H4XoUinpAcT0K16OQekCPwvUoXE96QAAAAAAAZHtApHA9Ctdve0C4HoXrUVx7QJqZmZmZWXpASOF6FK5rekCF61G4Hgl6QMP1KFyPenlAexSuR+EWeUCF61G4Hnl5QHsUrkfhjnhACtejcD0KeEDXo3A9Crt3QPYoXI\\u002fC4XdAZmZmZmaCd0AfhetRuFZ3QFyPwvUojHdAXI\\u002fC9SiId0A9CtejcCl4QGZmZmZmTnhAH4XrUbgid0BmZmZmZmp3QB+F61G4TndAmpmZmZkVd0BxPQrXo6R3QFK4HoXrrXdA9ihcj8LBd0BmZmZmZrJ4QNejcD0Kh3hAAAAAAACAeECF61G4HiV5QJqZmZmZQXhAexSuR+Hmd0AAAAAAAJx5QK5H4XoUOnpApHA9Cte7d0AUrkfhejB4QEjhehSu23dAZmZmZmYyeECF61G4HtF2QAAAAAAA5HpAcT0K16MEe0AfhetRuCp7QHsUrkfhAnxAMzMzMzMLfECkcD0K1wN8QK5H4XoUVnxAcT0K16OYfEBcj8L1KOB6QPYoXI\\u002fC\\u002fXpAhetRuB4Re0ApXI\\u002fC9eB6QOF6FK5HGXtAUrgehespe0DsUbgehet6QK5H4XoUnnpAzczMzMwUe0CamZmZmWF6QD0K16NwdXpAXI\\u002fC9SgIekBcj8L1KHx8QPYoXI\\u002fCbXxAPQrXo3Cxe0DsUbgehUt7QNejcD0KV3tAPQrXo3Cte0BI4XoUruN8QM3MzMzM+HxAmpmZmZl9fEAUrkfhemx8QI\\u002fC9ShcE31ArkfhehS+e0C4HoXrURR7QMP1KFyP+npA4XoUrkdFfEAUrkfhevR5QKRwPQrXH3pA16NwPQrneUAAAAAAALx4QEjhehSuX3hAKVyPwvVYeEDsUbgehbt2QFyPwvUolHZA4XoUrkd1dkCamZmZmZ12QMP1KFyPlndA16NwPQo3d0DsUbgehVd2QArXo3A9UnZA9ihcj8L9dUDNzMzMzIR0QM3MzMzMAHRAXI\\u002fC9SgwdECamZmZmUV0QEjhehSub3RAPQrXo3AhdEDD9Shcj2Z0QHsUrkfh6nRAPQrXo3DpdED2KFyPwqV0QKRwPQrX+3NAzczMzMzQdEBSuB6F6wl1QAAAAAAAKHVA4XoUrkehc0CF61G4Hj11QEjhehSuv3dAhetRuB5ld0AUrkfhegR4QLgehetRZHdAzczMzMxAeEDhehSuR4F5QMP1KFyPOnlAUrgeheuddkDXo3A9Cl90QAAAAAAAsHNAXI\\u002fC9SiIdEDXo3A9Cp9zQIXrUbgeBXNAMzMzMzNbckB7FK5H4dJxQK5H4XoUunFA16NwPQqXcUAAAAAAAEhxQGZmZmZmGnFAAAAAAACocEApXI\\u002fC9dRwQIXrUbgeeXBA9ihcj8JdcEDD9Shcj+5wQAAAAAAAbHBAmpmZmZnJb0DsUbgehYNvQEjhehSuL29AZmZmZmambkBcj8L1KNxuQEjhehSul25ASOF6FK53bkAAAAAAAFBuQArXo3A9Ym5APQrXo3DFbkDsUbgehQtuQM3MzMzMxG1AKVyPwvXQbUBmZmZmZqZtQLgehetRqG1AAAAAAACAbUAUrkfhepRtQHE9Ctej4G1AexSuR+EabUAUrkfhekRtQMP1KFyPYm1A7FG4HoVLbUDsUbgehctsQK5H4XoU3mxA16NwPQpfbEDXo3A9CudsQM3MzMzM7GxA7FG4HoUbbUBxPQrXozBtQMP1KFyPomxAAAAAAADIbEBI4XoUrs9sQOxRuB6F02xASOF6FK5nbUAzMzMzM\\u002fttQMP1KFyPym1AexSuR+HKbUCF61G4Hm1uQDMzMzMz+21A9ihcj8L9bUCkcD0K11ttQGZmZmZmxmxA16NwPQpnbEAK16NwPapsQClcj8L1gGxAuB6F61HIbEDsUbgehaNsQM3MzMzMvGxAmpmZmZnxbEBmZmZmZhZsQJqZmZmZQWxAw\\u002fUoXI\\u002fCa0AK16NwPUJqQOxRuB6Fg2xAXI\\u002fC9SjMbECF61G4HhVtQDMzMzMza21AzczMzMxcbEA9CtejcDVsQHsUrkfhHnBApHA9CtcncEBSuB6F611wQBSuR+F6mHBArkfhehSCcEB7FK5H4aJwQJqZmZmZ6XBAPQrXo3CFcEBI4XoUrpdwQFK4HoXrUXBApHA9Ctd7cUCkcD0K12txQMP1KFyPnnFAmpmZmZnNcUBI4XoUrpNxQClcj8L1rHFAMzMzMzOHcUDXo3A9CstxQDMzMzMz+3FAmpmZmZkRckBI4XoUrmdyQK5H4XoUWnJACtejcD1KckAK16NwPQpyQMP1KFyPAnJAAAAAAABAcUA9CtejcFVxQMP1KFyPOnFArkfhehRucUAAAAAAABhxQLgehetRLHFA4XoUrkd1cUA9CtejcGFxQHE9Ctej4HFAzczMzMwAckAUrkfhekByQOF6FK5HbXNACtejcD1SckCuR+F6FM5xQMP1KFyP0nBA4XoUrkftcEBI4XoUrp9wQI\\u002fC9Shc33BA9ihcj8LxcEApXI\\u002fC9UxwQKRwPQrXB3BAH4XrUbjub0DNzMzMzChwQJqZmZmZdXBAcT0K16MQcEDXo3A9ChdvQB+F61G4Xm9AmpmZmZlxbkAzMzMzM1NuQKRwPQrXC25AKVyPwvWIbkD2KFyPwt1uQNejcD0Kf25AMzMzMzOjbkApXI\\u002fC9ZBuQOF6FK5HIW9A9ihcj8Itb0AK16NwPVpvQLgehetRmG1APQrXo3AtbUCuR+F6FA5tQD0K16NwvWxAH4XrUbi2bEAzMzMzM5tsQAAAAAAAoGxA4XoUrkeRbEBcj8L1KNxrQDMzMzMzM2xAAAAAAAAgbEDNzMzMzARsQHE9CtejOGxASOF6FK43bEAUrkfhetxrQI\\u002fC9Shcx2xAXI\\u002fC9SgkbUB7FK5H4aJtQFyPwvUorG1AuB6F61GobUBSuB6F66FtQDMzMzMzo21A9ihcj8IdbkCPwvUoXN9tQOF6FK5HCW5ACtejcD1qbUBxPQrXo0BtQBSuR+F6\\u002fGxA4XoUrkchbUAUrkfhepxtQLgehetRgG1AFK5H4Xq0bUAfhetRuJ5tQB+F61G4hm1AzczMzMwsbkDNzMzMzERuQJqZmZmZCW5Aj8L1KFw3bkBxPQrXo3huQGZmZmZmpm1AhetRuB61bEAAAAAAAIhtQDMzMzMz221A7FG4HoULbkBcj8L1KFxtQHsUrkfhCm1ArkfhehR+bUCuR+F6FDZsQHsUrkfhMmxA16NwPQqfbED2KFyPwm1rQIXrUbgeTWxASOF6FK7nbEDXo3A9Cn9tQJqZmZmZQW1AMzMzMzNzbUCkcD0K1xNsQOxRuB6F02tAH4XrUbjua0AzMzMzM9trQArXo3A9kmxAPQrXo3D9a0AK16NwPWJrQLgehetRGGxAZmZmZmZ+bUApXI\\u002fC9ZBtQHE9CtejgG1ArkfhehR2bkAAAAAAAJhuQFK4HoXroW9AcT0K16Pob0DsUbgehUtwQLgehetRuG9A4XoUrkfJb0AK16NwPaJvQHsUrkfh4m5A16NwPQqHbkBmZmZmZu5uQFyPwvUoXG5ASOF6FK6Xb0DXo3A9Ct9uQArXo3A9Em9AKVyPwvXIbkDXo3A9Cu9uQOF6FK5HqXBACtejcD2+cEAfhetRuD5wQArXo3A9WnBAj8L1KFxPcEBcj8L1KPxvQIXrUbge0XFAmpmZmZkpckDXo3A9CttxQHsUrkfhlnFA16NwPQrHcUBSuB6F62FyQK5H4XoUgnJAuB6F61E4ckD2KFyPwh1yQClcj8L1LHFAexSuR+FGcUBxPQrXowRxQJqZmZmZOXFApHA9CtcLcUCkcD0K159xQM3MzMzMMHFA9ihcj8JFcEApXI\\u002fC9chvQHE9CtejsG9ArkfhehSObUB7FK5H4aptQBSuR+F63G1AAAAAAADgbUAAAAAAAIBtQOF6FK5HkW5AAAAAAAB4bkAAAAAAAAhuQIXrUbgejW1AKVyPwvV4bkA9CtejcC1tQArXo3A9Wm1AXI\\u002fC9SgYcEApXI\\u002fC9XBtQNejcD0Kv2tAH4XrUbhma0CPwvUoXHdrQClcj8L1iGtAFK5H4Xrsa0CuR+F6FHZsQFyPwvUo1GtAPQrXo3Ada0CF61G4HnVsQLgehetRcGxAZmZmZmaubUBI4XoUrk9sQKRwPQrXG2tArkfhehRObEBxPQrXoxhtQDMzMzMzK21AmpmZmZl1cEAfhetRuBJxQMP1KFyPwm9AMzMzMzPrbkBmZmZmZhZtQHE9CtejMG1ACtejcD1qbEBcj8L1KGxqQIXrUbgenWpA16NwPQpvakCamZmZmQFpQMP1KFyP+mlACtejcD0iakDNzMzMzBxmQBSuR+F6\\u002fGtACtejcD22cEBmZmZmZqJwQPYoXI\\u002fCKXFAzczMzMz0cUCuR+F6FKZxQK5H4XoUYnJA4XoUrkfhcUD2KFyPwilxQOF6FK5HkXBAZmZmZmaScUCamZmZma1zQOF6FK5HoXNA16NwPQoHdEDD9Shcj25zQOxRuB6Fi3NAMzMzMzPbc0DD9Shcj8JzQOF6FK5HeXRAZmZmZmbyc0BxPQrXoyR0QK5H4XoU5nRAuB6F61HAdECF61G4HhF0QHE9CtejmHRAUrgehevZc0B7FK5H4XJzQHE9Ctej\\u002fHNA9ihcj8JtdEAfhetRuJp1QPYoXI\\u002fC9XVASOF6FK6rdUCuR+F6FAZ2QOF6FK5H7XVAPQrXo3CFdUAzMzMzMwN2QArXo3A9nnZAj8L1KFxvd0A9CtejcG13QFyPwvUojHdA16NwPQoXd0DsUbgehXt3QOxRuB6F23dAAAAAAAC0d0AAAAAAAKR3QFyPwvUoeHdAZmZmZmaCd0BSuB6F6xV3QAAAAAAAKHdAuB6F61GAd0AK16NwPY53QDMzMzMz73ZAexSuR+ESdkCamZmZmfl1QK5H4XoUXnZAKVyPwvXEd0BmZmZmZl53QHE9CtejPHhAmpmZmZlFeEBI4XoUrmt3QGZmZmZm+nhAH4XrUbgmekC4HoXrUbR6QKRwPQrX\\u002f3ZA9ihcj8LddkBcj8L1KKR2QK5H4XoUlnVAZmZmZmZidUCF61G4Ht11QI\\u002fC9ShcN3VAexSuR+GqdEDD9Shcj3J0QIXrUbgeWXRAhetRuB5hdEBmZmZmZip1QFyPwvUokHVAj8L1KFz7dEA9CtejcFF2QI\\u002fC9ShcE3ZAFK5H4XosdkCkcD0K17d1QPYoXI\\u002fCaXZAPQrXo3BpdkCPwvUoXO93QFK4HoXrIXhAH4XrUbjmd0BI4XoUrlN4QAAAAAAAdHhASOF6FK7\\u002fd0Bcj8L1KOx3QLgehetRqHhAMzMzMzMPeUDXo3A9Cnt4QB+F61G4nndA9ihcj8KpdkD2KFyPwpV2QNejcD0Ky3ZAAAAAAAAMdkBSuB6F6wF1QOF6FK5HqXRACtejcD0GdEAfhetRuI50QArXo3A9fnZAexSuR+Fyd0CkcD0K1\\u002f93QHsUrkfhNnhAPQrXo3CBd0B7FK5H4Y53QOxRuB6F93hAKVyPwvU4eUB7FK5H4bZ5QMP1KFyPcnpAAAAAAAA8e0A9CtejcCF5QJqZmZmZ8XhA4XoUrkeBeUAfhetRuKp4QJqZmZmZgXpA9ihcj8KNfED2KFyPwh19QPYoXI\\u002fCrX1AXI\\u002fC9SjcfUBSuB6F6\\u002fF9QHE9Ctej3H1A4XoUrkf5fUBSuB6F6\\u002fl9QEjhehSut31ArkfhehSufUApXI\\u002fC9Rx+QK5H4XoUUn5APQrXo3A1fkAfhetRuJp+QHsUrkfh2n1AUrgehevNfUBI4XoUrqd9QHE9Ctej3H1AZmZmZmZuf0A9CtejcMl\\u002fQHsUrkfhxn9ArkfhehTuf0DsUbgehQGAQHE9CtejaH9A7FG4HoXDf0BxPQrXoyR\\u002fQIXrUbgeC4BAcT0K16MsgEAzMzMzM+d\\u002fQIXrUbgeUX5ASOF6FK7XfEBcj8L1KLh+QIXrUbgeOYBA4XoUrkcdf0AK16NwPfJ\\u002fQD0K16NwEYFA16NwPQrTgUCuR+F6FASCQArXo3A9eoJAj8L1KFxpgkD2KFyPwoOCQNejcD0KZ4JAMzMzMzNFgkCamZmZmU+CQK5H4XoUaIJApHA9CtdRgkCF61G4HmeCQDMzMzMzl4JAmpmZmZlRgkApXI\\u002fC9bqBQFK4HoXrRYJAZmZmZmZMgkCF61G4HpGCQI\\u002fC9ShcnYJAuB6F61HMgkCuR+F6FMyCQAAAAAAAXINAKVyPwvVog0Bcj8L1KHKDQJqZmZmZf4NAFK5H4Xqkg0CPwvUoXKmDQClcj8L1coNAuB6F61FEg0CuR+F6FHCDQAAAAAAAYINAFK5H4XqUg0D2KFyPwtGDQNejcD0Kv4NA4XoUrkdFg0BxPQrXo4aDQPYoXI\\u002fCiYNAw\\u002fUoXI90g0BI4XoUrtuDQFyPwvUovoNAmpmZmZmvg0AzMzMzMyWEQFyPwvUoVoRAuB6F61EIhECF61G4HguEQClcj8L11IJAcT0K16OigkBxPQrXo7iCQGZmZmZmKoJAhetRuB6xgUAUrkfhei6CQPYoXI\\u002fCj4JA4XoUrkfRgkAzMzMzM5+CQD0K16NwjYJAMzMzMzOrgkDD9ShcjwCDQFyPwvUoDoNAH4XrUbh8gkAzMzMzM4WCQD0K16Nw\\u002f4FAAAAAAADGgkCamZmZmU2CQD0K16Nwy4NA7FG4HoVphEC4HoXrUVCEQIXrUbgefYRAUrgehet3hEBcj8L1KGyEQArXo3A9moRAw\\u002fUoXI8IhEBcj8L1KNaEQGZmZmZmpIRAhetRuB6tg0DsUbgehX2DQOxRuB6FPYNAPQrXo3DBgUBxPQrXowKCQOF6FK5H34FAH4XrUbg0gkCF61G4HtuBQKRwPQrXaYBAZmZmZmZIgED2KFyPwm2AQM3MzMzMwH5AzczMzMxcfkApXI\\u002fC9eR7QOF6FK5H4XtAMzMzMzMLfEBSuB6F6wF8QArXo3A99ntACtejcD3Ce0A9CtejcIl7QBSuR+F6mHtAzczMzMxke0AfhetRuF58QI\\u002fC9ShcJ3xAexSuR+GCe0B7FK5H4Wp7QD0K16Nw1XpA9ihcj8IVe0AUrkfheix7QLgehetRaHtAZmZmZmYWfED2KFyPwpV8QK5H4XoU+ntACtejcD3ue0BI4XoUrn97QOxRuB6F63pApHA9CteTfEAzMzMzM9t8QD0K16NwQX9AhetRuB6tfkD2KFyPwoV+QDMzMzMz935ApHA9Ctcbf0AAAAAAAFx\\u002fQOF6FK5H+X1AzczMzMz8fkDD9Shcj4iAQD0K16NwUYBAUrgeheulfEDhehSuR+15QI\\u002fC9ShcV3pACtejcD1OekCPwvUoXLt2QFyPwvUopHtAexSuR+FSfED2KFyPwvl7QOxRuB6F13xAZmZmZmb2fEB7FK5H4ep7QMP1KFyP2ntA16NwPQpHe0AK16NwPfJ9QAAAAAAAkHxAzczMzMzkfEBSuB6F68V+QI\\u002fC9ShcW39ACtejcD3SfUCuR+F6FCKCQKRwPQrXO4JACtejcD1IgkCuR+F6FJSBQK5H4XoUroFAPQrXo3DZgUC4HoXrUWKCQAAAAAAADoNAMzMzMzMvg0AfhetRuG6DQI\\u002fC9Shct4NAAAAAAADkg0ApXI\\u002fC9aqDQIXrUbge8YNAKVyPwvXMg0DhehSuR7+DQJqZmZmZn4NAcT0K16Pig0AUrkfhekKDQOF6FK5HrYNAFK5H4XrChEBcj8L1KMSEQFK4HoXr0YRAUrgehevhhEAUrkfhepSBQKRwPQrXuYFAj8L1KFwvgUCamZmZmR2CQDMzMzMzLYJAuB6F61HIgEBSuB6F6+GAQLgehetR8IJA9ihcj8LzgkBSuB6F6\\u002fGBQNejcD0KZ4FAH4XrUbh4g0D2KFyPwo+DQOF6FK5HmYNApHA9Ctcxg0BmZmZmZlqEQDMzMzMzp4RAj8L1KFzJgkBxPQrXo1iEQNejcD0KA4VAAAAAAABchUDD9Shcj0qFQEjhehSu+4RAw\\u002fUoXI\\u002fchUCamZmZmXmIQB+F61G4fIlASOF6FK7viUBcj8L1KL6JQHE9CtejwIlAMzMzMzMHikB7FK5H4eSJQD0K16Nwk4lAXI\\u002fC9SjQiUBI4XoUrk+JQFyPwvUoMIhAzczMzMyki0A9CtejcK2KQFK4HoXr4YhAPQrXo3CziUBI4XoUrmuKQEjhehSuGYtAMzMzMzMti0CF61G4HjuLQOF6FK5HPYpAw\\u002fUoXI+AiUBSuB6F6xOKQLgehetR4opAKVyPwvUIikCPwvUoXFmKQOxRuB6F4YpAzczMzMy8jEDD9ShcjxqLQOxRuB6FdYpA9ihcj8JLikBSuB6F69+IQFK4HoXrk41AZmZmZmZAjUBmZmZmZtSKQFyPwvUouolAzczMzMwWiUDsUbgehSuIQPYoXI\\u002fCl4dAw\\u002fUoXI\\u002fCh0DNzMzMzCqHQGZmZmZmwIZApHA9CtcPh0AK16NwPdqHQOxRuB6FX4VAFK5H4XrShEB7FK5H4QKFQBSuR+F6KINACtejcD3OgkAzMzMzM1+DQPYoXI\\u002fCsYVAFK5H4Xo4gECamZmZmTGFQClcj8L1EoZAcT0K16OCi0C4HoXrUVqLQM3MzMzMHoxApHA9CtdXi0AK16NwPZaLQMP1KFyP6I5Aw\\u002fUoXI\\u002fii0BmZmZmZs6IQBSuR+F6yoVAw\\u002fUoXI8aikDsUbgehUmQQFK4HoXrApJAuB6F61HWkECamZmZmVmQQI\\u002fC9Shcu41ASOF6FK6jkUAUrkfheqWRQNejcD0KSJBA16NwPQpbj0DNzMzMzN6MQKRwPQrXLYlAXI\\u002fC9SgoiEDXo3A9Ct2IQJqZmZmZHYhAw\\u002fUoXI+ghkDD9Shcj5KCQKRwPQrXD4JArkfhehRGhkDhehSuRwl\\u002fQI\\u002fC9Shcj3tAFK5H4XoUekDD9ShcjzZ6QMP1KFyPZnlA7FG4HoWPdkApXI\\u002fC9XB1QMP1KFyPVnRAhetRuB7NdUDhehSuRyl1QJqZmZmZnXJAexSuR+FacEApXI\\u002fC9ZhuQB+F61G4pmxAhetRuB7VakBI4XoUrr9pQFK4HoXruWlAzczMzMx8aUDD9Shcj\\u002fpoQBSuR+F6jGlAmpmZmZnRaEAfhetRuIZoQDMzMzMzE2ZAZmZmZmZuZ0CuR+F6FLZoQJqZmZmZyWpA7FG4HoUraEDNzMzMzNRmQJqZmZmZ2WVAhetRuB51ZUCF61G4Hn1jQKRwPQrXS2JAhetRuB7NYUDNzMzMzDRiQHE9CtejmGFAcT0K16NoYUCuR+F6FOZgQM3MzMzMXGBAAAAAAABYYEA9CtejcFVgQGZmZmZmdl9Aj8L1KFyvX0D2KFyPwi1gQOxRuB6FC2BAXI\\u002fC9SgUYEAK16NwPdpeQM3MzMzMnFxAmpmZmZmBYED2KFyPwpVgQM3MzMzMJGFAzczMzMzcYEBxPQrXo7hgQK5H4XoUHmBAH4XrUbgGYEC4HoXrUdhfQDMzMzMzg19Aj8L1KFwfYEBI4XoUrvdfQM3MzMzMvF9AZmZmZmY2YECkcD0K12tgQB+F61G4dmBAexSuR+FyYEDsUbgehVtgQM3MzMzMLGBAuB6F61HgYEDD9Shcj5pgQJqZmZmZ8WBAKVyPwvV4X0DhehSuR9FfQNejcD0Kd15AuB6F61EIX0ApXI\\u002fC9bhdQI\\u002fC9Shcn19AcT0K16OwX0ApXI\\u002fC9RBhQOxRuB6F82BAXI\\u002fC9ShUYUAUrkfheuRgQHsUrkfhomBAZmZmZmaWXkBI4XoUrqdeQB+F61G4nl9AFK5H4XoEXkDXo3A9CodeQGZmZmZm5l1AcT0K16OgXUAAAAAAAIBeQDMzMzMz015APQrXo3BNXkAAAAAAAMBdQLgehetRWFxAAAAAAAAwXECPwvUoXD9bQAAAAAAAgFtApHA9CtcjXECkcD0K12NbQI\\u002fC9Shcv1pAAAAAAABAWkAAAAAAAMBZQDMzMzMzs1lAFK5H4XrEWUAAAAAAALBaQAAAAAAAsFpArkfhehSuWkBI4XoUrkdaQM3MzMzMPFpAAAAAAAAgWkDXo3A9CjdaQD0K16NwjVpAzczMzMz8WkCPwvUoXF9ZQGZmZmZmplhAmpmZmZmZV0DhehSuRwFYQM3MzMzMPFhAAAAAAACgV0CkcD0K1+NXQGZmZmZm5lZAAAAAAAAAV0AUrkfhenRWQAAAAAAAAFdAFK5H4XqEVkAAAAAAAKBYQD0K16NwLVhAKVyPwvW4WEDXo3A9CmdXQM3MzMzMrFhAj8L1KFx\\u002fV0AfhetRuD5WQAAAAAAAAFZArkfhehQuU0AAAAAAAABTQAAAAAAAIFNAAAAAAAAwUUAAAAAAACBRQI\\u002fC9Shc\\u002f1NAKVyPwvW4U0AK16NwPZpWQDMzMzMzA1ZAcT0K16NgWEAAAAAAAMBXQArXo3A9qldAj8L1KFxvWUAAAAAAAABaQIXrUbge1VlA9ihcj8KFWUCamZmZmflaQM3MzMzMDFtAAAAAAABgW0DD9Shcj9JbQAAAAAAAEFtAMzMzMzPDWkDNzMzMzHxZQJqZmZmZ+VhAMzMzMzPzWEAAAAAAAABZQM3MzMzM\\u002fFlAUrgehesxW0AAAAAAAEBbQGZmZmZmllpAXI\\u002fC9SgcWUApXI\\u002fC9fhaQAAAAAAAwFtArkfhehS+XUCamZmZmXleQJqZmZmZWV5Aj8L1KFwvXkAAAAAAAKBeQJqZmZmZKWBAUrgehesZYECamZmZmRlgQAAAAAAAiGBAAAAAAAAgYEBxPQrXozhgQAAAAAAAsGBASOF6FK5\\u002fYEAzMzMzM6NgQDMzMzMzk19AMzMzMzPzXkApXI\\u002fC9bheQOF6FK5HgV5AAAAAAACgXkA9CtejcM1eQAAAAAAA4F5APQrXo3CNXUCuR+F6FI5cQJqZmZmZ2VtAH4XrUbh+XUAUrkfherRcQClcj8L16FxAzczMzMxsXUAzMzMzMzNcQM3MzMzMTFxAZmZmZmZmW0AAAAAAABBcQB+F61G4\\u002flxAmpmZmZk5XEBmZmZmZoZYQAAAAAAAkFpAuB6F61EYXUAAAAAAAGBhQAAAAAAAAGJArkfhehTOYECamZmZmelgQA==\"},\"x\":[\"2017-07-31T00:00:00.000000000\",\"2017-07-30T00:00:00.000000000\",\"2017-07-29T00:00:00.000000000\",\"2017-07-28T00:00:00.000000000\",\"2017-07-27T00:00:00.000000000\",\"2017-07-26T00:00:00.000000000\",\"2017-07-25T00:00:00.000000000\",\"2017-07-24T00:00:00.000000000\",\"2017-07-23T00:00:00.000000000\",\"2017-07-22T00:00:00.000000000\",\"2017-07-21T00:00:00.000000000\",\"2017-07-20T00:00:00.000000000\",\"2017-07-19T00:00:00.000000000\",\"2017-07-18T00:00:00.000000000\",\"2017-07-17T00:00:00.000000000\",\"2017-07-16T00:00:00.000000000\",\"2017-07-15T00:00:00.000000000\",\"2017-07-14T00:00:00.000000000\",\"2017-07-13T00:00:00.000000000\",\"2017-07-12T00:00:00.000000000\",\"2017-07-11T00:00:00.000000000\",\"2017-07-10T00:00:00.000000000\",\"2017-07-09T00:00:00.000000000\",\"2017-07-08T00:00:00.000000000\",\"2017-07-07T00:00:00.000000000\",\"2017-07-06T00:00:00.000000000\",\"2017-07-05T00:00:00.000000000\",\"2017-07-04T00:00:00.000000000\",\"2017-07-03T00:00:00.000000000\",\"2017-07-02T00:00:00.000000000\",\"2017-07-01T00:00:00.000000000\",\"2017-06-30T00:00:00.000000000\",\"2017-06-29T00:00:00.000000000\",\"2017-06-28T00:00:00.000000000\",\"2017-06-27T00:00:00.000000000\",\"2017-06-26T00:00:00.000000000\",\"2017-06-25T00:00:00.000000000\",\"2017-06-24T00:00:00.000000000\",\"2017-06-23T00:00:00.000000000\",\"2017-06-22T00:00:00.000000000\",\"2017-06-21T00:00:00.000000000\",\"2017-06-20T00:00:00.000000000\",\"2017-06-19T00:00:00.000000000\",\"2017-06-18T00:00:00.000000000\",\"2017-06-17T00:00:00.000000000\",\"2017-06-16T00:00:00.000000000\",\"2017-06-15T00:00:00.000000000\",\"2017-06-14T00:00:00.000000000\",\"2017-06-13T00:00:00.000000000\",\"2017-06-12T00:00:00.000000000\",\"2017-06-11T00:00:00.000000000\",\"2017-06-10T00:00:00.000000000\",\"2017-06-09T00:00:00.000000000\",\"2017-06-08T00:00:00.000000000\",\"2017-06-07T00:00:00.000000000\",\"2017-06-06T00:00:00.000000000\",\"2017-06-05T00:00:00.000000000\",\"2017-06-04T00:00:00.000000000\",\"2017-06-03T00:00:00.000000000\",\"2017-06-02T00:00:00.000000000\",\"2017-06-01T00:00:00.000000000\",\"2017-05-31T00:00:00.000000000\",\"2017-05-30T00:00:00.000000000\",\"2017-05-29T00:00:00.000000000\",\"2017-05-28T00:00:00.000000000\",\"2017-05-27T00:00:00.000000000\",\"2017-05-26T00:00:00.000000000\",\"2017-05-25T00:00:00.000000000\",\"2017-05-24T00:00:00.000000000\",\"2017-05-23T00:00:00.000000000\",\"2017-05-22T00:00:00.000000000\",\"2017-05-21T00:00:00.000000000\",\"2017-05-20T00:00:00.000000000\",\"2017-05-19T00:00:00.000000000\",\"2017-05-18T00:00:00.000000000\",\"2017-05-17T00:00:00.000000000\",\"2017-05-16T00:00:00.000000000\",\"2017-05-15T00:00:00.000000000\",\"2017-05-14T00:00:00.000000000\",\"2017-05-13T00:00:00.000000000\",\"2017-05-12T00:00:00.000000000\",\"2017-05-11T00:00:00.000000000\",\"2017-05-10T00:00:00.000000000\",\"2017-05-09T00:00:00.000000000\",\"2017-05-08T00:00:00.000000000\",\"2017-05-07T00:00:00.000000000\",\"2017-05-06T00:00:00.000000000\",\"2017-05-05T00:00:00.000000000\",\"2017-05-04T00:00:00.000000000\",\"2017-05-03T00:00:00.000000000\",\"2017-05-02T00:00:00.000000000\",\"2017-05-01T00:00:00.000000000\",\"2017-04-30T00:00:00.000000000\",\"2017-04-29T00:00:00.000000000\",\"2017-04-28T00:00:00.000000000\",\"2017-04-27T00:00:00.000000000\",\"2017-04-26T00:00:00.000000000\",\"2017-04-25T00:00:00.000000000\",\"2017-04-24T00:00:00.000000000\",\"2017-04-23T00:00:00.000000000\",\"2017-04-22T00:00:00.000000000\",\"2017-04-21T00:00:00.000000000\",\"2017-04-20T00:00:00.000000000\",\"2017-04-19T00:00:00.000000000\",\"2017-04-18T00:00:00.000000000\",\"2017-04-17T00:00:00.000000000\",\"2017-04-16T00:00:00.000000000\",\"2017-04-15T00:00:00.000000000\",\"2017-04-14T00:00:00.000000000\",\"2017-04-13T00:00:00.000000000\",\"2017-04-12T00:00:00.000000000\",\"2017-04-11T00:00:00.000000000\",\"2017-04-10T00:00:00.000000000\",\"2017-04-09T00:00:00.000000000\",\"2017-04-08T00:00:00.000000000\",\"2017-04-07T00:00:00.000000000\",\"2017-04-06T00:00:00.000000000\",\"2017-04-05T00:00:00.000000000\",\"2017-04-04T00:00:00.000000000\",\"2017-04-03T00:00:00.000000000\",\"2017-04-02T00:00:00.000000000\",\"2017-04-01T00:00:00.000000000\",\"2017-03-31T00:00:00.000000000\",\"2017-03-30T00:00:00.000000000\",\"2017-03-29T00:00:00.000000000\",\"2017-03-28T00:00:00.000000000\",\"2017-03-27T00:00:00.000000000\",\"2017-03-26T00:00:00.000000000\",\"2017-03-25T00:00:00.000000000\",\"2017-03-24T00:00:00.000000000\",\"2017-03-23T00:00:00.000000000\",\"2017-03-22T00:00:00.000000000\",\"2017-03-21T00:00:00.000000000\",\"2017-03-20T00:00:00.000000000\",\"2017-03-19T00:00:00.000000000\",\"2017-03-18T00:00:00.000000000\",\"2017-03-17T00:00:00.000000000\",\"2017-03-16T00:00:00.000000000\",\"2017-03-15T00:00:00.000000000\",\"2017-03-14T00:00:00.000000000\",\"2017-03-13T00:00:00.000000000\",\"2017-03-12T00:00:00.000000000\",\"2017-03-11T00:00:00.000000000\",\"2017-03-10T00:00:00.000000000\",\"2017-03-09T00:00:00.000000000\",\"2017-03-08T00:00:00.000000000\",\"2017-03-07T00:00:00.000000000\",\"2017-03-06T00:00:00.000000000\",\"2017-03-05T00:00:00.000000000\",\"2017-03-04T00:00:00.000000000\",\"2017-03-03T00:00:00.000000000\",\"2017-03-02T00:00:00.000000000\",\"2017-03-01T00:00:00.000000000\",\"2017-02-28T00:00:00.000000000\",\"2017-02-27T00:00:00.000000000\",\"2017-02-26T00:00:00.000000000\",\"2017-02-25T00:00:00.000000000\",\"2017-02-24T00:00:00.000000000\",\"2017-02-23T00:00:00.000000000\",\"2017-02-22T00:00:00.000000000\",\"2017-02-21T00:00:00.000000000\",\"2017-02-20T00:00:00.000000000\",\"2017-02-19T00:00:00.000000000\",\"2017-02-18T00:00:00.000000000\",\"2017-02-17T00:00:00.000000000\",\"2017-02-16T00:00:00.000000000\",\"2017-02-15T00:00:00.000000000\",\"2017-02-14T00:00:00.000000000\",\"2017-02-13T00:00:00.000000000\",\"2017-02-12T00:00:00.000000000\",\"2017-02-11T00:00:00.000000000\",\"2017-02-10T00:00:00.000000000\",\"2017-02-09T00:00:00.000000000\",\"2017-02-08T00:00:00.000000000\",\"2017-02-07T00:00:00.000000000\",\"2017-02-06T00:00:00.000000000\",\"2017-02-05T00:00:00.000000000\",\"2017-02-04T00:00:00.000000000\",\"2017-02-03T00:00:00.000000000\",\"2017-02-02T00:00:00.000000000\",\"2017-02-01T00:00:00.000000000\",\"2017-01-31T00:00:00.000000000\",\"2017-01-30T00:00:00.000000000\",\"2017-01-29T00:00:00.000000000\",\"2017-01-28T00:00:00.000000000\",\"2017-01-27T00:00:00.000000000\",\"2017-01-26T00:00:00.000000000\",\"2017-01-25T00:00:00.000000000\",\"2017-01-24T00:00:00.000000000\",\"2017-01-23T00:00:00.000000000\",\"2017-01-22T00:00:00.000000000\",\"2017-01-21T00:00:00.000000000\",\"2017-01-20T00:00:00.000000000\",\"2017-01-19T00:00:00.000000000\",\"2017-01-18T00:00:00.000000000\",\"2017-01-17T00:00:00.000000000\",\"2017-01-16T00:00:00.000000000\",\"2017-01-15T00:00:00.000000000\",\"2017-01-14T00:00:00.000000000\",\"2017-01-13T00:00:00.000000000\",\"2017-01-12T00:00:00.000000000\",\"2017-01-11T00:00:00.000000000\",\"2017-01-10T00:00:00.000000000\",\"2017-01-09T00:00:00.000000000\",\"2017-01-08T00:00:00.000000000\",\"2017-01-07T00:00:00.000000000\",\"2017-01-06T00:00:00.000000000\",\"2017-01-05T00:00:00.000000000\",\"2017-01-04T00:00:00.000000000\",\"2017-01-03T00:00:00.000000000\",\"2017-01-02T00:00:00.000000000\",\"2017-01-01T00:00:00.000000000\",\"2016-12-31T00:00:00.000000000\",\"2016-12-30T00:00:00.000000000\",\"2016-12-29T00:00:00.000000000\",\"2016-12-28T00:00:00.000000000\",\"2016-12-27T00:00:00.000000000\",\"2016-12-26T00:00:00.000000000\",\"2016-12-25T00:00:00.000000000\",\"2016-12-24T00:00:00.000000000\",\"2016-12-23T00:00:00.000000000\",\"2016-12-22T00:00:00.000000000\",\"2016-12-21T00:00:00.000000000\",\"2016-12-20T00:00:00.000000000\",\"2016-12-19T00:00:00.000000000\",\"2016-12-18T00:00:00.000000000\",\"2016-12-17T00:00:00.000000000\",\"2016-12-16T00:00:00.000000000\",\"2016-12-15T00:00:00.000000000\",\"2016-12-14T00:00:00.000000000\",\"2016-12-13T00:00:00.000000000\",\"2016-12-12T00:00:00.000000000\",\"2016-12-11T00:00:00.000000000\",\"2016-12-10T00:00:00.000000000\",\"2016-12-09T00:00:00.000000000\",\"2016-12-08T00:00:00.000000000\",\"2016-12-07T00:00:00.000000000\",\"2016-12-06T00:00:00.000000000\",\"2016-12-05T00:00:00.000000000\",\"2016-12-04T00:00:00.000000000\",\"2016-12-03T00:00:00.000000000\",\"2016-12-02T00:00:00.000000000\",\"2016-12-01T00:00:00.000000000\",\"2016-11-30T00:00:00.000000000\",\"2016-11-29T00:00:00.000000000\",\"2016-11-28T00:00:00.000000000\",\"2016-11-27T00:00:00.000000000\",\"2016-11-26T00:00:00.000000000\",\"2016-11-25T00:00:00.000000000\",\"2016-11-24T00:00:00.000000000\",\"2016-11-23T00:00:00.000000000\",\"2016-11-22T00:00:00.000000000\",\"2016-11-21T00:00:00.000000000\",\"2016-11-20T00:00:00.000000000\",\"2016-11-19T00:00:00.000000000\",\"2016-11-18T00:00:00.000000000\",\"2016-11-17T00:00:00.000000000\",\"2016-11-16T00:00:00.000000000\",\"2016-11-15T00:00:00.000000000\",\"2016-11-14T00:00:00.000000000\",\"2016-11-13T00:00:00.000000000\",\"2016-11-12T00:00:00.000000000\",\"2016-11-11T00:00:00.000000000\",\"2016-11-10T00:00:00.000000000\",\"2016-11-09T00:00:00.000000000\",\"2016-11-08T00:00:00.000000000\",\"2016-11-07T00:00:00.000000000\",\"2016-11-06T00:00:00.000000000\",\"2016-11-05T00:00:00.000000000\",\"2016-11-04T00:00:00.000000000\",\"2016-11-03T00:00:00.000000000\",\"2016-11-02T00:00:00.000000000\",\"2016-11-01T00:00:00.000000000\",\"2016-10-31T00:00:00.000000000\",\"2016-10-30T00:00:00.000000000\",\"2016-10-29T00:00:00.000000000\",\"2016-10-28T00:00:00.000000000\",\"2016-10-27T00:00:00.000000000\",\"2016-10-26T00:00:00.000000000\",\"2016-10-25T00:00:00.000000000\",\"2016-10-24T00:00:00.000000000\",\"2016-10-23T00:00:00.000000000\",\"2016-10-22T00:00:00.000000000\",\"2016-10-21T00:00:00.000000000\",\"2016-10-20T00:00:00.000000000\",\"2016-10-19T00:00:00.000000000\",\"2016-10-18T00:00:00.000000000\",\"2016-10-17T00:00:00.000000000\",\"2016-10-16T00:00:00.000000000\",\"2016-10-15T00:00:00.000000000\",\"2016-10-14T00:00:00.000000000\",\"2016-10-13T00:00:00.000000000\",\"2016-10-12T00:00:00.000000000\",\"2016-10-11T00:00:00.000000000\",\"2016-10-10T00:00:00.000000000\",\"2016-10-09T00:00:00.000000000\",\"2016-10-08T00:00:00.000000000\",\"2016-10-07T00:00:00.000000000\",\"2016-10-06T00:00:00.000000000\",\"2016-10-05T00:00:00.000000000\",\"2016-10-04T00:00:00.000000000\",\"2016-10-03T00:00:00.000000000\",\"2016-10-02T00:00:00.000000000\",\"2016-10-01T00:00:00.000000000\",\"2016-09-30T00:00:00.000000000\",\"2016-09-29T00:00:00.000000000\",\"2016-09-28T00:00:00.000000000\",\"2016-09-27T00:00:00.000000000\",\"2016-09-26T00:00:00.000000000\",\"2016-09-25T00:00:00.000000000\",\"2016-09-24T00:00:00.000000000\",\"2016-09-23T00:00:00.000000000\",\"2016-09-22T00:00:00.000000000\",\"2016-09-21T00:00:00.000000000\",\"2016-09-20T00:00:00.000000000\",\"2016-09-19T00:00:00.000000000\",\"2016-09-18T00:00:00.000000000\",\"2016-09-17T00:00:00.000000000\",\"2016-09-16T00:00:00.000000000\",\"2016-09-15T00:00:00.000000000\",\"2016-09-14T00:00:00.000000000\",\"2016-09-13T00:00:00.000000000\",\"2016-09-12T00:00:00.000000000\",\"2016-09-11T00:00:00.000000000\",\"2016-09-10T00:00:00.000000000\",\"2016-09-09T00:00:00.000000000\",\"2016-09-08T00:00:00.000000000\",\"2016-09-07T00:00:00.000000000\",\"2016-09-06T00:00:00.000000000\",\"2016-09-05T00:00:00.000000000\",\"2016-09-04T00:00:00.000000000\",\"2016-09-03T00:00:00.000000000\",\"2016-09-02T00:00:00.000000000\",\"2016-09-01T00:00:00.000000000\",\"2016-08-31T00:00:00.000000000\",\"2016-08-30T00:00:00.000000000\",\"2016-08-29T00:00:00.000000000\",\"2016-08-28T00:00:00.000000000\",\"2016-08-27T00:00:00.000000000\",\"2016-08-26T00:00:00.000000000\",\"2016-08-25T00:00:00.000000000\",\"2016-08-24T00:00:00.000000000\",\"2016-08-23T00:00:00.000000000\",\"2016-08-22T00:00:00.000000000\",\"2016-08-21T00:00:00.000000000\",\"2016-08-20T00:00:00.000000000\",\"2016-08-19T00:00:00.000000000\",\"2016-08-18T00:00:00.000000000\",\"2016-08-17T00:00:00.000000000\",\"2016-08-16T00:00:00.000000000\",\"2016-08-15T00:00:00.000000000\",\"2016-08-14T00:00:00.000000000\",\"2016-08-13T00:00:00.000000000\",\"2016-08-12T00:00:00.000000000\",\"2016-08-11T00:00:00.000000000\",\"2016-08-10T00:00:00.000000000\",\"2016-08-09T00:00:00.000000000\",\"2016-08-08T00:00:00.000000000\",\"2016-08-07T00:00:00.000000000\",\"2016-08-06T00:00:00.000000000\",\"2016-08-05T00:00:00.000000000\",\"2016-08-04T00:00:00.000000000\",\"2016-08-03T00:00:00.000000000\",\"2016-08-02T00:00:00.000000000\",\"2016-08-01T00:00:00.000000000\",\"2016-07-31T00:00:00.000000000\",\"2016-07-30T00:00:00.000000000\",\"2016-07-29T00:00:00.000000000\",\"2016-07-28T00:00:00.000000000\",\"2016-07-27T00:00:00.000000000\",\"2016-07-26T00:00:00.000000000\",\"2016-07-25T00:00:00.000000000\",\"2016-07-24T00:00:00.000000000\",\"2016-07-23T00:00:00.000000000\",\"2016-07-22T00:00:00.000000000\",\"2016-07-21T00:00:00.000000000\",\"2016-07-20T00:00:00.000000000\",\"2016-07-19T00:00:00.000000000\",\"2016-07-18T00:00:00.000000000\",\"2016-07-17T00:00:00.000000000\",\"2016-07-16T00:00:00.000000000\",\"2016-07-15T00:00:00.000000000\",\"2016-07-14T00:00:00.000000000\",\"2016-07-13T00:00:00.000000000\",\"2016-07-12T00:00:00.000000000\",\"2016-07-11T00:00:00.000000000\",\"2016-07-10T00:00:00.000000000\",\"2016-07-09T00:00:00.000000000\",\"2016-07-08T00:00:00.000000000\",\"2016-07-07T00:00:00.000000000\",\"2016-07-06T00:00:00.000000000\",\"2016-07-05T00:00:00.000000000\",\"2016-07-04T00:00:00.000000000\",\"2016-07-03T00:00:00.000000000\",\"2016-07-02T00:00:00.000000000\",\"2016-07-01T00:00:00.000000000\",\"2016-06-30T00:00:00.000000000\",\"2016-06-29T00:00:00.000000000\",\"2016-06-28T00:00:00.000000000\",\"2016-06-27T00:00:00.000000000\",\"2016-06-26T00:00:00.000000000\",\"2016-06-25T00:00:00.000000000\",\"2016-06-24T00:00:00.000000000\",\"2016-06-23T00:00:00.000000000\",\"2016-06-22T00:00:00.000000000\",\"2016-06-21T00:00:00.000000000\",\"2016-06-20T00:00:00.000000000\",\"2016-06-19T00:00:00.000000000\",\"2016-06-18T00:00:00.000000000\",\"2016-06-17T00:00:00.000000000\",\"2016-06-16T00:00:00.000000000\",\"2016-06-15T00:00:00.000000000\",\"2016-06-14T00:00:00.000000000\",\"2016-06-13T00:00:00.000000000\",\"2016-06-12T00:00:00.000000000\",\"2016-06-11T00:00:00.000000000\",\"2016-06-10T00:00:00.000000000\",\"2016-06-09T00:00:00.000000000\",\"2016-06-08T00:00:00.000000000\",\"2016-06-07T00:00:00.000000000\",\"2016-06-06T00:00:00.000000000\",\"2016-06-05T00:00:00.000000000\",\"2016-06-04T00:00:00.000000000\",\"2016-06-03T00:00:00.000000000\",\"2016-06-02T00:00:00.000000000\",\"2016-06-01T00:00:00.000000000\",\"2016-05-31T00:00:00.000000000\",\"2016-05-30T00:00:00.000000000\",\"2016-05-29T00:00:00.000000000\",\"2016-05-28T00:00:00.000000000\",\"2016-05-27T00:00:00.000000000\",\"2016-05-26T00:00:00.000000000\",\"2016-05-25T00:00:00.000000000\",\"2016-05-24T00:00:00.000000000\",\"2016-05-23T00:00:00.000000000\",\"2016-05-22T00:00:00.000000000\",\"2016-05-21T00:00:00.000000000\",\"2016-05-20T00:00:00.000000000\",\"2016-05-19T00:00:00.000000000\",\"2016-05-18T00:00:00.000000000\",\"2016-05-17T00:00:00.000000000\",\"2016-05-16T00:00:00.000000000\",\"2016-05-15T00:00:00.000000000\",\"2016-05-14T00:00:00.000000000\",\"2016-05-13T00:00:00.000000000\",\"2016-05-12T00:00:00.000000000\",\"2016-05-11T00:00:00.000000000\",\"2016-05-10T00:00:00.000000000\",\"2016-05-09T00:00:00.000000000\",\"2016-05-08T00:00:00.000000000\",\"2016-05-07T00:00:00.000000000\",\"2016-05-06T00:00:00.000000000\",\"2016-05-05T00:00:00.000000000\",\"2016-05-04T00:00:00.000000000\",\"2016-05-03T00:00:00.000000000\",\"2016-05-02T00:00:00.000000000\",\"2016-05-01T00:00:00.000000000\",\"2016-04-30T00:00:00.000000000\",\"2016-04-29T00:00:00.000000000\",\"2016-04-28T00:00:00.000000000\",\"2016-04-27T00:00:00.000000000\",\"2016-04-26T00:00:00.000000000\",\"2016-04-25T00:00:00.000000000\",\"2016-04-24T00:00:00.000000000\",\"2016-04-23T00:00:00.000000000\",\"2016-04-22T00:00:00.000000000\",\"2016-04-21T00:00:00.000000000\",\"2016-04-20T00:00:00.000000000\",\"2016-04-19T00:00:00.000000000\",\"2016-04-18T00:00:00.000000000\",\"2016-04-17T00:00:00.000000000\",\"2016-04-16T00:00:00.000000000\",\"2016-04-15T00:00:00.000000000\",\"2016-04-14T00:00:00.000000000\",\"2016-04-13T00:00:00.000000000\",\"2016-04-12T00:00:00.000000000\",\"2016-04-11T00:00:00.000000000\",\"2016-04-10T00:00:00.000000000\",\"2016-04-09T00:00:00.000000000\",\"2016-04-08T00:00:00.000000000\",\"2016-04-07T00:00:00.000000000\",\"2016-04-06T00:00:00.000000000\",\"2016-04-05T00:00:00.000000000\",\"2016-04-04T00:00:00.000000000\",\"2016-04-03T00:00:00.000000000\",\"2016-04-02T00:00:00.000000000\",\"2016-04-01T00:00:00.000000000\",\"2016-03-31T00:00:00.000000000\",\"2016-03-30T00:00:00.000000000\",\"2016-03-29T00:00:00.000000000\",\"2016-03-28T00:00:00.000000000\",\"2016-03-27T00:00:00.000000000\",\"2016-03-26T00:00:00.000000000\",\"2016-03-25T00:00:00.000000000\",\"2016-03-24T00:00:00.000000000\",\"2016-03-23T00:00:00.000000000\",\"2016-03-22T00:00:00.000000000\",\"2016-03-21T00:00:00.000000000\",\"2016-03-20T00:00:00.000000000\",\"2016-03-19T00:00:00.000000000\",\"2016-03-18T00:00:00.000000000\",\"2016-03-17T00:00:00.000000000\",\"2016-03-16T00:00:00.000000000\",\"2016-03-15T00:00:00.000000000\",\"2016-03-14T00:00:00.000000000\",\"2016-03-13T00:00:00.000000000\",\"2016-03-12T00:00:00.000000000\",\"2016-03-11T00:00:00.000000000\",\"2016-03-10T00:00:00.000000000\",\"2016-03-09T00:00:00.000000000\",\"2016-03-08T00:00:00.000000000\",\"2016-03-07T00:00:00.000000000\",\"2016-03-06T00:00:00.000000000\",\"2016-03-05T00:00:00.000000000\",\"2016-03-04T00:00:00.000000000\",\"2016-03-03T00:00:00.000000000\",\"2016-03-02T00:00:00.000000000\",\"2016-03-01T00:00:00.000000000\",\"2016-02-29T00:00:00.000000000\",\"2016-02-28T00:00:00.000000000\",\"2016-02-27T00:00:00.000000000\",\"2016-02-26T00:00:00.000000000\",\"2016-02-25T00:00:00.000000000\",\"2016-02-24T00:00:00.000000000\",\"2016-02-23T00:00:00.000000000\",\"2016-02-22T00:00:00.000000000\",\"2016-02-21T00:00:00.000000000\",\"2016-02-20T00:00:00.000000000\",\"2016-02-19T00:00:00.000000000\",\"2016-02-18T00:00:00.000000000\",\"2016-02-17T00:00:00.000000000\",\"2016-02-16T00:00:00.000000000\",\"2016-02-15T00:00:00.000000000\",\"2016-02-14T00:00:00.000000000\",\"2016-02-13T00:00:00.000000000\",\"2016-02-12T00:00:00.000000000\",\"2016-02-11T00:00:00.000000000\",\"2016-02-10T00:00:00.000000000\",\"2016-02-09T00:00:00.000000000\",\"2016-02-08T00:00:00.000000000\",\"2016-02-07T00:00:00.000000000\",\"2016-02-06T00:00:00.000000000\",\"2016-02-05T00:00:00.000000000\",\"2016-02-04T00:00:00.000000000\",\"2016-02-03T00:00:00.000000000\",\"2016-02-02T00:00:00.000000000\",\"2016-02-01T00:00:00.000000000\",\"2016-01-31T00:00:00.000000000\",\"2016-01-30T00:00:00.000000000\",\"2016-01-29T00:00:00.000000000\",\"2016-01-28T00:00:00.000000000\",\"2016-01-27T00:00:00.000000000\",\"2016-01-26T00:00:00.000000000\",\"2016-01-25T00:00:00.000000000\",\"2016-01-24T00:00:00.000000000\",\"2016-01-23T00:00:00.000000000\",\"2016-01-22T00:00:00.000000000\",\"2016-01-21T00:00:00.000000000\",\"2016-01-20T00:00:00.000000000\",\"2016-01-19T00:00:00.000000000\",\"2016-01-18T00:00:00.000000000\",\"2016-01-17T00:00:00.000000000\",\"2016-01-16T00:00:00.000000000\",\"2016-01-15T00:00:00.000000000\",\"2016-01-14T00:00:00.000000000\",\"2016-01-13T00:00:00.000000000\",\"2016-01-12T00:00:00.000000000\",\"2016-01-11T00:00:00.000000000\",\"2016-01-10T00:00:00.000000000\",\"2016-01-09T00:00:00.000000000\",\"2016-01-08T00:00:00.000000000\",\"2016-01-07T00:00:00.000000000\",\"2016-01-06T00:00:00.000000000\",\"2016-01-05T00:00:00.000000000\",\"2016-01-04T00:00:00.000000000\",\"2016-01-03T00:00:00.000000000\",\"2016-01-02T00:00:00.000000000\",\"2016-01-01T00:00:00.000000000\",\"2015-12-31T00:00:00.000000000\",\"2015-12-30T00:00:00.000000000\",\"2015-12-29T00:00:00.000000000\",\"2015-12-28T00:00:00.000000000\",\"2015-12-27T00:00:00.000000000\",\"2015-12-26T00:00:00.000000000\",\"2015-12-25T00:00:00.000000000\",\"2015-12-24T00:00:00.000000000\",\"2015-12-23T00:00:00.000000000\",\"2015-12-22T00:00:00.000000000\",\"2015-12-21T00:00:00.000000000\",\"2015-12-20T00:00:00.000000000\",\"2015-12-19T00:00:00.000000000\",\"2015-12-18T00:00:00.000000000\",\"2015-12-17T00:00:00.000000000\",\"2015-12-16T00:00:00.000000000\",\"2015-12-15T00:00:00.000000000\",\"2015-12-14T00:00:00.000000000\",\"2015-12-13T00:00:00.000000000\",\"2015-12-12T00:00:00.000000000\",\"2015-12-11T00:00:00.000000000\",\"2015-12-10T00:00:00.000000000\",\"2015-12-09T00:00:00.000000000\",\"2015-12-08T00:00:00.000000000\",\"2015-12-07T00:00:00.000000000\",\"2015-12-06T00:00:00.000000000\",\"2015-12-05T00:00:00.000000000\",\"2015-12-04T00:00:00.000000000\",\"2015-12-03T00:00:00.000000000\",\"2015-12-02T00:00:00.000000000\",\"2015-12-01T00:00:00.000000000\",\"2015-11-30T00:00:00.000000000\",\"2015-11-29T00:00:00.000000000\",\"2015-11-28T00:00:00.000000000\",\"2015-11-27T00:00:00.000000000\",\"2015-11-26T00:00:00.000000000\",\"2015-11-25T00:00:00.000000000\",\"2015-11-24T00:00:00.000000000\",\"2015-11-23T00:00:00.000000000\",\"2015-11-22T00:00:00.000000000\",\"2015-11-21T00:00:00.000000000\",\"2015-11-20T00:00:00.000000000\",\"2015-11-19T00:00:00.000000000\",\"2015-11-18T00:00:00.000000000\",\"2015-11-17T00:00:00.000000000\",\"2015-11-16T00:00:00.000000000\",\"2015-11-15T00:00:00.000000000\",\"2015-11-14T00:00:00.000000000\",\"2015-11-13T00:00:00.000000000\",\"2015-11-12T00:00:00.000000000\",\"2015-11-11T00:00:00.000000000\",\"2015-11-10T00:00:00.000000000\",\"2015-11-09T00:00:00.000000000\",\"2015-11-08T00:00:00.000000000\",\"2015-11-07T00:00:00.000000000\",\"2015-11-06T00:00:00.000000000\",\"2015-11-05T00:00:00.000000000\",\"2015-11-04T00:00:00.000000000\",\"2015-11-03T00:00:00.000000000\",\"2015-11-02T00:00:00.000000000\",\"2015-11-01T00:00:00.000000000\",\"2015-10-31T00:00:00.000000000\",\"2015-10-30T00:00:00.000000000\",\"2015-10-29T00:00:00.000000000\",\"2015-10-28T00:00:00.000000000\",\"2015-10-27T00:00:00.000000000\",\"2015-10-26T00:00:00.000000000\",\"2015-10-25T00:00:00.000000000\",\"2015-10-24T00:00:00.000000000\",\"2015-10-23T00:00:00.000000000\",\"2015-10-22T00:00:00.000000000\",\"2015-10-21T00:00:00.000000000\",\"2015-10-20T00:00:00.000000000\",\"2015-10-19T00:00:00.000000000\",\"2015-10-18T00:00:00.000000000\",\"2015-10-17T00:00:00.000000000\",\"2015-10-16T00:00:00.000000000\",\"2015-10-15T00:00:00.000000000\",\"2015-10-14T00:00:00.000000000\",\"2015-10-13T00:00:00.000000000\",\"2015-10-12T00:00:00.000000000\",\"2015-10-11T00:00:00.000000000\",\"2015-10-10T00:00:00.000000000\",\"2015-10-09T00:00:00.000000000\",\"2015-10-08T00:00:00.000000000\",\"2015-10-07T00:00:00.000000000\",\"2015-10-06T00:00:00.000000000\",\"2015-10-05T00:00:00.000000000\",\"2015-10-04T00:00:00.000000000\",\"2015-10-03T00:00:00.000000000\",\"2015-10-02T00:00:00.000000000\",\"2015-10-01T00:00:00.000000000\",\"2015-09-30T00:00:00.000000000\",\"2015-09-29T00:00:00.000000000\",\"2015-09-28T00:00:00.000000000\",\"2015-09-27T00:00:00.000000000\",\"2015-09-26T00:00:00.000000000\",\"2015-09-25T00:00:00.000000000\",\"2015-09-24T00:00:00.000000000\",\"2015-09-23T00:00:00.000000000\",\"2015-09-22T00:00:00.000000000\",\"2015-09-21T00:00:00.000000000\",\"2015-09-20T00:00:00.000000000\",\"2015-09-19T00:00:00.000000000\",\"2015-09-18T00:00:00.000000000\",\"2015-09-17T00:00:00.000000000\",\"2015-09-16T00:00:00.000000000\",\"2015-09-15T00:00:00.000000000\",\"2015-09-14T00:00:00.000000000\",\"2015-09-13T00:00:00.000000000\",\"2015-09-12T00:00:00.000000000\",\"2015-09-11T00:00:00.000000000\",\"2015-09-10T00:00:00.000000000\",\"2015-09-09T00:00:00.000000000\",\"2015-09-08T00:00:00.000000000\",\"2015-09-07T00:00:00.000000000\",\"2015-09-06T00:00:00.000000000\",\"2015-09-05T00:00:00.000000000\",\"2015-09-04T00:00:00.000000000\",\"2015-09-03T00:00:00.000000000\",\"2015-09-02T00:00:00.000000000\",\"2015-09-01T00:00:00.000000000\",\"2015-08-31T00:00:00.000000000\",\"2015-08-30T00:00:00.000000000\",\"2015-08-29T00:00:00.000000000\",\"2015-08-28T00:00:00.000000000\",\"2015-08-27T00:00:00.000000000\",\"2015-08-26T00:00:00.000000000\",\"2015-08-25T00:00:00.000000000\",\"2015-08-24T00:00:00.000000000\",\"2015-08-23T00:00:00.000000000\",\"2015-08-22T00:00:00.000000000\",\"2015-08-21T00:00:00.000000000\",\"2015-08-20T00:00:00.000000000\",\"2015-08-19T00:00:00.000000000\",\"2015-08-18T00:00:00.000000000\",\"2015-08-17T00:00:00.000000000\",\"2015-08-16T00:00:00.000000000\",\"2015-08-15T00:00:00.000000000\",\"2015-08-14T00:00:00.000000000\",\"2015-08-13T00:00:00.000000000\",\"2015-08-12T00:00:00.000000000\",\"2015-08-11T00:00:00.000000000\",\"2015-08-10T00:00:00.000000000\",\"2015-08-09T00:00:00.000000000\",\"2015-08-08T00:00:00.000000000\",\"2015-08-07T00:00:00.000000000\",\"2015-08-06T00:00:00.000000000\",\"2015-08-05T00:00:00.000000000\",\"2015-08-04T00:00:00.000000000\",\"2015-08-03T00:00:00.000000000\",\"2015-08-02T00:00:00.000000000\",\"2015-08-01T00:00:00.000000000\",\"2015-07-31T00:00:00.000000000\",\"2015-07-30T00:00:00.000000000\",\"2015-07-29T00:00:00.000000000\",\"2015-07-28T00:00:00.000000000\",\"2015-07-27T00:00:00.000000000\",\"2015-07-26T00:00:00.000000000\",\"2015-07-25T00:00:00.000000000\",\"2015-07-24T00:00:00.000000000\",\"2015-07-23T00:00:00.000000000\",\"2015-07-22T00:00:00.000000000\",\"2015-07-21T00:00:00.000000000\",\"2015-07-20T00:00:00.000000000\",\"2015-07-19T00:00:00.000000000\",\"2015-07-18T00:00:00.000000000\",\"2015-07-17T00:00:00.000000000\",\"2015-07-16T00:00:00.000000000\",\"2015-07-15T00:00:00.000000000\",\"2015-07-14T00:00:00.000000000\",\"2015-07-13T00:00:00.000000000\",\"2015-07-12T00:00:00.000000000\",\"2015-07-11T00:00:00.000000000\",\"2015-07-10T00:00:00.000000000\",\"2015-07-09T00:00:00.000000000\",\"2015-07-08T00:00:00.000000000\",\"2015-07-07T00:00:00.000000000\",\"2015-07-06T00:00:00.000000000\",\"2015-07-05T00:00:00.000000000\",\"2015-07-04T00:00:00.000000000\",\"2015-07-03T00:00:00.000000000\",\"2015-07-02T00:00:00.000000000\",\"2015-07-01T00:00:00.000000000\",\"2015-06-30T00:00:00.000000000\",\"2015-06-29T00:00:00.000000000\",\"2015-06-28T00:00:00.000000000\",\"2015-06-27T00:00:00.000000000\",\"2015-06-26T00:00:00.000000000\",\"2015-06-25T00:00:00.000000000\",\"2015-06-24T00:00:00.000000000\",\"2015-06-23T00:00:00.000000000\",\"2015-06-22T00:00:00.000000000\",\"2015-06-21T00:00:00.000000000\",\"2015-06-20T00:00:00.000000000\",\"2015-06-19T00:00:00.000000000\",\"2015-06-18T00:00:00.000000000\",\"2015-06-17T00:00:00.000000000\",\"2015-06-16T00:00:00.000000000\",\"2015-06-15T00:00:00.000000000\",\"2015-06-14T00:00:00.000000000\",\"2015-06-13T00:00:00.000000000\",\"2015-06-12T00:00:00.000000000\",\"2015-06-11T00:00:00.000000000\",\"2015-06-10T00:00:00.000000000\",\"2015-06-09T00:00:00.000000000\",\"2015-06-08T00:00:00.000000000\",\"2015-06-07T00:00:00.000000000\",\"2015-06-06T00:00:00.000000000\",\"2015-06-05T00:00:00.000000000\",\"2015-06-04T00:00:00.000000000\",\"2015-06-03T00:00:00.000000000\",\"2015-06-02T00:00:00.000000000\",\"2015-06-01T00:00:00.000000000\",\"2015-05-31T00:00:00.000000000\",\"2015-05-30T00:00:00.000000000\",\"2015-05-29T00:00:00.000000000\",\"2015-05-28T00:00:00.000000000\",\"2015-05-27T00:00:00.000000000\",\"2015-05-26T00:00:00.000000000\",\"2015-05-25T00:00:00.000000000\",\"2015-05-24T00:00:00.000000000\",\"2015-05-23T00:00:00.000000000\",\"2015-05-22T00:00:00.000000000\",\"2015-05-21T00:00:00.000000000\",\"2015-05-20T00:00:00.000000000\",\"2015-05-19T00:00:00.000000000\",\"2015-05-18T00:00:00.000000000\",\"2015-05-17T00:00:00.000000000\",\"2015-05-16T00:00:00.000000000\",\"2015-05-15T00:00:00.000000000\",\"2015-05-14T00:00:00.000000000\",\"2015-05-13T00:00:00.000000000\",\"2015-05-12T00:00:00.000000000\",\"2015-05-11T00:00:00.000000000\",\"2015-05-10T00:00:00.000000000\",\"2015-05-09T00:00:00.000000000\",\"2015-05-08T00:00:00.000000000\",\"2015-05-07T00:00:00.000000000\",\"2015-05-06T00:00:00.000000000\",\"2015-05-05T00:00:00.000000000\",\"2015-05-04T00:00:00.000000000\",\"2015-05-03T00:00:00.000000000\",\"2015-05-02T00:00:00.000000000\",\"2015-05-01T00:00:00.000000000\",\"2015-04-30T00:00:00.000000000\",\"2015-04-29T00:00:00.000000000\",\"2015-04-28T00:00:00.000000000\",\"2015-04-27T00:00:00.000000000\",\"2015-04-26T00:00:00.000000000\",\"2015-04-25T00:00:00.000000000\",\"2015-04-24T00:00:00.000000000\",\"2015-04-23T00:00:00.000000000\",\"2015-04-22T00:00:00.000000000\",\"2015-04-21T00:00:00.000000000\",\"2015-04-20T00:00:00.000000000\",\"2015-04-19T00:00:00.000000000\",\"2015-04-18T00:00:00.000000000\",\"2015-04-17T00:00:00.000000000\",\"2015-04-16T00:00:00.000000000\",\"2015-04-15T00:00:00.000000000\",\"2015-04-14T00:00:00.000000000\",\"2015-04-13T00:00:00.000000000\",\"2015-04-12T00:00:00.000000000\",\"2015-04-11T00:00:00.000000000\",\"2015-04-10T00:00:00.000000000\",\"2015-04-09T00:00:00.000000000\",\"2015-04-08T00:00:00.000000000\",\"2015-04-07T00:00:00.000000000\",\"2015-04-06T00:00:00.000000000\",\"2015-04-05T00:00:00.000000000\",\"2015-04-04T00:00:00.000000000\",\"2015-04-03T00:00:00.000000000\",\"2015-04-02T00:00:00.000000000\",\"2015-04-01T00:00:00.000000000\",\"2015-03-31T00:00:00.000000000\",\"2015-03-30T00:00:00.000000000\",\"2015-03-29T00:00:00.000000000\",\"2015-03-28T00:00:00.000000000\",\"2015-03-27T00:00:00.000000000\",\"2015-03-26T00:00:00.000000000\",\"2015-03-25T00:00:00.000000000\",\"2015-03-24T00:00:00.000000000\",\"2015-03-23T00:00:00.000000000\",\"2015-03-22T00:00:00.000000000\",\"2015-03-21T00:00:00.000000000\",\"2015-03-20T00:00:00.000000000\",\"2015-03-19T00:00:00.000000000\",\"2015-03-18T00:00:00.000000000\",\"2015-03-17T00:00:00.000000000\",\"2015-03-16T00:00:00.000000000\",\"2015-03-15T00:00:00.000000000\",\"2015-03-14T00:00:00.000000000\",\"2015-03-13T00:00:00.000000000\",\"2015-03-12T00:00:00.000000000\",\"2015-03-11T00:00:00.000000000\",\"2015-03-10T00:00:00.000000000\",\"2015-03-09T00:00:00.000000000\",\"2015-03-08T00:00:00.000000000\",\"2015-03-07T00:00:00.000000000\",\"2015-03-06T00:00:00.000000000\",\"2015-03-05T00:00:00.000000000\",\"2015-03-04T00:00:00.000000000\",\"2015-03-03T00:00:00.000000000\",\"2015-03-02T00:00:00.000000000\",\"2015-03-01T00:00:00.000000000\",\"2015-02-28T00:00:00.000000000\",\"2015-02-27T00:00:00.000000000\",\"2015-02-26T00:00:00.000000000\",\"2015-02-25T00:00:00.000000000\",\"2015-02-24T00:00:00.000000000\",\"2015-02-23T00:00:00.000000000\",\"2015-02-22T00:00:00.000000000\",\"2015-02-21T00:00:00.000000000\",\"2015-02-20T00:00:00.000000000\",\"2015-02-19T00:00:00.000000000\",\"2015-02-18T00:00:00.000000000\",\"2015-02-17T00:00:00.000000000\",\"2015-02-16T00:00:00.000000000\",\"2015-02-15T00:00:00.000000000\",\"2015-02-14T00:00:00.000000000\",\"2015-02-13T00:00:00.000000000\",\"2015-02-12T00:00:00.000000000\",\"2015-02-11T00:00:00.000000000\",\"2015-02-10T00:00:00.000000000\",\"2015-02-09T00:00:00.000000000\",\"2015-02-08T00:00:00.000000000\",\"2015-02-07T00:00:00.000000000\",\"2015-02-06T00:00:00.000000000\",\"2015-02-05T00:00:00.000000000\",\"2015-02-04T00:00:00.000000000\",\"2015-02-03T00:00:00.000000000\",\"2015-02-02T00:00:00.000000000\",\"2015-02-01T00:00:00.000000000\",\"2015-01-31T00:00:00.000000000\",\"2015-01-30T00:00:00.000000000\",\"2015-01-29T00:00:00.000000000\",\"2015-01-28T00:00:00.000000000\",\"2015-01-27T00:00:00.000000000\",\"2015-01-26T00:00:00.000000000\",\"2015-01-25T00:00:00.000000000\",\"2015-01-24T00:00:00.000000000\",\"2015-01-23T00:00:00.000000000\",\"2015-01-22T00:00:00.000000000\",\"2015-01-21T00:00:00.000000000\",\"2015-01-20T00:00:00.000000000\",\"2015-01-19T00:00:00.000000000\",\"2015-01-18T00:00:00.000000000\",\"2015-01-17T00:00:00.000000000\",\"2015-01-16T00:00:00.000000000\",\"2015-01-15T00:00:00.000000000\",\"2015-01-14T00:00:00.000000000\",\"2015-01-13T00:00:00.000000000\",\"2015-01-12T00:00:00.000000000\",\"2015-01-11T00:00:00.000000000\",\"2015-01-10T00:00:00.000000000\",\"2015-01-09T00:00:00.000000000\",\"2015-01-08T00:00:00.000000000\",\"2015-01-07T00:00:00.000000000\",\"2015-01-06T00:00:00.000000000\",\"2015-01-05T00:00:00.000000000\",\"2015-01-04T00:00:00.000000000\",\"2015-01-03T00:00:00.000000000\",\"2015-01-02T00:00:00.000000000\",\"2015-01-01T00:00:00.000000000\",\"2014-12-31T00:00:00.000000000\",\"2014-12-30T00:00:00.000000000\",\"2014-12-29T00:00:00.000000000\",\"2014-12-28T00:00:00.000000000\",\"2014-12-27T00:00:00.000000000\",\"2014-12-26T00:00:00.000000000\",\"2014-12-25T00:00:00.000000000\",\"2014-12-24T00:00:00.000000000\",\"2014-12-23T00:00:00.000000000\",\"2014-12-22T00:00:00.000000000\",\"2014-12-21T00:00:00.000000000\",\"2014-12-20T00:00:00.000000000\",\"2014-12-19T00:00:00.000000000\",\"2014-12-18T00:00:00.000000000\",\"2014-12-17T00:00:00.000000000\",\"2014-12-16T00:00:00.000000000\",\"2014-12-15T00:00:00.000000000\",\"2014-12-14T00:00:00.000000000\",\"2014-12-13T00:00:00.000000000\",\"2014-12-12T00:00:00.000000000\",\"2014-12-11T00:00:00.000000000\",\"2014-12-10T00:00:00.000000000\",\"2014-12-09T00:00:00.000000000\",\"2014-12-08T00:00:00.000000000\",\"2014-12-07T00:00:00.000000000\",\"2014-12-06T00:00:00.000000000\",\"2014-12-05T00:00:00.000000000\",\"2014-12-04T00:00:00.000000000\",\"2014-12-03T00:00:00.000000000\",\"2014-12-02T00:00:00.000000000\",\"2014-12-01T00:00:00.000000000\",\"2014-11-30T00:00:00.000000000\",\"2014-11-29T00:00:00.000000000\",\"2014-11-28T00:00:00.000000000\",\"2014-11-27T00:00:00.000000000\",\"2014-11-26T00:00:00.000000000\",\"2014-11-25T00:00:00.000000000\",\"2014-11-24T00:00:00.000000000\",\"2014-11-23T00:00:00.000000000\",\"2014-11-22T00:00:00.000000000\",\"2014-11-21T00:00:00.000000000\",\"2014-11-20T00:00:00.000000000\",\"2014-11-19T00:00:00.000000000\",\"2014-11-18T00:00:00.000000000\",\"2014-11-17T00:00:00.000000000\",\"2014-11-16T00:00:00.000000000\",\"2014-11-15T00:00:00.000000000\",\"2014-11-14T00:00:00.000000000\",\"2014-11-13T00:00:00.000000000\",\"2014-11-12T00:00:00.000000000\",\"2014-11-11T00:00:00.000000000\",\"2014-11-10T00:00:00.000000000\",\"2014-11-09T00:00:00.000000000\",\"2014-11-08T00:00:00.000000000\",\"2014-11-07T00:00:00.000000000\",\"2014-11-06T00:00:00.000000000\",\"2014-11-05T00:00:00.000000000\",\"2014-11-04T00:00:00.000000000\",\"2014-11-03T00:00:00.000000000\",\"2014-11-02T00:00:00.000000000\",\"2014-11-01T00:00:00.000000000\",\"2014-10-31T00:00:00.000000000\",\"2014-10-30T00:00:00.000000000\",\"2014-10-29T00:00:00.000000000\",\"2014-10-28T00:00:00.000000000\",\"2014-10-27T00:00:00.000000000\",\"2014-10-26T00:00:00.000000000\",\"2014-10-25T00:00:00.000000000\",\"2014-10-24T00:00:00.000000000\",\"2014-10-23T00:00:00.000000000\",\"2014-10-22T00:00:00.000000000\",\"2014-10-21T00:00:00.000000000\",\"2014-10-20T00:00:00.000000000\",\"2014-10-19T00:00:00.000000000\",\"2014-10-18T00:00:00.000000000\",\"2014-10-17T00:00:00.000000000\",\"2014-10-16T00:00:00.000000000\",\"2014-10-15T00:00:00.000000000\",\"2014-10-14T00:00:00.000000000\",\"2014-10-13T00:00:00.000000000\",\"2014-10-12T00:00:00.000000000\",\"2014-10-11T00:00:00.000000000\",\"2014-10-10T00:00:00.000000000\",\"2014-10-09T00:00:00.000000000\",\"2014-10-08T00:00:00.000000000\",\"2014-10-07T00:00:00.000000000\",\"2014-10-06T00:00:00.000000000\",\"2014-10-05T00:00:00.000000000\",\"2014-10-04T00:00:00.000000000\",\"2014-10-03T00:00:00.000000000\",\"2014-10-02T00:00:00.000000000\",\"2014-10-01T00:00:00.000000000\",\"2014-09-30T00:00:00.000000000\",\"2014-09-29T00:00:00.000000000\",\"2014-09-28T00:00:00.000000000\",\"2014-09-27T00:00:00.000000000\",\"2014-09-26T00:00:00.000000000\",\"2014-09-25T00:00:00.000000000\",\"2014-09-24T00:00:00.000000000\",\"2014-09-23T00:00:00.000000000\",\"2014-09-22T00:00:00.000000000\",\"2014-09-21T00:00:00.000000000\",\"2014-09-20T00:00:00.000000000\",\"2014-09-19T00:00:00.000000000\",\"2014-09-18T00:00:00.000000000\",\"2014-09-17T00:00:00.000000000\",\"2014-09-16T00:00:00.000000000\",\"2014-09-15T00:00:00.000000000\",\"2014-09-14T00:00:00.000000000\",\"2014-09-13T00:00:00.000000000\",\"2014-09-12T00:00:00.000000000\",\"2014-09-11T00:00:00.000000000\",\"2014-09-10T00:00:00.000000000\",\"2014-09-09T00:00:00.000000000\",\"2014-09-08T00:00:00.000000000\",\"2014-09-07T00:00:00.000000000\",\"2014-09-06T00:00:00.000000000\",\"2014-09-05T00:00:00.000000000\",\"2014-09-04T00:00:00.000000000\",\"2014-09-03T00:00:00.000000000\",\"2014-09-02T00:00:00.000000000\",\"2014-09-01T00:00:00.000000000\",\"2014-08-31T00:00:00.000000000\",\"2014-08-30T00:00:00.000000000\",\"2014-08-29T00:00:00.000000000\",\"2014-08-28T00:00:00.000000000\",\"2014-08-27T00:00:00.000000000\",\"2014-08-26T00:00:00.000000000\",\"2014-08-25T00:00:00.000000000\",\"2014-08-24T00:00:00.000000000\",\"2014-08-23T00:00:00.000000000\",\"2014-08-22T00:00:00.000000000\",\"2014-08-21T00:00:00.000000000\",\"2014-08-20T00:00:00.000000000\",\"2014-08-19T00:00:00.000000000\",\"2014-08-18T00:00:00.000000000\",\"2014-08-17T00:00:00.000000000\",\"2014-08-16T00:00:00.000000000\",\"2014-08-15T00:00:00.000000000\",\"2014-08-14T00:00:00.000000000\",\"2014-08-13T00:00:00.000000000\",\"2014-08-12T00:00:00.000000000\",\"2014-08-11T00:00:00.000000000\",\"2014-08-10T00:00:00.000000000\",\"2014-08-09T00:00:00.000000000\",\"2014-08-08T00:00:00.000000000\",\"2014-08-07T00:00:00.000000000\",\"2014-08-06T00:00:00.000000000\",\"2014-08-05T00:00:00.000000000\",\"2014-08-04T00:00:00.000000000\",\"2014-08-03T00:00:00.000000000\",\"2014-08-02T00:00:00.000000000\",\"2014-08-01T00:00:00.000000000\",\"2014-07-31T00:00:00.000000000\",\"2014-07-30T00:00:00.000000000\",\"2014-07-29T00:00:00.000000000\",\"2014-07-28T00:00:00.000000000\",\"2014-07-27T00:00:00.000000000\",\"2014-07-26T00:00:00.000000000\",\"2014-07-25T00:00:00.000000000\",\"2014-07-24T00:00:00.000000000\",\"2014-07-23T00:00:00.000000000\",\"2014-07-22T00:00:00.000000000\",\"2014-07-21T00:00:00.000000000\",\"2014-07-20T00:00:00.000000000\",\"2014-07-19T00:00:00.000000000\",\"2014-07-18T00:00:00.000000000\",\"2014-07-17T00:00:00.000000000\",\"2014-07-16T00:00:00.000000000\",\"2014-07-15T00:00:00.000000000\",\"2014-07-14T00:00:00.000000000\",\"2014-07-13T00:00:00.000000000\",\"2014-07-12T00:00:00.000000000\",\"2014-07-11T00:00:00.000000000\",\"2014-07-10T00:00:00.000000000\",\"2014-07-09T00:00:00.000000000\",\"2014-07-08T00:00:00.000000000\",\"2014-07-07T00:00:00.000000000\",\"2014-07-06T00:00:00.000000000\",\"2014-07-05T00:00:00.000000000\",\"2014-07-04T00:00:00.000000000\",\"2014-07-03T00:00:00.000000000\",\"2014-07-02T00:00:00.000000000\",\"2014-07-01T00:00:00.000000000\",\"2014-06-30T00:00:00.000000000\",\"2014-06-29T00:00:00.000000000\",\"2014-06-28T00:00:00.000000000\",\"2014-06-27T00:00:00.000000000\",\"2014-06-26T00:00:00.000000000\",\"2014-06-25T00:00:00.000000000\",\"2014-06-24T00:00:00.000000000\",\"2014-06-23T00:00:00.000000000\",\"2014-06-22T00:00:00.000000000\",\"2014-06-21T00:00:00.000000000\",\"2014-06-20T00:00:00.000000000\",\"2014-06-19T00:00:00.000000000\",\"2014-06-18T00:00:00.000000000\",\"2014-06-17T00:00:00.000000000\",\"2014-06-16T00:00:00.000000000\",\"2014-06-15T00:00:00.000000000\",\"2014-06-14T00:00:00.000000000\",\"2014-06-13T00:00:00.000000000\",\"2014-06-12T00:00:00.000000000\",\"2014-06-11T00:00:00.000000000\",\"2014-06-10T00:00:00.000000000\",\"2014-06-09T00:00:00.000000000\",\"2014-06-08T00:00:00.000000000\",\"2014-06-07T00:00:00.000000000\",\"2014-06-06T00:00:00.000000000\",\"2014-06-05T00:00:00.000000000\",\"2014-06-04T00:00:00.000000000\",\"2014-06-03T00:00:00.000000000\",\"2014-06-02T00:00:00.000000000\",\"2014-06-01T00:00:00.000000000\",\"2014-05-31T00:00:00.000000000\",\"2014-05-30T00:00:00.000000000\",\"2014-05-29T00:00:00.000000000\",\"2014-05-28T00:00:00.000000000\",\"2014-05-27T00:00:00.000000000\",\"2014-05-26T00:00:00.000000000\",\"2014-05-25T00:00:00.000000000\",\"2014-05-24T00:00:00.000000000\",\"2014-05-23T00:00:00.000000000\",\"2014-05-22T00:00:00.000000000\",\"2014-05-21T00:00:00.000000000\",\"2014-05-20T00:00:00.000000000\",\"2014-05-19T00:00:00.000000000\",\"2014-05-18T00:00:00.000000000\",\"2014-05-17T00:00:00.000000000\",\"2014-05-16T00:00:00.000000000\",\"2014-05-15T00:00:00.000000000\",\"2014-05-14T00:00:00.000000000\",\"2014-05-13T00:00:00.000000000\",\"2014-05-12T00:00:00.000000000\",\"2014-05-11T00:00:00.000000000\",\"2014-05-10T00:00:00.000000000\",\"2014-05-09T00:00:00.000000000\",\"2014-05-08T00:00:00.000000000\",\"2014-05-07T00:00:00.000000000\",\"2014-05-06T00:00:00.000000000\",\"2014-05-05T00:00:00.000000000\",\"2014-05-04T00:00:00.000000000\",\"2014-05-03T00:00:00.000000000\",\"2014-05-02T00:00:00.000000000\",\"2014-05-01T00:00:00.000000000\",\"2014-04-30T00:00:00.000000000\",\"2014-04-29T00:00:00.000000000\",\"2014-04-28T00:00:00.000000000\",\"2014-04-27T00:00:00.000000000\",\"2014-04-26T00:00:00.000000000\",\"2014-04-25T00:00:00.000000000\",\"2014-04-24T00:00:00.000000000\",\"2014-04-23T00:00:00.000000000\",\"2014-04-22T00:00:00.000000000\",\"2014-04-21T00:00:00.000000000\",\"2014-04-20T00:00:00.000000000\",\"2014-04-19T00:00:00.000000000\",\"2014-04-18T00:00:00.000000000\",\"2014-04-17T00:00:00.000000000\",\"2014-04-16T00:00:00.000000000\",\"2014-04-15T00:00:00.000000000\",\"2014-04-14T00:00:00.000000000\",\"2014-04-13T00:00:00.000000000\",\"2014-04-12T00:00:00.000000000\",\"2014-04-11T00:00:00.000000000\",\"2014-04-10T00:00:00.000000000\",\"2014-04-09T00:00:00.000000000\",\"2014-04-08T00:00:00.000000000\",\"2014-04-07T00:00:00.000000000\",\"2014-04-06T00:00:00.000000000\",\"2014-04-05T00:00:00.000000000\",\"2014-04-04T00:00:00.000000000\",\"2014-04-03T00:00:00.000000000\",\"2014-04-02T00:00:00.000000000\",\"2014-04-01T00:00:00.000000000\",\"2014-03-31T00:00:00.000000000\",\"2014-03-30T00:00:00.000000000\",\"2014-03-29T00:00:00.000000000\",\"2014-03-28T00:00:00.000000000\",\"2014-03-27T00:00:00.000000000\",\"2014-03-26T00:00:00.000000000\",\"2014-03-25T00:00:00.000000000\",\"2014-03-24T00:00:00.000000000\",\"2014-03-23T00:00:00.000000000\",\"2014-03-22T00:00:00.000000000\",\"2014-03-21T00:00:00.000000000\",\"2014-03-20T00:00:00.000000000\",\"2014-03-19T00:00:00.000000000\",\"2014-03-18T00:00:00.000000000\",\"2014-03-17T00:00:00.000000000\",\"2014-03-16T00:00:00.000000000\",\"2014-03-15T00:00:00.000000000\",\"2014-03-14T00:00:00.000000000\",\"2014-03-13T00:00:00.000000000\",\"2014-03-12T00:00:00.000000000\",\"2014-03-11T00:00:00.000000000\",\"2014-03-10T00:00:00.000000000\",\"2014-03-09T00:00:00.000000000\",\"2014-03-08T00:00:00.000000000\",\"2014-03-07T00:00:00.000000000\",\"2014-03-06T00:00:00.000000000\",\"2014-03-05T00:00:00.000000000\",\"2014-03-04T00:00:00.000000000\",\"2014-03-03T00:00:00.000000000\",\"2014-03-02T00:00:00.000000000\",\"2014-03-01T00:00:00.000000000\",\"2014-02-28T00:00:00.000000000\",\"2014-02-27T00:00:00.000000000\",\"2014-02-26T00:00:00.000000000\",\"2014-02-25T00:00:00.000000000\",\"2014-02-24T00:00:00.000000000\",\"2014-02-23T00:00:00.000000000\",\"2014-02-22T00:00:00.000000000\",\"2014-02-21T00:00:00.000000000\",\"2014-02-20T00:00:00.000000000\",\"2014-02-19T00:00:00.000000000\",\"2014-02-18T00:00:00.000000000\",\"2014-02-17T00:00:00.000000000\",\"2014-02-16T00:00:00.000000000\",\"2014-02-15T00:00:00.000000000\",\"2014-02-14T00:00:00.000000000\",\"2014-02-13T00:00:00.000000000\",\"2014-02-12T00:00:00.000000000\",\"2014-02-11T00:00:00.000000000\",\"2014-02-10T00:00:00.000000000\",\"2014-02-09T00:00:00.000000000\",\"2014-02-08T00:00:00.000000000\",\"2014-02-07T00:00:00.000000000\",\"2014-02-06T00:00:00.000000000\",\"2014-02-05T00:00:00.000000000\",\"2014-02-04T00:00:00.000000000\",\"2014-02-03T00:00:00.000000000\",\"2014-02-02T00:00:00.000000000\",\"2014-02-01T00:00:00.000000000\",\"2014-01-31T00:00:00.000000000\",\"2014-01-30T00:00:00.000000000\",\"2014-01-29T00:00:00.000000000\",\"2014-01-28T00:00:00.000000000\",\"2014-01-27T00:00:00.000000000\",\"2014-01-26T00:00:00.000000000\",\"2014-01-25T00:00:00.000000000\",\"2014-01-24T00:00:00.000000000\",\"2014-01-23T00:00:00.000000000\",\"2014-01-22T00:00:00.000000000\",\"2014-01-21T00:00:00.000000000\",\"2014-01-20T00:00:00.000000000\",\"2014-01-19T00:00:00.000000000\",\"2014-01-18T00:00:00.000000000\",\"2014-01-17T00:00:00.000000000\",\"2014-01-16T00:00:00.000000000\",\"2014-01-15T00:00:00.000000000\",\"2014-01-14T00:00:00.000000000\",\"2014-01-13T00:00:00.000000000\",\"2014-01-12T00:00:00.000000000\",\"2014-01-11T00:00:00.000000000\",\"2014-01-10T00:00:00.000000000\",\"2014-01-09T00:00:00.000000000\",\"2014-01-08T00:00:00.000000000\",\"2014-01-07T00:00:00.000000000\",\"2014-01-06T00:00:00.000000000\",\"2014-01-05T00:00:00.000000000\",\"2014-01-04T00:00:00.000000000\",\"2014-01-03T00:00:00.000000000\",\"2014-01-02T00:00:00.000000000\",\"2014-01-01T00:00:00.000000000\",\"2013-12-31T00:00:00.000000000\",\"2013-12-30T00:00:00.000000000\",\"2013-12-29T00:00:00.000000000\",\"2013-12-28T00:00:00.000000000\",\"2013-12-27T00:00:00.000000000\",\"2013-12-26T00:00:00.000000000\",\"2013-12-25T00:00:00.000000000\",\"2013-12-24T00:00:00.000000000\",\"2013-12-23T00:00:00.000000000\",\"2013-12-22T00:00:00.000000000\",\"2013-12-21T00:00:00.000000000\",\"2013-12-20T00:00:00.000000000\",\"2013-12-19T00:00:00.000000000\",\"2013-12-18T00:00:00.000000000\",\"2013-12-17T00:00:00.000000000\",\"2013-12-16T00:00:00.000000000\",\"2013-12-15T00:00:00.000000000\",\"2013-12-14T00:00:00.000000000\",\"2013-12-13T00:00:00.000000000\",\"2013-12-12T00:00:00.000000000\",\"2013-12-11T00:00:00.000000000\",\"2013-12-10T00:00:00.000000000\",\"2013-12-09T00:00:00.000000000\",\"2013-12-08T00:00:00.000000000\",\"2013-12-07T00:00:00.000000000\",\"2013-12-06T00:00:00.000000000\",\"2013-12-05T00:00:00.000000000\",\"2013-12-04T00:00:00.000000000\",\"2013-12-03T00:00:00.000000000\",\"2013-12-02T00:00:00.000000000\",\"2013-12-01T00:00:00.000000000\",\"2013-11-30T00:00:00.000000000\",\"2013-11-29T00:00:00.000000000\",\"2013-11-28T00:00:00.000000000\",\"2013-11-27T00:00:00.000000000\",\"2013-11-26T00:00:00.000000000\",\"2013-11-25T00:00:00.000000000\",\"2013-11-24T00:00:00.000000000\",\"2013-11-23T00:00:00.000000000\",\"2013-11-22T00:00:00.000000000\",\"2013-11-21T00:00:00.000000000\",\"2013-11-20T00:00:00.000000000\",\"2013-11-19T00:00:00.000000000\",\"2013-11-18T00:00:00.000000000\",\"2013-11-17T00:00:00.000000000\",\"2013-11-16T00:00:00.000000000\",\"2013-11-15T00:00:00.000000000\",\"2013-11-14T00:00:00.000000000\",\"2013-11-13T00:00:00.000000000\",\"2013-11-12T00:00:00.000000000\",\"2013-11-11T00:00:00.000000000\",\"2013-11-10T00:00:00.000000000\",\"2013-11-09T00:00:00.000000000\",\"2013-11-08T00:00:00.000000000\",\"2013-11-07T00:00:00.000000000\",\"2013-11-06T00:00:00.000000000\",\"2013-11-05T00:00:00.000000000\",\"2013-11-04T00:00:00.000000000\",\"2013-11-03T00:00:00.000000000\",\"2013-11-02T00:00:00.000000000\",\"2013-11-01T00:00:00.000000000\",\"2013-10-31T00:00:00.000000000\",\"2013-10-30T00:00:00.000000000\",\"2013-10-29T00:00:00.000000000\",\"2013-10-28T00:00:00.000000000\",\"2013-10-27T00:00:00.000000000\",\"2013-10-26T00:00:00.000000000\",\"2013-10-25T00:00:00.000000000\",\"2013-10-24T00:00:00.000000000\",\"2013-10-23T00:00:00.000000000\",\"2013-10-22T00:00:00.000000000\",\"2013-10-21T00:00:00.000000000\",\"2013-10-20T00:00:00.000000000\",\"2013-10-19T00:00:00.000000000\",\"2013-10-18T00:00:00.000000000\",\"2013-10-17T00:00:00.000000000\",\"2013-10-16T00:00:00.000000000\",\"2013-10-15T00:00:00.000000000\",\"2013-10-14T00:00:00.000000000\",\"2013-10-13T00:00:00.000000000\",\"2013-10-12T00:00:00.000000000\",\"2013-10-11T00:00:00.000000000\",\"2013-10-10T00:00:00.000000000\",\"2013-10-09T00:00:00.000000000\",\"2013-10-08T00:00:00.000000000\",\"2013-10-07T00:00:00.000000000\",\"2013-10-06T00:00:00.000000000\",\"2013-10-05T00:00:00.000000000\",\"2013-10-04T00:00:00.000000000\",\"2013-10-03T00:00:00.000000000\",\"2013-10-02T00:00:00.000000000\",\"2013-10-01T00:00:00.000000000\",\"2013-09-30T00:00:00.000000000\",\"2013-09-29T00:00:00.000000000\",\"2013-09-28T00:00:00.000000000\",\"2013-09-27T00:00:00.000000000\",\"2013-09-26T00:00:00.000000000\",\"2013-09-25T00:00:00.000000000\",\"2013-09-24T00:00:00.000000000\",\"2013-09-23T00:00:00.000000000\",\"2013-09-22T00:00:00.000000000\",\"2013-09-21T00:00:00.000000000\",\"2013-09-20T00:00:00.000000000\",\"2013-09-19T00:00:00.000000000\",\"2013-09-18T00:00:00.000000000\",\"2013-09-17T00:00:00.000000000\",\"2013-09-16T00:00:00.000000000\",\"2013-09-15T00:00:00.000000000\",\"2013-09-14T00:00:00.000000000\",\"2013-09-13T00:00:00.000000000\",\"2013-09-12T00:00:00.000000000\",\"2013-09-11T00:00:00.000000000\",\"2013-09-10T00:00:00.000000000\",\"2013-09-09T00:00:00.000000000\",\"2013-09-08T00:00:00.000000000\",\"2013-09-07T00:00:00.000000000\",\"2013-09-06T00:00:00.000000000\",\"2013-09-05T00:00:00.000000000\",\"2013-09-04T00:00:00.000000000\",\"2013-09-03T00:00:00.000000000\",\"2013-09-02T00:00:00.000000000\",\"2013-09-01T00:00:00.000000000\",\"2013-08-31T00:00:00.000000000\",\"2013-08-30T00:00:00.000000000\",\"2013-08-29T00:00:00.000000000\",\"2013-08-28T00:00:00.000000000\",\"2013-08-27T00:00:00.000000000\",\"2013-08-26T00:00:00.000000000\",\"2013-08-25T00:00:00.000000000\",\"2013-08-24T00:00:00.000000000\",\"2013-08-23T00:00:00.000000000\",\"2013-08-22T00:00:00.000000000\",\"2013-08-21T00:00:00.000000000\",\"2013-08-20T00:00:00.000000000\",\"2013-08-19T00:00:00.000000000\",\"2013-08-18T00:00:00.000000000\",\"2013-08-17T00:00:00.000000000\",\"2013-08-16T00:00:00.000000000\",\"2013-08-15T00:00:00.000000000\",\"2013-08-14T00:00:00.000000000\",\"2013-08-13T00:00:00.000000000\",\"2013-08-12T00:00:00.000000000\",\"2013-08-11T00:00:00.000000000\",\"2013-08-10T00:00:00.000000000\",\"2013-08-09T00:00:00.000000000\",\"2013-08-08T00:00:00.000000000\",\"2013-08-07T00:00:00.000000000\",\"2013-08-06T00:00:00.000000000\",\"2013-08-05T00:00:00.000000000\",\"2013-08-04T00:00:00.000000000\",\"2013-08-03T00:00:00.000000000\",\"2013-08-02T00:00:00.000000000\",\"2013-08-01T00:00:00.000000000\",\"2013-07-31T00:00:00.000000000\",\"2013-07-30T00:00:00.000000000\",\"2013-07-29T00:00:00.000000000\",\"2013-07-28T00:00:00.000000000\",\"2013-07-27T00:00:00.000000000\",\"2013-07-26T00:00:00.000000000\",\"2013-07-25T00:00:00.000000000\",\"2013-07-24T00:00:00.000000000\",\"2013-07-23T00:00:00.000000000\",\"2013-07-22T00:00:00.000000000\",\"2013-07-21T00:00:00.000000000\",\"2013-07-20T00:00:00.000000000\",\"2013-07-19T00:00:00.000000000\",\"2013-07-18T00:00:00.000000000\",\"2013-07-17T00:00:00.000000000\",\"2013-07-16T00:00:00.000000000\",\"2013-07-15T00:00:00.000000000\",\"2013-07-14T00:00:00.000000000\",\"2013-07-13T00:00:00.000000000\",\"2013-07-12T00:00:00.000000000\",\"2013-07-11T00:00:00.000000000\",\"2013-07-10T00:00:00.000000000\",\"2013-07-09T00:00:00.000000000\",\"2013-07-08T00:00:00.000000000\",\"2013-07-07T00:00:00.000000000\",\"2013-07-06T00:00:00.000000000\",\"2013-07-05T00:00:00.000000000\",\"2013-07-04T00:00:00.000000000\",\"2013-07-03T00:00:00.000000000\",\"2013-07-02T00:00:00.000000000\",\"2013-07-01T00:00:00.000000000\",\"2013-06-30T00:00:00.000000000\",\"2013-06-29T00:00:00.000000000\",\"2013-06-28T00:00:00.000000000\",\"2013-06-27T00:00:00.000000000\",\"2013-06-26T00:00:00.000000000\",\"2013-06-25T00:00:00.000000000\",\"2013-06-24T00:00:00.000000000\",\"2013-06-23T00:00:00.000000000\",\"2013-06-22T00:00:00.000000000\",\"2013-06-21T00:00:00.000000000\",\"2013-06-20T00:00:00.000000000\",\"2013-06-19T00:00:00.000000000\",\"2013-06-18T00:00:00.000000000\",\"2013-06-17T00:00:00.000000000\",\"2013-06-16T00:00:00.000000000\",\"2013-06-15T00:00:00.000000000\",\"2013-06-14T00:00:00.000000000\",\"2013-06-13T00:00:00.000000000\",\"2013-06-12T00:00:00.000000000\",\"2013-06-11T00:00:00.000000000\",\"2013-06-10T00:00:00.000000000\",\"2013-06-09T00:00:00.000000000\",\"2013-06-08T00:00:00.000000000\",\"2013-06-07T00:00:00.000000000\",\"2013-06-06T00:00:00.000000000\",\"2013-06-05T00:00:00.000000000\",\"2013-06-04T00:00:00.000000000\",\"2013-06-03T00:00:00.000000000\",\"2013-06-02T00:00:00.000000000\",\"2013-06-01T00:00:00.000000000\",\"2013-05-31T00:00:00.000000000\",\"2013-05-30T00:00:00.000000000\",\"2013-05-29T00:00:00.000000000\",\"2013-05-28T00:00:00.000000000\",\"2013-05-27T00:00:00.000000000\",\"2013-05-26T00:00:00.000000000\",\"2013-05-25T00:00:00.000000000\",\"2013-05-24T00:00:00.000000000\",\"2013-05-23T00:00:00.000000000\",\"2013-05-22T00:00:00.000000000\",\"2013-05-21T00:00:00.000000000\",\"2013-05-20T00:00:00.000000000\",\"2013-05-19T00:00:00.000000000\",\"2013-05-18T00:00:00.000000000\",\"2013-05-17T00:00:00.000000000\",\"2013-05-16T00:00:00.000000000\",\"2013-05-15T00:00:00.000000000\",\"2013-05-14T00:00:00.000000000\",\"2013-05-13T00:00:00.000000000\",\"2013-05-12T00:00:00.000000000\",\"2013-05-11T00:00:00.000000000\",\"2013-05-10T00:00:00.000000000\",\"2013-05-09T00:00:00.000000000\",\"2013-05-08T00:00:00.000000000\",\"2013-05-07T00:00:00.000000000\",\"2013-05-06T00:00:00.000000000\",\"2013-05-05T00:00:00.000000000\",\"2013-05-04T00:00:00.000000000\",\"2013-05-03T00:00:00.000000000\",\"2013-05-02T00:00:00.000000000\",\"2013-05-01T00:00:00.000000000\",\"2013-04-30T00:00:00.000000000\",\"2013-04-29T00:00:00.000000000\",\"2013-04-28T00:00:00.000000000\"],\"type\":\"candlestick\"}],                        {\"template\":{\"data\":{\"histogram2dcontour\":[{\"type\":\"histogram2dcontour\",\"colorbar\":{\"outlinewidth\":0,\"ticks\":\"\"},\"colorscale\":[[0.0,\"#0d0887\"],[0.1111111111111111,\"#46039f\"],[0.2222222222222222,\"#7201a8\"],[0.3333333333333333,\"#9c179e\"],[0.4444444444444444,\"#bd3786\"],[0.5555555555555556,\"#d8576b\"],[0.6666666666666666,\"#ed7953\"],[0.7777777777777778,\"#fb9f3a\"],[0.8888888888888888,\"#fdca26\"],[1.0,\"#f0f921\"]]}],\"choropleth\":[{\"type\":\"choropleth\",\"colorbar\":{\"outlinewidth\":0,\"ticks\":\"\"}}],\"histogram2d\":[{\"type\":\"histogram2d\",\"colorbar\":{\"outlinewidth\":0,\"ticks\":\"\"},\"colorscale\":[[0.0,\"#0d0887\"],[0.1111111111111111,\"#46039f\"],[0.2222222222222222,\"#7201a8\"],[0.3333333333333333,\"#9c179e\"],[0.4444444444444444,\"#bd3786\"],[0.5555555555555556,\"#d8576b\"],[0.6666666666666666,\"#ed7953\"],[0.7777777777777778,\"#fb9f3a\"],[0.8888888888888888,\"#fdca26\"],[1.0,\"#f0f921\"]]}],\"heatmap\":[{\"type\":\"heatmap\",\"colorbar\":{\"outlinewidth\":0,\"ticks\":\"\"},\"colorscale\":[[0.0,\"#0d0887\"],[0.1111111111111111,\"#46039f\"],[0.2222222222222222,\"#7201a8\"],[0.3333333333333333,\"#9c179e\"],[0.4444444444444444,\"#bd3786\"],[0.5555555555555556,\"#d8576b\"],[0.6666666666666666,\"#ed7953\"],[0.7777777777777778,\"#fb9f3a\"],[0.8888888888888888,\"#fdca26\"],[1.0,\"#f0f921\"]]}],\"contourcarpet\":[{\"type\":\"contourcarpet\",\"colorbar\":{\"outlinewidth\":0,\"ticks\":\"\"}}],\"contour\":[{\"type\":\"contour\",\"colorbar\":{\"outlinewidth\":0,\"ticks\":\"\"},\"colorscale\":[[0.0,\"#0d0887\"],[0.1111111111111111,\"#46039f\"],[0.2222222222222222,\"#7201a8\"],[0.3333333333333333,\"#9c179e\"],[0.4444444444444444,\"#bd3786\"],[0.5555555555555556,\"#d8576b\"],[0.6666666666666666,\"#ed7953\"],[0.7777777777777778,\"#fb9f3a\"],[0.8888888888888888,\"#fdca26\"],[1.0,\"#f0f921\"]]}],\"surface\":[{\"type\":\"surface\",\"colorbar\":{\"outlinewidth\":0,\"ticks\":\"\"},\"colorscale\":[[0.0,\"#0d0887\"],[0.1111111111111111,\"#46039f\"],[0.2222222222222222,\"#7201a8\"],[0.3333333333333333,\"#9c179e\"],[0.4444444444444444,\"#bd3786\"],[0.5555555555555556,\"#d8576b\"],[0.6666666666666666,\"#ed7953\"],[0.7777777777777778,\"#fb9f3a\"],[0.8888888888888888,\"#fdca26\"],[1.0,\"#f0f921\"]]}],\"mesh3d\":[{\"type\":\"mesh3d\",\"colorbar\":{\"outlinewidth\":0,\"ticks\":\"\"}}],\"scatter\":[{\"fillpattern\":{\"fillmode\":\"overlay\",\"size\":10,\"solidity\":0.2},\"type\":\"scatter\"}],\"parcoords\":[{\"type\":\"parcoords\",\"line\":{\"colorbar\":{\"outlinewidth\":0,\"ticks\":\"\"}}}],\"scatterpolargl\":[{\"type\":\"scatterpolargl\",\"marker\":{\"colorbar\":{\"outlinewidth\":0,\"ticks\":\"\"}}}],\"bar\":[{\"error_x\":{\"color\":\"#2a3f5f\"},\"error_y\":{\"color\":\"#2a3f5f\"},\"marker\":{\"line\":{\"color\":\"#E5ECF6\",\"width\":0.5},\"pattern\":{\"fillmode\":\"overlay\",\"size\":10,\"solidity\":0.2}},\"type\":\"bar\"}],\"scattergeo\":[{\"type\":\"scattergeo\",\"marker\":{\"colorbar\":{\"outlinewidth\":0,\"ticks\":\"\"}}}],\"scatterpolar\":[{\"type\":\"scatterpolar\",\"marker\":{\"colorbar\":{\"outlinewidth\":0,\"ticks\":\"\"}}}],\"histogram\":[{\"marker\":{\"pattern\":{\"fillmode\":\"overlay\",\"size\":10,\"solidity\":0.2}},\"type\":\"histogram\"}],\"scattergl\":[{\"type\":\"scattergl\",\"marker\":{\"colorbar\":{\"outlinewidth\":0,\"ticks\":\"\"}}}],\"scatter3d\":[{\"type\":\"scatter3d\",\"line\":{\"colorbar\":{\"outlinewidth\":0,\"ticks\":\"\"}},\"marker\":{\"colorbar\":{\"outlinewidth\":0,\"ticks\":\"\"}}}],\"scattermap\":[{\"type\":\"scattermap\",\"marker\":{\"colorbar\":{\"outlinewidth\":0,\"ticks\":\"\"}}}],\"scattermapbox\":[{\"type\":\"scattermapbox\",\"marker\":{\"colorbar\":{\"outlinewidth\":0,\"ticks\":\"\"}}}],\"scatterternary\":[{\"type\":\"scatterternary\",\"marker\":{\"colorbar\":{\"outlinewidth\":0,\"ticks\":\"\"}}}],\"scattercarpet\":[{\"type\":\"scattercarpet\",\"marker\":{\"colorbar\":{\"outlinewidth\":0,\"ticks\":\"\"}}}],\"carpet\":[{\"aaxis\":{\"endlinecolor\":\"#2a3f5f\",\"gridcolor\":\"white\",\"linecolor\":\"white\",\"minorgridcolor\":\"white\",\"startlinecolor\":\"#2a3f5f\"},\"baxis\":{\"endlinecolor\":\"#2a3f5f\",\"gridcolor\":\"white\",\"linecolor\":\"white\",\"minorgridcolor\":\"white\",\"startlinecolor\":\"#2a3f5f\"},\"type\":\"carpet\"}],\"table\":[{\"cells\":{\"fill\":{\"color\":\"#EBF0F8\"},\"line\":{\"color\":\"white\"}},\"header\":{\"fill\":{\"color\":\"#C8D4E3\"},\"line\":{\"color\":\"white\"}},\"type\":\"table\"}],\"barpolar\":[{\"marker\":{\"line\":{\"color\":\"#E5ECF6\",\"width\":0.5},\"pattern\":{\"fillmode\":\"overlay\",\"size\":10,\"solidity\":0.2}},\"type\":\"barpolar\"}],\"pie\":[{\"automargin\":true,\"type\":\"pie\"}]},\"layout\":{\"autotypenumbers\":\"strict\",\"colorway\":[\"#636efa\",\"#EF553B\",\"#00cc96\",\"#ab63fa\",\"#FFA15A\",\"#19d3f3\",\"#FF6692\",\"#B6E880\",\"#FF97FF\",\"#FECB52\"],\"font\":{\"color\":\"#2a3f5f\"},\"hovermode\":\"closest\",\"hoverlabel\":{\"align\":\"left\"},\"paper_bgcolor\":\"white\",\"plot_bgcolor\":\"#E5ECF6\",\"polar\":{\"bgcolor\":\"#E5ECF6\",\"angularaxis\":{\"gridcolor\":\"white\",\"linecolor\":\"white\",\"ticks\":\"\"},\"radialaxis\":{\"gridcolor\":\"white\",\"linecolor\":\"white\",\"ticks\":\"\"}},\"ternary\":{\"bgcolor\":\"#E5ECF6\",\"aaxis\":{\"gridcolor\":\"white\",\"linecolor\":\"white\",\"ticks\":\"\"},\"baxis\":{\"gridcolor\":\"white\",\"linecolor\":\"white\",\"ticks\":\"\"},\"caxis\":{\"gridcolor\":\"white\",\"linecolor\":\"white\",\"ticks\":\"\"}},\"coloraxis\":{\"colorbar\":{\"outlinewidth\":0,\"ticks\":\"\"}},\"colorscale\":{\"sequential\":[[0.0,\"#0d0887\"],[0.1111111111111111,\"#46039f\"],[0.2222222222222222,\"#7201a8\"],[0.3333333333333333,\"#9c179e\"],[0.4444444444444444,\"#bd3786\"],[0.5555555555555556,\"#d8576b\"],[0.6666666666666666,\"#ed7953\"],[0.7777777777777778,\"#fb9f3a\"],[0.8888888888888888,\"#fdca26\"],[1.0,\"#f0f921\"]],\"sequentialminus\":[[0.0,\"#0d0887\"],[0.1111111111111111,\"#46039f\"],[0.2222222222222222,\"#7201a8\"],[0.3333333333333333,\"#9c179e\"],[0.4444444444444444,\"#bd3786\"],[0.5555555555555556,\"#d8576b\"],[0.6666666666666666,\"#ed7953\"],[0.7777777777777778,\"#fb9f3a\"],[0.8888888888888888,\"#fdca26\"],[1.0,\"#f0f921\"]],\"diverging\":[[0,\"#8e0152\"],[0.1,\"#c51b7d\"],[0.2,\"#de77ae\"],[0.3,\"#f1b6da\"],[0.4,\"#fde0ef\"],[0.5,\"#f7f7f7\"],[0.6,\"#e6f5d0\"],[0.7,\"#b8e186\"],[0.8,\"#7fbc41\"],[0.9,\"#4d9221\"],[1,\"#276419\"]]},\"xaxis\":{\"gridcolor\":\"white\",\"linecolor\":\"white\",\"ticks\":\"\",\"title\":{\"standoff\":15},\"zerolinecolor\":\"white\",\"automargin\":true,\"zerolinewidth\":2},\"yaxis\":{\"gridcolor\":\"white\",\"linecolor\":\"white\",\"ticks\":\"\",\"title\":{\"standoff\":15},\"zerolinecolor\":\"white\",\"automargin\":true,\"zerolinewidth\":2},\"scene\":{\"xaxis\":{\"backgroundcolor\":\"#E5ECF6\",\"gridcolor\":\"white\",\"linecolor\":\"white\",\"showbackground\":true,\"ticks\":\"\",\"zerolinecolor\":\"white\",\"gridwidth\":2},\"yaxis\":{\"backgroundcolor\":\"#E5ECF6\",\"gridcolor\":\"white\",\"linecolor\":\"white\",\"showbackground\":true,\"ticks\":\"\",\"zerolinecolor\":\"white\",\"gridwidth\":2},\"zaxis\":{\"backgroundcolor\":\"#E5ECF6\",\"gridcolor\":\"white\",\"linecolor\":\"white\",\"showbackground\":true,\"ticks\":\"\",\"zerolinecolor\":\"white\",\"gridwidth\":2}},\"shapedefaults\":{\"line\":{\"color\":\"#2a3f5f\"}},\"annotationdefaults\":{\"arrowcolor\":\"#2a3f5f\",\"arrowhead\":0,\"arrowwidth\":1},\"geo\":{\"bgcolor\":\"white\",\"landcolor\":\"#E5ECF6\",\"subunitcolor\":\"white\",\"showland\":true,\"showlakes\":true,\"lakecolor\":\"white\"},\"title\":{\"x\":0.05},\"mapbox\":{\"style\":\"light\"}}},\"margin\":{\"l\":0,\"r\":30,\"t\":40,\"b\":40},\"width\":1100,\"height\":500,\"title\":{\"text\":\"Bitcoin historical data\"}},                        {\"responsive\": true}                    ).then(function(){\n",
       "                            \n",
       "var gd = document.getElementById('32d5a055-907c-44c7-ace5-666b1fd31fb1');\n",
       "var x = new MutationObserver(function (mutations, observer) {{\n",
       "        var display = window.getComputedStyle(gd).display;\n",
       "        if (!display || display === 'none') {{\n",
       "            console.log([gd, 'removed!']);\n",
       "            Plotly.purge(gd);\n",
       "            observer.disconnect();\n",
       "        }}\n",
       "}});\n",
       "\n",
       "// Listen for the removal of the full notebook cells\n",
       "var notebookContainer = gd.closest('#notebook-container');\n",
       "if (notebookContainer) {{\n",
       "    x.observe(notebookContainer, {childList: true});\n",
       "}}\n",
       "\n",
       "// Listen for the clearing of the current output cell\n",
       "var outputEl = gd.closest('.output');\n",
       "if (outputEl) {{\n",
       "    x.observe(outputEl, {childList: true});\n",
       "}}\n",
       "\n",
       "                        })                };            </script>        </div>"
      ]
     },
     "metadata": {},
     "output_type": "display_data"
    }
   ],
   "source": [
    "fig=go.Figure(candlestick)\n",
    "fig.update_layout(width=1100,height=500,margin=dict(l=0,r=30,t=40,b=40),title='Bitcoin historical data')\n"
   ]
  },
  {
   "cell_type": "code",
   "execution_count": 10,
   "id": "2289086c-ca46-4c10-9f39-77554b1991c2",
   "metadata": {},
   "outputs": [],
   "source": [
    "df.set_index('Date',inplace=True) "
   ]
  },
  {
   "cell_type": "code",
   "execution_count": 11,
   "id": "da672cb6-69ce-42b8-8ab6-2f4eb3696d8d",
   "metadata": {},
   "outputs": [
    {
     "data": {
      "image/png": "[encoded data removed]",
      "text/plain": [
       "<Figure size 1200x500 with 2 Axes>"
      ]
     },
     "metadata": {},
     "output_type": "display_data"
    }
   ],
   "source": [
    "fig,(ax1,ax2)=plt.subplots(1,2,figsize=(12,5))\n",
    "ax1.plot(df['Close'])\n",
    "ax1.set_title('Close price')\n",
    "ax2.plot(np.log1p(df['Close']))\n",
    "ax2.set_title('Close price on Logrithmic Scale')\n",
    "plt.tight_layout()\n",
    "plt.subplots_adjust(left=0,wspace=0.2)"
   ]
  },
  {
   "cell_type": "code",
   "execution_count": 12,
   "id": "9d229281-5e39-4710-b70b-be1554f9858c",
   "metadata": {},
   "outputs": [
    {
     "data": {
      "image/png": "[encoded data removed]",
      "text/plain": [
       "<Figure size 1000x800 with 3 Axes>"
      ]
     },
     "metadata": {},
     "output_type": "display_data"
    }
   ],
   "source": [
    "interval={'YE':'Year','ME':'Month','QE':'Quarter'}\n",
    "plt.figure(figsize=(10,8))\n",
    "for index,key in enumerate(interval,start=1):\n",
    "    plt.subplot(3,1,index)\n",
    "    df['Close'].resample(key).mean().plot()\n",
    "    plt.title('Average Close price for '+interval[key])\n",
    "    plt.xlabel('') \n",
    "plt.tight_layout()\n",
    "plt.subplots_adjust(hspace=0.5)"
   ]
  },
  {
   "cell_type": "code",
   "execution_count": null,
   "id": "ac8e6834-6d27-4bdb-a710-1b00a4385952",
   "metadata": {},
   "outputs": [],
   "source": []
  },
  {
   "cell_type": "code",
   "execution_count": 14,
   "id": "5b83309e-0f8a-416e-9e00-397092e02015",
   "metadata": {},
   "outputs": [
    {
     "data": {
      "application/vnd.plotly.v1+json": {
       "config": {
        "plotlyServerURL": "https://plot.ly"
       },
       "data": [
        {
         "hovertemplate": "Date=%{x}<br>Close_pct_change=%{y}<extra></extra>",
         "legendgroup": "",
         "line": {
          "color": "rgb(255,153,51)",
          "dash": "solid"
         },
         "marker": {
          "symbol": "circle"
         },
         "mode": "lines",
         "name": "",
         "showlegend": false,
         "type": "scattergl",
         "x": [
          "2017-07-31T00:00:00.000000000",
          "2017-07-30T00:00:00.000000000",
          "2017-07-29T00:00:00.000000000",
          "2017-07-28T00:00:00.000000000",
          "2017-07-27T00:00:00.000000000",
          "2017-07-26T00:00:00.000000000",
          "2017-07-25T00:00:00.000000000",
          "2017-07-24T00:00:00.000000000",
          "2017-07-23T00:00:00.000000000",
          "2017-07-22T00:00:00.000000000",
          "2017-07-21T00:00:00.000000000",
          "2017-07-20T00:00:00.000000000",
          "2017-07-19T00:00:00.000000000",
          "2017-07-18T00:00:00.000000000",
          "2017-07-17T00:00:00.000000000",
          "2017-07-16T00:00:00.000000000",
          "2017-07-15T00:00:00.000000000",
          "2017-07-14T00:00:00.000000000",
          "2017-07-13T00:00:00.000000000",
          "2017-07-12T00:00:00.000000000",
          "2017-07-11T00:00:00.000000000",
          "2017-07-10T00:00:00.000000000",
          "2017-07-09T00:00:00.000000000",
          "2017-07-08T00:00:00.000000000",
          "2017-07-07T00:00:00.000000000",
          "2017-07-06T00:00:00.000000000",
          "2017-07-05T00:00:00.000000000",
          "2017-07-04T00:00:00.000000000",
          "2017-07-03T00:00:00.000000000",
          "2017-07-02T00:00:00.000000000",
          "2017-07-01T00:00:00.000000000",
          "2017-06-30T00:00:00.000000000",
          "2017-06-29T00:00:00.000000000",
          "2017-06-28T00:00:00.000000000",
          "2017-06-27T00:00:00.000000000",
          "2017-06-26T00:00:00.000000000",
          "2017-06-25T00:00:00.000000000",
          "2017-06-24T00:00:00.000000000",
          "2017-06-23T00:00:00.000000000",
          "2017-06-22T00:00:00.000000000",
          "2017-06-21T00:00:00.000000000",
          "2017-06-20T00:00:00.000000000",
          "2017-06-19T00:00:00.000000000",
          "2017-06-18T00:00:00.000000000",
          "2017-06-17T00:00:00.000000000",
          "2017-06-16T00:00:00.000000000",
          "2017-06-15T00:00:00.000000000",
          "2017-06-14T00:00:00.000000000",
          "2017-06-13T00:00:00.000000000",
          "2017-06-12T00:00:00.000000000",
          "2017-06-11T00:00:00.000000000",
          "2017-06-10T00:00:00.000000000",
          "2017-06-09T00:00:00.000000000",
          "2017-06-08T00:00:00.000000000",
          "2017-06-07T00:00:00.000000000",
          "2017-06-06T00:00:00.000000000",
          "2017-06-05T00:00:00.000000000",
          "2017-06-04T00:00:00.000000000",
          "2017-06-03T00:00:00.000000000",
          "2017-06-02T00:00:00.000000000",
          "2017-06-01T00:00:00.000000000",
          "2017-05-31T00:00:00.000000000",
          "2017-05-30T00:00:00.000000000",
          "2017-05-29T00:00:00.000000000",
          "2017-05-28T00:00:00.000000000",
          "2017-05-27T00:00:00.000000000",
          "2017-05-26T00:00:00.000000000",
          "2017-05-25T00:00:00.000000000",
          "2017-05-24T00:00:00.000000000",
          "2017-05-23T00:00:00.000000000",
          "2017-05-22T00:00:00.000000000",
          "2017-05-21T00:00:00.000000000",
          "2017-05-20T00:00:00.000000000",
          "2017-05-19T00:00:00.000000000",
          "2017-05-18T00:00:00.000000000",
          "2017-05-17T00:00:00.000000000",
          "2017-05-16T00:00:00.000000000",
          "2017-05-15T00:00:00.000000000",
          "2017-05-14T00:00:00.000000000",
          "2017-05-13T00:00:00.000000000",
          "2017-05-12T00:00:00.000000000",
          "2017-05-11T00:00:00.000000000",
          "2017-05-10T00:00:00.000000000",
          "2017-05-09T00:00:00.000000000",
          "2017-05-08T00:00:00.000000000",
          "2017-05-07T00:00:00.000000000",
          "2017-05-06T00:00:00.000000000",
          "2017-05-05T00:00:00.000000000",
          "2017-05-04T00:00:00.000000000",
          "2017-05-03T00:00:00.000000000",
          "2017-05-02T00:00:00.000000000",
          "2017-05-01T00:00:00.000000000",
          "2017-04-30T00:00:00.000000000",
          "2017-04-29T00:00:00.000000000",
          "2017-04-28T00:00:00.000000000",
          "2017-04-27T00:00:00.000000000",
          "2017-04-26T00:00:00.000000000",
          "2017-04-25T00:00:00.000000000",
          "2017-04-24T00:00:00.000000000",
          "2017-04-23T00:00:00.000000000",
          "2017-04-22T00:00:00.000000000",
          "2017-04-21T00:00:00.000000000",
          "2017-04-20T00:00:00.000000000",
          "2017-04-19T00:00:00.000000000",
          "2017-04-18T00:00:00.000000000",
          "2017-04-17T00:00:00.000000000",
          "2017-04-16T00:00:00.000000000",
          "2017-04-15T00:00:00.000000000",
          "2017-04-14T00:00:00.000000000",
          "2017-04-13T00:00:00.000000000",
          "2017-04-12T00:00:00.000000000",
          "2017-04-11T00:00:00.000000000",
          "2017-04-10T00:00:00.000000000",
          "2017-04-09T00:00:00.000000000",
          "2017-04-08T00:00:00.000000000",
          "2017-04-07T00:00:00.000000000",
          "2017-04-06T00:00:00.000000000",
          "2017-04-05T00:00:00.000000000",
          "2017-04-04T00:00:00.000000000",
          "2017-04-03T00:00:00.000000000",
          "2017-04-02T00:00:00.000000000",
          "2017-04-01T00:00:00.000000000",
          "2017-03-31T00:00:00.000000000",
          "2017-03-30T00:00:00.000000000",
          "2017-03-29T00:00:00.000000000",
          "2017-03-28T00:00:00.000000000",
          "2017-03-27T00:00:00.000000000",
          "2017-03-26T00:00:00.000000000",
          "2017-03-25T00:00:00.000000000",
          "2017-03-24T00:00:00.000000000",
          "2017-03-23T00:00:00.000000000",
          "2017-03-22T00:00:00.000000000",
          "2017-03-21T00:00:00.000000000",
          "2017-03-20T00:00:00.000000000",
          "2017-03-19T00:00:00.000000000",
          "2017-03-18T00:00:00.000000000",
          "2017-03-17T00:00:00.000000000",
          "2017-03-16T00:00:00.000000000",
          "2017-03-15T00:00:00.000000000",
          "2017-03-14T00:00:00.000000000",
          "2017-03-13T00:00:00.000000000",
          "2017-03-12T00:00:00.000000000",
          "2017-03-11T00:00:00.000000000",
          "2017-03-10T00:00:00.000000000",
          "2017-03-09T00:00:00.000000000",
          "2017-03-08T00:00:00.000000000",
          "2017-03-07T00:00:00.000000000",
          "2017-03-06T00:00:00.000000000",
          "2017-03-05T00:00:00.000000000",
          "2017-03-04T00:00:00.000000000",
          "2017-03-03T00:00:00.000000000",
          "2017-03-02T00:00:00.000000000",
          "2017-03-01T00:00:00.000000000",
          "2017-02-28T00:00:00.000000000",
          "2017-02-27T00:00:00.000000000",
          "2017-02-26T00:00:00.000000000",
          "2017-02-25T00:00:00.000000000",
          "2017-02-24T00:00:00.000000000",
          "2017-02-23T00:00:00.000000000",
          "2017-02-22T00:00:00.000000000",
          "2017-02-21T00:00:00.000000000",
          "2017-02-20T00:00:00.000000000",
          "2017-02-19T00:00:00.000000000",
          "2017-02-18T00:00:00.000000000",
          "2017-02-17T00:00:00.000000000",
          "2017-02-16T00:00:00.000000000",
          "2017-02-15T00:00:00.000000000",
          "2017-02-14T00:00:00.000000000",
          "2017-02-13T00:00:00.000000000",
          "2017-02-12T00:00:00.000000000",
          "2017-02-11T00:00:00.000000000",
          "2017-02-10T00:00:00.000000000",
          "2017-02-09T00:00:00.000000000",
          "2017-02-08T00:00:00.000000000",
          "2017-02-07T00:00:00.000000000",
          "2017-02-06T00:00:00.000000000",
          "2017-02-05T00:00:00.000000000",
          "2017-02-04T00:00:00.000000000",
          "2017-02-03T00:00:00.000000000",
          "2017-02-02T00:00:00.000000000",
          "2017-02-01T00:00:00.000000000",
          "2017-01-31T00:00:00.000000000",
          "2017-01-30T00:00:00.000000000",
          "2017-01-29T00:00:00.000000000",
          "2017-01-28T00:00:00.000000000",
          "2017-01-27T00:00:00.000000000",
          "2017-01-26T00:00:00.000000000",
          "2017-01-25T00:00:00.000000000",
          "2017-01-24T00:00:00.000000000",
          "2017-01-23T00:00:00.000000000",
          "2017-01-22T00:00:00.000000000",
          "2017-01-21T00:00:00.000000000",
          "2017-01-20T00:00:00.000000000",
          "2017-01-19T00:00:00.000000000",
          "2017-01-18T00:00:00.000000000",
          "2017-01-17T00:00:00.000000000",
          "2017-01-16T00:00:00.000000000",
          "2017-01-15T00:00:00.000000000",
          "2017-01-14T00:00:00.000000000",
          "2017-01-13T00:00:00.000000000",
          "2017-01-12T00:00:00.000000000",
          "2017-01-11T00:00:00.000000000",
          "2017-01-10T00:00:00.000000000",
          "2017-01-09T00:00:00.000000000",
          "2017-01-08T00:00:00.000000000",
          "2017-01-07T00:00:00.000000000",
          "2017-01-06T00:00:00.000000000",
          "2017-01-05T00:00:00.000000000",
          "2017-01-04T00:00:00.000000000",
          "2017-01-03T00:00:00.000000000",
          "2017-01-02T00:00:00.000000000",
          "2017-01-01T00:00:00.000000000",
          "2016-12-31T00:00:00.000000000",
          "2016-12-30T00:00:00.000000000",
          "2016-12-29T00:00:00.000000000",
          "2016-12-28T00:00:00.000000000",
          "2016-12-27T00:00:00.000000000",
          "2016-12-26T00:00:00.000000000",
          "2016-12-25T00:00:00.000000000",
          "2016-12-24T00:00:00.000000000",
          "2016-12-23T00:00:00.000000000",
          "2016-12-22T00:00:00.000000000",
          "2016-12-21T00:00:00.000000000",
          "2016-12-20T00:00:00.000000000",
          "2016-12-19T00:00:00.000000000",
          "2016-12-18T00:00:00.000000000",
          "2016-12-17T00:00:00.000000000",
          "2016-12-16T00:00:00.000000000",
          "2016-12-15T00:00:00.000000000",
          "2016-12-14T00:00:00.000000000",
          "2016-12-13T00:00:00.000000000",
          "2016-12-12T00:00:00.000000000",
          "2016-12-11T00:00:00.000000000",
          "2016-12-10T00:00:00.000000000",
          "2016-12-09T00:00:00.000000000",
          "2016-12-08T00:00:00.000000000",
          "2016-12-07T00:00:00.000000000",
          "2016-12-06T00:00:00.000000000",
          "2016-12-05T00:00:00.000000000",
          "2016-12-04T00:00:00.000000000",
          "2016-12-03T00:00:00.000000000",
          "2016-12-02T00:00:00.000000000",
          "2016-12-01T00:00:00.000000000",
          "2016-11-30T00:00:00.000000000",
          "2016-11-29T00:00:00.000000000",
          "2016-11-28T00:00:00.000000000",
          "2016-11-27T00:00:00.000000000",
          "2016-11-26T00:00:00.000000000",
          "2016-11-25T00:00:00.000000000",
          "2016-11-24T00:00:00.000000000",
          "2016-11-23T00:00:00.000000000",
          "2016-11-22T00:00:00.000000000",
          "2016-11-21T00:00:00.000000000",
          "2016-11-20T00:00:00.000000000",
          "2016-11-19T00:00:00.000000000",
          "2016-11-18T00:00:00.000000000",
          "2016-11-17T00:00:00.000000000",
          "2016-11-16T00:00:00.000000000",
          "2016-11-15T00:00:00.000000000",
          "2016-11-14T00:00:00.000000000",
          "2016-11-13T00:00:00.000000000",
          "2016-11-12T00:00:00.000000000",
          "2016-11-11T00:00:00.000000000",
          "2016-11-10T00:00:00.000000000",
          "2016-11-09T00:00:00.000000000",
          "2016-11-08T00:00:00.000000000",
          "2016-11-07T00:00:00.000000000",
          "2016-11-06T00:00:00.000000000",
          "2016-11-05T00:00:00.000000000",
          "2016-11-04T00:00:00.000000000",
          "2016-11-03T00:00:00.000000000",
          "2016-11-02T00:00:00.000000000",
          "2016-11-01T00:00:00.000000000",
          "2016-10-31T00:00:00.000000000",
          "2016-10-30T00:00:00.000000000",
          "2016-10-29T00:00:00.000000000",
          "2016-10-28T00:00:00.000000000",
          "2016-10-27T00:00:00.000000000",
          "2016-10-26T00:00:00.000000000",
          "2016-10-25T00:00:00.000000000",
          "2016-10-24T00:00:00.000000000",
          "2016-10-23T00:00:00.000000000",
          "2016-10-22T00:00:00.000000000",
          "2016-10-21T00:00:00.000000000",
          "2016-10-20T00:00:00.000000000",
          "2016-10-19T00:00:00.000000000",
          "2016-10-18T00:00:00.000000000",
          "2016-10-17T00:00:00.000000000",
          "2016-10-16T00:00:00.000000000",
          "2016-10-15T00:00:00.000000000",
          "2016-10-14T00:00:00.000000000",
          "2016-10-13T00:00:00.000000000",
          "2016-10-12T00:00:00.000000000",
          "2016-10-11T00:00:00.000000000",
          "2016-10-10T00:00:00.000000000",
          "2016-10-09T00:00:00.000000000",
          "2016-10-08T00:00:00.000000000",
          "2016-10-07T00:00:00.000000000",
          "2016-10-06T00:00:00.000000000",
          "2016-10-05T00:00:00.000000000",
          "2016-10-04T00:00:00.000000000",
          "2016-10-03T00:00:00.000000000",
          "2016-10-02T00:00:00.000000000",
          "2016-10-01T00:00:00.000000000",
          "2016-09-30T00:00:00.000000000",
          "2016-09-29T00:00:00.000000000",
          "2016-09-28T00:00:00.000000000",
          "2016-09-27T00:00:00.000000000",
          "2016-09-26T00:00:00.000000000",
          "2016-09-25T00:00:00.000000000",
          "2016-09-24T00:00:00.000000000",
          "2016-09-23T00:00:00.000000000",
          "2016-09-22T00:00:00.000000000",
          "2016-09-21T00:00:00.000000000",
          "2016-09-20T00:00:00.000000000",
          "2016-09-19T00:00:00.000000000",
          "2016-09-18T00:00:00.000000000",
          "2016-09-17T00:00:00.000000000",
          "2016-09-16T00:00:00.000000000",
          "2016-09-15T00:00:00.000000000",
          "2016-09-14T00:00:00.000000000",
          "2016-09-13T00:00:00.000000000",
          "2016-09-12T00:00:00.000000000",
          "2016-09-11T00:00:00.000000000",
          "2016-09-10T00:00:00.000000000",
          "2016-09-09T00:00:00.000000000",
          "2016-09-08T00:00:00.000000000",
          "2016-09-07T00:00:00.000000000",
          "2016-09-06T00:00:00.000000000",
          "2016-09-05T00:00:00.000000000",
          "2016-09-04T00:00:00.000000000",
          "2016-09-03T00:00:00.000000000",
          "2016-09-02T00:00:00.000000000",
          "2016-09-01T00:00:00.000000000",
          "2016-08-31T00:00:00.000000000",
          "2016-08-30T00:00:00.000000000",
          "2016-08-29T00:00:00.000000000",
          "2016-08-28T00:00:00.000000000",
          "2016-08-27T00:00:00.000000000",
          "2016-08-26T00:00:00.000000000",
          "2016-08-25T00:00:00.000000000",
          "2016-08-24T00:00:00.000000000",
          "2016-08-23T00:00:00.000000000",
          "2016-08-22T00:00:00.000000000",
          "2016-08-21T00:00:00.000000000",
          "2016-08-20T00:00:00.000000000",
          "2016-08-19T00:00:00.000000000",
          "2016-08-18T00:00:00.000000000",
          "2016-08-17T00:00:00.000000000",
          "2016-08-16T00:00:00.000000000",
          "2016-08-15T00:00:00.000000000",
          "2016-08-14T00:00:00.000000000",
          "2016-08-13T00:00:00.000000000",
          "2016-08-12T00:00:00.000000000",
          "2016-08-11T00:00:00.000000000",
          "2016-08-10T00:00:00.000000000",
          "2016-08-09T00:00:00.000000000",
          "2016-08-08T00:00:00.000000000",
          "2016-08-07T00:00:00.000000000",
          "2016-08-06T00:00:00.000000000",
          "2016-08-05T00:00:00.000000000",
          "2016-08-04T00:00:00.000000000",
          "2016-08-03T00:00:00.000000000",
          "2016-08-02T00:00:00.000000000",
          "2016-08-01T00:00:00.000000000",
          "2016-07-31T00:00:00.000000000",
          "2016-07-30T00:00:00.000000000",
          "2016-07-29T00:00:00.000000000",
          "2016-07-28T00:00:00.000000000",
          "2016-07-27T00:00:00.000000000",
          "2016-07-26T00:00:00.000000000",
          "2016-07-25T00:00:00.000000000",
          "2016-07-24T00:00:00.000000000",
          "2016-07-23T00:00:00.000000000",
          "2016-07-22T00:00:00.000000000",
          "2016-07-21T00:00:00.000000000",
          "2016-07-20T00:00:00.000000000",
          "2016-07-19T00:00:00.000000000",
          "2016-07-18T00:00:00.000000000",
          "2016-07-17T00:00:00.000000000",
          "2016-07-16T00:00:00.000000000",
          "2016-07-15T00:00:00.000000000",
          "2016-07-14T00:00:00.000000000",
          "2016-07-13T00:00:00.000000000",
          "2016-07-12T00:00:00.000000000",
          "2016-07-11T00:00:00.000000000",
          "2016-07-10T00:00:00.000000000",
          "2016-07-09T00:00:00.000000000",
          "2016-07-08T00:00:00.000000000",
          "2016-07-07T00:00:00.000000000",
          "2016-07-06T00:00:00.000000000",
          "2016-07-05T00:00:00.000000000",
          "2016-07-04T00:00:00.000000000",
          "2016-07-03T00:00:00.000000000",
          "2016-07-02T00:00:00.000000000",
          "2016-07-01T00:00:00.000000000",
          "2016-06-30T00:00:00.000000000",
          "2016-06-29T00:00:00.000000000",
          "2016-06-28T00:00:00.000000000",
          "2016-06-27T00:00:00.000000000",
          "2016-06-26T00:00:00.000000000",
          "2016-06-25T00:00:00.000000000",
          "2016-06-24T00:00:00.000000000",
          "2016-06-23T00:00:00.000000000",
          "2016-06-22T00:00:00.000000000",
          "2016-06-21T00:00:00.000000000",
          "2016-06-20T00:00:00.000000000",
          "2016-06-19T00:00:00.000000000",
          "2016-06-18T00:00:00.000000000",
          "2016-06-17T00:00:00.000000000",
          "2016-06-16T00:00:00.000000000",
          "2016-06-15T00:00:00.000000000",
          "2016-06-14T00:00:00.000000000",
          "2016-06-13T00:00:00.000000000",
          "2016-06-12T00:00:00.000000000",
          "2016-06-11T00:00:00.000000000",
          "2016-06-10T00:00:00.000000000",
          "2016-06-09T00:00:00.000000000",
          "2016-06-08T00:00:00.000000000",
          "2016-06-07T00:00:00.000000000",
          "2016-06-06T00:00:00.000000000",
          "2016-06-05T00:00:00.000000000",
          "2016-06-04T00:00:00.000000000",
          "2016-06-03T00:00:00.000000000",
          "2016-06-02T00:00:00.000000000",
          "2016-06-01T00:00:00.000000000",
          "2016-05-31T00:00:00.000000000",
          "2016-05-30T00:00:00.000000000",
          "2016-05-29T00:00:00.000000000",
          "2016-05-28T00:00:00.000000000",
          "2016-05-27T00:00:00.000000000",
          "2016-05-26T00:00:00.000000000",
          "2016-05-25T00:00:00.000000000",
          "2016-05-24T00:00:00.000000000",
          "2016-05-23T00:00:00.000000000",
          "2016-05-22T00:00:00.000000000",
          "2016-05-21T00:00:00.000000000",
          "2016-05-20T00:00:00.000000000",
          "2016-05-19T00:00:00.000000000",
          "2016-05-18T00:00:00.000000000",
          "2016-05-17T00:00:00.000000000",
          "2016-05-16T00:00:00.000000000",
          "2016-05-15T00:00:00.000000000",
          "2016-05-14T00:00:00.000000000",
          "2016-05-13T00:00:00.000000000",
          "2016-05-12T00:00:00.000000000",
          "2016-05-11T00:00:00.000000000",
          "2016-05-10T00:00:00.000000000",
          "2016-05-09T00:00:00.000000000",
          "2016-05-08T00:00:00.000000000",
          "2016-05-07T00:00:00.000000000",
          "2016-05-06T00:00:00.000000000",
          "2016-05-05T00:00:00.000000000",
          "2016-05-04T00:00:00.000000000",
          "2016-05-03T00:00:00.000000000",
          "2016-05-02T00:00:00.000000000",
          "2016-05-01T00:00:00.000000000",
          "2016-04-30T00:00:00.000000000",
          "2016-04-29T00:00:00.000000000",
          "2016-04-28T00:00:00.000000000",
          "2016-04-27T00:00:00.000000000",
          "2016-04-26T00:00:00.000000000",
          "2016-04-25T00:00:00.000000000",
          "2016-04-24T00:00:00.000000000",
          "2016-04-23T00:00:00.000000000",
          "2016-04-22T00:00:00.000000000",
          "2016-04-21T00:00:00.000000000",
          "2016-04-20T00:00:00.000000000",
          "2016-04-19T00:00:00.000000000",
          "2016-04-18T00:00:00.000000000",
          "2016-04-17T00:00:00.000000000",
          "2016-04-16T00:00:00.000000000",
          "2016-04-15T00:00:00.000000000",
          "2016-04-14T00:00:00.000000000",
          "2016-04-13T00:00:00.000000000",
          "2016-04-12T00:00:00.000000000",
          "2016-04-11T00:00:00.000000000",
          "2016-04-10T00:00:00.000000000",
          "2016-04-09T00:00:00.000000000",
          "2016-04-08T00:00:00.000000000",
          "2016-04-07T00:00:00.000000000",
          "2016-04-06T00:00:00.000000000",
          "2016-04-05T00:00:00.000000000",
          "2016-04-04T00:00:00.000000000",
          "2016-04-03T00:00:00.000000000",
          "2016-04-02T00:00:00.000000000",
          "2016-04-01T00:00:00.000000000",
          "2016-03-31T00:00:00.000000000",
          "2016-03-30T00:00:00.000000000",
          "2016-03-29T00:00:00.000000000",
          "2016-03-28T00:00:00.000000000",
          "2016-03-27T00:00:00.000000000",
          "2016-03-26T00:00:00.000000000",
          "2016-03-25T00:00:00.000000000",
          "2016-03-24T00:00:00.000000000",
          "2016-03-23T00:00:00.000000000",
          "2016-03-22T00:00:00.000000000",
          "2016-03-21T00:00:00.000000000",
          "2016-03-20T00:00:00.000000000",
          "2016-03-19T00:00:00.000000000",
          "2016-03-18T00:00:00.000000000",
          "2016-03-17T00:00:00.000000000",
          "2016-03-16T00:00:00.000000000",
          "2016-03-15T00:00:00.000000000",
          "2016-03-14T00:00:00.000000000",
          "2016-03-13T00:00:00.000000000",
          "2016-03-12T00:00:00.000000000",
          "2016-03-11T00:00:00.000000000",
          "2016-03-10T00:00:00.000000000",
          "2016-03-09T00:00:00.000000000",
          "2016-03-08T00:00:00.000000000",
          "2016-03-07T00:00:00.000000000",
          "2016-03-06T00:00:00.000000000",
          "2016-03-05T00:00:00.000000000",
          "2016-03-04T00:00:00.000000000",
          "2016-03-03T00:00:00.000000000",
          "2016-03-02T00:00:00.000000000",
          "2016-03-01T00:00:00.000000000",
          "2016-02-29T00:00:00.000000000",
          "2016-02-28T00:00:00.000000000",
          "2016-02-27T00:00:00.000000000",
          "2016-02-26T00:00:00.000000000",
          "2016-02-25T00:00:00.000000000",
          "2016-02-24T00:00:00.000000000",
          "2016-02-23T00:00:00.000000000",
          "2016-02-22T00:00:00.000000000",
          "2016-02-21T00:00:00.000000000",
          "2016-02-20T00:00:00.000000000",
          "2016-02-19T00:00:00.000000000",
          "2016-02-18T00:00:00.000000000",
          "2016-02-17T00:00:00.000000000",
          "2016-02-16T00:00:00.000000000",
          "2016-02-15T00:00:00.000000000",
          "2016-02-14T00:00:00.000000000",
          "2016-02-13T00:00:00.000000000",
          "2016-02-12T00:00:00.000000000",
          "2016-02-11T00:00:00.000000000",
          "2016-02-10T00:00:00.000000000",
          "2016-02-09T00:00:00.000000000",
          "2016-02-08T00:00:00.000000000",
          "2016-02-07T00:00:00.000000000",
          "2016-02-06T00:00:00.000000000",
          "2016-02-05T00:00:00.000000000",
          "2016-02-04T00:00:00.000000000",
          "2016-02-03T00:00:00.000000000",
          "2016-02-02T00:00:00.000000000",
          "2016-02-01T00:00:00.000000000",
          "2016-01-31T00:00:00.000000000",
          "2016-01-30T00:00:00.000000000",
          "2016-01-29T00:00:00.000000000",
          "2016-01-28T00:00:00.000000000",
          "2016-01-27T00:00:00.000000000",
          "2016-01-26T00:00:00.000000000",
          "2016-01-25T00:00:00.000000000",
          "2016-01-24T00:00:00.000000000",
          "2016-01-23T00:00:00.000000000",
          "2016-01-22T00:00:00.000000000",
          "2016-01-21T00:00:00.000000000",
          "2016-01-20T00:00:00.000000000",
          "2016-01-19T00:00:00.000000000",
          "2016-01-18T00:00:00.000000000",
          "2016-01-17T00:00:00.000000000",
          "2016-01-16T00:00:00.000000000",
          "2016-01-15T00:00:00.000000000",
          "2016-01-14T00:00:00.000000000",
          "2016-01-13T00:00:00.000000000",
          "2016-01-12T00:00:00.000000000",
          "2016-01-11T00:00:00.000000000",
          "2016-01-10T00:00:00.000000000",
          "2016-01-09T00:00:00.000000000",
          "2016-01-08T00:00:00.000000000",
          "2016-01-07T00:00:00.000000000",
          "2016-01-06T00:00:00.000000000",
          "2016-01-05T00:00:00.000000000",
          "2016-01-04T00:00:00.000000000",
          "2016-01-03T00:00:00.000000000",
          "2016-01-02T00:00:00.000000000",
          "2016-01-01T00:00:00.000000000",
          "2015-12-31T00:00:00.000000000",
          "2015-12-30T00:00:00.000000000",
          "2015-12-29T00:00:00.000000000",
          "2015-12-28T00:00:00.000000000",
          "2015-12-27T00:00:00.000000000",
          "2015-12-26T00:00:00.000000000",
          "2015-12-25T00:00:00.000000000",
          "2015-12-24T00:00:00.000000000",
          "2015-12-23T00:00:00.000000000",
          "2015-12-22T00:00:00.000000000",
          "2015-12-21T00:00:00.000000000",
          "2015-12-20T00:00:00.000000000",
          "2015-12-19T00:00:00.000000000",
          "2015-12-18T00:00:00.000000000",
          "2015-12-17T00:00:00.000000000",
          "2015-12-16T00:00:00.000000000",
          "2015-12-15T00:00:00.000000000",
          "2015-12-14T00:00:00.000000000",
          "2015-12-13T00:00:00.000000000",
          "2015-12-12T00:00:00.000000000",
          "2015-12-11T00:00:00.000000000",
          "2015-12-10T00:00:00.000000000",
          "2015-12-09T00:00:00.000000000",
          "2015-12-08T00:00:00.000000000",
          "2015-12-07T00:00:00.000000000",
          "2015-12-06T00:00:00.000000000",
          "2015-12-05T00:00:00.000000000",
          "2015-12-04T00:00:00.000000000",
          "2015-12-03T00:00:00.000000000",
          "2015-12-02T00:00:00.000000000",
          "2015-12-01T00:00:00.000000000",
          "2015-11-30T00:00:00.000000000",
          "2015-11-29T00:00:00.000000000",
          "2015-11-28T00:00:00.000000000",
          "2015-11-27T00:00:00.000000000",
          "2015-11-26T00:00:00.000000000",
          "2015-11-25T00:00:00.000000000",
          "2015-11-24T00:00:00.000000000",
          "2015-11-23T00:00:00.000000000",
          "2015-11-22T00:00:00.000000000",
          "2015-11-21T00:00:00.000000000",
          "2015-11-20T00:00:00.000000000",
          "2015-11-19T00:00:00.000000000",
          "2015-11-18T00:00:00.000000000",
          "2015-11-17T00:00:00.000000000",
          "2015-11-16T00:00:00.000000000",
          "2015-11-15T00:00:00.000000000",
          "2015-11-14T00:00:00.000000000",
          "2015-11-13T00:00:00.000000000",
          "2015-11-12T00:00:00.000000000",
          "2015-11-11T00:00:00.000000000",
          "2015-11-10T00:00:00.000000000",
          "2015-11-09T00:00:00.000000000",
          "2015-11-08T00:00:00.000000000",
          "2015-11-07T00:00:00.000000000",
          "2015-11-06T00:00:00.000000000",
          "2015-11-05T00:00:00.000000000",
          "2015-11-04T00:00:00.000000000",
          "2015-11-03T00:00:00.000000000",
          "2015-11-02T00:00:00.000000000",
          "2015-11-01T00:00:00.000000000",
          "2015-10-31T00:00:00.000000000",
          "2015-10-30T00:00:00.000000000",
          "2015-10-29T00:00:00.000000000",
          "2015-10-28T00:00:00.000000000",
          "2015-10-27T00:00:00.000000000",
          "2015-10-26T00:00:00.000000000",
          "2015-10-25T00:00:00.000000000",
          "2015-10-24T00:00:00.000000000",
          "2015-10-23T00:00:00.000000000",
          "2015-10-22T00:00:00.000000000",
          "2015-10-21T00:00:00.000000000",
          "2015-10-20T00:00:00.000000000",
          "2015-10-19T00:00:00.000000000",
          "2015-10-18T00:00:00.000000000",
          "2015-10-17T00:00:00.000000000",
          "2015-10-16T00:00:00.000000000",
          "2015-10-15T00:00:00.000000000",
          "2015-10-14T00:00:00.000000000",
          "2015-10-13T00:00:00.000000000",
          "2015-10-12T00:00:00.000000000",
          "2015-10-11T00:00:00.000000000",
          "2015-10-10T00:00:00.000000000",
          "2015-10-09T00:00:00.000000000",
          "2015-10-08T00:00:00.000000000",
          "2015-10-07T00:00:00.000000000",
          "2015-10-06T00:00:00.000000000",
          "2015-10-05T00:00:00.000000000",
          "2015-10-04T00:00:00.000000000",
          "2015-10-03T00:00:00.000000000",
          "2015-10-02T00:00:00.000000000",
          "2015-10-01T00:00:00.000000000",
          "2015-09-30T00:00:00.000000000",
          "2015-09-29T00:00:00.000000000",
          "2015-09-28T00:00:00.000000000",
          "2015-09-27T00:00:00.000000000",
          "2015-09-26T00:00:00.000000000",
          "2015-09-25T00:00:00.000000000",
          "2015-09-24T00:00:00.000000000",
          "2015-09-23T00:00:00.000000000",
          "2015-09-22T00:00:00.000000000",
          "2015-09-21T00:00:00.000000000",
          "2015-09-20T00:00:00.000000000",
          "2015-09-19T00:00:00.000000000",
          "2015-09-18T00:00:00.000000000",
          "2015-09-17T00:00:00.000000000",
          "2015-09-16T00:00:00.000000000",
          "2015-09-15T00:00:00.000000000",
          "2015-09-14T00:00:00.000000000",
          "2015-09-13T00:00:00.000000000",
          "2015-09-12T00:00:00.000000000",
          "2015-09-11T00:00:00.000000000",
          "2015-09-10T00:00:00.000000000",
          "2015-09-09T00:00:00.000000000",
          "2015-09-08T00:00:00.000000000",
          "2015-09-07T00:00:00.000000000",
          "2015-09-06T00:00:00.000000000",
          "2015-09-05T00:00:00.000000000",
          "2015-09-04T00:00:00.000000000",
          "2015-09-03T00:00:00.000000000",
          "2015-09-02T00:00:00.000000000",
          "2015-09-01T00:00:00.000000000",
          "2015-08-31T00:00:00.000000000",
          "2015-08-30T00:00:00.000000000",
          "2015-08-29T00:00:00.000000000",
          "2015-08-28T00:00:00.000000000",
          "2015-08-27T00:00:00.000000000",
          "2015-08-26T00:00:00.000000000",
          "2015-08-25T00:00:00.000000000",
          "2015-08-24T00:00:00.000000000",
          "2015-08-23T00:00:00.000000000",
          "2015-08-22T00:00:00.000000000",
          "2015-08-21T00:00:00.000000000",
          "2015-08-20T00:00:00.000000000",
          "2015-08-19T00:00:00.000000000",
          "2015-08-18T00:00:00.000000000",
          "2015-08-17T00:00:00.000000000",
          "2015-08-16T00:00:00.000000000",
          "2015-08-15T00:00:00.000000000",
          "2015-08-14T00:00:00.000000000",
          "2015-08-13T00:00:00.000000000",
          "2015-08-12T00:00:00.000000000",
          "2015-08-11T00:00:00.000000000",
          "2015-08-10T00:00:00.000000000",
          "2015-08-09T00:00:00.000000000",
          "2015-08-08T00:00:00.000000000",
          "2015-08-07T00:00:00.000000000",
          "2015-08-06T00:00:00.000000000",
          "2015-08-05T00:00:00.000000000",
          "2015-08-04T00:00:00.000000000",
          "2015-08-03T00:00:00.000000000",
          "2015-08-02T00:00:00.000000000",
          "2015-08-01T00:00:00.000000000",
          "2015-07-31T00:00:00.000000000",
          "2015-07-30T00:00:00.000000000",
          "2015-07-29T00:00:00.000000000",
          "2015-07-28T00:00:00.000000000",
          "2015-07-27T00:00:00.000000000",
          "2015-07-26T00:00:00.000000000",
          "2015-07-25T00:00:00.000000000",
          "2015-07-24T00:00:00.000000000",
          "2015-07-23T00:00:00.000000000",
          "2015-07-22T00:00:00.000000000",
          "2015-07-21T00:00:00.000000000",
          "2015-07-20T00:00:00.000000000",
          "2015-07-19T00:00:00.000000000",
          "2015-07-18T00:00:00.000000000",
          "2015-07-17T00:00:00.000000000",
          "2015-07-16T00:00:00.000000000",
          "2015-07-15T00:00:00.000000000",
          "2015-07-14T00:00:00.000000000",
          "2015-07-13T00:00:00.000000000",
          "2015-07-12T00:00:00.000000000",
          "2015-07-11T00:00:00.000000000",
          "2015-07-10T00:00:00.000000000",
          "2015-07-09T00:00:00.000000000",
          "2015-07-08T00:00:00.000000000",
          "2015-07-07T00:00:00.000000000",
          "2015-07-06T00:00:00.000000000",
          "2015-07-05T00:00:00.000000000",
          "2015-07-04T00:00:00.000000000",
          "2015-07-03T00:00:00.000000000",
          "2015-07-02T00:00:00.000000000",
          "2015-07-01T00:00:00.000000000",
          "2015-06-30T00:00:00.000000000",
          "2015-06-29T00:00:00.000000000",
          "2015-06-28T00:00:00.000000000",
          "2015-06-27T00:00:00.000000000",
          "2015-06-26T00:00:00.000000000",
          "2015-06-25T00:00:00.000000000",
          "2015-06-24T00:00:00.000000000",
          "2015-06-23T00:00:00.000000000",
          "2015-06-22T00:00:00.000000000",
          "2015-06-21T00:00:00.000000000",
          "2015-06-20T00:00:00.000000000",
          "2015-06-19T00:00:00.000000000",
          "2015-06-18T00:00:00.000000000",
          "2015-06-17T00:00:00.000000000",
          "2015-06-16T00:00:00.000000000",
          "2015-06-15T00:00:00.000000000",
          "2015-06-14T00:00:00.000000000",
          "2015-06-13T00:00:00.000000000",
          "2015-06-12T00:00:00.000000000",
          "2015-06-11T00:00:00.000000000",
          "2015-06-10T00:00:00.000000000",
          "2015-06-09T00:00:00.000000000",
          "2015-06-08T00:00:00.000000000",
          "2015-06-07T00:00:00.000000000",
          "2015-06-06T00:00:00.000000000",
          "2015-06-05T00:00:00.000000000",
          "2015-06-04T00:00:00.000000000",
          "2015-06-03T00:00:00.000000000",
          "2015-06-02T00:00:00.000000000",
          "2015-06-01T00:00:00.000000000",
          "2015-05-31T00:00:00.000000000",
          "2015-05-30T00:00:00.000000000",
          "2015-05-29T00:00:00.000000000",
          "2015-05-28T00:00:00.000000000",
          "2015-05-27T00:00:00.000000000",
          "2015-05-26T00:00:00.000000000",
          "2015-05-25T00:00:00.000000000",
          "2015-05-24T00:00:00.000000000",
          "2015-05-23T00:00:00.000000000",
          "2015-05-22T00:00:00.000000000",
          "2015-05-21T00:00:00.000000000",
          "2015-05-20T00:00:00.000000000",
          "2015-05-19T00:00:00.000000000",
          "2015-05-18T00:00:00.000000000",
          "2015-05-17T00:00:00.000000000",
          "2015-05-16T00:00:00.000000000",
          "2015-05-15T00:00:00.000000000",
          "2015-05-14T00:00:00.000000000",
          "2015-05-13T00:00:00.000000000",
          "2015-05-12T00:00:00.000000000",
          "2015-05-11T00:00:00.000000000",
          "2015-05-10T00:00:00.000000000",
          "2015-05-09T00:00:00.000000000",
          "2015-05-08T00:00:00.000000000",
          "2015-05-07T00:00:00.000000000",
          "2015-05-06T00:00:00.000000000",
          "2015-05-05T00:00:00.000000000",
          "2015-05-04T00:00:00.000000000",
          "2015-05-03T00:00:00.000000000",
          "2015-05-02T00:00:00.000000000",
          "2015-05-01T00:00:00.000000000",
          "2015-04-30T00:00:00.000000000",
          "2015-04-29T00:00:00.000000000",
          "2015-04-28T00:00:00.000000000",
          "2015-04-27T00:00:00.000000000",
          "2015-04-26T00:00:00.000000000",
          "2015-04-25T00:00:00.000000000",
          "2015-04-24T00:00:00.000000000",
          "2015-04-23T00:00:00.000000000",
          "2015-04-22T00:00:00.000000000",
          "2015-04-21T00:00:00.000000000",
          "2015-04-20T00:00:00.000000000",
          "2015-04-19T00:00:00.000000000",
          "2015-04-18T00:00:00.000000000",
          "2015-04-17T00:00:00.000000000",
          "2015-04-16T00:00:00.000000000",
          "2015-04-15T00:00:00.000000000",
          "2015-04-14T00:00:00.000000000",
          "2015-04-13T00:00:00.000000000",
          "2015-04-12T00:00:00.000000000",
          "2015-04-11T00:00:00.000000000",
          "2015-04-10T00:00:00.000000000",
          "2015-04-09T00:00:00.000000000",
          "2015-04-08T00:00:00.000000000",
          "2015-04-07T00:00:00.000000000",
          "2015-04-06T00:00:00.000000000",
          "2015-04-05T00:00:00.000000000",
          "2015-04-04T00:00:00.000000000",
          "2015-04-03T00:00:00.000000000",
          "2015-04-02T00:00:00.000000000",
          "2015-04-01T00:00:00.000000000",
          "2015-03-31T00:00:00.000000000",
          "2015-03-30T00:00:00.000000000",
          "2015-03-29T00:00:00.000000000",
          "2015-03-28T00:00:00.000000000",
          "2015-03-27T00:00:00.000000000",
          "2015-03-26T00:00:00.000000000",
          "2015-03-25T00:00:00.000000000",
          "2015-03-24T00:00:00.000000000",
          "2015-03-23T00:00:00.000000000",
          "2015-03-22T00:00:00.000000000",
          "2015-03-21T00:00:00.000000000",
          "2015-03-20T00:00:00.000000000",
          "2015-03-19T00:00:00.000000000",
          "2015-03-18T00:00:00.000000000",
          "2015-03-17T00:00:00.000000000",
          "2015-03-16T00:00:00.000000000",
          "2015-03-15T00:00:00.000000000",
          "2015-03-14T00:00:00.000000000",
          "2015-03-13T00:00:00.000000000",
          "2015-03-12T00:00:00.000000000",
          "2015-03-11T00:00:00.000000000",
          "2015-03-10T00:00:00.000000000",
          "2015-03-09T00:00:00.000000000",
          "2015-03-08T00:00:00.000000000",
          "2015-03-07T00:00:00.000000000",
          "2015-03-06T00:00:00.000000000",
          "2015-03-05T00:00:00.000000000",
          "2015-03-04T00:00:00.000000000",
          "2015-03-03T00:00:00.000000000",
          "2015-03-02T00:00:00.000000000",
          "2015-03-01T00:00:00.000000000",
          "2015-02-28T00:00:00.000000000",
          "2015-02-27T00:00:00.000000000",
          "2015-02-26T00:00:00.000000000",
          "2015-02-25T00:00:00.000000000",
          "2015-02-24T00:00:00.000000000",
          "2015-02-23T00:00:00.000000000",
          "2015-02-22T00:00:00.000000000",
          "2015-02-21T00:00:00.000000000",
          "2015-02-20T00:00:00.000000000",
          "2015-02-19T00:00:00.000000000",
          "2015-02-18T00:00:00.000000000",
          "2015-02-17T00:00:00.000000000",
          "2015-02-16T00:00:00.000000000",
          "2015-02-15T00:00:00.000000000",
          "2015-02-14T00:00:00.000000000",
          "2015-02-13T00:00:00.000000000",
          "2015-02-12T00:00:00.000000000",
          "2015-02-11T00:00:00.000000000",
          "2015-02-10T00:00:00.000000000",
          "2015-02-09T00:00:00.000000000",
          "2015-02-08T00:00:00.000000000",
          "2015-02-07T00:00:00.000000000",
          "2015-02-06T00:00:00.000000000",
          "2015-02-05T00:00:00.000000000",
          "2015-02-04T00:00:00.000000000",
          "2015-02-03T00:00:00.000000000",
          "2015-02-02T00:00:00.000000000",
          "2015-02-01T00:00:00.000000000",
          "2015-01-31T00:00:00.000000000",
          "2015-01-30T00:00:00.000000000",
          "2015-01-29T00:00:00.000000000",
          "2015-01-28T00:00:00.000000000",
          "2015-01-27T00:00:00.000000000",
          "2015-01-26T00:00:00.000000000",
          "2015-01-25T00:00:00.000000000",
          "2015-01-24T00:00:00.000000000",
          "2015-01-23T00:00:00.000000000",
          "2015-01-22T00:00:00.000000000",
          "2015-01-21T00:00:00.000000000",
          "2015-01-20T00:00:00.000000000",
          "2015-01-19T00:00:00.000000000",
          "2015-01-18T00:00:00.000000000",
          "2015-01-17T00:00:00.000000000",
          "2015-01-16T00:00:00.000000000",
          "2015-01-15T00:00:00.000000000",
          "2015-01-14T00:00:00.000000000",
          "2015-01-13T00:00:00.000000000",
          "2015-01-12T00:00:00.000000000",
          "2015-01-11T00:00:00.000000000",
          "2015-01-10T00:00:00.000000000",
          "2015-01-09T00:00:00.000000000",
          "2015-01-08T00:00:00.000000000",
          "2015-01-07T00:00:00.000000000",
          "2015-01-06T00:00:00.000000000",
          "2015-01-05T00:00:00.000000000",
          "2015-01-04T00:00:00.000000000",
          "2015-01-03T00:00:00.000000000",
          "2015-01-02T00:00:00.000000000",
          "2015-01-01T00:00:00.000000000",
          "2014-12-31T00:00:00.000000000",
          "2014-12-30T00:00:00.000000000",
          "2014-12-29T00:00:00.000000000",
          "2014-12-28T00:00:00.000000000",
          "2014-12-27T00:00:00.000000000",
          "2014-12-26T00:00:00.000000000",
          "2014-12-25T00:00:00.000000000",
          "2014-12-24T00:00:00.000000000",
          "2014-12-23T00:00:00.000000000",
          "2014-12-22T00:00:00.000000000",
          "2014-12-21T00:00:00.000000000",
          "2014-12-20T00:00:00.000000000",
          "2014-12-19T00:00:00.000000000",
          "2014-12-18T00:00:00.000000000",
          "2014-12-17T00:00:00.000000000",
          "2014-12-16T00:00:00.000000000",
          "2014-12-15T00:00:00.000000000",
          "2014-12-14T00:00:00.000000000",
          "2014-12-13T00:00:00.000000000",
          "2014-12-12T00:00:00.000000000",
          "2014-12-11T00:00:00.000000000",
          "2014-12-10T00:00:00.000000000",
          "2014-12-09T00:00:00.000000000",
          "2014-12-08T00:00:00.000000000",
          "2014-12-07T00:00:00.000000000",
          "2014-12-06T00:00:00.000000000",
          "2014-12-05T00:00:00.000000000",
          "2014-12-04T00:00:00.000000000",
          "2014-12-03T00:00:00.000000000",
          "2014-12-02T00:00:00.000000000",
          "2014-12-01T00:00:00.000000000",
          "2014-11-30T00:00:00.000000000",
          "2014-11-29T00:00:00.000000000",
          "2014-11-28T00:00:00.000000000",
          "2014-11-27T00:00:00.000000000",
          "2014-11-26T00:00:00.000000000",
          "2014-11-25T00:00:00.000000000",
          "2014-11-24T00:00:00.000000000",
          "2014-11-23T00:00:00.000000000",
          "2014-11-22T00:00:00.000000000",
          "2014-11-21T00:00:00.000000000",
          "2014-11-20T00:00:00.000000000",
          "2014-11-19T00:00:00.000000000",
          "2014-11-18T00:00:00.000000000",
          "2014-11-17T00:00:00.000000000",
          "2014-11-16T00:00:00.000000000",
          "2014-11-15T00:00:00.000000000",
          "2014-11-14T00:00:00.000000000",
          "2014-11-13T00:00:00.000000000",
          "2014-11-12T00:00:00.000000000",
          "2014-11-11T00:00:00.000000000",
          "2014-11-10T00:00:00.000000000",
          "2014-11-09T00:00:00.000000000",
          "2014-11-08T00:00:00.000000000",
          "2014-11-07T00:00:00.000000000",
          "2014-11-06T00:00:00.000000000",
          "2014-11-05T00:00:00.000000000",
          "2014-11-04T00:00:00.000000000",
          "2014-11-03T00:00:00.000000000",
          "2014-11-02T00:00:00.000000000",
          "2014-11-01T00:00:00.000000000",
          "2014-10-31T00:00:00.000000000",
          "2014-10-30T00:00:00.000000000",
          "2014-10-29T00:00:00.000000000",
          "2014-10-28T00:00:00.000000000",
          "2014-10-27T00:00:00.000000000",
          "2014-10-26T00:00:00.000000000",
          "2014-10-25T00:00:00.000000000",
          "2014-10-24T00:00:00.000000000",
          "2014-10-23T00:00:00.000000000",
          "2014-10-22T00:00:00.000000000",
          "2014-10-21T00:00:00.000000000",
          "2014-10-20T00:00:00.000000000",
          "2014-10-19T00:00:00.000000000",
          "2014-10-18T00:00:00.000000000",
          "2014-10-17T00:00:00.000000000",
          "2014-10-16T00:00:00.000000000",
          "2014-10-15T00:00:00.000000000",
          "2014-10-14T00:00:00.000000000",
          "2014-10-13T00:00:00.000000000",
          "2014-10-12T00:00:00.000000000",
          "2014-10-11T00:00:00.000000000",
          "2014-10-10T00:00:00.000000000",
          "2014-10-09T00:00:00.000000000",
          "2014-10-08T00:00:00.000000000",
          "2014-10-07T00:00:00.000000000",
          "2014-10-06T00:00:00.000000000",
          "2014-10-05T00:00:00.000000000",
          "2014-10-04T00:00:00.000000000",
          "2014-10-03T00:00:00.000000000",
          "2014-10-02T00:00:00.000000000",
          "2014-10-01T00:00:00.000000000",
          "2014-09-30T00:00:00.000000000",
          "2014-09-29T00:00:00.000000000",
          "2014-09-28T00:00:00.000000000",
          "2014-09-27T00:00:00.000000000",
          "2014-09-26T00:00:00.000000000",
          "2014-09-25T00:00:00.000000000",
          "2014-09-24T00:00:00.000000000",
          "2014-09-23T00:00:00.000000000",
          "2014-09-22T00:00:00.000000000",
          "2014-09-21T00:00:00.000000000",
          "2014-09-20T00:00:00.000000000",
          "2014-09-19T00:00:00.000000000",
          "2014-09-18T00:00:00.000000000",
          "2014-09-17T00:00:00.000000000",
          "2014-09-16T00:00:00.000000000",
          "2014-09-15T00:00:00.000000000",
          "2014-09-14T00:00:00.000000000",
          "2014-09-13T00:00:00.000000000",
          "2014-09-12T00:00:00.000000000",
          "2014-09-11T00:00:00.000000000",
          "2014-09-10T00:00:00.000000000",
          "2014-09-09T00:00:00.000000000",
          "2014-09-08T00:00:00.000000000",
          "2014-09-07T00:00:00.000000000",
          "2014-09-06T00:00:00.000000000",
          "2014-09-05T00:00:00.000000000",
          "2014-09-04T00:00:00.000000000",
          "2014-09-03T00:00:00.000000000",
          "2014-09-02T00:00:00.000000000",
          "2014-09-01T00:00:00.000000000",
          "2014-08-31T00:00:00.000000000",
          "2014-08-30T00:00:00.000000000",
          "2014-08-29T00:00:00.000000000",
          "2014-08-28T00:00:00.000000000",
          "2014-08-27T00:00:00.000000000",
          "2014-08-26T00:00:00.000000000",
          "2014-08-25T00:00:00.000000000",
          "2014-08-24T00:00:00.000000000",
          "2014-08-23T00:00:00.000000000",
          "2014-08-22T00:00:00.000000000",
          "2014-08-21T00:00:00.000000000",
          "2014-08-20T00:00:00.000000000",
          "2014-08-19T00:00:00.000000000",
          "2014-08-18T00:00:00.000000000",
          "2014-08-17T00:00:00.000000000",
          "2014-08-16T00:00:00.000000000",
          "2014-08-15T00:00:00.000000000",
          "2014-08-14T00:00:00.000000000",
          "2014-08-13T00:00:00.000000000",
          "2014-08-12T00:00:00.000000000",
          "2014-08-11T00:00:00.000000000",
          "2014-08-10T00:00:00.000000000",
          "2014-08-09T00:00:00.000000000",
          "2014-08-08T00:00:00.000000000",
          "2014-08-07T00:00:00.000000000",
          "2014-08-06T00:00:00.000000000",
          "2014-08-05T00:00:00.000000000",
          "2014-08-04T00:00:00.000000000",
          "2014-08-03T00:00:00.000000000",
          "2014-08-02T00:00:00.000000000",
          "2014-08-01T00:00:00.000000000",
          "2014-07-31T00:00:00.000000000",
          "2014-07-30T00:00:00.000000000",
          "2014-07-29T00:00:00.000000000",
          "2014-07-28T00:00:00.000000000",
          "2014-07-27T00:00:00.000000000",
          "2014-07-26T00:00:00.000000000",
          "2014-07-25T00:00:00.000000000",
          "2014-07-24T00:00:00.000000000",
          "2014-07-23T00:00:00.000000000",
          "2014-07-22T00:00:00.000000000",
          "2014-07-21T00:00:00.000000000",
          "2014-07-20T00:00:00.000000000",
          "2014-07-19T00:00:00.000000000",
          "2014-07-18T00:00:00.000000000",
          "2014-07-17T00:00:00.000000000",
          "2014-07-16T00:00:00.000000000",
          "2014-07-15T00:00:00.000000000",
          "2014-07-14T00:00:00.000000000",
          "2014-07-13T00:00:00.000000000",
          "2014-07-12T00:00:00.000000000",
          "2014-07-11T00:00:00.000000000",
          "2014-07-10T00:00:00.000000000",
          "2014-07-09T00:00:00.000000000",
          "2014-07-08T00:00:00.000000000",
          "2014-07-07T00:00:00.000000000",
          "2014-07-06T00:00:00.000000000",
          "2014-07-05T00:00:00.000000000",
          "2014-07-04T00:00:00.000000000",
          "2014-07-03T00:00:00.000000000",
          "2014-07-02T00:00:00.000000000",
          "2014-07-01T00:00:00.000000000",
          "2014-06-30T00:00:00.000000000",
          "2014-06-29T00:00:00.000000000",
          "2014-06-28T00:00:00.000000000",
          "2014-06-27T00:00:00.000000000",
          "2014-06-26T00:00:00.000000000",
          "2014-06-25T00:00:00.000000000",
          "2014-06-24T00:00:00.000000000",
          "2014-06-23T00:00:00.000000000",
          "2014-06-22T00:00:00.000000000",
          "2014-06-21T00:00:00.000000000",
          "2014-06-20T00:00:00.000000000",
          "2014-06-19T00:00:00.000000000",
          "2014-06-18T00:00:00.000000000",
          "2014-06-17T00:00:00.000000000",
          "2014-06-16T00:00:00.000000000",
          "2014-06-15T00:00:00.000000000",
          "2014-06-14T00:00:00.000000000",
          "2014-06-13T00:00:00.000000000",
          "2014-06-12T00:00:00.000000000",
          "2014-06-11T00:00:00.000000000",
          "2014-06-10T00:00:00.000000000",
          "2014-06-09T00:00:00.000000000",
          "2014-06-08T00:00:00.000000000",
          "2014-06-07T00:00:00.000000000",
          "2014-06-06T00:00:00.000000000",
          "2014-06-05T00:00:00.000000000",
          "2014-06-04T00:00:00.000000000",
          "2014-06-03T00:00:00.000000000",
          "2014-06-02T00:00:00.000000000",
          "2014-06-01T00:00:00.000000000",
          "2014-05-31T00:00:00.000000000",
          "2014-05-30T00:00:00.000000000",
          "2014-05-29T00:00:00.000000000",
          "2014-05-28T00:00:00.000000000",
          "2014-05-27T00:00:00.000000000",
          "2014-05-26T00:00:00.000000000",
          "2014-05-25T00:00:00.000000000",
          "2014-05-24T00:00:00.000000000",
          "2014-05-23T00:00:00.000000000",
          "2014-05-22T00:00:00.000000000",
          "2014-05-21T00:00:00.000000000",
          "2014-05-20T00:00:00.000000000",
          "2014-05-19T00:00:00.000000000",
          "2014-05-18T00:00:00.000000000",
          "2014-05-17T00:00:00.000000000",
          "2014-05-16T00:00:00.000000000",
          "2014-05-15T00:00:00.000000000",
          "2014-05-14T00:00:00.000000000",
          "2014-05-13T00:00:00.000000000",
          "2014-05-12T00:00:00.000000000",
          "2014-05-11T00:00:00.000000000",
          "2014-05-10T00:00:00.000000000",
          "2014-05-09T00:00:00.000000000",
          "2014-05-08T00:00:00.000000000",
          "2014-05-07T00:00:00.000000000",
          "2014-05-06T00:00:00.000000000",
          "2014-05-05T00:00:00.000000000",
          "2014-05-04T00:00:00.000000000",
          "2014-05-03T00:00:00.000000000",
          "2014-05-02T00:00:00.000000000",
          "2014-05-01T00:00:00.000000000",
          "2014-04-30T00:00:00.000000000",
          "2014-04-29T00:00:00.000000000",
          "2014-04-28T00:00:00.000000000",
          "2014-04-27T00:00:00.000000000",
          "2014-04-26T00:00:00.000000000",
          "2014-04-25T00:00:00.000000000",
          "2014-04-24T00:00:00.000000000",
          "2014-04-23T00:00:00.000000000",
          "2014-04-22T00:00:00.000000000",
          "2014-04-21T00:00:00.000000000",
          "2014-04-20T00:00:00.000000000",
          "2014-04-19T00:00:00.000000000",
          "2014-04-18T00:00:00.000000000",
          "2014-04-17T00:00:00.000000000",
          "2014-04-16T00:00:00.000000000",
          "2014-04-15T00:00:00.000000000",
          "2014-04-14T00:00:00.000000000",
          "2014-04-13T00:00:00.000000000",
          "2014-04-12T00:00:00.000000000",
          "2014-04-11T00:00:00.000000000",
          "2014-04-10T00:00:00.000000000",
          "2014-04-09T00:00:00.000000000",
          "2014-04-08T00:00:00.000000000",
          "2014-04-07T00:00:00.000000000",
          "2014-04-06T00:00:00.000000000",
          "2014-04-05T00:00:00.000000000",
          "2014-04-04T00:00:00.000000000",
          "2014-04-03T00:00:00.000000000",
          "2014-04-02T00:00:00.000000000",
          "2014-04-01T00:00:00.000000000",
          "2014-03-31T00:00:00.000000000",
          "2014-03-30T00:00:00.000000000",
          "2014-03-29T00:00:00.000000000",
          "2014-03-28T00:00:00.000000000",
          "2014-03-27T00:00:00.000000000",
          "2014-03-26T00:00:00.000000000",
          "2014-03-25T00:00:00.000000000",
          "2014-03-24T00:00:00.000000000",
          "2014-03-23T00:00:00.000000000",
          "2014-03-22T00:00:00.000000000",
          "2014-03-21T00:00:00.000000000",
          "2014-03-20T00:00:00.000000000",
          "2014-03-19T00:00:00.000000000",
          "2014-03-18T00:00:00.000000000",
          "2014-03-17T00:00:00.000000000",
          "2014-03-16T00:00:00.000000000",
          "2014-03-15T00:00:00.000000000",
          "2014-03-14T00:00:00.000000000",
          "2014-03-13T00:00:00.000000000",
          "2014-03-12T00:00:00.000000000",
          "2014-03-11T00:00:00.000000000",
          "2014-03-10T00:00:00.000000000",
          "2014-03-09T00:00:00.000000000",
          "2014-03-08T00:00:00.000000000",
          "2014-03-07T00:00:00.000000000",
          "2014-03-06T00:00:00.000000000",
          "2014-03-05T00:00:00.000000000",
          "2014-03-04T00:00:00.000000000",
          "2014-03-03T00:00:00.000000000",
          "2014-03-02T00:00:00.000000000",
          "2014-03-01T00:00:00.000000000",
          "2014-02-28T00:00:00.000000000",
          "2014-02-27T00:00:00.000000000",
          "2014-02-26T00:00:00.000000000",
          "2014-02-25T00:00:00.000000000",
          "2014-02-24T00:00:00.000000000",
          "2014-02-23T00:00:00.000000000",
          "2014-02-22T00:00:00.000000000",
          "2014-02-21T00:00:00.000000000",
          "2014-02-20T00:00:00.000000000",
          "2014-02-19T00:00:00.000000000",
          "2014-02-18T00:00:00.000000000",
          "2014-02-17T00:00:00.000000000",
          "2014-02-16T00:00:00.000000000",
          "2014-02-15T00:00:00.000000000",
          "2014-02-14T00:00:00.000000000",
          "2014-02-13T00:00:00.000000000",
          "2014-02-12T00:00:00.000000000",
          "2014-02-11T00:00:00.000000000",
          "2014-02-10T00:00:00.000000000",
          "2014-02-09T00:00:00.000000000",
          "2014-02-08T00:00:00.000000000",
          "2014-02-07T00:00:00.000000000",
          "2014-02-06T00:00:00.000000000",
          "2014-02-05T00:00:00.000000000",
          "2014-02-04T00:00:00.000000000",
          "2014-02-03T00:00:00.000000000",
          "2014-02-02T00:00:00.000000000",
          "2014-02-01T00:00:00.000000000",
          "2014-01-31T00:00:00.000000000",
          "2014-01-30T00:00:00.000000000",
          "2014-01-29T00:00:00.000000000",
          "2014-01-28T00:00:00.000000000",
          "2014-01-27T00:00:00.000000000",
          "2014-01-26T00:00:00.000000000",
          "2014-01-25T00:00:00.000000000",
          "2014-01-24T00:00:00.000000000",
          "2014-01-23T00:00:00.000000000",
          "2014-01-22T00:00:00.000000000",
          "2014-01-21T00:00:00.000000000",
          "2014-01-20T00:00:00.000000000",
          "2014-01-19T00:00:00.000000000",
          "2014-01-18T00:00:00.000000000",
          "2014-01-17T00:00:00.000000000",
          "2014-01-16T00:00:00.000000000",
          "2014-01-15T00:00:00.000000000",
          "2014-01-14T00:00:00.000000000",
          "2014-01-13T00:00:00.000000000",
          "2014-01-12T00:00:00.000000000",
          "2014-01-11T00:00:00.000000000",
          "2014-01-10T00:00:00.000000000",
          "2014-01-09T00:00:00.000000000",
          "2014-01-08T00:00:00.000000000",
          "2014-01-07T00:00:00.000000000",
          "2014-01-06T00:00:00.000000000",
          "2014-01-05T00:00:00.000000000",
          "2014-01-04T00:00:00.000000000",
          "2014-01-03T00:00:00.000000000",
          "2014-01-02T00:00:00.000000000",
          "2014-01-01T00:00:00.000000000",
          "2013-12-31T00:00:00.000000000",
          "2013-12-30T00:00:00.000000000",
          "2013-12-29T00:00:00.000000000",
          "2013-12-28T00:00:00.000000000",
          "2013-12-27T00:00:00.000000000",
          "2013-12-26T00:00:00.000000000",
          "2013-12-25T00:00:00.000000000",
          "2013-12-24T00:00:00.000000000",
          "2013-12-23T00:00:00.000000000",
          "2013-12-22T00:00:00.000000000",
          "2013-12-21T00:00:00.000000000",
          "2013-12-20T00:00:00.000000000",
          "2013-12-19T00:00:00.000000000",
          "2013-12-18T00:00:00.000000000",
          "2013-12-17T00:00:00.000000000",
          "2013-12-16T00:00:00.000000000",
          "2013-12-15T00:00:00.000000000",
          "2013-12-14T00:00:00.000000000",
          "2013-12-13T00:00:00.000000000",
          "2013-12-12T00:00:00.000000000",
          "2013-12-11T00:00:00.000000000",
          "2013-12-10T00:00:00.000000000",
          "2013-12-09T00:00:00.000000000",
          "2013-12-08T00:00:00.000000000",
          "2013-12-07T00:00:00.000000000",
          "2013-12-06T00:00:00.000000000",
          "2013-12-05T00:00:00.000000000",
          "2013-12-04T00:00:00.000000000",
          "2013-12-03T00:00:00.000000000",
          "2013-12-02T00:00:00.000000000",
          "2013-12-01T00:00:00.000000000",
          "2013-11-30T00:00:00.000000000",
          "2013-11-29T00:00:00.000000000",
          "2013-11-28T00:00:00.000000000",
          "2013-11-27T00:00:00.000000000",
          "2013-11-26T00:00:00.000000000",
          "2013-11-25T00:00:00.000000000",
          "2013-11-24T00:00:00.000000000",
          "2013-11-23T00:00:00.000000000",
          "2013-11-22T00:00:00.000000000",
          "2013-11-21T00:00:00.000000000",
          "2013-11-20T00:00:00.000000000",
          "2013-11-19T00:00:00.000000000",
          "2013-11-18T00:00:00.000000000",
          "2013-11-17T00:00:00.000000000",
          "2013-11-16T00:00:00.000000000",
          "2013-11-15T00:00:00.000000000",
          "2013-11-14T00:00:00.000000000",
          "2013-11-13T00:00:00.000000000",
          "2013-11-12T00:00:00.000000000",
          "2013-11-11T00:00:00.000000000",
          "2013-11-10T00:00:00.000000000",
          "2013-11-09T00:00:00.000000000",
          "2013-11-08T00:00:00.000000000",
          "2013-11-07T00:00:00.000000000",
          "2013-11-06T00:00:00.000000000",
          "2013-11-05T00:00:00.000000000",
          "2013-11-04T00:00:00.000000000",
          "2013-11-03T00:00:00.000000000",
          "2013-11-02T00:00:00.000000000",
          "2013-11-01T00:00:00.000000000",
          "2013-10-31T00:00:00.000000000",
          "2013-10-30T00:00:00.000000000",
          "2013-10-29T00:00:00.000000000",
          "2013-10-28T00:00:00.000000000",
          "2013-10-27T00:00:00.000000000",
          "2013-10-26T00:00:00.000000000",
          "2013-10-25T00:00:00.000000000",
          "2013-10-24T00:00:00.000000000",
          "2013-10-23T00:00:00.000000000",
          "2013-10-22T00:00:00.000000000",
          "2013-10-21T00:00:00.000000000",
          "2013-10-20T00:00:00.000000000",
          "2013-10-19T00:00:00.000000000",
          "2013-10-18T00:00:00.000000000",
          "2013-10-17T00:00:00.000000000",
          "2013-10-16T00:00:00.000000000",
          "2013-10-15T00:00:00.000000000",
          "2013-10-14T00:00:00.000000000",
          "2013-10-13T00:00:00.000000000",
          "2013-10-12T00:00:00.000000000",
          "2013-10-11T00:00:00.000000000",
          "2013-10-10T00:00:00.000000000",
          "2013-10-09T00:00:00.000000000",
          "2013-10-08T00:00:00.000000000",
          "2013-10-07T00:00:00.000000000",
          "2013-10-06T00:00:00.000000000",
          "2013-10-05T00:00:00.000000000",
          "2013-10-04T00:00:00.000000000",
          "2013-10-03T00:00:00.000000000",
          "2013-10-02T00:00:00.000000000",
          "2013-10-01T00:00:00.000000000",
          "2013-09-30T00:00:00.000000000",
          "2013-09-29T00:00:00.000000000",
          "2013-09-28T00:00:00.000000000",
          "2013-09-27T00:00:00.000000000",
          "2013-09-26T00:00:00.000000000",
          "2013-09-25T00:00:00.000000000",
          "2013-09-24T00:00:00.000000000",
          "2013-09-23T00:00:00.000000000",
          "2013-09-22T00:00:00.000000000",
          "2013-09-21T00:00:00.000000000",
          "2013-09-20T00:00:00.000000000",
          "2013-09-19T00:00:00.000000000",
          "2013-09-18T00:00:00.000000000",
          "2013-09-17T00:00:00.000000000",
          "2013-09-16T00:00:00.000000000",
          "2013-09-15T00:00:00.000000000",
          "2013-09-14T00:00:00.000000000",
          "2013-09-13T00:00:00.000000000",
          "2013-09-12T00:00:00.000000000",
          "2013-09-11T00:00:00.000000000",
          "2013-09-10T00:00:00.000000000",
          "2013-09-09T00:00:00.000000000",
          "2013-09-08T00:00:00.000000000",
          "2013-09-07T00:00:00.000000000",
          "2013-09-06T00:00:00.000000000",
          "2013-09-05T00:00:00.000000000",
          "2013-09-04T00:00:00.000000000",
          "2013-09-03T00:00:00.000000000",
          "2013-09-02T00:00:00.000000000",
          "2013-09-01T00:00:00.000000000",
          "2013-08-31T00:00:00.000000000",
          "2013-08-30T00:00:00.000000000",
          "2013-08-29T00:00:00.000000000",
          "2013-08-28T00:00:00.000000000",
          "2013-08-27T00:00:00.000000000",
          "2013-08-26T00:00:00.000000000",
          "2013-08-25T00:00:00.000000000",
          "2013-08-24T00:00:00.000000000",
          "2013-08-23T00:00:00.000000000",
          "2013-08-22T00:00:00.000000000",
          "2013-08-21T00:00:00.000000000",
          "2013-08-20T00:00:00.000000000",
          "2013-08-19T00:00:00.000000000",
          "2013-08-18T00:00:00.000000000",
          "2013-08-17T00:00:00.000000000",
          "2013-08-16T00:00:00.000000000",
          "2013-08-15T00:00:00.000000000",
          "2013-08-14T00:00:00.000000000",
          "2013-08-13T00:00:00.000000000",
          "2013-08-12T00:00:00.000000000",
          "2013-08-11T00:00:00.000000000",
          "2013-08-10T00:00:00.000000000",
          "2013-08-09T00:00:00.000000000",
          "2013-08-08T00:00:00.000000000",
          "2013-08-07T00:00:00.000000000",
          "2013-08-06T00:00:00.000000000",
          "2013-08-05T00:00:00.000000000",
          "2013-08-04T00:00:00.000000000",
          "2013-08-03T00:00:00.000000000",
          "2013-08-02T00:00:00.000000000",
          "2013-08-01T00:00:00.000000000",
          "2013-07-31T00:00:00.000000000",
          "2013-07-30T00:00:00.000000000",
          "2013-07-29T00:00:00.000000000",
          "2013-07-28T00:00:00.000000000",
          "2013-07-27T00:00:00.000000000",
          "2013-07-26T00:00:00.000000000",
          "2013-07-25T00:00:00.000000000",
          "2013-07-24T00:00:00.000000000",
          "2013-07-23T00:00:00.000000000",
          "2013-07-22T00:00:00.000000000",
          "2013-07-21T00:00:00.000000000",
          "2013-07-20T00:00:00.000000000",
          "2013-07-19T00:00:00.000000000",
          "2013-07-18T00:00:00.000000000",
          "2013-07-17T00:00:00.000000000",
          "2013-07-16T00:00:00.000000000",
          "2013-07-15T00:00:00.000000000",
          "2013-07-14T00:00:00.000000000",
          "2013-07-13T00:00:00.000000000",
          "2013-07-12T00:00:00.000000000",
          "2013-07-11T00:00:00.000000000",
          "2013-07-10T00:00:00.000000000",
          "2013-07-09T00:00:00.000000000",
          "2013-07-08T00:00:00.000000000",
          "2013-07-07T00:00:00.000000000",
          "2013-07-06T00:00:00.000000000",
          "2013-07-05T00:00:00.000000000",
          "2013-07-04T00:00:00.000000000",
          "2013-07-03T00:00:00.000000000",
          "2013-07-02T00:00:00.000000000",
          "2013-07-01T00:00:00.000000000",
          "2013-06-30T00:00:00.000000000",
          "2013-06-29T00:00:00.000000000",
          "2013-06-28T00:00:00.000000000",
          "2013-06-27T00:00:00.000000000",
          "2013-06-26T00:00:00.000000000",
          "2013-06-25T00:00:00.000000000",
          "2013-06-24T00:00:00.000000000",
          "2013-06-23T00:00:00.000000000",
          "2013-06-22T00:00:00.000000000",
          "2013-06-21T00:00:00.000000000",
          "2013-06-20T00:00:00.000000000",
          "2013-06-19T00:00:00.000000000",
          "2013-06-18T00:00:00.000000000",
          "2013-06-17T00:00:00.000000000",
          "2013-06-16T00:00:00.000000000",
          "2013-06-15T00:00:00.000000000",
          "2013-06-14T00:00:00.000000000",
          "2013-06-13T00:00:00.000000000",
          "2013-06-12T00:00:00.000000000",
          "2013-06-11T00:00:00.000000000",
          "2013-06-10T00:00:00.000000000",
          "2013-06-09T00:00:00.000000000",
          "2013-06-08T00:00:00.000000000",
          "2013-06-07T00:00:00.000000000",
          "2013-06-06T00:00:00.000000000",
          "2013-06-05T00:00:00.000000000",
          "2013-06-04T00:00:00.000000000",
          "2013-06-03T00:00:00.000000000",
          "2013-06-02T00:00:00.000000000",
          "2013-06-01T00:00:00.000000000",
          "2013-05-31T00:00:00.000000000",
          "2013-05-30T00:00:00.000000000",
          "2013-05-29T00:00:00.000000000",
          "2013-05-28T00:00:00.000000000",
          "2013-05-27T00:00:00.000000000",
          "2013-05-26T00:00:00.000000000",
          "2013-05-25T00:00:00.000000000",
          "2013-05-24T00:00:00.000000000",
          "2013-05-23T00:00:00.000000000",
          "2013-05-22T00:00:00.000000000",
          "2013-05-21T00:00:00.000000000",
          "2013-05-20T00:00:00.000000000",
          "2013-05-19T00:00:00.000000000",
          "2013-05-18T00:00:00.000000000",
          "2013-05-17T00:00:00.000000000",
          "2013-05-16T00:00:00.000000000",
          "2013-05-15T00:00:00.000000000",
          "2013-05-14T00:00:00.000000000",
          "2013-05-13T00:00:00.000000000",
          "2013-05-12T00:00:00.000000000",
          "2013-05-11T00:00:00.000000000",
          "2013-05-10T00:00:00.000000000",
          "2013-05-09T00:00:00.000000000",
          "2013-05-08T00:00:00.000000000",
          "2013-05-07T00:00:00.000000000",
          "2013-05-06T00:00:00.000000000",
          "2013-05-05T00:00:00.000000000",
          "2013-05-04T00:00:00.000000000",
          "2013-05-03T00:00:00.000000000",
          "2013-05-02T00:00:00.000000000",
          "2013-05-01T00:00:00.000000000",
          "2013-04-30T00:00:00.000000000",
          "2013-04-29T00:00:00.000000000",
          "2013-04-28T00:00:00.000000000"
         ],
         "xaxis": "x",
         "y": {
          "bdata": "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",
          "dtype": "f8"
         },
         "yaxis": "y"
        }
       ],
       "layout": {
        "height": 500,
        "legend": {
         "tracegroupgap": 0
        },
        "template": {
         "data": {
          "bar": [
           {
            "error_x": {
             "color": "#2a3f5f"
            },
            "error_y": {
             "color": "#2a3f5f"
            },
            "marker": {
             "line": {
              "color": "#E5ECF6",
              "width": 0.5
             },
             "pattern": {
              "fillmode": "overlay",
              "size": 10,
              "solidity": 0.2
             }
            },
            "type": "bar"
           }
          ],
          "barpolar": [
           {
            "marker": {
             "line": {
              "color": "#E5ECF6",
              "width": 0.5
             },
             "pattern": {
              "fillmode": "overlay",
              "size": 10,
              "solidity": 0.2
             }
            },
            "type": "barpolar"
           }
          ],
          "carpet": [
           {
            "aaxis": {
             "endlinecolor": "#2a3f5f",
             "gridcolor": "white",
             "linecolor": "white",
             "minorgridcolor": "white",
             "startlinecolor": "#2a3f5f"
            },
            "baxis": {
             "endlinecolor": "#2a3f5f",
             "gridcolor": "white",
             "linecolor": "white",
             "minorgridcolor": "white",
             "startlinecolor": "#2a3f5f"
            },
            "type": "carpet"
           }
          ],
          "choropleth": [
           {
            "colorbar": {
             "outlinewidth": 0,
             "ticks": ""
            },
            "type": "choropleth"
           }
          ],
          "contour": [
           {
            "colorbar": {
             "outlinewidth": 0,
             "ticks": ""
            },
            "colorscale": [
             [
              0,
              "#0d0887"
             ],
             [
              0.1111111111111111,
              "#46039f"
             ],
             [
              0.2222222222222222,
              "#7201a8"
             ],
             [
              0.3333333333333333,
              "#9c179e"
             ],
             [
              0.4444444444444444,
              "#bd3786"
             ],
             [
              0.5555555555555556,
              "#d8576b"
             ],
             [
              0.6666666666666666,
              "#ed7953"
             ],
             [
              0.7777777777777778,
              "#fb9f3a"
             ],
             [
              0.8888888888888888,
              "#fdca26"
             ],
             [
              1,
              "#f0f921"
             ]
            ],
            "type": "contour"
           }
          ],
          "contourcarpet": [
           {
            "colorbar": {
             "outlinewidth": 0,
             "ticks": ""
            },
            "type": "contourcarpet"
           }
          ],
          "heatmap": [
           {
            "colorbar": {
             "outlinewidth": 0,
             "ticks": ""
            },
            "colorscale": [
             [
              0,
              "#0d0887"
             ],
             [
              0.1111111111111111,
              "#46039f"
             ],
             [
              0.2222222222222222,
              "#7201a8"
             ],
             [
              0.3333333333333333,
              "#9c179e"
             ],
             [
              0.4444444444444444,
              "#bd3786"
             ],
             [
              0.5555555555555556,
              "#d8576b"
             ],
             [
              0.6666666666666666,
              "#ed7953"
             ],
             [
              0.7777777777777778,
              "#fb9f3a"
             ],
             [
              0.8888888888888888,
              "#fdca26"
             ],
             [
              1,
              "#f0f921"
             ]
            ],
            "type": "heatmap"
           }
          ],
          "histogram": [
           {
            "marker": {
             "pattern": {
              "fillmode": "overlay",
              "size": 10,
              "solidity": 0.2
             }
            },
            "type": "histogram"
           }
          ],
          "histogram2d": [
           {
            "colorbar": {
             "outlinewidth": 0,
             "ticks": ""
            },
            "colorscale": [
             [
              0,
              "#0d0887"
             ],
             [
              0.1111111111111111,
              "#46039f"
             ],
             [
              0.2222222222222222,
              "#7201a8"
             ],
             [
              0.3333333333333333,
              "#9c179e"
             ],
             [
              0.4444444444444444,
              "#bd3786"
             ],
             [
              0.5555555555555556,
              "#d8576b"
             ],
             [
              0.6666666666666666,
              "#ed7953"
             ],
             [
              0.7777777777777778,
              "#fb9f3a"
             ],
             [
              0.8888888888888888,
              "#fdca26"
             ],
             [
              1,
              "#f0f921"
             ]
            ],
            "type": "histogram2d"
           }
          ],
          "histogram2dcontour": [
           {
            "colorbar": {
             "outlinewidth": 0,
             "ticks": ""
            },
            "colorscale": [
             [
              0,
              "#0d0887"
             ],
             [
              0.1111111111111111,
              "#46039f"
             ],
             [
              0.2222222222222222,
              "#7201a8"
             ],
             [
              0.3333333333333333,
              "#9c179e"
             ],
             [
              0.4444444444444444,
              "#bd3786"
             ],
             [
              0.5555555555555556,
              "#d8576b"
             ],
             [
              0.6666666666666666,
              "#ed7953"
             ],
             [
              0.7777777777777778,
              "#fb9f3a"
             ],
             [
              0.8888888888888888,
              "#fdca26"
             ],
             [
              1,
              "#f0f921"
             ]
            ],
            "type": "histogram2dcontour"
           }
          ],
          "mesh3d": [
           {
            "colorbar": {
             "outlinewidth": 0,
             "ticks": ""
            },
            "type": "mesh3d"
           }
          ],
          "parcoords": [
           {
            "line": {
             "colorbar": {
              "outlinewidth": 0,
              "ticks": ""
             }
            },
            "type": "parcoords"
           }
          ],
          "pie": [
           {
            "automargin": true,
            "type": "pie"
           }
          ],
          "scatter": [
           {
            "fillpattern": {
             "fillmode": "overlay",
             "size": 10,
             "solidity": 0.2
            },
            "type": "scatter"
           }
          ],
          "scatter3d": [
           {
            "line": {
             "colorbar": {
              "outlinewidth": 0,
              "ticks": ""
             }
            },
            "marker": {
             "colorbar": {
              "outlinewidth": 0,
              "ticks": ""
             }
            },
            "type": "scatter3d"
           }
          ],
          "scattercarpet": [
           {
            "marker": {
             "colorbar": {
              "outlinewidth": 0,
              "ticks": ""
             }
            },
            "type": "scattercarpet"
           }
          ],
          "scattergeo": [
           {
            "marker": {
             "colorbar": {
              "outlinewidth": 0,
              "ticks": ""
             }
            },
            "type": "scattergeo"
           }
          ],
          "scattergl": [
           {
            "marker": {
             "colorbar": {
              "outlinewidth": 0,
              "ticks": ""
             }
            },
            "type": "scattergl"
           }
          ],
          "scattermap": [
           {
            "marker": {
             "colorbar": {
              "outlinewidth": 0,
              "ticks": ""
             }
            },
            "type": "scattermap"
           }
          ],
          "scattermapbox": [
           {
            "marker": {
             "colorbar": {
              "outlinewidth": 0,
              "ticks": ""
             }
            },
            "type": "scattermapbox"
           }
          ],
          "scatterpolar": [
           {
            "marker": {
             "colorbar": {
              "outlinewidth": 0,
              "ticks": ""
             }
            },
            "type": "scatterpolar"
           }
          ],
          "scatterpolargl": [
           {
            "marker": {
             "colorbar": {
              "outlinewidth": 0,
              "ticks": ""
             }
            },
            "type": "scatterpolargl"
           }
          ],
          "scatterternary": [
           {
            "marker": {
             "colorbar": {
              "outlinewidth": 0,
              "ticks": ""
             }
            },
            "type": "scatterternary"
           }
          ],
          "surface": [
           {
            "colorbar": {
             "outlinewidth": 0,
             "ticks": ""
            },
            "colorscale": [
             [
              0,
              "#0d0887"
             ],
             [
              0.1111111111111111,
              "#46039f"
             ],
             [
              0.2222222222222222,
              "#7201a8"
             ],
             [
              0.3333333333333333,
              "#9c179e"
             ],
             [
              0.4444444444444444,
              "#bd3786"
             ],
             [
              0.5555555555555556,
              "#d8576b"
             ],
             [
              0.6666666666666666,
              "#ed7953"
             ],
             [
              0.7777777777777778,
              "#fb9f3a"
             ],
             [
              0.8888888888888888,
              "#fdca26"
             ],
             [
              1,
              "#f0f921"
             ]
            ],
            "type": "surface"
           }
          ],
          "table": [
           {
            "cells": {
             "fill": {
              "color": "#EBF0F8"
             },
             "line": {
              "color": "white"
             }
            },
            "header": {
             "fill": {
              "color": "#C8D4E3"
             },
             "line": {
              "color": "white"
             }
            },
            "type": "table"
           }
          ]
         },
         "layout": {
          "annotationdefaults": {
           "arrowcolor": "#2a3f5f",
           "arrowhead": 0,
           "arrowwidth": 1
          },
          "autotypenumbers": "strict",
          "coloraxis": {
           "colorbar": {
            "outlinewidth": 0,
            "ticks": ""
           }
          },
          "colorscale": {
           "diverging": [
            [
             0,
             "#8e0152"
            ],
            [
             0.1,
             "#c51b7d"
            ],
            [
             0.2,
             "#de77ae"
            ],
            [
             0.3,
             "#f1b6da"
            ],
            [
             0.4,
             "#fde0ef"
            ],
            [
             0.5,
             "#f7f7f7"
            ],
            [
             0.6,
             "#e6f5d0"
            ],
            [
             0.7,
             "#b8e186"
            ],
            [
             0.8,
             "#7fbc41"
            ],
            [
             0.9,
             "#4d9221"
            ],
            [
             1,
             "#276419"
            ]
           ],
           "sequential": [
            [
             0,
             "#0d0887"
            ],
            [
             0.1111111111111111,
             "#46039f"
            ],
            [
             0.2222222222222222,
             "#7201a8"
            ],
            [
             0.3333333333333333,
             "#9c179e"
            ],
            [
             0.4444444444444444,
             "#bd3786"
            ],
            [
             0.5555555555555556,
             "#d8576b"
            ],
            [
             0.6666666666666666,
             "#ed7953"
            ],
            [
             0.7777777777777778,
             "#fb9f3a"
            ],
            [
             0.8888888888888888,
             "#fdca26"
            ],
            [
             1,
             "#f0f921"
            ]
           ],
           "sequentialminus": [
            [
             0,
             "#0d0887"
            ],
            [
             0.1111111111111111,
             "#46039f"
            ],
            [
             0.2222222222222222,
             "#7201a8"
            ],
            [
             0.3333333333333333,
             "#9c179e"
            ],
            [
             0.4444444444444444,
             "#bd3786"
            ],
            [
             0.5555555555555556,
             "#d8576b"
            ],
            [
             0.6666666666666666,
             "#ed7953"
            ],
            [
             0.7777777777777778,
             "#fb9f3a"
            ],
            [
             0.8888888888888888,
             "#fdca26"
            ],
            [
             1,
             "#f0f921"
            ]
           ]
          },
          "colorway": [
           "#636efa",
           "#EF553B",
           "#00cc96",
           "#ab63fa",
           "#FFA15A",
           "#19d3f3",
           "#FF6692",
           "#B6E880",
           "#FF97FF",
           "#FECB52"
          ],
          "font": {
           "color": "#2a3f5f"
          },
          "geo": {
           "bgcolor": "white",
           "lakecolor": "white",
           "landcolor": "#E5ECF6",
           "showlakes": true,
           "showland": true,
           "subunitcolor": "white"
          },
          "hoverlabel": {
           "align": "left"
          },
          "hovermode": "closest",
          "mapbox": {
           "style": "light"
          },
          "paper_bgcolor": "white",
          "plot_bgcolor": "#E5ECF6",
          "polar": {
           "angularaxis": {
            "gridcolor": "white",
            "linecolor": "white",
            "ticks": ""
           },
           "bgcolor": "#E5ECF6",
           "radialaxis": {
            "gridcolor": "white",
            "linecolor": "white",
            "ticks": ""
           }
          },
          "scene": {
           "xaxis": {
            "backgroundcolor": "#E5ECF6",
            "gridcolor": "white",
            "gridwidth": 2,
            "linecolor": "white",
            "showbackground": true,
            "ticks": "",
            "zerolinecolor": "white"
           },
           "yaxis": {
            "backgroundcolor": "#E5ECF6",
            "gridcolor": "white",
            "gridwidth": 2,
            "linecolor": "white",
            "showbackground": true,
            "ticks": "",
            "zerolinecolor": "white"
           },
           "zaxis": {
            "backgroundcolor": "#E5ECF6",
            "gridcolor": "white",
            "gridwidth": 2,
            "linecolor": "white",
            "showbackground": true,
            "ticks": "",
            "zerolinecolor": "white"
           }
          },
          "shapedefaults": {
           "line": {
            "color": "#2a3f5f"
           }
          },
          "ternary": {
           "aaxis": {
            "gridcolor": "white",
            "linecolor": "white",
            "ticks": ""
           },
           "baxis": {
            "gridcolor": "white",
            "linecolor": "white",
            "ticks": ""
           },
           "bgcolor": "#E5ECF6",
           "caxis": {
            "gridcolor": "white",
            "linecolor": "white",
            "ticks": ""
           }
          },
          "title": {
           "x": 0.05
          },
          "xaxis": {
           "automargin": true,
           "gridcolor": "white",
           "linecolor": "white",
           "ticks": "",
           "title": {
            "standoff": 15
           },
           "zerolinecolor": "white",
           "zerolinewidth": 2
          },
          "yaxis": {
           "automargin": true,
           "gridcolor": "white",
           "linecolor": "white",
           "ticks": "",
           "title": {
            "standoff": 15
           },
           "zerolinecolor": "white",
           "zerolinewidth": 2
          }
         }
        },
        "title": {
         "text": "Close % Change"
        },
        "width": 1000,
        "xaxis": {
         "anchor": "y",
         "domain": [
          0,
          1
         ],
         "title": {
          "text": "Date"
         }
        },
        "yaxis": {
         "anchor": "x",
         "domain": [
          0,
          1
         ],
         "title": {
          "text": "Close_pct_change"
         }
        }
       }
      },
      "image/png": "[encoded data removed]",
      "text/html": [
       "<div>            <script src=\"https://cdnjs.cloudflare.com/ajax/libs/mathjax/2.7.5/MathJax.js?config=TeX-AMS-MML_SVG\"></script><script type=\"text/javascript\">if (window.MathJax && window.MathJax.Hub && window.MathJax.Hub.Config) {window.MathJax.Hub.Config({SVG: {font: \"STIX-Web\"}});}</script>                <script type=\"text/javascript\">window.PlotlyConfig = {MathJaxConfig: 'local'};</script>\n",
       "        <script charset=\"utf-8\" src=\"https://cdn.plot.ly/plotly-3.1.0.min.js\" integrity=\"sha256-Ei4740bWZhaUTQuD6q9yQlgVCMPBz6CZWhevDYPv93A=\" crossorigin=\"anonymous\"></script>                <div id=\"662a76ee-33c8-4721-9189-07f0b6c0cd1e\" class=\"plotly-graph-div\" style=\"height:500px; width:1000px;\"></div>            <script type=\"text/javascript\">                window.PLOTLYENV=window.PLOTLYENV || {};                                if (document.getElementById(\"662a76ee-33c8-4721-9189-07f0b6c0cd1e\")) {                    Plotly.newPlot(                        \"662a76ee-33c8-4721-9189-07f0b6c0cd1e\",                        [{\"hovertemplate\":\"Date=%{x}\\u003cbr\\u003eClose_pct_change=%{y}\\u003cextra\\u003e\\u003c\\u002fextra\\u003e\",\"legendgroup\":\"\",\"line\":{\"color\":\"rgb(255,153,51)\",\"dash\":\"solid\"},\"marker\":{\"symbol\":\"circle\"},\"mode\":\"lines\",\"name\":\"\",\"showlegend\":false,\"x\":[\"2017-07-31T00:00:00.000000000\",\"2017-07-30T00:00:00.000000000\",\"2017-07-29T00:00:00.000000000\",\"2017-07-28T00:00:00.000000000\",\"2017-07-27T00:00:00.000000000\",\"2017-07-26T00:00:00.000000000\",\"2017-07-25T00:00:00.000000000\",\"2017-07-24T00:00:00.000000000\",\"2017-07-23T00:00:00.000000000\",\"2017-07-22T00:00:00.000000000\",\"2017-07-21T00:00:00.000000000\",\"2017-07-20T00:00:00.000000000\",\"2017-07-19T00:00:00.000000000\",\"2017-07-18T00:00:00.000000000\",\"2017-07-17T00:00:00.000000000\",\"2017-07-16T00:00:00.000000000\",\"2017-07-15T00:00:00.000000000\",\"2017-07-14T00:00:00.000000000\",\"2017-07-13T00:00:00.000000000\",\"2017-07-12T00:00:00.000000000\",\"2017-07-11T00:00:00.000000000\",\"2017-07-10T00:00:00.000000000\",\"2017-07-09T00:00:00.000000000\",\"2017-07-08T00:00:00.000000000\",\"2017-07-07T00:00:00.000000000\",\"2017-07-06T00:00:00.000000000\",\"2017-07-05T00:00:00.000000000\",\"2017-07-04T00:00:00.000000000\",\"2017-07-03T00:00:00.000000000\",\"2017-07-02T00:00:00.000000000\",\"2017-07-01T00:00:00.000000000\",\"2017-06-30T00:00:00.000000000\",\"2017-06-29T00:00:00.000000000\",\"2017-06-28T00:00:00.000000000\",\"2017-06-27T00:00:00.000000000\",\"2017-06-26T00:00:00.000000000\",\"2017-06-25T00:00:00.000000000\",\"2017-06-24T00:00:00.000000000\",\"2017-06-23T00:00:00.000000000\",\"2017-06-22T00:00:00.000000000\",\"2017-06-21T00:00:00.000000000\",\"2017-06-20T00:00:00.000000000\",\"2017-06-19T00:00:00.000000000\",\"2017-06-18T00:00:00.000000000\",\"2017-06-17T00:00:00.000000000\",\"2017-06-16T00:00:00.000000000\",\"2017-06-15T00:00:00.000000000\",\"2017-06-14T00:00:00.000000000\",\"2017-06-13T00:00:00.000000000\",\"2017-06-12T00:00:00.000000000\",\"2017-06-11T00:00:00.000000000\",\"2017-06-10T00:00:00.000000000\",\"2017-06-09T00:00:00.000000000\",\"2017-06-08T00:00:00.000000000\",\"2017-06-07T00:00:00.000000000\",\"2017-06-06T00:00:00.000000000\",\"2017-06-05T00:00:00.000000000\",\"2017-06-04T00:00:00.000000000\",\"2017-06-03T00:00:00.000000000\",\"2017-06-02T00:00:00.000000000\",\"2017-06-01T00:00:00.000000000\",\"2017-05-31T00:00:00.000000000\",\"2017-05-30T00:00:00.000000000\",\"2017-05-29T00:00:00.000000000\",\"2017-05-28T00:00:00.000000000\",\"2017-05-27T00:00:00.000000000\",\"2017-05-26T00:00:00.000000000\",\"2017-05-25T00:00:00.000000000\",\"2017-05-24T00:00:00.000000000\",\"2017-05-23T00:00:00.000000000\",\"2017-05-22T00:00:00.000000000\",\"2017-05-21T00:00:00.000000000\",\"2017-05-20T00:00:00.000000000\",\"2017-05-19T00:00:00.000000000\",\"2017-05-18T00:00:00.000000000\",\"2017-05-17T00:00:00.000000000\",\"2017-05-16T00:00:00.000000000\",\"2017-05-15T00:00:00.000000000\",\"2017-05-14T00:00:00.000000000\",\"2017-05-13T00:00:00.000000000\",\"2017-05-12T00:00:00.000000000\",\"2017-05-11T00:00:00.000000000\",\"2017-05-10T00:00:00.000000000\",\"2017-05-09T00:00:00.000000000\",\"2017-05-08T00:00:00.000000000\",\"2017-05-07T00:00:00.000000000\",\"2017-05-06T00:00:00.000000000\",\"2017-05-05T00:00:00.000000000\",\"2017-05-04T00:00:00.000000000\",\"2017-05-03T00:00:00.000000000\",\"2017-05-02T00:00:00.000000000\",\"2017-05-01T00:00:00.000000000\",\"2017-04-30T00:00:00.000000000\",\"2017-04-29T00:00:00.000000000\",\"2017-04-28T00:00:00.000000000\",\"2017-04-27T00:00:00.000000000\",\"2017-04-26T00:00:00.000000000\",\"2017-04-25T00:00:00.000000000\",\"2017-04-24T00:00:00.000000000\",\"2017-04-23T00:00:00.000000000\",\"2017-04-22T00:00:00.000000000\",\"2017-04-21T00:00:00.000000000\",\"2017-04-20T00:00:00.000000000\",\"2017-04-19T00:00:00.000000000\",\"2017-04-18T00:00:00.000000000\",\"2017-04-17T00:00:00.000000000\",\"2017-04-16T00:00:00.000000000\",\"2017-04-15T00:00:00.000000000\",\"2017-04-14T00:00:00.000000000\",\"2017-04-13T00:00:00.000000000\",\"2017-04-12T00:00:00.000000000\",\"2017-04-11T00:00:00.000000000\",\"2017-04-10T00:00:00.000000000\",\"2017-04-09T00:00:00.000000000\",\"2017-04-08T00:00:00.000000000\",\"2017-04-07T00:00:00.000000000\",\"2017-04-06T00:00:00.000000000\",\"2017-04-05T00:00:00.000000000\",\"2017-04-04T00:00:00.000000000\",\"2017-04-03T00:00:00.000000000\",\"2017-04-02T00:00:00.000000000\",\"2017-04-01T00:00:00.000000000\",\"2017-03-31T00:00:00.000000000\",\"2017-03-30T00:00:00.000000000\",\"2017-03-29T00:00:00.000000000\",\"2017-03-28T00:00:00.000000000\",\"2017-03-27T00:00:00.000000000\",\"2017-03-26T00:00:00.000000000\",\"2017-03-25T00:00:00.000000000\",\"2017-03-24T00:00:00.000000000\",\"2017-03-23T00:00:00.000000000\",\"2017-03-22T00:00:00.000000000\",\"2017-03-21T00:00:00.000000000\",\"2017-03-20T00:00:00.000000000\",\"2017-03-19T00:00:00.000000000\",\"2017-03-18T00:00:00.000000000\",\"2017-03-17T00:00:00.000000000\",\"2017-03-16T00:00:00.000000000\",\"2017-03-15T00:00:00.000000000\",\"2017-03-14T00:00:00.000000000\",\"2017-03-13T00:00:00.000000000\",\"2017-03-12T00:00:00.000000000\",\"2017-03-11T00:00:00.000000000\",\"2017-03-10T00:00:00.000000000\",\"2017-03-09T00:00:00.000000000\",\"2017-03-08T00:00:00.000000000\",\"2017-03-07T00:00:00.000000000\",\"2017-03-06T00:00:00.000000000\",\"2017-03-05T00:00:00.000000000\",\"2017-03-04T00:00:00.000000000\",\"2017-03-03T00:00:00.000000000\",\"2017-03-02T00:00:00.000000000\",\"2017-03-01T00:00:00.000000000\",\"2017-02-28T00:00:00.000000000\",\"2017-02-27T00:00:00.000000000\",\"2017-02-26T00:00:00.000000000\",\"2017-02-25T00:00:00.000000000\",\"2017-02-24T00:00:00.000000000\",\"2017-02-23T00:00:00.000000000\",\"2017-02-22T00:00:00.000000000\",\"2017-02-21T00:00:00.000000000\",\"2017-02-20T00:00:00.000000000\",\"2017-02-19T00:00:00.000000000\",\"2017-02-18T00:00:00.000000000\",\"2017-02-17T00:00:00.000000000\",\"2017-02-16T00:00:00.000000000\",\"2017-02-15T00:00:00.000000000\",\"2017-02-14T00:00:00.000000000\",\"2017-02-13T00:00:00.000000000\",\"2017-02-12T00:00:00.000000000\",\"2017-02-11T00:00:00.000000000\",\"2017-02-10T00:00:00.000000000\",\"2017-02-09T00:00:00.000000000\",\"2017-02-08T00:00:00.000000000\",\"2017-02-07T00:00:00.000000000\",\"2017-02-06T00:00:00.000000000\",\"2017-02-05T00:00:00.000000000\",\"2017-02-04T00:00:00.000000000\",\"2017-02-03T00:00:00.000000000\",\"2017-02-02T00:00:00.000000000\",\"2017-02-01T00:00:00.000000000\",\"2017-01-31T00:00:00.000000000\",\"2017-01-30T00:00:00.000000000\",\"2017-01-29T00:00:00.000000000\",\"2017-01-28T00:00:00.000000000\",\"2017-01-27T00:00:00.000000000\",\"2017-01-26T00:00:00.000000000\",\"2017-01-25T00:00:00.000000000\",\"2017-01-24T00:00:00.000000000\",\"2017-01-23T00:00:00.000000000\",\"2017-01-22T00:00:00.000000000\",\"2017-01-21T00:00:00.000000000\",\"2017-01-20T00:00:00.000000000\",\"2017-01-19T00:00:00.000000000\",\"2017-01-18T00:00:00.000000000\",\"2017-01-17T00:00:00.000000000\",\"2017-01-16T00:00:00.000000000\",\"2017-01-15T00:00:00.000000000\",\"2017-01-14T00:00:00.000000000\",\"2017-01-13T00:00:00.000000000\",\"2017-01-12T00:00:00.000000000\",\"2017-01-11T00:00:00.000000000\",\"2017-01-10T00:00:00.000000000\",\"2017-01-09T00:00:00.000000000\",\"2017-01-08T00:00:00.000000000\",\"2017-01-07T00:00:00.000000000\",\"2017-01-06T00:00:00.000000000\",\"2017-01-05T00:00:00.000000000\",\"2017-01-04T00:00:00.000000000\",\"2017-01-03T00:00:00.000000000\",\"2017-01-02T00:00:00.000000000\",\"2017-01-01T00:00:00.000000000\",\"2016-12-31T00:00:00.000000000\",\"2016-12-30T00:00:00.000000000\",\"2016-12-29T00:00:00.000000000\",\"2016-12-28T00:00:00.000000000\",\"2016-12-27T00:00:00.000000000\",\"2016-12-26T00:00:00.000000000\",\"2016-12-25T00:00:00.000000000\",\"2016-12-24T00:00:00.000000000\",\"2016-12-23T00:00:00.000000000\",\"2016-12-22T00:00:00.000000000\",\"2016-12-21T00:00:00.000000000\",\"2016-12-20T00:00:00.000000000\",\"2016-12-19T00:00:00.000000000\",\"2016-12-18T00:00:00.000000000\",\"2016-12-17T00:00:00.000000000\",\"2016-12-16T00:00:00.000000000\",\"2016-12-15T00:00:00.000000000\",\"2016-12-14T00:00:00.000000000\",\"2016-12-13T00:00:00.000000000\",\"2016-12-12T00:00:00.000000000\",\"2016-12-11T00:00:00.000000000\",\"2016-12-10T00:00:00.000000000\",\"2016-12-09T00:00:00.000000000\",\"2016-12-08T00:00:00.000000000\",\"2016-12-07T00:00:00.000000000\",\"2016-12-06T00:00:00.000000000\",\"2016-12-05T00:00:00.000000000\",\"2016-12-04T00:00:00.000000000\",\"2016-12-03T00:00:00.000000000\",\"2016-12-02T00:00:00.000000000\",\"2016-12-01T00:00:00.000000000\",\"2016-11-30T00:00:00.000000000\",\"2016-11-29T00:00:00.000000000\",\"2016-11-28T00:00:00.000000000\",\"2016-11-27T00:00:00.000000000\",\"2016-11-26T00:00:00.000000000\",\"2016-11-25T00:00:00.000000000\",\"2016-11-24T00:00:00.000000000\",\"2016-11-23T00:00:00.000000000\",\"2016-11-22T00:00:00.000000000\",\"2016-11-21T00:00:00.000000000\",\"2016-11-20T00:00:00.000000000\",\"2016-11-19T00:00:00.000000000\",\"2016-11-18T00:00:00.000000000\",\"2016-11-17T00:00:00.000000000\",\"2016-11-16T00:00:00.000000000\",\"2016-11-15T00:00:00.000000000\",\"2016-11-14T00:00:00.000000000\",\"2016-11-13T00:00:00.000000000\",\"2016-11-12T00:00:00.000000000\",\"2016-11-11T00:00:00.000000000\",\"2016-11-10T00:00:00.000000000\",\"2016-11-09T00:00:00.000000000\",\"2016-11-08T00:00:00.000000000\",\"2016-11-07T00:00:00.000000000\",\"2016-11-06T00:00:00.000000000\",\"2016-11-05T00:00:00.000000000\",\"2016-11-04T00:00:00.000000000\",\"2016-11-03T00:00:00.000000000\",\"2016-11-02T00:00:00.000000000\",\"2016-11-01T00:00:00.000000000\",\"2016-10-31T00:00:00.000000000\",\"2016-10-30T00:00:00.000000000\",\"2016-10-29T00:00:00.000000000\",\"2016-10-28T00:00:00.000000000\",\"2016-10-27T00:00:00.000000000\",\"2016-10-26T00:00:00.000000000\",\"2016-10-25T00:00:00.000000000\",\"2016-10-24T00:00:00.000000000\",\"2016-10-23T00:00:00.000000000\",\"2016-10-22T00:00:00.000000000\",\"2016-10-21T00:00:00.000000000\",\"2016-10-20T00:00:00.000000000\",\"2016-10-19T00:00:00.000000000\",\"2016-10-18T00:00:00.000000000\",\"2016-10-17T00:00:00.000000000\",\"2016-10-16T00:00:00.000000000\",\"2016-10-15T00:00:00.000000000\",\"2016-10-14T00:00:00.000000000\",\"2016-10-13T00:00:00.000000000\",\"2016-10-12T00:00:00.000000000\",\"2016-10-11T00:00:00.000000000\",\"2016-10-10T00:00:00.000000000\",\"2016-10-09T00:00:00.000000000\",\"2016-10-08T00:00:00.000000000\",\"2016-10-07T00:00:00.000000000\",\"2016-10-06T00:00:00.000000000\",\"2016-10-05T00:00:00.000000000\",\"2016-10-04T00:00:00.000000000\",\"2016-10-03T00:00:00.000000000\",\"2016-10-02T00:00:00.000000000\",\"2016-10-01T00:00:00.000000000\",\"2016-09-30T00:00:00.000000000\",\"2016-09-29T00:00:00.000000000\",\"2016-09-28T00:00:00.000000000\",\"2016-09-27T00:00:00.000000000\",\"2016-09-26T00:00:00.000000000\",\"2016-09-25T00:00:00.000000000\",\"2016-09-24T00:00:00.000000000\",\"2016-09-23T00:00:00.000000000\",\"2016-09-22T00:00:00.000000000\",\"2016-09-21T00:00:00.000000000\",\"2016-09-20T00:00:00.000000000\",\"2016-09-19T00:00:00.000000000\",\"2016-09-18T00:00:00.000000000\",\"2016-09-17T00:00:00.000000000\",\"2016-09-16T00:00:00.000000000\",\"2016-09-15T00:00:00.000000000\",\"2016-09-14T00:00:00.000000000\",\"2016-09-13T00:00:00.000000000\",\"2016-09-12T00:00:00.000000000\",\"2016-09-11T00:00:00.000000000\",\"2016-09-10T00:00:00.000000000\",\"2016-09-09T00:00:00.000000000\",\"2016-09-08T00:00:00.000000000\",\"2016-09-07T00:00:00.000000000\",\"2016-09-06T00:00:00.000000000\",\"2016-09-05T00:00:00.000000000\",\"2016-09-04T00:00:00.000000000\",\"2016-09-03T00:00:00.000000000\",\"2016-09-02T00:00:00.000000000\",\"2016-09-01T00:00:00.000000000\",\"2016-08-31T00:00:00.000000000\",\"2016-08-30T00:00:00.000000000\",\"2016-08-29T00:00:00.000000000\",\"2016-08-28T00:00:00.000000000\",\"2016-08-27T00:00:00.000000000\",\"2016-08-26T00:00:00.000000000\",\"2016-08-25T00:00:00.000000000\",\"2016-08-24T00:00:00.000000000\",\"2016-08-23T00:00:00.000000000\",\"2016-08-22T00:00:00.000000000\",\"2016-08-21T00:00:00.000000000\",\"2016-08-20T00:00:00.000000000\",\"2016-08-19T00:00:00.000000000\",\"2016-08-18T00:00:00.000000000\",\"2016-08-17T00:00:00.000000000\",\"2016-08-16T00:00:00.000000000\",\"2016-08-15T00:00:00.000000000\",\"2016-08-14T00:00:00.000000000\",\"2016-08-13T00:00:00.000000000\",\"2016-08-12T00:00:00.000000000\",\"2016-08-11T00:00:00.000000000\",\"2016-08-10T00:00:00.000000000\",\"2016-08-09T00:00:00.000000000\",\"2016-08-08T00:00:00.000000000\",\"2016-08-07T00:00:00.000000000\",\"2016-08-06T00:00:00.000000000\",\"2016-08-05T00:00:00.000000000\",\"2016-08-04T00:00:00.000000000\",\"2016-08-03T00:00:00.000000000\",\"2016-08-02T00:00:00.000000000\",\"2016-08-01T00:00:00.000000000\",\"2016-07-31T00:00:00.000000000\",\"2016-07-30T00:00:00.000000000\",\"2016-07-29T00:00:00.000000000\",\"2016-07-28T00:00:00.000000000\",\"2016-07-27T00:00:00.000000000\",\"2016-07-26T00:00:00.000000000\",\"2016-07-25T00:00:00.000000000\",\"2016-07-24T00:00:00.000000000\",\"2016-07-23T00:00:00.000000000\",\"2016-07-22T00:00:00.000000000\",\"2016-07-21T00:00:00.000000000\",\"2016-07-20T00:00:00.000000000\",\"2016-07-19T00:00:00.000000000\",\"2016-07-18T00:00:00.000000000\",\"2016-07-17T00:00:00.000000000\",\"2016-07-16T00:00:00.000000000\",\"2016-07-15T00:00:00.000000000\",\"2016-07-14T00:00:00.000000000\",\"2016-07-13T00:00:00.000000000\",\"2016-07-12T00:00:00.000000000\",\"2016-07-11T00:00:00.000000000\",\"2016-07-10T00:00:00.000000000\",\"2016-07-09T00:00:00.000000000\",\"2016-07-08T00:00:00.000000000\",\"2016-07-07T00:00:00.000000000\",\"2016-07-06T00:00:00.000000000\",\"2016-07-05T00:00:00.000000000\",\"2016-07-04T00:00:00.000000000\",\"2016-07-03T00:00:00.000000000\",\"2016-07-02T00:00:00.000000000\",\"2016-07-01T00:00:00.000000000\",\"2016-06-30T00:00:00.000000000\",\"2016-06-29T00:00:00.000000000\",\"2016-06-28T00:00:00.000000000\",\"2016-06-27T00:00:00.000000000\",\"2016-06-26T00:00:00.000000000\",\"2016-06-25T00:00:00.000000000\",\"2016-06-24T00:00:00.000000000\",\"2016-06-23T00:00:00.000000000\",\"2016-06-22T00:00:00.000000000\",\"2016-06-21T00:00:00.000000000\",\"2016-06-20T00:00:00.000000000\",\"2016-06-19T00:00:00.000000000\",\"2016-06-18T00:00:00.000000000\",\"2016-06-17T00:00:00.000000000\",\"2016-06-16T00:00:00.000000000\",\"2016-06-15T00:00:00.000000000\",\"2016-06-14T00:00:00.000000000\",\"2016-06-13T00:00:00.000000000\",\"2016-06-12T00:00:00.000000000\",\"2016-06-11T00:00:00.000000000\",\"2016-06-10T00:00:00.000000000\",\"2016-06-09T00:00:00.000000000\",\"2016-06-08T00:00:00.000000000\",\"2016-06-07T00:00:00.000000000\",\"2016-06-06T00:00:00.000000000\",\"2016-06-05T00:00:00.000000000\",\"2016-06-04T00:00:00.000000000\",\"2016-06-03T00:00:00.000000000\",\"2016-06-02T00:00:00.000000000\",\"2016-06-01T00:00:00.000000000\",\"2016-05-31T00:00:00.000000000\",\"2016-05-30T00:00:00.000000000\",\"2016-05-29T00:00:00.000000000\",\"2016-05-28T00:00:00.000000000\",\"2016-05-27T00:00:00.000000000\",\"2016-05-26T00:00:00.000000000\",\"2016-05-25T00:00:00.000000000\",\"2016-05-24T00:00:00.000000000\",\"2016-05-23T00:00:00.000000000\",\"2016-05-22T00:00:00.000000000\",\"2016-05-21T00:00:00.000000000\",\"2016-05-20T00:00:00.000000000\",\"2016-05-19T00:00:00.000000000\",\"2016-05-18T00:00:00.000000000\",\"2016-05-17T00:00:00.000000000\",\"2016-05-16T00:00:00.000000000\",\"2016-05-15T00:00:00.000000000\",\"2016-05-14T00:00:00.000000000\",\"2016-05-13T00:00:00.000000000\",\"2016-05-12T00:00:00.000000000\",\"2016-05-11T00:00:00.000000000\",\"2016-05-10T00:00:00.000000000\",\"2016-05-09T00:00:00.000000000\",\"2016-05-08T00:00:00.000000000\",\"2016-05-07T00:00:00.000000000\",\"2016-05-06T00:00:00.000000000\",\"2016-05-05T00:00:00.000000000\",\"2016-05-04T00:00:00.000000000\",\"2016-05-03T00:00:00.000000000\",\"2016-05-02T00:00:00.000000000\",\"2016-05-01T00:00:00.000000000\",\"2016-04-30T00:00:00.000000000\",\"2016-04-29T00:00:00.000000000\",\"2016-04-28T00:00:00.000000000\",\"2016-04-27T00:00:00.000000000\",\"2016-04-26T00:00:00.000000000\",\"2016-04-25T00:00:00.000000000\",\"2016-04-24T00:00:00.000000000\",\"2016-04-23T00:00:00.000000000\",\"2016-04-22T00:00:00.000000000\",\"2016-04-21T00:00:00.000000000\",\"2016-04-20T00:00:00.000000000\",\"2016-04-19T00:00:00.000000000\",\"2016-04-18T00:00:00.000000000\",\"2016-04-17T00:00:00.000000000\",\"2016-04-16T00:00:00.000000000\",\"2016-04-15T00:00:00.000000000\",\"2016-04-14T00:00:00.000000000\",\"2016-04-13T00:00:00.000000000\",\"2016-04-12T00:00:00.000000000\",\"2016-04-11T00:00:00.000000000\",\"2016-04-10T00:00:00.000000000\",\"2016-04-09T00:00:00.000000000\",\"2016-04-08T00:00:00.000000000\",\"2016-04-07T00:00:00.000000000\",\"2016-04-06T00:00:00.000000000\",\"2016-04-05T00:00:00.000000000\",\"2016-04-04T00:00:00.000000000\",\"2016-04-03T00:00:00.000000000\",\"2016-04-02T00:00:00.000000000\",\"2016-04-01T00:00:00.000000000\",\"2016-03-31T00:00:00.000000000\",\"2016-03-30T00:00:00.000000000\",\"2016-03-29T00:00:00.000000000\",\"2016-03-28T00:00:00.000000000\",\"2016-03-27T00:00:00.000000000\",\"2016-03-26T00:00:00.000000000\",\"2016-03-25T00:00:00.000000000\",\"2016-03-24T00:00:00.000000000\",\"2016-03-23T00:00:00.000000000\",\"2016-03-22T00:00:00.000000000\",\"2016-03-21T00:00:00.000000000\",\"2016-03-20T00:00:00.000000000\",\"2016-03-19T00:00:00.000000000\",\"2016-03-18T00:00:00.000000000\",\"2016-03-17T00:00:00.000000000\",\"2016-03-16T00:00:00.000000000\",\"2016-03-15T00:00:00.000000000\",\"2016-03-14T00:00:00.000000000\",\"2016-03-13T00:00:00.000000000\",\"2016-03-12T00:00:00.000000000\",\"2016-03-11T00:00:00.000000000\",\"2016-03-10T00:00:00.000000000\",\"2016-03-09T00:00:00.000000000\",\"2016-03-08T00:00:00.000000000\",\"2016-03-07T00:00:00.000000000\",\"2016-03-06T00:00:00.000000000\",\"2016-03-05T00:00:00.000000000\",\"2016-03-04T00:00:00.000000000\",\"2016-03-03T00:00:00.000000000\",\"2016-03-02T00:00:00.000000000\",\"2016-03-01T00:00:00.000000000\",\"2016-02-29T00:00:00.000000000\",\"2016-02-28T00:00:00.000000000\",\"2016-02-27T00:00:00.000000000\",\"2016-02-26T00:00:00.000000000\",\"2016-02-25T00:00:00.000000000\",\"2016-02-24T00:00:00.000000000\",\"2016-02-23T00:00:00.000000000\",\"2016-02-22T00:00:00.000000000\",\"2016-02-21T00:00:00.000000000\",\"2016-02-20T00:00:00.000000000\",\"2016-02-19T00:00:00.000000000\",\"2016-02-18T00:00:00.000000000\",\"2016-02-17T00:00:00.000000000\",\"2016-02-16T00:00:00.000000000\",\"2016-02-15T00:00:00.000000000\",\"2016-02-14T00:00:00.000000000\",\"2016-02-13T00:00:00.000000000\",\"2016-02-12T00:00:00.000000000\",\"2016-02-11T00:00:00.000000000\",\"2016-02-10T00:00:00.000000000\",\"2016-02-09T00:00:00.000000000\",\"2016-02-08T00:00:00.000000000\",\"2016-02-07T00:00:00.000000000\",\"2016-02-06T00:00:00.000000000\",\"2016-02-05T00:00:00.000000000\",\"2016-02-04T00:00:00.000000000\",\"2016-02-03T00:00:00.000000000\",\"2016-02-02T00:00:00.000000000\",\"2016-02-01T00:00:00.000000000\",\"2016-01-31T00:00:00.000000000\",\"2016-01-30T00:00:00.000000000\",\"2016-01-29T00:00:00.000000000\",\"2016-01-28T00:00:00.000000000\",\"2016-01-27T00:00:00.000000000\",\"2016-01-26T00:00:00.000000000\",\"2016-01-25T00:00:00.000000000\",\"2016-01-24T00:00:00.000000000\",\"2016-01-23T00:00:00.000000000\",\"2016-01-22T00:00:00.000000000\",\"2016-01-21T00:00:00.000000000\",\"2016-01-20T00:00:00.000000000\",\"2016-01-19T00:00:00.000000000\",\"2016-01-18T00:00:00.000000000\",\"2016-01-17T00:00:00.000000000\",\"2016-01-16T00:00:00.000000000\",\"2016-01-15T00:00:00.000000000\",\"2016-01-14T00:00:00.000000000\",\"2016-01-13T00:00:00.000000000\",\"2016-01-12T00:00:00.000000000\",\"2016-01-11T00:00:00.000000000\",\"2016-01-10T00:00:00.000000000\",\"2016-01-09T00:00:00.000000000\",\"2016-01-08T00:00:00.000000000\",\"2016-01-07T00:00:00.000000000\",\"2016-01-06T00:00:00.000000000\",\"2016-01-05T00:00:00.000000000\",\"2016-01-04T00:00:00.000000000\",\"2016-01-03T00:00:00.000000000\",\"2016-01-02T00:00:00.000000000\",\"2016-01-01T00:00:00.000000000\",\"2015-12-31T00:00:00.000000000\",\"2015-12-30T00:00:00.000000000\",\"2015-12-29T00:00:00.000000000\",\"2015-12-28T00:00:00.000000000\",\"2015-12-27T00:00:00.000000000\",\"2015-12-26T00:00:00.000000000\",\"2015-12-25T00:00:00.000000000\",\"2015-12-24T00:00:00.000000000\",\"2015-12-23T00:00:00.000000000\",\"2015-12-22T00:00:00.000000000\",\"2015-12-21T00:00:00.000000000\",\"2015-12-20T00:00:00.000000000\",\"2015-12-19T00:00:00.000000000\",\"2015-12-18T00:00:00.000000000\",\"2015-12-17T00:00:00.000000000\",\"2015-12-16T00:00:00.000000000\",\"2015-12-15T00:00:00.000000000\",\"2015-12-14T00:00:00.000000000\",\"2015-12-13T00:00:00.000000000\",\"2015-12-12T00:00:00.000000000\",\"2015-12-11T00:00:00.000000000\",\"2015-12-10T00:00:00.000000000\",\"2015-12-09T00:00:00.000000000\",\"2015-12-08T00:00:00.000000000\",\"2015-12-07T00:00:00.000000000\",\"2015-12-06T00:00:00.000000000\",\"2015-12-05T00:00:00.000000000\",\"2015-12-04T00:00:00.000000000\",\"2015-12-03T00:00:00.000000000\",\"2015-12-02T00:00:00.000000000\",\"2015-12-01T00:00:00.000000000\",\"2015-11-30T00:00:00.000000000\",\"2015-11-29T00:00:00.000000000\",\"2015-11-28T00:00:00.000000000\",\"2015-11-27T00:00:00.000000000\",\"2015-11-26T00:00:00.000000000\",\"2015-11-25T00:00:00.000000000\",\"2015-11-24T00:00:00.000000000\",\"2015-11-23T00:00:00.000000000\",\"2015-11-22T00:00:00.000000000\",\"2015-11-21T00:00:00.000000000\",\"2015-11-20T00:00:00.000000000\",\"2015-11-19T00:00:00.000000000\",\"2015-11-18T00:00:00.000000000\",\"2015-11-17T00:00:00.000000000\",\"2015-11-16T00:00:00.000000000\",\"2015-11-15T00:00:00.000000000\",\"2015-11-14T00:00:00.000000000\",\"2015-11-13T00:00:00.000000000\",\"2015-11-12T00:00:00.000000000\",\"2015-11-11T00:00:00.000000000\",\"2015-11-10T00:00:00.000000000\",\"2015-11-09T00:00:00.000000000\",\"2015-11-08T00:00:00.000000000\",\"2015-11-07T00:00:00.000000000\",\"2015-11-06T00:00:00.000000000\",\"2015-11-05T00:00:00.000000000\",\"2015-11-04T00:00:00.000000000\",\"2015-11-03T00:00:00.000000000\",\"2015-11-02T00:00:00.000000000\",\"2015-11-01T00:00:00.000000000\",\"2015-10-31T00:00:00.000000000\",\"2015-10-30T00:00:00.000000000\",\"2015-10-29T00:00:00.000000000\",\"2015-10-28T00:00:00.000000000\",\"2015-10-27T00:00:00.000000000\",\"2015-10-26T00:00:00.000000000\",\"2015-10-25T00:00:00.000000000\",\"2015-10-24T00:00:00.000000000\",\"2015-10-23T00:00:00.000000000\",\"2015-10-22T00:00:00.000000000\",\"2015-10-21T00:00:00.000000000\",\"2015-10-20T00:00:00.000000000\",\"2015-10-19T00:00:00.000000000\",\"2015-10-18T00:00:00.000000000\",\"2015-10-17T00:00:00.000000000\",\"2015-10-16T00:00:00.000000000\",\"2015-10-15T00:00:00.000000000\",\"2015-10-14T00:00:00.000000000\",\"2015-10-13T00:00:00.000000000\",\"2015-10-12T00:00:00.000000000\",\"2015-10-11T00:00:00.000000000\",\"2015-10-10T00:00:00.000000000\",\"2015-10-09T00:00:00.000000000\",\"2015-10-08T00:00:00.000000000\",\"2015-10-07T00:00:00.000000000\",\"2015-10-06T00:00:00.000000000\",\"2015-10-05T00:00:00.000000000\",\"2015-10-04T00:00:00.000000000\",\"2015-10-03T00:00:00.000000000\",\"2015-10-02T00:00:00.000000000\",\"2015-10-01T00:00:00.000000000\",\"2015-09-30T00:00:00.000000000\",\"2015-09-29T00:00:00.000000000\",\"2015-09-28T00:00:00.000000000\",\"2015-09-27T00:00:00.000000000\",\"2015-09-26T00:00:00.000000000\",\"2015-09-25T00:00:00.000000000\",\"2015-09-24T00:00:00.000000000\",\"2015-09-23T00:00:00.000000000\",\"2015-09-22T00:00:00.000000000\",\"2015-09-21T00:00:00.000000000\",\"2015-09-20T00:00:00.000000000\",\"2015-09-19T00:00:00.000000000\",\"2015-09-18T00:00:00.000000000\",\"2015-09-17T00:00:00.000000000\",\"2015-09-16T00:00:00.000000000\",\"2015-09-15T00:00:00.000000000\",\"2015-09-14T00:00:00.000000000\",\"2015-09-13T00:00:00.000000000\",\"2015-09-12T00:00:00.000000000\",\"2015-09-11T00:00:00.000000000\",\"2015-09-10T00:00:00.000000000\",\"2015-09-09T00:00:00.000000000\",\"2015-09-08T00:00:00.000000000\",\"2015-09-07T00:00:00.000000000\",\"2015-09-06T00:00:00.000000000\",\"2015-09-05T00:00:00.000000000\",\"2015-09-04T00:00:00.000000000\",\"2015-09-03T00:00:00.000000000\",\"2015-09-02T00:00:00.000000000\",\"2015-09-01T00:00:00.000000000\",\"2015-08-31T00:00:00.000000000\",\"2015-08-30T00:00:00.000000000\",\"2015-08-29T00:00:00.000000000\",\"2015-08-28T00:00:00.000000000\",\"2015-08-27T00:00:00.000000000\",\"2015-08-26T00:00:00.000000000\",\"2015-08-25T00:00:00.000000000\",\"2015-08-24T00:00:00.000000000\",\"2015-08-23T00:00:00.000000000\",\"2015-08-22T00:00:00.000000000\",\"2015-08-21T00:00:00.000000000\",\"2015-08-20T00:00:00.000000000\",\"2015-08-19T00:00:00.000000000\",\"2015-08-18T00:00:00.000000000\",\"2015-08-17T00:00:00.000000000\",\"2015-08-16T00:00:00.000000000\",\"2015-08-15T00:00:00.000000000\",\"2015-08-14T00:00:00.000000000\",\"2015-08-13T00:00:00.000000000\",\"2015-08-12T00:00:00.000000000\",\"2015-08-11T00:00:00.000000000\",\"2015-08-10T00:00:00.000000000\",\"2015-08-09T00:00:00.000000000\",\"2015-08-08T00:00:00.000000000\",\"2015-08-07T00:00:00.000000000\",\"2015-08-06T00:00:00.000000000\",\"2015-08-05T00:00:00.000000000\",\"2015-08-04T00:00:00.000000000\",\"2015-08-03T00:00:00.000000000\",\"2015-08-02T00:00:00.000000000\",\"2015-08-01T00:00:00.000000000\",\"2015-07-31T00:00:00.000000000\",\"2015-07-30T00:00:00.000000000\",\"2015-07-29T00:00:00.000000000\",\"2015-07-28T00:00:00.000000000\",\"2015-07-27T00:00:00.000000000\",\"2015-07-26T00:00:00.000000000\",\"2015-07-25T00:00:00.000000000\",\"2015-07-24T00:00:00.000000000\",\"2015-07-23T00:00:00.000000000\",\"2015-07-22T00:00:00.000000000\",\"2015-07-21T00:00:00.000000000\",\"2015-07-20T00:00:00.000000000\",\"2015-07-19T00:00:00.000000000\",\"2015-07-18T00:00:00.000000000\",\"2015-07-17T00:00:00.000000000\",\"2015-07-16T00:00:00.000000000\",\"2015-07-15T00:00:00.000000000\",\"2015-07-14T00:00:00.000000000\",\"2015-07-13T00:00:00.000000000\",\"2015-07-12T00:00:00.000000000\",\"2015-07-11T00:00:00.000000000\",\"2015-07-10T00:00:00.000000000\",\"2015-07-09T00:00:00.000000000\",\"2015-07-08T00:00:00.000000000\",\"2015-07-07T00:00:00.000000000\",\"2015-07-06T00:00:00.000000000\",\"2015-07-05T00:00:00.000000000\",\"2015-07-04T00:00:00.000000000\",\"2015-07-03T00:00:00.000000000\",\"2015-07-02T00:00:00.000000000\",\"2015-07-01T00:00:00.000000000\",\"2015-06-30T00:00:00.000000000\",\"2015-06-29T00:00:00.000000000\",\"2015-06-28T00:00:00.000000000\",\"2015-06-27T00:00:00.000000000\",\"2015-06-26T00:00:00.000000000\",\"2015-06-25T00:00:00.000000000\",\"2015-06-24T00:00:00.000000000\",\"2015-06-23T00:00:00.000000000\",\"2015-06-22T00:00:00.000000000\",\"2015-06-21T00:00:00.000000000\",\"2015-06-20T00:00:00.000000000\",\"2015-06-19T00:00:00.000000000\",\"2015-06-18T00:00:00.000000000\",\"2015-06-17T00:00:00.000000000\",\"2015-06-16T00:00:00.000000000\",\"2015-06-15T00:00:00.000000000\",\"2015-06-14T00:00:00.000000000\",\"2015-06-13T00:00:00.000000000\",\"2015-06-12T00:00:00.000000000\",\"2015-06-11T00:00:00.000000000\",\"2015-06-10T00:00:00.000000000\",\"2015-06-09T00:00:00.000000000\",\"2015-06-08T00:00:00.000000000\",\"2015-06-07T00:00:00.000000000\",\"2015-06-06T00:00:00.000000000\",\"2015-06-05T00:00:00.000000000\",\"2015-06-04T00:00:00.000000000\",\"2015-06-03T00:00:00.000000000\",\"2015-06-02T00:00:00.000000000\",\"2015-06-01T00:00:00.000000000\",\"2015-05-31T00:00:00.000000000\",\"2015-05-30T00:00:00.000000000\",\"2015-05-29T00:00:00.000000000\",\"2015-05-28T00:00:00.000000000\",\"2015-05-27T00:00:00.000000000\",\"2015-05-26T00:00:00.000000000\",\"2015-05-25T00:00:00.000000000\",\"2015-05-24T00:00:00.000000000\",\"2015-05-23T00:00:00.000000000\",\"2015-05-22T00:00:00.000000000\",\"2015-05-21T00:00:00.000000000\",\"2015-05-20T00:00:00.000000000\",\"2015-05-19T00:00:00.000000000\",\"2015-05-18T00:00:00.000000000\",\"2015-05-17T00:00:00.000000000\",\"2015-05-16T00:00:00.000000000\",\"2015-05-15T00:00:00.000000000\",\"2015-05-14T00:00:00.000000000\",\"2015-05-13T00:00:00.000000000\",\"2015-05-12T00:00:00.000000000\",\"2015-05-11T00:00:00.000000000\",\"2015-05-10T00:00:00.000000000\",\"2015-05-09T00:00:00.000000000\",\"2015-05-08T00:00:00.000000000\",\"2015-05-07T00:00:00.000000000\",\"2015-05-06T00:00:00.000000000\",\"2015-05-05T00:00:00.000000000\",\"2015-05-04T00:00:00.000000000\",\"2015-05-03T00:00:00.000000000\",\"2015-05-02T00:00:00.000000000\",\"2015-05-01T00:00:00.000000000\",\"2015-04-30T00:00:00.000000000\",\"2015-04-29T00:00:00.000000000\",\"2015-04-28T00:00:00.000000000\",\"2015-04-27T00:00:00.000000000\",\"2015-04-26T00:00:00.000000000\",\"2015-04-25T00:00:00.000000000\",\"2015-04-24T00:00:00.000000000\",\"2015-04-23T00:00:00.000000000\",\"2015-04-22T00:00:00.000000000\",\"2015-04-21T00:00:00.000000000\",\"2015-04-20T00:00:00.000000000\",\"2015-04-19T00:00:00.000000000\",\"2015-04-18T00:00:00.000000000\",\"2015-04-17T00:00:00.000000000\",\"2015-04-16T00:00:00.000000000\",\"2015-04-15T00:00:00.000000000\",\"2015-04-14T00:00:00.000000000\",\"2015-04-13T00:00:00.000000000\",\"2015-04-12T00:00:00.000000000\",\"2015-04-11T00:00:00.000000000\",\"2015-04-10T00:00:00.000000000\",\"2015-04-09T00:00:00.000000000\",\"2015-04-08T00:00:00.000000000\",\"2015-04-07T00:00:00.000000000\",\"2015-04-06T00:00:00.000000000\",\"2015-04-05T00:00:00.000000000\",\"2015-04-04T00:00:00.000000000\",\"2015-04-03T00:00:00.000000000\",\"2015-04-02T00:00:00.000000000\",\"2015-04-01T00:00:00.000000000\",\"2015-03-31T00:00:00.000000000\",\"2015-03-30T00:00:00.000000000\",\"2015-03-29T00:00:00.000000000\",\"2015-03-28T00:00:00.000000000\",\"2015-03-27T00:00:00.000000000\",\"2015-03-26T00:00:00.000000000\",\"2015-03-25T00:00:00.000000000\",\"2015-03-24T00:00:00.000000000\",\"2015-03-23T00:00:00.000000000\",\"2015-03-22T00:00:00.000000000\",\"2015-03-21T00:00:00.000000000\",\"2015-03-20T00:00:00.000000000\",\"2015-03-19T00:00:00.000000000\",\"2015-03-18T00:00:00.000000000\",\"2015-03-17T00:00:00.000000000\",\"2015-03-16T00:00:00.000000000\",\"2015-03-15T00:00:00.000000000\",\"2015-03-14T00:00:00.000000000\",\"2015-03-13T00:00:00.000000000\",\"2015-03-12T00:00:00.000000000\",\"2015-03-11T00:00:00.000000000\",\"2015-03-10T00:00:00.000000000\",\"2015-03-09T00:00:00.000000000\",\"2015-03-08T00:00:00.000000000\",\"2015-03-07T00:00:00.000000000\",\"2015-03-06T00:00:00.000000000\",\"2015-03-05T00:00:00.000000000\",\"2015-03-04T00:00:00.000000000\",\"2015-03-03T00:00:00.000000000\",\"2015-03-02T00:00:00.000000000\",\"2015-03-01T00:00:00.000000000\",\"2015-02-28T00:00:00.000000000\",\"2015-02-27T00:00:00.000000000\",\"2015-02-26T00:00:00.000000000\",\"2015-02-25T00:00:00.000000000\",\"2015-02-24T00:00:00.000000000\",\"2015-02-23T00:00:00.000000000\",\"2015-02-22T00:00:00.000000000\",\"2015-02-21T00:00:00.000000000\",\"2015-02-20T00:00:00.000000000\",\"2015-02-19T00:00:00.000000000\",\"2015-02-18T00:00:00.000000000\",\"2015-02-17T00:00:00.000000000\",\"2015-02-16T00:00:00.000000000\",\"2015-02-15T00:00:00.000000000\",\"2015-02-14T00:00:00.000000000\",\"2015-02-13T00:00:00.000000000\",\"2015-02-12T00:00:00.000000000\",\"2015-02-11T00:00:00.000000000\",\"2015-02-10T00:00:00.000000000\",\"2015-02-09T00:00:00.000000000\",\"2015-02-08T00:00:00.000000000\",\"2015-02-07T00:00:00.000000000\",\"2015-02-06T00:00:00.000000000\",\"2015-02-05T00:00:00.000000000\",\"2015-02-04T00:00:00.000000000\",\"2015-02-03T00:00:00.000000000\",\"2015-02-02T00:00:00.000000000\",\"2015-02-01T00:00:00.000000000\",\"2015-01-31T00:00:00.000000000\",\"2015-01-30T00:00:00.000000000\",\"2015-01-29T00:00:00.000000000\",\"2015-01-28T00:00:00.000000000\",\"2015-01-27T00:00:00.000000000\",\"2015-01-26T00:00:00.000000000\",\"2015-01-25T00:00:00.000000000\",\"2015-01-24T00:00:00.000000000\",\"2015-01-23T00:00:00.000000000\",\"2015-01-22T00:00:00.000000000\",\"2015-01-21T00:00:00.000000000\",\"2015-01-20T00:00:00.000000000\",\"2015-01-19T00:00:00.000000000\",\"2015-01-18T00:00:00.000000000\",\"2015-01-17T00:00:00.000000000\",\"2015-01-16T00:00:00.000000000\",\"2015-01-15T00:00:00.000000000\",\"2015-01-14T00:00:00.000000000\",\"2015-01-13T00:00:00.000000000\",\"2015-01-12T00:00:00.000000000\",\"2015-01-11T00:00:00.000000000\",\"2015-01-10T00:00:00.000000000\",\"2015-01-09T00:00:00.000000000\",\"2015-01-08T00:00:00.000000000\",\"2015-01-07T00:00:00.000000000\",\"2015-01-06T00:00:00.000000000\",\"2015-01-05T00:00:00.000000000\",\"2015-01-04T00:00:00.000000000\",\"2015-01-03T00:00:00.000000000\",\"2015-01-02T00:00:00.000000000\",\"2015-01-01T00:00:00.000000000\",\"2014-12-31T00:00:00.000000000\",\"2014-12-30T00:00:00.000000000\",\"2014-12-29T00:00:00.000000000\",\"2014-12-28T00:00:00.000000000\",\"2014-12-27T00:00:00.000000000\",\"2014-12-26T00:00:00.000000000\",\"2014-12-25T00:00:00.000000000\",\"2014-12-24T00:00:00.000000000\",\"2014-12-23T00:00:00.000000000\",\"2014-12-22T00:00:00.000000000\",\"2014-12-21T00:00:00.000000000\",\"2014-12-20T00:00:00.000000000\",\"2014-12-19T00:00:00.000000000\",\"2014-12-18T00:00:00.000000000\",\"2014-12-17T00:00:00.000000000\",\"2014-12-16T00:00:00.000000000\",\"2014-12-15T00:00:00.000000000\",\"2014-12-14T00:00:00.000000000\",\"2014-12-13T00:00:00.000000000\",\"2014-12-12T00:00:00.000000000\",\"2014-12-11T00:00:00.000000000\",\"2014-12-10T00:00:00.000000000\",\"2014-12-09T00:00:00.000000000\",\"2014-12-08T00:00:00.000000000\",\"2014-12-07T00:00:00.000000000\",\"2014-12-06T00:00:00.000000000\",\"2014-12-05T00:00:00.000000000\",\"2014-12-04T00:00:00.000000000\",\"2014-12-03T00:00:00.000000000\",\"2014-12-02T00:00:00.000000000\",\"2014-12-01T00:00:00.000000000\",\"2014-11-30T00:00:00.000000000\",\"2014-11-29T00:00:00.000000000\",\"2014-11-28T00:00:00.000000000\",\"2014-11-27T00:00:00.000000000\",\"2014-11-26T00:00:00.000000000\",\"2014-11-25T00:00:00.000000000\",\"2014-11-24T00:00:00.000000000\",\"2014-11-23T00:00:00.000000000\",\"2014-11-22T00:00:00.000000000\",\"2014-11-21T00:00:00.000000000\",\"2014-11-20T00:00:00.000000000\",\"2014-11-19T00:00:00.000000000\",\"2014-11-18T00:00:00.000000000\",\"2014-11-17T00:00:00.000000000\",\"2014-11-16T00:00:00.000000000\",\"2014-11-15T00:00:00.000000000\",\"2014-11-14T00:00:00.000000000\",\"2014-11-13T00:00:00.000000000\",\"2014-11-12T00:00:00.000000000\",\"2014-11-11T00:00:00.000000000\",\"2014-11-10T00:00:00.000000000\",\"2014-11-09T00:00:00.000000000\",\"2014-11-08T00:00:00.000000000\",\"2014-11-07T00:00:00.000000000\",\"2014-11-06T00:00:00.000000000\",\"2014-11-05T00:00:00.000000000\",\"2014-11-04T00:00:00.000000000\",\"2014-11-03T00:00:00.000000000\",\"2014-11-02T00:00:00.000000000\",\"2014-11-01T00:00:00.000000000\",\"2014-10-31T00:00:00.000000000\",\"2014-10-30T00:00:00.000000000\",\"2014-10-29T00:00:00.000000000\",\"2014-10-28T00:00:00.000000000\",\"2014-10-27T00:00:00.000000000\",\"2014-10-26T00:00:00.000000000\",\"2014-10-25T00:00:00.000000000\",\"2014-10-24T00:00:00.000000000\",\"2014-10-23T00:00:00.000000000\",\"2014-10-22T00:00:00.000000000\",\"2014-10-21T00:00:00.000000000\",\"2014-10-20T00:00:00.000000000\",\"2014-10-19T00:00:00.000000000\",\"2014-10-18T00:00:00.000000000\",\"2014-10-17T00:00:00.000000000\",\"2014-10-16T00:00:00.000000000\",\"2014-10-15T00:00:00.000000000\",\"2014-10-14T00:00:00.000000000\",\"2014-10-13T00:00:00.000000000\",\"2014-10-12T00:00:00.000000000\",\"2014-10-11T00:00:00.000000000\",\"2014-10-10T00:00:00.000000000\",\"2014-10-09T00:00:00.000000000\",\"2014-10-08T00:00:00.000000000\",\"2014-10-07T00:00:00.000000000\",\"2014-10-06T00:00:00.000000000\",\"2014-10-05T00:00:00.000000000\",\"2014-10-04T00:00:00.000000000\",\"2014-10-03T00:00:00.000000000\",\"2014-10-02T00:00:00.000000000\",\"2014-10-01T00:00:00.000000000\",\"2014-09-30T00:00:00.000000000\",\"2014-09-29T00:00:00.000000000\",\"2014-09-28T00:00:00.000000000\",\"2014-09-27T00:00:00.000000000\",\"2014-09-26T00:00:00.000000000\",\"2014-09-25T00:00:00.000000000\",\"2014-09-24T00:00:00.000000000\",\"2014-09-23T00:00:00.000000000\",\"2014-09-22T00:00:00.000000000\",\"2014-09-21T00:00:00.000000000\",\"2014-09-20T00:00:00.000000000\",\"2014-09-19T00:00:00.000000000\",\"2014-09-18T00:00:00.000000000\",\"2014-09-17T00:00:00.000000000\",\"2014-09-16T00:00:00.000000000\",\"2014-09-15T00:00:00.000000000\",\"2014-09-14T00:00:00.000000000\",\"2014-09-13T00:00:00.000000000\",\"2014-09-12T00:00:00.000000000\",\"2014-09-11T00:00:00.000000000\",\"2014-09-10T00:00:00.000000000\",\"2014-09-09T00:00:00.000000000\",\"2014-09-08T00:00:00.000000000\",\"2014-09-07T00:00:00.000000000\",\"2014-09-06T00:00:00.000000000\",\"2014-09-05T00:00:00.000000000\",\"2014-09-04T00:00:00.000000000\",\"2014-09-03T00:00:00.000000000\",\"2014-09-02T00:00:00.000000000\",\"2014-09-01T00:00:00.000000000\",\"2014-08-31T00:00:00.000000000\",\"2014-08-30T00:00:00.000000000\",\"2014-08-29T00:00:00.000000000\",\"2014-08-28T00:00:00.000000000\",\"2014-08-27T00:00:00.000000000\",\"2014-08-26T00:00:00.000000000\",\"2014-08-25T00:00:00.000000000\",\"2014-08-24T00:00:00.000000000\",\"2014-08-23T00:00:00.000000000\",\"2014-08-22T00:00:00.000000000\",\"2014-08-21T00:00:00.000000000\",\"2014-08-20T00:00:00.000000000\",\"2014-08-19T00:00:00.000000000\",\"2014-08-18T00:00:00.000000000\",\"2014-08-17T00:00:00.000000000\",\"2014-08-16T00:00:00.000000000\",\"2014-08-15T00:00:00.000000000\",\"2014-08-14T00:00:00.000000000\",\"2014-08-13T00:00:00.000000000\",\"2014-08-12T00:00:00.000000000\",\"2014-08-11T00:00:00.000000000\",\"2014-08-10T00:00:00.000000000\",\"2014-08-09T00:00:00.000000000\",\"2014-08-08T00:00:00.000000000\",\"2014-08-07T00:00:00.000000000\",\"2014-08-06T00:00:00.000000000\",\"2014-08-05T00:00:00.000000000\",\"2014-08-04T00:00:00.000000000\",\"2014-08-03T00:00:00.000000000\",\"2014-08-02T00:00:00.000000000\",\"2014-08-01T00:00:00.000000000\",\"2014-07-31T00:00:00.000000000\",\"2014-07-30T00:00:00.000000000\",\"2014-07-29T00:00:00.000000000\",\"2014-07-28T00:00:00.000000000\",\"2014-07-27T00:00:00.000000000\",\"2014-07-26T00:00:00.000000000\",\"2014-07-25T00:00:00.000000000\",\"2014-07-24T00:00:00.000000000\",\"2014-07-23T00:00:00.000000000\",\"2014-07-22T00:00:00.000000000\",\"2014-07-21T00:00:00.000000000\",\"2014-07-20T00:00:00.000000000\",\"2014-07-19T00:00:00.000000000\",\"2014-07-18T00:00:00.000000000\",\"2014-07-17T00:00:00.000000000\",\"2014-07-16T00:00:00.000000000\",\"2014-07-15T00:00:00.000000000\",\"2014-07-14T00:00:00.000000000\",\"2014-07-13T00:00:00.000000000\",\"2014-07-12T00:00:00.000000000\",\"2014-07-11T00:00:00.000000000\",\"2014-07-10T00:00:00.000000000\",\"2014-07-09T00:00:00.000000000\",\"2014-07-08T00:00:00.000000000\",\"2014-07-07T00:00:00.000000000\",\"2014-07-06T00:00:00.000000000\",\"2014-07-05T00:00:00.000000000\",\"2014-07-04T00:00:00.000000000\",\"2014-07-03T00:00:00.000000000\",\"2014-07-02T00:00:00.000000000\",\"2014-07-01T00:00:00.000000000\",\"2014-06-30T00:00:00.000000000\",\"2014-06-29T00:00:00.000000000\",\"2014-06-28T00:00:00.000000000\",\"2014-06-27T00:00:00.000000000\",\"2014-06-26T00:00:00.000000000\",\"2014-06-25T00:00:00.000000000\",\"2014-06-24T00:00:00.000000000\",\"2014-06-23T00:00:00.000000000\",\"2014-06-22T00:00:00.000000000\",\"2014-06-21T00:00:00.000000000\",\"2014-06-20T00:00:00.000000000\",\"2014-06-19T00:00:00.000000000\",\"2014-06-18T00:00:00.000000000\",\"2014-06-17T00:00:00.000000000\",\"2014-06-16T00:00:00.000000000\",\"2014-06-15T00:00:00.000000000\",\"2014-06-14T00:00:00.000000000\",\"2014-06-13T00:00:00.000000000\",\"2014-06-12T00:00:00.000000000\",\"2014-06-11T00:00:00.000000000\",\"2014-06-10T00:00:00.000000000\",\"2014-06-09T00:00:00.000000000\",\"2014-06-08T00:00:00.000000000\",\"2014-06-07T00:00:00.000000000\",\"2014-06-06T00:00:00.000000000\",\"2014-06-05T00:00:00.000000000\",\"2014-06-04T00:00:00.000000000\",\"2014-06-03T00:00:00.000000000\",\"2014-06-02T00:00:00.000000000\",\"2014-06-01T00:00:00.000000000\",\"2014-05-31T00:00:00.000000000\",\"2014-05-30T00:00:00.000000000\",\"2014-05-29T00:00:00.000000000\",\"2014-05-28T00:00:00.000000000\",\"2014-05-27T00:00:00.000000000\",\"2014-05-26T00:00:00.000000000\",\"2014-05-25T00:00:00.000000000\",\"2014-05-24T00:00:00.000000000\",\"2014-05-23T00:00:00.000000000\",\"2014-05-22T00:00:00.000000000\",\"2014-05-21T00:00:00.000000000\",\"2014-05-20T00:00:00.000000000\",\"2014-05-19T00:00:00.000000000\",\"2014-05-18T00:00:00.000000000\",\"2014-05-17T00:00:00.000000000\",\"2014-05-16T00:00:00.000000000\",\"2014-05-15T00:00:00.000000000\",\"2014-05-14T00:00:00.000000000\",\"2014-05-13T00:00:00.000000000\",\"2014-05-12T00:00:00.000000000\",\"2014-05-11T00:00:00.000000000\",\"2014-05-10T00:00:00.000000000\",\"2014-05-09T00:00:00.000000000\",\"2014-05-08T00:00:00.000000000\",\"2014-05-07T00:00:00.000000000\",\"2014-05-06T00:00:00.000000000\",\"2014-05-05T00:00:00.000000000\",\"2014-05-04T00:00:00.000000000\",\"2014-05-03T00:00:00.000000000\",\"2014-05-02T00:00:00.000000000\",\"2014-05-01T00:00:00.000000000\",\"2014-04-30T00:00:00.000000000\",\"2014-04-29T00:00:00.000000000\",\"2014-04-28T00:00:00.000000000\",\"2014-04-27T00:00:00.000000000\",\"2014-04-26T00:00:00.000000000\",\"2014-04-25T00:00:00.000000000\",\"2014-04-24T00:00:00.000000000\",\"2014-04-23T00:00:00.000000000\",\"2014-04-22T00:00:00.000000000\",\"2014-04-21T00:00:00.000000000\",\"2014-04-20T00:00:00.000000000\",\"2014-04-19T00:00:00.000000000\",\"2014-04-18T00:00:00.000000000\",\"2014-04-17T00:00:00.000000000\",\"2014-04-16T00:00:00.000000000\",\"2014-04-15T00:00:00.000000000\",\"2014-04-14T00:00:00.000000000\",\"2014-04-13T00:00:00.000000000\",\"2014-04-12T00:00:00.000000000\",\"2014-04-11T00:00:00.000000000\",\"2014-04-10T00:00:00.000000000\",\"2014-04-09T00:00:00.000000000\",\"2014-04-08T00:00:00.000000000\",\"2014-04-07T00:00:00.000000000\",\"2014-04-06T00:00:00.000000000\",\"2014-04-05T00:00:00.000000000\",\"2014-04-04T00:00:00.000000000\",\"2014-04-03T00:00:00.000000000\",\"2014-04-02T00:00:00.000000000\",\"2014-04-01T00:00:00.000000000\",\"2014-03-31T00:00:00.000000000\",\"2014-03-30T00:00:00.000000000\",\"2014-03-29T00:00:00.000000000\",\"2014-03-28T00:00:00.000000000\",\"2014-03-27T00:00:00.000000000\",\"2014-03-26T00:00:00.000000000\",\"2014-03-25T00:00:00.000000000\",\"2014-03-24T00:00:00.000000000\",\"2014-03-23T00:00:00.000000000\",\"2014-03-22T00:00:00.000000000\",\"2014-03-21T00:00:00.000000000\",\"2014-03-20T00:00:00.000000000\",\"2014-03-19T00:00:00.000000000\",\"2014-03-18T00:00:00.000000000\",\"2014-03-17T00:00:00.000000000\",\"2014-03-16T00:00:00.000000000\",\"2014-03-15T00:00:00.000000000\",\"2014-03-14T00:00:00.000000000\",\"2014-03-13T00:00:00.000000000\",\"2014-03-12T00:00:00.000000000\",\"2014-03-11T00:00:00.000000000\",\"2014-03-10T00:00:00.000000000\",\"2014-03-09T00:00:00.000000000\",\"2014-03-08T00:00:00.000000000\",\"2014-03-07T00:00:00.000000000\",\"2014-03-06T00:00:00.000000000\",\"2014-03-05T00:00:00.000000000\",\"2014-03-04T00:00:00.000000000\",\"2014-03-03T00:00:00.000000000\",\"2014-03-02T00:00:00.000000000\",\"2014-03-01T00:00:00.000000000\",\"2014-02-28T00:00:00.000000000\",\"2014-02-27T00:00:00.000000000\",\"2014-02-26T00:00:00.000000000\",\"2014-02-25T00:00:00.000000000\",\"2014-02-24T00:00:00.000000000\",\"2014-02-23T00:00:00.000000000\",\"2014-02-22T00:00:00.000000000\",\"2014-02-21T00:00:00.000000000\",\"2014-02-20T00:00:00.000000000\",\"2014-02-19T00:00:00.000000000\",\"2014-02-18T00:00:00.000000000\",\"2014-02-17T00:00:00.000000000\",\"2014-02-16T00:00:00.000000000\",\"2014-02-15T00:00:00.000000000\",\"2014-02-14T00:00:00.000000000\",\"2014-02-13T00:00:00.000000000\",\"2014-02-12T00:00:00.000000000\",\"2014-02-11T00:00:00.000000000\",\"2014-02-10T00:00:00.000000000\",\"2014-02-09T00:00:00.000000000\",\"2014-02-08T00:00:00.000000000\",\"2014-02-07T00:00:00.000000000\",\"2014-02-06T00:00:00.000000000\",\"2014-02-05T00:00:00.000000000\",\"2014-02-04T00:00:00.000000000\",\"2014-02-03T00:00:00.000000000\",\"2014-02-02T00:00:00.000000000\",\"2014-02-01T00:00:00.000000000\",\"2014-01-31T00:00:00.000000000\",\"2014-01-30T00:00:00.000000000\",\"2014-01-29T00:00:00.000000000\",\"2014-01-28T00:00:00.000000000\",\"2014-01-27T00:00:00.000000000\",\"2014-01-26T00:00:00.000000000\",\"2014-01-25T00:00:00.000000000\",\"2014-01-24T00:00:00.000000000\",\"2014-01-23T00:00:00.000000000\",\"2014-01-22T00:00:00.000000000\",\"2014-01-21T00:00:00.000000000\",\"2014-01-20T00:00:00.000000000\",\"2014-01-19T00:00:00.000000000\",\"2014-01-18T00:00:00.000000000\",\"2014-01-17T00:00:00.000000000\",\"2014-01-16T00:00:00.000000000\",\"2014-01-15T00:00:00.000000000\",\"2014-01-14T00:00:00.000000000\",\"2014-01-13T00:00:00.000000000\",\"2014-01-12T00:00:00.000000000\",\"2014-01-11T00:00:00.000000000\",\"2014-01-10T00:00:00.000000000\",\"2014-01-09T00:00:00.000000000\",\"2014-01-08T00:00:00.000000000\",\"2014-01-07T00:00:00.000000000\",\"2014-01-06T00:00:00.000000000\",\"2014-01-05T00:00:00.000000000\",\"2014-01-04T00:00:00.000000000\",\"2014-01-03T00:00:00.000000000\",\"2014-01-02T00:00:00.000000000\",\"2014-01-01T00:00:00.000000000\",\"2013-12-31T00:00:00.000000000\",\"2013-12-30T00:00:00.000000000\",\"2013-12-29T00:00:00.000000000\",\"2013-12-28T00:00:00.000000000\",\"2013-12-27T00:00:00.000000000\",\"2013-12-26T00:00:00.000000000\",\"2013-12-25T00:00:00.000000000\",\"2013-12-24T00:00:00.000000000\",\"2013-12-23T00:00:00.000000000\",\"2013-12-22T00:00:00.000000000\",\"2013-12-21T00:00:00.000000000\",\"2013-12-20T00:00:00.000000000\",\"2013-12-19T00:00:00.000000000\",\"2013-12-18T00:00:00.000000000\",\"2013-12-17T00:00:00.000000000\",\"2013-12-16T00:00:00.000000000\",\"2013-12-15T00:00:00.000000000\",\"2013-12-14T00:00:00.000000000\",\"2013-12-13T00:00:00.000000000\",\"2013-12-12T00:00:00.000000000\",\"2013-12-11T00:00:00.000000000\",\"2013-12-10T00:00:00.000000000\",\"2013-12-09T00:00:00.000000000\",\"2013-12-08T00:00:00.000000000\",\"2013-12-07T00:00:00.000000000\",\"2013-12-06T00:00:00.000000000\",\"2013-12-05T00:00:00.000000000\",\"2013-12-04T00:00:00.000000000\",\"2013-12-03T00:00:00.000000000\",\"2013-12-02T00:00:00.000000000\",\"2013-12-01T00:00:00.000000000\",\"2013-11-30T00:00:00.000000000\",\"2013-11-29T00:00:00.000000000\",\"2013-11-28T00:00:00.000000000\",\"2013-11-27T00:00:00.000000000\",\"2013-11-26T00:00:00.000000000\",\"2013-11-25T00:00:00.000000000\",\"2013-11-24T00:00:00.000000000\",\"2013-11-23T00:00:00.000000000\",\"2013-11-22T00:00:00.000000000\",\"2013-11-21T00:00:00.000000000\",\"2013-11-20T00:00:00.000000000\",\"2013-11-19T00:00:00.000000000\",\"2013-11-18T00:00:00.000000000\",\"2013-11-17T00:00:00.000000000\",\"2013-11-16T00:00:00.000000000\",\"2013-11-15T00:00:00.000000000\",\"2013-11-14T00:00:00.000000000\",\"2013-11-13T00:00:00.000000000\",\"2013-11-12T00:00:00.000000000\",\"2013-11-11T00:00:00.000000000\",\"2013-11-10T00:00:00.000000000\",\"2013-11-09T00:00:00.000000000\",\"2013-11-08T00:00:00.000000000\",\"2013-11-07T00:00:00.000000000\",\"2013-11-06T00:00:00.000000000\",\"2013-11-05T00:00:00.000000000\",\"2013-11-04T00:00:00.000000000\",\"2013-11-03T00:00:00.000000000\",\"2013-11-02T00:00:00.000000000\",\"2013-11-01T00:00:00.000000000\",\"2013-10-31T00:00:00.000000000\",\"2013-10-30T00:00:00.000000000\",\"2013-10-29T00:00:00.000000000\",\"2013-10-28T00:00:00.000000000\",\"2013-10-27T00:00:00.000000000\",\"2013-10-26T00:00:00.000000000\",\"2013-10-25T00:00:00.000000000\",\"2013-10-24T00:00:00.000000000\",\"2013-10-23T00:00:00.000000000\",\"2013-10-22T00:00:00.000000000\",\"2013-10-21T00:00:00.000000000\",\"2013-10-20T00:00:00.000000000\",\"2013-10-19T00:00:00.000000000\",\"2013-10-18T00:00:00.000000000\",\"2013-10-17T00:00:00.000000000\",\"2013-10-16T00:00:00.000000000\",\"2013-10-15T00:00:00.000000000\",\"2013-10-14T00:00:00.000000000\",\"2013-10-13T00:00:00.000000000\",\"2013-10-12T00:00:00.000000000\",\"2013-10-11T00:00:00.000000000\",\"2013-10-10T00:00:00.000000000\",\"2013-10-09T00:00:00.000000000\",\"2013-10-08T00:00:00.000000000\",\"2013-10-07T00:00:00.000000000\",\"2013-10-06T00:00:00.000000000\",\"2013-10-05T00:00:00.000000000\",\"2013-10-04T00:00:00.000000000\",\"2013-10-03T00:00:00.000000000\",\"2013-10-02T00:00:00.000000000\",\"2013-10-01T00:00:00.000000000\",\"2013-09-30T00:00:00.000000000\",\"2013-09-29T00:00:00.000000000\",\"2013-09-28T00:00:00.000000000\",\"2013-09-27T00:00:00.000000000\",\"2013-09-26T00:00:00.000000000\",\"2013-09-25T00:00:00.000000000\",\"2013-09-24T00:00:00.000000000\",\"2013-09-23T00:00:00.000000000\",\"2013-09-22T00:00:00.000000000\",\"2013-09-21T00:00:00.000000000\",\"2013-09-20T00:00:00.000000000\",\"2013-09-19T00:00:00.000000000\",\"2013-09-18T00:00:00.000000000\",\"2013-09-17T00:00:00.000000000\",\"2013-09-16T00:00:00.000000000\",\"2013-09-15T00:00:00.000000000\",\"2013-09-14T00:00:00.000000000\",\"2013-09-13T00:00:00.000000000\",\"2013-09-12T00:00:00.000000000\",\"2013-09-11T00:00:00.000000000\",\"2013-09-10T00:00:00.000000000\",\"2013-09-09T00:00:00.000000000\",\"2013-09-08T00:00:00.000000000\",\"2013-09-07T00:00:00.000000000\",\"2013-09-06T00:00:00.000000000\",\"2013-09-05T00:00:00.000000000\",\"2013-09-04T00:00:00.000000000\",\"2013-09-03T00:00:00.000000000\",\"2013-09-02T00:00:00.000000000\",\"2013-09-01T00:00:00.000000000\",\"2013-08-31T00:00:00.000000000\",\"2013-08-30T00:00:00.000000000\",\"2013-08-29T00:00:00.000000000\",\"2013-08-28T00:00:00.000000000\",\"2013-08-27T00:00:00.000000000\",\"2013-08-26T00:00:00.000000000\",\"2013-08-25T00:00:00.000000000\",\"2013-08-24T00:00:00.000000000\",\"2013-08-23T00:00:00.000000000\",\"2013-08-22T00:00:00.000000000\",\"2013-08-21T00:00:00.000000000\",\"2013-08-20T00:00:00.000000000\",\"2013-08-19T00:00:00.000000000\",\"2013-08-18T00:00:00.000000000\",\"2013-08-17T00:00:00.000000000\",\"2013-08-16T00:00:00.000000000\",\"2013-08-15T00:00:00.000000000\",\"2013-08-14T00:00:00.000000000\",\"2013-08-13T00:00:00.000000000\",\"2013-08-12T00:00:00.000000000\",\"2013-08-11T00:00:00.000000000\",\"2013-08-10T00:00:00.000000000\",\"2013-08-09T00:00:00.000000000\",\"2013-08-08T00:00:00.000000000\",\"2013-08-07T00:00:00.000000000\",\"2013-08-06T00:00:00.000000000\",\"2013-08-05T00:00:00.000000000\",\"2013-08-04T00:00:00.000000000\",\"2013-08-03T00:00:00.000000000\",\"2013-08-02T00:00:00.000000000\",\"2013-08-01T00:00:00.000000000\",\"2013-07-31T00:00:00.000000000\",\"2013-07-30T00:00:00.000000000\",\"2013-07-29T00:00:00.000000000\",\"2013-07-28T00:00:00.000000000\",\"2013-07-27T00:00:00.000000000\",\"2013-07-26T00:00:00.000000000\",\"2013-07-25T00:00:00.000000000\",\"2013-07-24T00:00:00.000000000\",\"2013-07-23T00:00:00.000000000\",\"2013-07-22T00:00:00.000000000\",\"2013-07-21T00:00:00.000000000\",\"2013-07-20T00:00:00.000000000\",\"2013-07-19T00:00:00.000000000\",\"2013-07-18T00:00:00.000000000\",\"2013-07-17T00:00:00.000000000\",\"2013-07-16T00:00:00.000000000\",\"2013-07-15T00:00:00.000000000\",\"2013-07-14T00:00:00.000000000\",\"2013-07-13T00:00:00.000000000\",\"2013-07-12T00:00:00.000000000\",\"2013-07-11T00:00:00.000000000\",\"2013-07-10T00:00:00.000000000\",\"2013-07-09T00:00:00.000000000\",\"2013-07-08T00:00:00.000000000\",\"2013-07-07T00:00:00.000000000\",\"2013-07-06T00:00:00.000000000\",\"2013-07-05T00:00:00.000000000\",\"2013-07-04T00:00:00.000000000\",\"2013-07-03T00:00:00.000000000\",\"2013-07-02T00:00:00.000000000\",\"2013-07-01T00:00:00.000000000\",\"2013-06-30T00:00:00.000000000\",\"2013-06-29T00:00:00.000000000\",\"2013-06-28T00:00:00.000000000\",\"2013-06-27T00:00:00.000000000\",\"2013-06-26T00:00:00.000000000\",\"2013-06-25T00:00:00.000000000\",\"2013-06-24T00:00:00.000000000\",\"2013-06-23T00:00:00.000000000\",\"2013-06-22T00:00:00.000000000\",\"2013-06-21T00:00:00.000000000\",\"2013-06-20T00:00:00.000000000\",\"2013-06-19T00:00:00.000000000\",\"2013-06-18T00:00:00.000000000\",\"2013-06-17T00:00:00.000000000\",\"2013-06-16T00:00:00.000000000\",\"2013-06-15T00:00:00.000000000\",\"2013-06-14T00:00:00.000000000\",\"2013-06-13T00:00:00.000000000\",\"2013-06-12T00:00:00.000000000\",\"2013-06-11T00:00:00.000000000\",\"2013-06-10T00:00:00.000000000\",\"2013-06-09T00:00:00.000000000\",\"2013-06-08T00:00:00.000000000\",\"2013-06-07T00:00:00.000000000\",\"2013-06-06T00:00:00.000000000\",\"2013-06-05T00:00:00.000000000\",\"2013-06-04T00:00:00.000000000\",\"2013-06-03T00:00:00.000000000\",\"2013-06-02T00:00:00.000000000\",\"2013-06-01T00:00:00.000000000\",\"2013-05-31T00:00:00.000000000\",\"2013-05-30T00:00:00.000000000\",\"2013-05-29T00:00:00.000000000\",\"2013-05-28T00:00:00.000000000\",\"2013-05-27T00:00:00.000000000\",\"2013-05-26T00:00:00.000000000\",\"2013-05-25T00:00:00.000000000\",\"2013-05-24T00:00:00.000000000\",\"2013-05-23T00:00:00.000000000\",\"2013-05-22T00:00:00.000000000\",\"2013-05-21T00:00:00.000000000\",\"2013-05-20T00:00:00.000000000\",\"2013-05-19T00:00:00.000000000\",\"2013-05-18T00:00:00.000000000\",\"2013-05-17T00:00:00.000000000\",\"2013-05-16T00:00:00.000000000\",\"2013-05-15T00:00:00.000000000\",\"2013-05-14T00:00:00.000000000\",\"2013-05-13T00:00:00.000000000\",\"2013-05-12T00:00:00.000000000\",\"2013-05-11T00:00:00.000000000\",\"2013-05-10T00:00:00.000000000\",\"2013-05-09T00:00:00.000000000\",\"2013-05-08T00:00:00.000000000\",\"2013-05-07T00:00:00.000000000\",\"2013-05-06T00:00:00.000000000\",\"2013-05-05T00:00:00.000000000\",\"2013-05-04T00:00:00.000000000\",\"2013-05-03T00:00:00.000000000\",\"2013-05-02T00:00:00.000000000\",\"2013-05-01T00:00:00.000000000\",\"2013-04-30T00:00:00.000000000\",\"2013-04-29T00:00:00.000000000\",\"2013-04-28T00:00:00.000000000\"],\"xaxis\":\"x\",\"y\":{\"dtype\":\"f8\",\"bdata\":\"AAAAAAAA+H\\u002fgsXroTgqlv8CFjmZs04a\\u002fAP\\u002fCjgQCnz\\u002fQGTnNUwOpv1ADP1ZqRqu\\u002fAKUSagkKkz8w5JCqUbmxP8BKz58TL4K\\u002fwFgSEd7lnT+gCkNqE\\u002fCpvwAOxtPqwaw\\u002f1I0KcZC4yL8AOBc7vHiUP3DWeDO2+aO\\u002fTEUFtKkmwb+gQBrLJVGiP+DKZZzSB74\\u002foHbDQUaOrD9A0XUClceRP4DBazeDD5q\\u002fAMPGGb91jj\\u002fAaUfHInuvP0Ax4ShagpU\\u002fIA3GSKT6lL9AlSXobUaiPwAVibTzoWS\\u002fAPCk+3yhIb\\u002fAu5F+M5WNvyCjRNHg\\u002f5a\\u002fwGblVeRhnb+AFII6WXiTP8CgHX5uI5g\\u002fAGfzW2qbjD+AAkZ+88SBv2B3U5wDsJ2\\u002fwGX8HxXspj8Ahfj6iot+PyCHfuuzuqo\\u002fAGD+iaV4jb+ASIljgrF4vwANWZt\\u002f5Yg\\u002f8HU9RdDdqL+gonTCylWQvyAes97rnaU\\u002fwP+7KPd4qr\\u002fg+9ZhgPKVv8CLfbv5XJE\\u002fQBUlZgeEtT\\u002fApMauHKGVv6Ac9iLaurw\\u002fABRpZxTNbL9AG2z7TIWlv4DjSaqPYnq\\u002f4FrLL8LPmr8ALZppe46oP1D81tTOiq+\\u002f8FO3b46ssL8AcI68NRdXP8BjO6MR0oW\\u002foCfZJuSYoL\\u002fQ913wK9Spv6Coc77O16i\\u002foE0zuW7coj+gWxGS5KemvwCwZy1Pxau\\u002f8Os1MQmJtD9AZcfUn9enP0BnLArczK4\\u002fEMn5uEbRqb\\u002fQ5nFPTziwvwD4FsuhJK+\\u002fwHmw4WbWlT8wLqeZ4dOnv2B12NkihKm\\u002fIDstZ+nemr9AogkrsiGtvwAyio1IzGI\\u002fQOdbzfbBpD8AYM76YR1iv3CkSe064qa\\u002fwI2P6px1sj9A3envXwShv6C84GgpNJK\\u002fIJhyw1iskr\\u002fwgMkR5s+yvwBLHl7X+Ia\\u002fQDB\\u002fxRFKjr+AYwO9BGmHvyC1CziAr5+\\u002f4BPBALmcmb9gucWXRgGWv2D4Sj4WjKq\\u002fYDUxDw3Uk7+Ak+JHbHRwvwA4s2D\\u002fHE8\\u002fgK5TlgF7nL9A5OfXR+yIv4BXnK9O04i\\u002fUMGUiwuWob9AID84JMiUP0DRjMjcD4C\\u002fAJmVhxGQdz8A1s+CPU+PvwBcV69wrlI\\u002fgCJ7eboEjr8AlW1iUNGCv4AfESQ5CoK\\u002fACBJy5Nlcb8AnLVc02pYP8BAm2QmOps\\u002fABDT\\u002fHyqbz9A+vCCaWOOvwAQC3sObUQ\\u002fACn+xhuNhL8AuLy4zHhKPwALTzPGHXQ\\u002foLk3JNcQqb8ADW0FKNh+P4CndWF9FYM\\u002f8KTxRaGjor\\u002fAgt24ESKUvwAxEjlUgoC\\u002fMNtxZDGrpb8AkWheEQSLPwD\\u002f\\u002foxqR3w\\u002fAOr1X4SXVb9otBZFQVmzvwBteaI1onk\\u002foD2+MeuOor+wB3KEJ5m7PwAlUAq4zYQ\\u002fQEJw3RlssT+gaw7EbEyuvyD4mLIM\\u002fZC\\u002fgFvMjMoSr78gQeWkj53AP6A20jHEYLQ\\u002fQJUtinujqj+A1vne939\\u002fvwDncBGosHq\\u002fgDlfYK2Fgb8gONT7LhijvxCOkpIavam\\u002foHb2t+dzsD8AzTh+2ZSgvzCbsX3iXrA\\u002foFlj0jOgpD+ACTtN+19yvwCs5sC\\u002fWIO\\u002fALVBeK0vkD9AGf\\u002fiZkKTv+CTfDonVpe\\u002f4NTkaunPob8AAAAAAAAAAIANijCnoom\\u002fgBkZ\\u002fIXFkr9APsfUsraaPwDyjgAgSni\\u002fcIsBazqgpb8AThH9eWBfv3DC3zLeNqC\\u002fwAae5RJynr8AyXm9aZp5PwCQdT1\\u002f5H+\\u002fIJGysBxfkr+ArB\\u002fhpuSTvwB5UtoI02e\\u002fgPF+XdBbjL+AexphuaeBPwDDdNKHmnU\\u002fIEzFTE4WkL8AaUm2+6d3PzDMBTYcr7E\\u002fAPpriTKCWr9AadGEMWKWv0BcbRxIU4W\\u002fgPljvNEEjz\\u002fAqVthWYKJv0CMSleOAZK\\u002fAIGMK\\u002f8Nl79goFmdT0eTvyB9LII0ZKq\\u002fAKyPtJJUT78A+KncxZ5iPwBu01ERW2C\\u002fADyxJRY9Y79gU67USOmRv0C4xC2xGoS\\u002fYOc7Kyw+oD8AaU8u70ZwPwCFDWTXg2m\\u002fwOL0FSq6nb8AwTUJFH1yP4AUgx8nXIy\\u002fgHDuIp2fmD\\u002f4WNRIWYu1v0DGzM7c9oe\\u002fAFEWwXjlcL8A4kRre+B7P0Cd0WZzzJe\\u002fQJbqQ4g4ob8Y8fYbsWHFP4CwmjzZ4nW\\u002fgCYnM5j8gj8AQvG3\\u002fHZnvwDwywmBzny\\u002fEKldjCOMvz8AlRAmmtrBP7B9RZ9+lbi\\u002fQBObXI6rlb\\u002fAJMwGuXiXv0D0uVNdvaG\\u002fAC1vsyNAZb8AY60U9R6KPwAMhltCXWQ\\u002fEEqsYo5ppr8gf2AjdBScv0AW4\\u002fKgyom\\u002fAIpME94haD+AQFzxsWKaPzCgwZ\\u002fg5a+\\u002fQP8l0K\\u002frob9QwPWaZ3+kv4BMfm9o5IS\\u002fAB+ILUuHZr8AcNrB0t44PwDo1MJvqX6\\u002fwJ\\u002fCpXvLgb8AWsCgddhxPwCaGDvCSVO\\u002fABRSMwy7Q78A\\u002f0oT0TKLvwAVZJ9XLno\\u002fAM66WXCrY78Ag0wZNf1kvwDF9hKCe2y\\u002fgApvwozZdL8AjP356pV9vwBrYnh\\u002feZQ\\u002fAFHYExPLbL+APdNQXwiCP6BLdYKy3Zu\\u002fAM5g4zD8jb\\u002fA9kBtMLaLvwAwrZaUtTI\\u002fgKRhe70Kdb8APW9Anb5yP4AdgL8vdoE\\u002fAOAME00LXr8AefqasMp3P4DuPdnql4I\\u002fIBUuVah9kL\\u002fA\\u002fTmewcWGv8CnO7t615w\\u002fAIB5QCPtBL\\u002fAD9KoPOmMvwC00CSwzHE\\u002fkO6yhCRqpr8AFyt3kf6Cv4BWGaUGX3G\\u002fAHQZdMaecT+AseNTwH+QPwBM3W8PIFS\\u002fAD6vK04nhj\\u002fA3C54+\\u002f+Sv0Ce6uBSY4O\\u002fgKGyMf5viD9ACk89iVCHvwDA2IMqxTC\\u002fYBPDtwQslb+gy4Fvo2CzPwBjUQAMhY6\\u002fkEy4xyM4pL8AQLXkYM1UP0AU3aaOaZI\\u002fMA5G\\u002fBXLob8AbOECmNVfv4DREGqmyI2\\u002fANZDH9ZDn78AIS8KONt3vwAi0Bn2vHQ\\u002fANBbylfxNT9QCVO4og2jvwA2xFNvgGm\\u002fAMShgwOpQb8A7oQ9fCqIPwComlG0ll8\\u002fAD5LJIZFbz8Ap1RVBwZzvwD6ZdfYMGY\\u002fAF7Zn132dr8AtOCb9t9OvwDucU1Ga38\\u002fEFOnuW+iob8AYh+UK6VtvwAYYeDFWG8\\u002fAI6RmdtUar8AzsL5fTZ7vwBwoQ3gQku\\u002fAFVgPSHlbr8AWBCeE+lpPwAPaKY6mGC\\u002fAHX8jea3dD+AjcZ6N0l8v4AprV7TNHu\\u002fAHSmutf3Wb8ASmEKzIFjPwBOf0CYRWk\\u002fgNI9SeNIiL8A6q7Mw4poPwDwUR1m1jY\\u002fwEEvHtE3hr8AYGfIzFpXPwDhazwmI5M\\u002fAMCb72jHWD8AOB2iJDZRP4AUcf8+IHq\\u002fAHysk07EWj8A8OAbXm8zPwB27\\u002fV40Hc\\u002fAA1DKyRRY78A3ohPfORavwCspq7PeGS\\u002fADZG22lWnD8AdiMNgBRRvwAlcm7cwHY\\u002fwCEMGXpCk7+AjaA\\u002fvVN7vwDX85hK1Xm\\u002fAPToW9qMaz+AgGjNA4iRv\\u002fCGGd8nZ6O\\u002fALAkRPQOd78AS\\u002fEzHrB2PwDcvbvP5Ww\\u002fADUM\\u002fUYLeL8AAICNmdQ2v4D2\\u002f3c2Q3y\\u002fgCgiOXBtkT8AVbwB87VqvwA\\u002fzC0OKHE\\u002fAFtOAazNdj8AOYC\\u002fDnN3P0DtlqDj\\u002fIK\\u002fADBAiOf7RT\\u002fAKbHg6F6FvwB4jlShpGK\\u002fAKxL4mJhX78AR0J0iCd+P8Air5OOFpK\\u002fAG6ylNdSdz\\u002fApslI\\u002fCObPwAMb7oWj2s\\u002fAEDdCQrAZT8A4pvPG7h0P4A6JUMPv32\\u002fAHGcNKyldj8AMIQKBLtmP0CKrP5W94C\\u002fAE8Hnekxlr8AYXhXUiZ3PwCGFqD5H5W\\u002fEELIhLATob+Qo+LExX67PwBObVZEGJ8\\u002fQMkLMVDkqD8ASBMb8EJoPwCDbWhwcGi\\u002fAFJaSDECUb+AeQrRWBZwvwDYUgbHKG0\\u002fgO8nkhB7hj+AtM27CLeBvwA7OrCW3X6\\u002fAOH2PO+llj8A9JrNxoFQP4BDenrzFoY\\u002fAEDh3YtZOD8AfHwrClKDP6BX1cjUKpy\\u002fAKapTwa\\u002fbj+A8U+4mO1\\u002fvwCKnF0geHa\\u002fAM76T\\u002feKjz9gJ2tokgaavwBscwitgGU\\u002fAAzf4E4vZD+AGpvOEXqYP+AFdRkR8aO\\u002foPucnuljrT8AKOZdJEKEv4CbPB1T5ZM\\u002fwPEPmQa5or\\u002fAFrgmb4GxPyAVQX+O76O\\u002fgC+1dVztcb8g0bPgW2+pv4BrA2WDwYY\\u002fAPe0inwtij+gNWcitjykv0AKsNlCFa0\\u002fAHApy2G8MT8gO4nYh8yvvyD\\u002ftl433Ka\\u002fkOjED+ZJvj8QzZ1DeBq7P0BVM\\u002fNRcKI\\u002fgAPMVpw+hL8A2PE55dKDv4DlhquXypc\\u002fYIeYyt3\\u002ft79A8oDEk0aKv0DTPzVhHJw\\u002fMK1Q5yv4pr8gTIbH+iG5vxC3hCILsai\\u002fgJ3ZwOYkdL+ADPHD3vuIP4AlKj4Jv4G\\u002fAElhRuvAjz9gj9zYq3eSv4BauCVEB3C\\u002fACu73ipReb+QF1RhSBWsvwCq66Nd+l+\\u002fQCrOmuUXhb8ABMgm+glzP8C3YRcyRY2\\u002fALRWD+GnfT\\u002fYRFzIv1O7vzCodz\\u002frtqW\\u002fQJeWzS8Tgb9AvVqmW32AvwAMvmKlznC\\u002fQD4qIXpFhr+AMAErfQqCPwA83T2W2lK\\u002fwKR2dd5dgr8AUZliYZGiPwBQ5YXNRV6\\u002fALhitbRwSz8AO+7xF8F+P4B3fV4TAnG\\u002fAAAAAAAAAAAAduoFHS5gv4BHynqvX3K\\u002fAJzPHailcL9AhTJ+jceVPwCxw8zfKnG\\u002fAIDAmAHe9r4AmDJj9O9iP+CMl6e\\u002f45m\\u002fALf52YAKZ7+AOE+koGmAP4Aeuy0Om4m\\u002fgGwdU3makD9Aj47NcSKAv4CNSqjf+I4\\u002fQJHX7dlni79AngQeQ7SDv0Ch1b+ho6g\\u002fwO57HN55hL+A+MiA7Xl5vwBzhd1ofZK\\u002fgEx0tjGmhL+Ata\\u002fRP\\u002fSAP+BHuGCUUZK\\u002fQOQKflRIi79A24+5UEWQvwBDkPjWvma\\u002fACqzkjlhfj8AckVgwFxgv4AV5dEg4Ym\\u002fAFK8SyI9Vb8Aqh487TlsPwCgGOo5G3q\\u002fAHPbscvWYb+AYOXX2ON0vwCM+oU6XGI\\u002fAE0Ssd9idz8A\\u002fOWXLJRZPwBEmQW6\\u002fVc\\u002fgOOTcMMEeb8AOlIlQP5UvwBAZ5A9rxK\\u002fAEYemR1SfL8AzFvNohtov4AzGh\\u002fxxXK\\u002fAJX4RDzJcD9A1keua\\u002fSSPwD9FOZwbXg\\u002fwC1hptIplb8AIGUhGstdvwA+B3adBl+\\u002fAASttR47cD8AQJWkm1ofP0C0Buknaoe\\u002fAHTOBChxUT8AqvHSTWKAvwAOR2B5w2G\\u002fwJ0eOqqtmz\\u002fATkDbvJOBvwAYfELKSTy\\u002fAIjVEKmoTr+AwkvluWh3v4DBERweI3i\\u002fAJBvKywNmT\\u002fAlV\\u002f3dCWGv4AwAPFLSna\\u002fAGLUQQaTYb8AcEIRVbRLP4AU+eM0VpC\\u002foHRldsjukb\\u002fAcqudaYKaPwD4FI8MsJo\\u002fAGLsgjS7dj8A5HM6ceGaPwBg+N1sSXg\\u002fwF4Rb92mg78AT9xp94RivwD4nbAMCEy\\u002foCD+A0IIkr8AiELWTqVPP4AzbnUlSoS\\u002fwBTaWxSzpD8AXEVUSqZjPwCPXq4Inm6\\u002fgA4lcicso78AQE5+ecJuP8BpWeDdVY2\\u002fwNoIR\\u002fu3lb9gwVoaMViSv8DyHj6LA5I\\u002fkBH0LQZTo78Akb4PM9yTv0AvUojtkYi\\u002fAAdGq+iTdT9A9feyayiOvwDKczBxGny\\u002fAAEMSWBigT8AkK4XrmYxv8BwkE0sR5s\\u002fAPChhDsbgD8wU1oSmc+pv4Du9WRW6Yg\\u002fAGc+eNxobr\\u002fAb8SDC42Hv4B6jfT0Upo\\u002fACozuRxsaj8AdHH9wLNhP8CHDzGow6M\\u002fgNrY15o+fb8AilOeLYxRv8DkQD7CYZ0\\u002fcAOBzBmro7\\u002fArW9YLm2KvwD3ZqgflrI\\u002fgGxO9IjimD\\u002fI9Kt7lWq4vwDxuMfa6JI\\u002fwE9kgbvCib+AEtEPKRKMP7Bobsv6qa6\\u002faD3gJ0Uuxz8AVN+ryptzPwDp\\u002fcyac38\\u002fQPegjVjxnT8AmvmidBNQvwDI8vd+y0u\\u002fgCv\\u002feLy2iT+AN9ycr8eFP\\u002filyjGfLLC\\u002fAI7ZU0c0ez8AbIMoHW5lPwA3ZJ4kIX2\\u002fAJB7lQNWgD8AhCXnKtJgP4CioXnEuoG\\u002fAPkxG8LJgr8AzEzbBYiOP6AVFfk4Tpm\\u002fAEzdYo\\u002fzVD8AVO1t4uGKvwCz9XDsi7c\\u002fANK8w127V78glf4zxVWcv0CcAz0h\\u002fYq\\u002fAPR4xdRrcz+AekCRy+iCP+C3A9EQtKY\\u002fADRdGP4IZz+g5JfeVKeQvwCUd0Xxp2S\\u002fQG2WxAVjlz8wEI\\u002fLvkKnv6CIMuCGC5i\\u002fADq2a6qbZz9AqK9uRvCjP2jbeEQUp7S\\u002fANPzGXGBdD8Al3WTZZ5zvxBTQdGEqqi\\u002fADiiDDCAkb8AEFggGKg8P7hncoYb9rC\\u002fANfNecAFeL+A7hMd4xl1vwBbFKjP0II\\u002foGG9QFnypD+gBxt8W12Qv9AOhHd6LqO\\u002fAGDdNO5BXj8A5MtRzKiOv0CaQL8Vw7G\\u002fIFNnXXV1mb+AQ2qfbjKDPwDq1e5V5HI\\u002fAL2ZBf8pfj\\u002fAu1SvBcKOv4A1FFUlRIo\\u002fANtSnKx\\u002fmj8AfA+I03tYP0Ce0LFxhoq\\u002f8BugBrhgoL+APfCCiF+kPwDG82F6n4c\\u002fADd8BFYHcT8Y1ElYXn60v8BDV8W1LrU\\u002fuIen2x6CwD9gRdOx1Y2Sv0DVyB1I+qE\\u002fYE97NzfSn79Aa2TpPD6gP9D77RxWtLA\\u002foCd3O8pAlL+47Oy8Tsy6v4CM8Bt2WLm\\u002fUN4m7SO3ob+AXYxmD46mP3CL0z9OFqa\\u002fILfcvnwlnr8Qzayp7zOiv0BzSuB8l52\\u002fgHetLg9Cd78ABL7Mjk99vyBssqpUuZK\\u002fgJV9gnlegr8AiFCiHfacv4BLv20jiYg\\u002foGLTq43glr+AWEVUlPx7v4DjNxyrnKE\\u002f4IR1CRVmnb+wiG52Maegv8A\\u002fMrBcw4K\\u002fAOrgS90nhL9AffgDqzyRvwANPmKeDX0\\u002fgCsfQNR9gb8A1IGLwuNwvwBuYnXXXnu\\u002fAMwEz\\u002fmmZj+AGUj9sQuKP2BUR6RHo5e\\u002fAIbQtuMPgr8AmkVR6ihgP4CKz+bstHi\\u002fAJACA7nzUT+AoD\\u002fQDLF5vwBymxPo3GU\\u002fAEz0EfQyhT8gwTTguFGbvwAXc9jYzXs\\u002fAFKkE1n3az8AGzYXbkBlv2DPpiZnjpK\\u002fALTqirwwWD\\u002fANbBdDFmPv4DzIGH4k5I\\u002fAEQYIWPXUz8AjG3G7S96PwAO\\u002f1Vux4u\\u002fAOL54Gyqab8AX9+HVaJ1PwBg1N0yMFg\\u002fAEz39Tp4Qr9AUhiWv\\u002feUP0AH8zdZPpU\\u002fgNpD7FDOe78AnglQLExVv4A6wASWY5c\\u002fgFoPUyCcj78AQBoc59sFv4DlQMw8lJS\\u002fIH3w972QlL8AjmTv0L6LvwA+2wBm7oI\\u002fAAtp1BO5dL8AqghJs2qBP4CIpS4wJXe\\u002fAEhvxmlDcj8ABGCLseB8P8AR9Q7eVp2\\u002fAFx3UANRcz\\u002fAgiUFliKTv3AbqUEMq6m\\u002foGYfuUl9tT8Ai\\u002fUjG+2DPwAYdSrtYIM\\u002fAKj35QR7iD+QZctbh9yiv1CYHE0nnrG\\u002faBEtK75wzD8A7Njab9RgP4AICjF4FYg\\u002fgMjcKWErkD+ASGEi0qp4v4C+\\u002fOFG1oE\\u002fAGVaF3fUjj8ASQuodWuWvwDWmaUU5WI\\u002fALty4p6Fj7+AUd8UXDmyPwC+cYcUTW2\\u002fAOwu75pCiD+A7N+0S0SIP8D9RdFepoy\\u002fAPQN+WAZdD8AE0Ew3UZtvwC66KKLLoY\\u002fANSOp4kWhj8AU1CHFp96P4AR4oVJHZE\\u002fAF4A8m2JZr8AudQBb\\u002fJpv0AcsPUu64u\\u002fAJ5ox9zVV7+wIaZNmrilvwAEJ80+XHE\\u002fAJZksqGJdL+A3e3daGOHPwCCudTttZO\\u002fABHiXsNPcz\\u002fAWgD98AWRPwAtB1PIOXS\\u002fQOlh9C2AnD8ALv1MtFt3P8CjVLDEWZA\\u002fEBwG6zR\\u002fsD9A6WT+7DutvyDtvItHwJy\\u002fUGBRoNckrL8AfAEsxLt3P2Cylx7EUZG\\u002fAHzJSNuxhT+AQ3SqkeyFP8BY5egZwKS\\u002fwLNJwd7bkb8AKDx8dLhtv4CSpSVEvYk\\u002fgIW37qKekT+AG2VO2GSXvzBQKLiaCKC\\u002fgHSbo95IgD+AV1Er2zCevwAyzU1jkWq\\u002fAMuUFORQg79AqCKY6SKQPwDAXmH2jIY\\u002fwFUphENKib8AbTYzGFN1PwCIqOl7C2S\\u002fQOHW\\u002fGVrkj8AODWb28NRPwBsy99lnno\\u002fQOoqyX67rL+AMy7ne12Mv4BCVVuC\\u002fnO\\u002fAEYoD3RThb8A3CImLTxTv4DaW4rzOXC\\u002fAExb4+\\u002fmUT8AgSyCSQdkvyDboCtKJJm\\u002fACiGhmQtiT8ADHoesVNovwAATa5U8Wa\\u002fAANYu2tNfD8AIBBDeU80v8DhgRDkB4q\\u002fwIVD6IasoD8AqyUPigaMP8D7CYMkgJA\\u002fAIjUEuhrVT8AWH5XZvFBvwD0ijGDGEa\\u002fAEABTFQcBr\\u002fAraYObZWQP4CPrwzqrYG\\u002fAEI0zM5geT\\u002fAxhGJSViVv4BJeU9d+Xa\\u002fwHosM4kdgr8A+6SUbNZ0PwAd3i2\\u002fHpA\\u002fAGjdYIp8Zr8AYyEIbiZ5PwCIfqqvGWe\\u002fAIipDj8EY78ATVqlin2UPwBkfoBm1nE\\u002fgIERa\\u002fp1f78AgoSbUxR6P4Bcg3ELMYE\\u002fgNcLTJprm7\\u002fAi\\u002fHLsUmgvwCYeY\\u002f5QJw\\u002fAJRycj8niT8AylutjfZ2P+D7uvMfIpe\\u002fgOxW60fYiL9AkCzrO\\u002fWRP+BMsEcVa6a\\u002fAEAlpdU3Jz8Ah4T0nDGPPxA28iJmBKa\\u002f4K4Ctmk9oD\\u002fAkHELtBKWP4DvGU\\u002fa+pY\\u002fQFg3PE2\\u002fg78AeD9doxBzPyCmG\\u002fWuJ6e\\u002fQFV7xgiCgr8AmulyFvhrPwAVNA3GmmG\\u002fwIkyPWMkmj8gpOPDPjyVv0BSvZliXZW\\u002fgJw0Vv1emT8gNztPe1qqPwAwE2p5wFs\\u002fAI84+nmfYL9gcyxrQ4GgPwBxW6AihnY\\u002fIIhdzCQNoT+AxHb1kq+CP4CvPtAVe5Q\\u002fIDgVjOEcm78ANOXvFQVkPwD3yZxvQnW\\u002fQCLwZxgxl7+AHIO47kKJvwBKbVHcwYs\\u002fAJSLyJHwk78gCh4g9UilP0A1ylhFX5e\\u002fALRx3BjfeD9AMpITRDODvwDdv9EHTGS\\u002f8AH8cOcLtj8AFSWU6rtyP+Ag7BeqV56\\u002fAGWx14ZAez8AZKLc36lpv0BQ156KK5K\\u002fwA3SQ3MqvT+A5FO+mUGSP0Ckj0W4mY2\\u002fYLaRDS4gkL+ADo\\u002fyfSOJPyDNVP7GKqA\\u002fAPnDAY8\\u002ffD9AIq7gpuyPvwDspsoHL36\\u002fENwdDmP6qr8Abid6F4R8P0CSuBU8Poq\\u002fABsF\\u002fKT7iT\\u002fAKwOl6+mGv+DxGGdyJKA\\u002fgOGBnmPrlb+Ay7akebusv6D7FvhgYJe\\u002fAKJYHlW1W78YsFQVe4yxvwC4e3pwBHI\\u002fALK6ntTndT8ASFTmjJZEP0D\\u002faJqH8oi\\u002fIPEzSvyMoj8A2Bg\\u002fMSBpv8DmJL9PZ42\\u002fgGa2+GzVkL9A00UyL4ufP8DCh2GniKS\\u002fAJGYFnoqcT\\u002fQHbKDiIe4PwCEq+oXx7W\\u002f4CbGd4+6rb8A8F5jB7yHvwBGwjoHS2g\\u002fALCnIk0fVD8AUUTKY7SOP8B8JwJ05JM\\u002fAImg+pGjmL+A19PdrMWXv8B4AKgo+KY\\u002fAAgHhYRVXj9AYbdY5LCoP6DprIsmM6i\\u002fEIEFWORzpb+gbyWalR6lP+CDiwRaAqA\\u002fACSspssQXD+4Ftp3Zy7AP6BkbCGsaaM\\u002fQPe3VAJ9sr9g\\u002fN495bCXvxD0Q72s7K6\\u002fALjyyM2kYj\\u002fg+aVPao+cv0jOKmfklrG\\u002fQJngXwI0kT\\u002fg\\u002fNQatoqVv+DbFQZu+Kq\\u002fwMfsw+W2pj+AdXhgwx+BPyQjaOtsXMO\\u002fdD\\u002fZI5kp0T\\u002foacC4ssTHP4Ao\\u002f\\u002fmaXYC\\u002foEQ9J4SdoT8A4d\\u002fMiRWtP8D93THX5Ji\\u002fQFXzpcDboz\\u002fgQgLWhVqcv3CpOuai96S\\u002f8NCcxSsto78w1bqVzF2wP1D5Zz61674\\u002fAPjSCnRIZL9A0HGtFVuTP+DGraPYOJ6\\u002fAN0oUK9weT8AgyDfBO+NP4BvgE9T0XG\\u002fAB4EooWMoz9gDGl6yNKbv4BeqMcQmYY\\u002foKV\\u002fRuYcoz9AtcTUsWeAv+AbusDuC6G\\u002fAFHHL4sbnT+gKrIrgM6ivyAFPSmAv5S\\u002fAIscPHyOmz8AQLAA4U+XP0A+umfeoaw\\u002fAFfC0fGekj9ArHK718CIvwAwr+LMa44\\u002fAPcsOOyVd7\\u002fAa5r7jTCIv0B0SAl4S5E\\u002fALObW+YrnD+A5grl\\u002fKiiPwBg19+7FEu\\u002fALgWrmeDdj9gWMfDPLOTv4CCEbs8+o0\\u002fQEDq2eYzkT+As5RZ2yB2vwCrz5eu62m\\u002fgGFFIoe8e78AYF8CtPFkP6CzwMtOcZK\\u002fALeuFfPObL8A9y6SMWeTPwBukp4S6nA\\u002foLRQh0NZmb9whgFRDWikv4A75GpEBni\\u002fgLdI2rRmlD8QBEEQBEGwPwCbA4lW2Iy\\u002f4FrA7m2poD8AyO54d+BTPyDU+10YBZ+\\u002fINymrG2GrT+gZqDrlH+tPwCyBVwOdHs\\u002fbKrjo0niwL8Ao\\u002fIewydhv0Bs1\\u002fW7bYS\\u002fYHhWE8wLqb9AslxayTKCv0BdLIlqi5Q\\u002foE5CufO6nL9AcLi5hyWbv8Dzrw0BOIK\\u002fgJHQthvCdL8A4O4OXyc8v+C24DLKwaM\\u002fgNIvYiIolT\\u002fAd7Hq\\u002fdKcv3BixBAmzrA\\u002fgN3VFs2Dir8AIaXlpddzP2Dcsh80c5W\\u002fgN6yCPxVoD8AwJawg5opP7ApmR6iq7E\\u002fADxxGdi+gT8AvU1bWzyDv4B57Aeb65E\\u002fALcsRG7fcz\\u002fAcA7cOheUvwDe7tSynWm\\u002fQI3oHF5XoD8Ay00UUaWPP4DGQy0wuJq\\u002fAI2Jj34bn79QVJGyhfqlvwDBASxyu2C\\u002fgJsv4b+ngz+AJrjCLfWgvxApELp6TKi\\u002fYBbsDEWckr9AJexfVbCdv0BtRFOdtZo\\u002fYG9hfdPZtz+gFo7S8SimP0CchInEV5c\\u002fgB2dlGW5gT+A\\u002fNA6sVqevwDW\\u002fG+Fp3I\\u002fwHeV90NTrj+AXHwDXiuJPwCwt98DFJI\\u002fgEVEoJLvnD9AdTH9qHaeP7AIwAruwrO\\u002fQPHT3lz1gL9A9acBk+GZP5B7GmG5p6G\\u002fEP1+EC44sz8wf\\u002fgsaNazP0BeyigVjJM\\u002fQCUckpR0lD8AaIdIpLZ1PwB+lZETB2M\\u002fABoRILxgZb8AyW6jpCVxPwDoE7RLo0q\\u002fwGmXuUWEgb8AfPHQr8BWv0DXdtwGkpA\\u002fAJ8dlTmodT8AZj9TDi1pvwCYs0psx4o\\u002foA88MMk9mb8AEIkkoPQ1v4D4kdeL4HW\\u002fAOQ31UnXeD8ACq5lc2OsPwAZC6auV4E\\u002fAI4Zkx\\u002fgVr8A5v6hwvB6PwCYVxa57Eo\\u002fABkJTr4nkr8AHRu\\u002fDJmHP2DvMDzVlpS\\u002fIHvkdalqoD8A1N90l395P8DhfHSs04S\\u002fABojtiW7qr9w\\u002f4jQ+Bmpv5Bs58bZ1LA\\u002fQI9O5W0OrT\\u002fQ8Ftd\\u002fVymv4B9l5nhdZI\\u002fYE5FJmSWtD9AXV\\u002fy4oWlPwASZpIwMog\\u002fQEAJWUoZmj8ADSbHUmxnvwDcCwYQT3Y\\u002fAEGOcOGkeb8AHW9PYFp9vwC8kV9+I1Y\\u002fAL0P\\u002fT1edz8AHHBchlttvwDQadhPknI\\u002fAJmh0w1tgz+Ak7MXd+GNv9CV8hvbjKC\\u002fgOZnkAB7nz8AVCF9I+ZaPwAiX6OHiIw\\u002fAPRqtKQJaz+Axj0jLiaCPwBoVrbPcVE\\u002fAGtJM00Wnj8Ashunc01sPwCYzhPFZVE\\u002fADBnYyBAZj8A2gXV7kN+PwDQE\\u002f5HJzw\\u002fwJIidmyIgr+AIBjQm6yEvwDQH88fz38\\u002fANO5QKTqbb+A6DSAQr6HP4AdAJq0kYc\\u002fAGWH3\\u002fEaZr\\u002fA6bMMUrGYv4BOJRsHvIk\\u002fACirnwNEQD8AWHq+WyRTv4C8V1vkOpM\\u002fACJU4AEGfL8A8hPUhPpTv8Aunxtnfpc\\u002fgIejwVgogj\\u002fATFAJc6+PvwByQO3E0lm\\u002fIEDVnFusrb+AYdjwGPeEvwB4e6n2f1M\\u002fQBPX6T6jm78AjgLeERSav4AXQWA995w\\u002fwJ4K3KJulD+AbvRpVJWMP4Cq\\u002fXZiwYi\\u002fAECgSXghV78ANNoCJgZ7P0BDbXbz7pA\\u002fAJtxucKJcz8gzEqcB0yfvwBcBV0GwFQ\\u002fgNJKKQ7omr9gD3+iCzikP0CcK5f\\u002fiZa\\u002f4AsMGvQXtD8gkoMHFUigP4CSzdWZBXm\\u002fAN6l6VQFhj8AclE2GTddvwCAwPzWxF+\\u002fgFIBk0trgT8AhlooPGqbvyBJ0Ttwv6Q\\u002fQDORZmRxhb\\u002fwgm4Lm42nv0C8+wXxSIW\\u002fwP3l\\u002fU9ri78Q2YJpu52zv4BAtV4CAZA\\u002fAO1yK8OnhL\\u002fAkeOhcdWVP6DiTZd9w5S\\u002fINqBycDNtL9ANB6GBDCDv4Bl5RwYKoE\\u002f8HCzk\\u002fcCsL+A6JN7DTKJvyClGAH01rS\\u002fAOAB2U2AJz8ADn2MMzt4PwD8eoWNqF6\\u002fABazmG+eXb+AtYy18gl+v4ATSzT\\u002fcX6\\u002fAGhJgTtfXT8AiFazYdh3vyAvkrruIKI\\u002fgIWpfAVmhr9gA+W4USqVvwC\\u002fSGT1H2m\\u002fAIcchzQCl7+AuG9ee5SFPwB4wfpll3s\\u002fAAIDQJSHaT8AM5rLaC6bP0A2n2JwGJM\\u002fQGAhl2Ojlr8ADBx6CnpPv4BVcNiusI+\\u002fAOoMjwkkgr9A0d+B4w6qPwAvhOBxdHk\\u002fwL3iGUaktT8g8jVZEL6SvwDtRELlLXy\\u002fAPIDlo55kD8APWrSG9RzPwAohQh233s\\u002fEAXL+FJgpr+gq933ymuhPzDrnoEmObA\\u002fwBfuIkzplr9wbH7mxjO8v6g8TYJ49bi\\u002fwDiqBrt1kT8AUKCit3Q6v2ha8ntN9cC\\u002fsI7laaUuyz+A9NJNPfaXP8BxlgGzloC\\u002fgD7e1OU+mT8AckdGPxVpP0DD07H24J+\\u002fAB65tum3eb8AvdZ\\u002fGHSRvzAtkbWyJrg\\u002fgNz4lO\\u002fhpr8AVzyb8E59PyDOUSS6L7E\\u002fAG6en2vDgj9QP4FhHzypvziZfqZqxM0\\u002fAE2PamXKdT8A9Obtq55MvwC8bCQXbqO\\u002fAOQ2wzCDez+ARNWcz2CHP4D3zulh9p4\\u002fIJzENrxdoj+AhPubo5aAP4C3RyiiHYk\\u002fALPtFKDCjD8AA8I9AUKAP0A3eaoekYe\\u002fgB1Wd5xrjj\\u002fAk3zTY2KDvwBsUkCvDGo\\u002fQPPwL29phL+AfrvfKuqNP6C46JFvXZ+\\u002fQJtXVldnkz9gRLMNMz+sPwBS7DdlXGQ\\u002fAOBVPwlEXz8A+OQylBRYPwzqI5dAssS\\u002fADCB9eRKhT8AUmJ1wZmdv0DHtlgVgqs\\u002fAF9lEv29ez\\u002fofITEflKzv4AT3RpF7ow\\u002fUJ6ldo\\u002fhuz8A2GQdrqJFv5DfhVa3b6q\\u002fQLGfK7ERoL9gAAuLX8q+PwAfFZRneHc\\u002fAORBEeBBQb+Ag08sOIaPvyAAtL2+eKw\\u002fQKOHMjRqkT\\u002fIqqfVKfK1v4DTHsbmqLM\\u002fQJcN89cQoD8A9x9Hvf6KPwAyBRZyfmY\\u002fwJ4Wl0juir9gflikDDytP+B6ZYZV2bg\\u002fACqxi5vjoz9AfZ6BHT6UP4AW7P13bnS\\u002fAISGmHygXj8AVR7F5+OBPwAexYcqLGq\\u002fAK6pBpPfir+ArUXUuW2BP+CtLB5DuZC\\u002fsCSaF1\\u002fpqb+Y+Q2f8+XCP\\u002fC64\\u002f73UKK\\u002faMsZV930sL+gPzScHwqgP8AJEuj2VZ0\\u002fgLilw3Avlj8ADeqPhtJ9PwCQ\\u002f5FLnkw\\u002fULnRzzYzor+gF46PQOqev4DAFtFlYpo\\u002fgNEAH2j3nj\\u002fAWLKsqm6gv4ANtvmAfYM\\u002fQDCKXB3Omj9gznIE4hauP3APKT\\u002f5eKm\\u002fYBE0nNR9mb+Aq19QHgZ0v3Bl\\u002fvpcvai\\u002f6DJGi2IlyD9ATrn0xjmVvxB\\u002fMsJgTLS\\u002fEKLTz1FMqL9g8UjmqWyUvwD+6S1HxqO\\u002foMn\\u002fz58Vl78A+LxmbAhnP4CI2y6wAo6\\u002fQLeCfdCql78AHGdzSl+EP2CItxdivqI\\u002f2LnNndHMur+gV0HXMfaYv4AP8uvQF4g\\u002f4J1eI0hgtb+gasFnDx2Tv2Ac+SyonqA\\u002fELRMdCJIuz\\u002f0DJxVXU\\u002fPv8wIi6IChdM\\u002fIAs2sN7moT\\u002fgB5r3m9nOP4BW8APhdHC\\u002fQHRxpFVylz\\u002fAUMpSIyqWvwACuBj4e3g\\u002fWMjWxzQIwD\\u002fwe7eqgK+4v5jADzio5Lu\\u002fgOcTHC1ov7\\u002f4q\\u002fnBKg7IP6DYzjXmo9A\\u002fcMkoy7v6uT8giV\\u002fwnjWwv5AGkMpmmKC\\u002fSFFGxv12tb\\u002fYTVOAlj7HPwBkOtFUbGI\\u002fYO5R7LWetr\\u002fg5dFHS8Kdv7DRPCkF37K\\u002fRL\\u002fdzDDKwb9AnI2MMtufvwB46m9ILJ8\\u002fcLftuujtoL9w3tWYiUOwv6gW8c8dUce\\u002fAB6Vk3mPhb8gx\\u002faBRQvKP3Z0hoIYPNO\\u002fMIfBKl\\u002f+ur\\u002fgN40Wt+apvwCZfY3sDHY\\u002fwHtaRxBEn784mke+mY+9v8AiXr6Va6m\\u002fQEWjbD+np79AylS9NpSjPwANd0pIKGi\\u002fkJ4rZbqSv78Qo6vneEm9v5gZ0+Ul1bC\\u002fkAbRRiDZsL9wUBBaPmavv5DotU\\u002fYBaW\\u002fAHCED3lsKb+AE71acqeFv0DUbQehOpS\\u002fwNbGZECilj9AWsnsMUKdv0AfE\\u002fuhw4W\\u002fgBo8scjquL9ATKf\\u002fJQ6rP+AH26cLpq8\\u002fsHvoMgbgsz94XvMGzsy3vyDxcd8tha6\\u002fgDsfNQdbpb+AHV2Nvq+Jv8g2MpldcLi\\u002f4FpI9nvgr7+g0bTmBOiZv4A5vKHOUpM\\u002fkEBUu5GjoL9gU9qsnGqRv4DDBQWNy5W\\u002fMEHjsVI\\u002foL8Ayn1whGZjvwBY6DyfF0k\\u002fUNpYaLVfor8ATyi4tY5+P8AS5\\u002f0bnpA\\u002fADrJgaWTbL8AjIgBZVBtP9BinGv9WaW\\u002feB7ABu6rs7+I1tFhWz7EPwBlDMACaXk\\u002f4KTKGBa1oD9gMQGgVBaTvwBBknLoY36\\u002f4GLJMrGqpL8AZEV8XGtUv4A86xeb\\u002fH6\\u002fwOtpEy\\u002fshL8A9mMO1MWZP8CFFh8yzoq\\u002fAPwxeFcSab9AT9krrAmVP4CRMtPYv4w\\u002fAIDMDpitVz8AMPtjs909PwACND9v\\u002fYS\\u002fgGMY\\u002fsQQgr\\u002fAHTucjdKmP8DuqYDAEYy\\u002fgDUkpXROkD9QeZtCva2xvwA\\u002fTMbJhIM\\u002f8BbCLeDzpb\\u002fAEle5RPWUP1AYnJLGnqS\\u002fQDd\\u002ffW1Irz8A\\u002fhx4HBZkP2CENOxpQrQ\\u002fgDVZql+Ne79ActgC2cSSP+BjS8\\u002fTIZa\\u002fQKr6JdgkjL9YmSEIeEm1vwCwfvkYyl4\\u002fABqmMnEzoD8QGgyhwRCqvwBZgygOfJE\\u002foMwb5mBGkb8AsxGaO3GKv4DpZ79K5pY\\u002fQH3L1ikskj8g+VBavXCRv+BHRbJjlpK\\u002fEPOpF\\u002fOpp78AAAAAAAAAAOAPY0Q8WKS\\u002fAPkPSGzKgj8Aey6lMe2XP5B5nFx9MaC\\u002fYPzaQccrlr+AnK2Y8X6PvyA4gRM4gZO\\u002fAA6hlEfQX78A4B\\u002fgH+BfP4BeFvEJpKI\\u002fAAAAAAAAAACAFYp2C1Z0v8DvMQy90oS\\u002fAEgxrLA0hr8AO7ETO7FzP4B\\u002fGCwcmXO\\u002fwK8tDhaUlD\\u002fAYtVF0laSP\\u002fguXnWnGLC\\u002fQHY4eTkkjb\\u002fwI8\\u002fRPvKsv4BN51Lmq5Q\\u002fgCJ86PjEgj8AhZJ3rUGZvwCtkkvOwIY\\u002fcAxcEeYppb9A6dk6lgCDv0DMO8b\\u002f6Y6\\u002fQFoc5pfYnz9gh\\u002fgMLaqRv1Cev2I9YrY\\u002fgF60WtvUhb8ASS94EfeDP2Bz3TTXTaO\\u002fgHrmb7mZoj+AgxYdEbCnv6BEHQ5EOKm\\u002foKxIsVeMmb9glrZdlra9vwBEuLDKKGK\\u002fwGsqG506mr\\u002fgH+ua+2OtvyB480199Jq\\u002fSIZOFyOixj+wlG\\u002fi2RKjv\\u002fjNkpJhzcQ\\u002fwLsZXrOhl7+g4GrUPuO4P4Bzgqm\\u002fK5G\\u002fAJfaA2NSbb+wKr2ea12yP0Boaxef15k\\u002fAPiBH\\u002fiBP7+AfYHC0taHvyDIX542OKg\\u002fAGfkUJelej+AGqMKSbGGPwCFgXpsUHg\\u002fYJE6mMapkb+Ay0ujzxSAv0DSX89VLKu\\u002fwM9gIf0Mlr8AtjTh8sFzPwBA+buONxq\\u002f4OZ8\\u002fyWWpD\\u002fgRm7kRm6kPwAWIqCtZ3w\\u002f4F0xrlv6l78gSWAgHZKuv3Boke18P7U\\u002fQHjZuLZBnj\\u002fA7tD299itP0BnzwexrJ8\\u002fAObkZwv6Xr8ApmfKwPx6PwDAydB4xEI\\u002fQPuGkGhZrT8AA8QqyAFjvwBslgHMZlm\\u002fwOlNb3rTmz+ABh0+vYqZvwAGfUFf0Hc\\u002fgKu0NQJwnT\\u002fA8BVSwgOHv4DNZipt7oI\\u002fsI\\u002fZ+Sf8qL8Ak\\u002fV97bWWv0DnNrMzsoC\\u002fAFVVVVVVfb8AIKr\\u002fuXwVvwAN1pirWYk\\u002fAJebyd\\u002fWb7+QRcgs1Lqhv2B1h+WqkqO\\u002fYF5a4J1imL9gpl87dcGtP+DCxXle3Zm\\u002fABZKQKoYYT9AhtlwimqRPzBwbsgtyqO\\u002fAAGcuvlbgD+g+sVlAaqSvwCFmk1qY30\\u002fgA2oBnJ1oD\\u002fgXhr6HCCevxymLrc\\u002fyMC\\u002fMKRPEYWJsz9gBuHg1qm8PwgWK\\u002fXUFMg\\u002fYELeTQVopD+IasDYu0uyvw==\"},\"yaxis\":\"y\",\"type\":\"scattergl\"}],                        {\"template\":{\"data\":{\"histogram2dcontour\":[{\"type\":\"histogram2dcontour\",\"colorbar\":{\"outlinewidth\":0,\"ticks\":\"\"},\"colorscale\":[[0.0,\"#0d0887\"],[0.1111111111111111,\"#46039f\"],[0.2222222222222222,\"#7201a8\"],[0.3333333333333333,\"#9c179e\"],[0.4444444444444444,\"#bd3786\"],[0.5555555555555556,\"#d8576b\"],[0.6666666666666666,\"#ed7953\"],[0.7777777777777778,\"#fb9f3a\"],[0.8888888888888888,\"#fdca26\"],[1.0,\"#f0f921\"]]}],\"choropleth\":[{\"type\":\"choropleth\",\"colorbar\":{\"outlinewidth\":0,\"ticks\":\"\"}}],\"histogram2d\":[{\"type\":\"histogram2d\",\"colorbar\":{\"outlinewidth\":0,\"ticks\":\"\"},\"colorscale\":[[0.0,\"#0d0887\"],[0.1111111111111111,\"#46039f\"],[0.2222222222222222,\"#7201a8\"],[0.3333333333333333,\"#9c179e\"],[0.4444444444444444,\"#bd3786\"],[0.5555555555555556,\"#d8576b\"],[0.6666666666666666,\"#ed7953\"],[0.7777777777777778,\"#fb9f3a\"],[0.8888888888888888,\"#fdca26\"],[1.0,\"#f0f921\"]]}],\"heatmap\":[{\"type\":\"heatmap\",\"colorbar\":{\"outlinewidth\":0,\"ticks\":\"\"},\"colorscale\":[[0.0,\"#0d0887\"],[0.1111111111111111,\"#46039f\"],[0.2222222222222222,\"#7201a8\"],[0.3333333333333333,\"#9c179e\"],[0.4444444444444444,\"#bd3786\"],[0.5555555555555556,\"#d8576b\"],[0.6666666666666666,\"#ed7953\"],[0.7777777777777778,\"#fb9f3a\"],[0.8888888888888888,\"#fdca26\"],[1.0,\"#f0f921\"]]}],\"contourcarpet\":[{\"type\":\"contourcarpet\",\"colorbar\":{\"outlinewidth\":0,\"ticks\":\"\"}}],\"contour\":[{\"type\":\"contour\",\"colorbar\":{\"outlinewidth\":0,\"ticks\":\"\"},\"colorscale\":[[0.0,\"#0d0887\"],[0.1111111111111111,\"#46039f\"],[0.2222222222222222,\"#7201a8\"],[0.3333333333333333,\"#9c179e\"],[0.4444444444444444,\"#bd3786\"],[0.5555555555555556,\"#d8576b\"],[0.6666666666666666,\"#ed7953\"],[0.7777777777777778,\"#fb9f3a\"],[0.8888888888888888,\"#fdca26\"],[1.0,\"#f0f921\"]]}],\"surface\":[{\"type\":\"surface\",\"colorbar\":{\"outlinewidth\":0,\"ticks\":\"\"},\"colorscale\":[[0.0,\"#0d0887\"],[0.1111111111111111,\"#46039f\"],[0.2222222222222222,\"#7201a8\"],[0.3333333333333333,\"#9c179e\"],[0.4444444444444444,\"#bd3786\"],[0.5555555555555556,\"#d8576b\"],[0.6666666666666666,\"#ed7953\"],[0.7777777777777778,\"#fb9f3a\"],[0.8888888888888888,\"#fdca26\"],[1.0,\"#f0f921\"]]}],\"mesh3d\":[{\"type\":\"mesh3d\",\"colorbar\":{\"outlinewidth\":0,\"ticks\":\"\"}}],\"scatter\":[{\"fillpattern\":{\"fillmode\":\"overlay\",\"size\":10,\"solidity\":0.2},\"type\":\"scatter\"}],\"parcoords\":[{\"type\":\"parcoords\",\"line\":{\"colorbar\":{\"outlinewidth\":0,\"ticks\":\"\"}}}],\"scatterpolargl\":[{\"type\":\"scatterpolargl\",\"marker\":{\"colorbar\":{\"outlinewidth\":0,\"ticks\":\"\"}}}],\"bar\":[{\"error_x\":{\"color\":\"#2a3f5f\"},\"error_y\":{\"color\":\"#2a3f5f\"},\"marker\":{\"line\":{\"color\":\"#E5ECF6\",\"width\":0.5},\"pattern\":{\"fillmode\":\"overlay\",\"size\":10,\"solidity\":0.2}},\"type\":\"bar\"}],\"scattergeo\":[{\"type\":\"scattergeo\",\"marker\":{\"colorbar\":{\"outlinewidth\":0,\"ticks\":\"\"}}}],\"scatterpolar\":[{\"type\":\"scatterpolar\",\"marker\":{\"colorbar\":{\"outlinewidth\":0,\"ticks\":\"\"}}}],\"histogram\":[{\"marker\":{\"pattern\":{\"fillmode\":\"overlay\",\"size\":10,\"solidity\":0.2}},\"type\":\"histogram\"}],\"scattergl\":[{\"type\":\"scattergl\",\"marker\":{\"colorbar\":{\"outlinewidth\":0,\"ticks\":\"\"}}}],\"scatter3d\":[{\"type\":\"scatter3d\",\"line\":{\"colorbar\":{\"outlinewidth\":0,\"ticks\":\"\"}},\"marker\":{\"colorbar\":{\"outlinewidth\":0,\"ticks\":\"\"}}}],\"scattermap\":[{\"type\":\"scattermap\",\"marker\":{\"colorbar\":{\"outlinewidth\":0,\"ticks\":\"\"}}}],\"scattermapbox\":[{\"type\":\"scattermapbox\",\"marker\":{\"colorbar\":{\"outlinewidth\":0,\"ticks\":\"\"}}}],\"scatterternary\":[{\"type\":\"scatterternary\",\"marker\":{\"colorbar\":{\"outlinewidth\":0,\"ticks\":\"\"}}}],\"scattercarpet\":[{\"type\":\"scattercarpet\",\"marker\":{\"colorbar\":{\"outlinewidth\":0,\"ticks\":\"\"}}}],\"carpet\":[{\"aaxis\":{\"endlinecolor\":\"#2a3f5f\",\"gridcolor\":\"white\",\"linecolor\":\"white\",\"minorgridcolor\":\"white\",\"startlinecolor\":\"#2a3f5f\"},\"baxis\":{\"endlinecolor\":\"#2a3f5f\",\"gridcolor\":\"white\",\"linecolor\":\"white\",\"minorgridcolor\":\"white\",\"startlinecolor\":\"#2a3f5f\"},\"type\":\"carpet\"}],\"table\":[{\"cells\":{\"fill\":{\"color\":\"#EBF0F8\"},\"line\":{\"color\":\"white\"}},\"header\":{\"fill\":{\"color\":\"#C8D4E3\"},\"line\":{\"color\":\"white\"}},\"type\":\"table\"}],\"barpolar\":[{\"marker\":{\"line\":{\"color\":\"#E5ECF6\",\"width\":0.5},\"pattern\":{\"fillmode\":\"overlay\",\"size\":10,\"solidity\":0.2}},\"type\":\"barpolar\"}],\"pie\":[{\"automargin\":true,\"type\":\"pie\"}]},\"layout\":{\"autotypenumbers\":\"strict\",\"colorway\":[\"#636efa\",\"#EF553B\",\"#00cc96\",\"#ab63fa\",\"#FFA15A\",\"#19d3f3\",\"#FF6692\",\"#B6E880\",\"#FF97FF\",\"#FECB52\"],\"font\":{\"color\":\"#2a3f5f\"},\"hovermode\":\"closest\",\"hoverlabel\":{\"align\":\"left\"},\"paper_bgcolor\":\"white\",\"plot_bgcolor\":\"#E5ECF6\",\"polar\":{\"bgcolor\":\"#E5ECF6\",\"angularaxis\":{\"gridcolor\":\"white\",\"linecolor\":\"white\",\"ticks\":\"\"},\"radialaxis\":{\"gridcolor\":\"white\",\"linecolor\":\"white\",\"ticks\":\"\"}},\"ternary\":{\"bgcolor\":\"#E5ECF6\",\"aaxis\":{\"gridcolor\":\"white\",\"linecolor\":\"white\",\"ticks\":\"\"},\"baxis\":{\"gridcolor\":\"white\",\"linecolor\":\"white\",\"ticks\":\"\"},\"caxis\":{\"gridcolor\":\"white\",\"linecolor\":\"white\",\"ticks\":\"\"}},\"coloraxis\":{\"colorbar\":{\"outlinewidth\":0,\"ticks\":\"\"}},\"colorscale\":{\"sequential\":[[0.0,\"#0d0887\"],[0.1111111111111111,\"#46039f\"],[0.2222222222222222,\"#7201a8\"],[0.3333333333333333,\"#9c179e\"],[0.4444444444444444,\"#bd3786\"],[0.5555555555555556,\"#d8576b\"],[0.6666666666666666,\"#ed7953\"],[0.7777777777777778,\"#fb9f3a\"],[0.8888888888888888,\"#fdca26\"],[1.0,\"#f0f921\"]],\"sequentialminus\":[[0.0,\"#0d0887\"],[0.1111111111111111,\"#46039f\"],[0.2222222222222222,\"#7201a8\"],[0.3333333333333333,\"#9c179e\"],[0.4444444444444444,\"#bd3786\"],[0.5555555555555556,\"#d8576b\"],[0.6666666666666666,\"#ed7953\"],[0.7777777777777778,\"#fb9f3a\"],[0.8888888888888888,\"#fdca26\"],[1.0,\"#f0f921\"]],\"diverging\":[[0,\"#8e0152\"],[0.1,\"#c51b7d\"],[0.2,\"#de77ae\"],[0.3,\"#f1b6da\"],[0.4,\"#fde0ef\"],[0.5,\"#f7f7f7\"],[0.6,\"#e6f5d0\"],[0.7,\"#b8e186\"],[0.8,\"#7fbc41\"],[0.9,\"#4d9221\"],[1,\"#276419\"]]},\"xaxis\":{\"gridcolor\":\"white\",\"linecolor\":\"white\",\"ticks\":\"\",\"title\":{\"standoff\":15},\"zerolinecolor\":\"white\",\"automargin\":true,\"zerolinewidth\":2},\"yaxis\":{\"gridcolor\":\"white\",\"linecolor\":\"white\",\"ticks\":\"\",\"title\":{\"standoff\":15},\"zerolinecolor\":\"white\",\"automargin\":true,\"zerolinewidth\":2},\"scene\":{\"xaxis\":{\"backgroundcolor\":\"#E5ECF6\",\"gridcolor\":\"white\",\"linecolor\":\"white\",\"showbackground\":true,\"ticks\":\"\",\"zerolinecolor\":\"white\",\"gridwidth\":2},\"yaxis\":{\"backgroundcolor\":\"#E5ECF6\",\"gridcolor\":\"white\",\"linecolor\":\"white\",\"showbackground\":true,\"ticks\":\"\",\"zerolinecolor\":\"white\",\"gridwidth\":2},\"zaxis\":{\"backgroundcolor\":\"#E5ECF6\",\"gridcolor\":\"white\",\"linecolor\":\"white\",\"showbackground\":true,\"ticks\":\"\",\"zerolinecolor\":\"white\",\"gridwidth\":2}},\"shapedefaults\":{\"line\":{\"color\":\"#2a3f5f\"}},\"annotationdefaults\":{\"arrowcolor\":\"#2a3f5f\",\"arrowhead\":0,\"arrowwidth\":1},\"geo\":{\"bgcolor\":\"white\",\"landcolor\":\"#E5ECF6\",\"subunitcolor\":\"white\",\"showland\":true,\"showlakes\":true,\"lakecolor\":\"white\"},\"title\":{\"x\":0.05},\"mapbox\":{\"style\":\"light\"}}},\"xaxis\":{\"anchor\":\"y\",\"domain\":[0.0,1.0],\"title\":{\"text\":\"Date\"}},\"yaxis\":{\"anchor\":\"x\",\"domain\":[0.0,1.0],\"title\":{\"text\":\"Close_pct_change\"}},\"legend\":{\"tracegroupgap\":0},\"title\":{\"text\":\"Close % Change\"},\"height\":500,\"width\":1000},                        {\"responsive\": true}                    ).then(function(){\n",
       "                            \n",
       "var gd = document.getElementById('662a76ee-33c8-4721-9189-07f0b6c0cd1e');\n",
       "var x = new MutationObserver(function (mutations, observer) {{\n",
       "        var display = window.getComputedStyle(gd).display;\n",
       "        if (!display || display === 'none') {{\n",
       "            console.log([gd, 'removed!']);\n",
       "            Plotly.purge(gd);\n",
       "            observer.disconnect();\n",
       "        }}\n",
       "}});\n",
       "\n",
       "// Listen for the removal of the full notebook cells\n",
       "var notebookContainer = gd.closest('#notebook-container');\n",
       "if (notebookContainer) {{\n",
       "    x.observe(notebookContainer, {childList: true});\n",
       "}}\n",
       "\n",
       "// Listen for the clearing of the current output cell\n",
       "var outputEl = gd.closest('.output');\n",
       "if (outputEl) {{\n",
       "    x.observe(outputEl, {childList: true});\n",
       "}}\n",
       "\n",
       "                        })                };            </script>        </div>"
      ]
     },
     "metadata": {},
     "output_type": "display_data"
    }
   ],
   "source": [
    "\n",
    "df['Close_pct_change']=df['Close'].pct_change()\n",
    "fig = px.line(df, y=\"Close_pct_change\", title=\"Close % Change\",height=500,width=1000)\n",
    "fig.update_traces(line=dict(color=\"rgb(255,153,51)\"))\n",
    "fig.show()\n",
    "\n"
   ]
  },
  {
   "cell_type": "code",
   "execution_count": null,
   "id": "e171371e-1024-4669-a0d7-9de9de69a3ec",
   "metadata": {},
   "outputs": [],
   "source": []
  }
 ],
 "metadata": {
  "kernelspec": {
   "display_name": "Python 3 (ipykernel)",
   "language": "python",
   "name": "python3"
  },
  "language_info": {
   "codemirror_mode": {
    "name": "ipython",
    "version": 3
   },
   "file_extension": ".py",
   "mimetype": "text/x-python",
   "name": "python",
   "nbconvert_exporter": "python",
   "pygments_lexer": "ipython3",
   "version": "3.13.5"
  }
 },
 "nbformat": 4,
 "nbformat_minor": 5
}
